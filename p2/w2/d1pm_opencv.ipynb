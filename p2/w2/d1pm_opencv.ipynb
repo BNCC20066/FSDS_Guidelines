{
 "cells": [
  {
   "cell_type": "markdown",
   "source": [
    "# Face Recognition with OpenCV\r\n",
    "\r\n",
    "First, clone this [repository](https://github.com/ardhiraka/ftds_face_recog). Add dataset folder and images folder, fill with your photos.\r\n",
    "\r\n",
    "```dir\r\n",
    ".\r\n",
    "├── dataset\r\n",
    "│   ├── raka [6 images]\r\n",
    "│   ├── anggie [6 images]\r\n",
    "│   └── unknown [6 images]\r\n",
    "├── images\r\n",
    "│   ├── raka.jpg\r\n",
    "│   ├── unknown.jpg\r\n",
    "│   └── anggie_raka.jpg\r\n",
    "├── face_detection_model\r\n",
    "│   ├── deploy.prototxt\r\n",
    "│   └── res10_300x300_ssd_iter_140000.caffemodel\r\n",
    "├── output\r\n",
    "│   ├── embeddings.pickle\r\n",
    "│   ├── le.pickle\r\n",
    "│   └── recognizer.pickle\r\n",
    "├── extract_embeddings.py\r\n",
    "├── openface.nn4.small2.v1.t7\r\n",
    "├── train_model.py\r\n",
    "├── recognize.py\r\n",
    "└── recognize_video.py\r\n",
    "```\r\n",
    "\r\n",
    "This project has four directories in the root folder:\r\n",
    "\r\n",
    "- dataset/ : Contains our face images organized into subfolders by name.\r\n",
    "- images/ : Contains three test images that we’ll use to verify the operation of our model.\r\n",
    "- face_recognition_model/ : Contains a pre-trained Caffe deep learning model provided by OpenCV to detect faces. This model detects and localizes faces in an image.\r\n",
    "- output/ : Contains my output pickle files. If you’re working with your own dataset, you can store your output files here as well. The output files include:\r\n",
    "- embeddings.pickle : A serialized facial embeddings file. Embeddings have been computed for every face in the dataset and are stored in this file.\r\n",
    "- le.pickle : Our label encoder. Contains the name labels for the people that our model can recognize.\r\n",
    "- recognizer.pickle : Our Linear Support Vector Machine (SVM) model. This is a machine learning model rather than a deep learning model and it is responsible for actually recognizing faces.\r\n",
    "\r\n",
    "Let’s summarize the five files in the root directory:\r\n",
    "\r\n",
    "- extract_embeddings.py : We’ll review this file in Step #1 which is responsible for using a deep learning feature extractor to generate a 128-D vector describing a face. All faces in our dataset will be passed through the neural network to generate embeddings.\r\n",
    "- openface_nn4.small2.v1.t7 : A Torch deep learning model which produces the 128-D facial embeddings. We’ll be using this deep learning model in Steps #1, #2, and #3.\r\n",
    "- train_model.py : Our Linear SVM model will be trained by this script in Step #2. We’ll detect faces, extract embeddings, and fit our SVM model to the embeddings data.\r\n",
    "- recognize.py : In Step #3 and we’ll recognize faces in images. We’ll detect faces, extract embeddings, and query our SVM model to determine who is in an image. We’ll draw boxes around faces and annotate each box with a name.\r\n",
    "- recognize_video.py : How to recognize who is in frames of a video stream just as we did in Step #3 on static images.\r\n"
   ],
   "metadata": {}
  },
  {
   "cell_type": "markdown",
   "source": [
    "## Step #1: Extract embeddings from face dataset\r\n",
    "\r\n",
    "Now that we understand how face recognition works and reviewed our project structure, let’s get started building our OpenCV face recognition pipeline.\r\n",
    "\r\n",
    "Before that, we have to install some library:\r\n",
    "\r\n",
    "```shell\r\n",
    "pip install opencv-python\r\n",
    "\r\n",
    "pip install --upgrade imutils\r\n",
    "```\r\n",
    "\r\n",
    "Open up the `extract_embeddings.py` file and insert the following code:\r\n"
   ],
   "metadata": {}
  },
  {
   "cell_type": "code",
   "execution_count": null,
   "source": [
    "# import the necessary packages\r\n",
    "from imutils import paths\r\n",
    "import numpy as np\r\n",
    "import argparse\r\n",
    "import imutils\r\n",
    "import pickle\r\n",
    "import cv2\r\n",
    "import os\r\n",
    "\r\n",
    "# construct the argument parser and parse the arguments\r\n",
    "ap = argparse.ArgumentParser()\r\n",
    "ap.add_argument(\"-i\", \"--dataset\", required=True,\r\n",
    "\thelp=\"path to input directory of faces + images\")\r\n",
    "ap.add_argument(\"-e\", \"--embeddings\", required=True,\r\n",
    "\thelp=\"path to output serialized db of facial embeddings\")\r\n",
    "ap.add_argument(\"-d\", \"--detector\", required=True,\r\n",
    "\thelp=\"path to OpenCV's deep learning face detector\")\r\n",
    "ap.add_argument(\"-m\", \"--embedding-model\", required=True,\r\n",
    "\thelp=\"path to OpenCV's deep learning face embedding model\")\r\n",
    "ap.add_argument(\"-c\", \"--confidence\", type=float, default=0.5,\r\n",
    "\thelp=\"minimum probability to filter weak detections\")\r\n",
    "args = vars(ap.parse_args())"
   ],
   "outputs": [],
   "metadata": {}
  },
  {
   "cell_type": "markdown",
   "source": [
    "Next, we process our command line arguments:\r\n",
    "\r\n",
    "- --dataset : The path to our input dataset of face images.\r\n",
    "- --embeddings : The path to our output embeddings file. Our script will compute face embeddings which we’ll serialize to disk.\r\n",
    "- --detector : Path to OpenCV’s Caffe-based deep learning face detector used to actually localize the faces in the images.\r\n",
    "- --embedding-model : Path to the OpenCV deep learning Torch embedding model. This model will allow us to extract a 128-D facial embedding vector.\r\n",
    "- --confidence : Optional threshold for filtering week face detections.\r\n",
    "\r\n",
    "Now that we’ve imported our packages and parsed command line arguments, lets load the face detector and embedder from disk:\r\n"
   ],
   "metadata": {}
  },
  {
   "cell_type": "code",
   "execution_count": null,
   "source": [
    "# load our serialized face detector from disk\r\n",
    "print(\"[INFO] loading face detector...\")\r\n",
    "protoPath = os.path.sep.join([args[\"detector\"], \"deploy.prototxt\"])\r\n",
    "modelPath = os.path.sep.join([args[\"detector\"],\r\n",
    "\t\"res10_300x300_ssd_iter_140000.caffemodel\"])\r\n",
    "detector = cv2.dnn.readNetFromCaffe(protoPath, modelPath)\r\n",
    "# load our serialized face embedding model from disk\r\n",
    "print(\"[INFO] loading face recognizer...\")\r\n",
    "embedder = cv2.dnn.readNetFromTorch(args[\"embedding_model\"])"
   ],
   "outputs": [],
   "metadata": {}
  },
  {
   "cell_type": "markdown",
   "source": [
    "Here we load the face detector and embedder:\r\n",
    "\r\n",
    "- detector : Loaded via Lines 3-6. We’re using a Caffe based DL face detector to localize faces in an image.\r\n",
    "- embedder : Loaded on Line 9. This model is Torch-based and is responsible for extracting facial embeddings via deep learning feature extraction.\r\n",
    "\r\n",
    "Notice that we’re using the respective cv2.dnn functions to load the two separate models.\r\n",
    "\r\n",
    "Moving forward, let’s grab our image paths and perform initializations:\r\n"
   ],
   "metadata": {}
  },
  {
   "cell_type": "code",
   "execution_count": null,
   "source": [
    "# grab the paths to the input images in our dataset\r\n",
    "print(\"[INFO] quantifying faces...\")\r\n",
    "imagePaths = list(paths.list_images(args[\"dataset\"]))\r\n",
    "# initialize our lists of extracted facial embeddings and\r\n",
    "# corresponding people names\r\n",
    "knownEmbeddings = []\r\n",
    "knownNames = []\r\n",
    "# initialize the total number of faces processed\r\n",
    "total = 0"
   ],
   "outputs": [],
   "metadata": {}
  },
  {
   "cell_type": "markdown",
   "source": [
    "The imagePaths list, built on Line 3, contains the path to each image in the dataset. I’ve made this easy via my imutils function, paths.list_images .\r\n",
    "\r\n",
    "Our embeddings and corresponding names will be held in two lists: knownEmbeddings and knownNames (Lines 6 and 7).\r\n",
    "\r\n",
    "We’ll also be keeping track of how many faces we’ve processed via a variable called total (Line 9).\r\n",
    "\r\n",
    "Let’s begin looping over the image paths — this loop will be responsible for extracting embeddings from faces found in each image:\r\n"
   ],
   "metadata": {}
  },
  {
   "cell_type": "code",
   "execution_count": null,
   "source": [
    "# loop over the image paths\r\n",
    "for (i, imagePath) in enumerate(imagePaths):\r\n",
    "\t# extract the person name from the image path\r\n",
    "\tprint(\"[INFO] processing image {}/{}\".format(i + 1,\r\n",
    "\t\tlen(imagePaths)))\r\n",
    "\tname = imagePath.split(os.path.sep)[-2]\r\n",
    "\t# load the image, resize it to have a width of 600 pixels (while\r\n",
    "\t# maintaining the aspect ratio), and then grab the image\r\n",
    "\t# dimensions\r\n",
    "\timage = cv2.imread(imagePath)\r\n",
    "\timage = imutils.resize(image, width=600)\r\n",
    "\t(h, w) = image.shape[:2]"
   ],
   "outputs": [],
   "metadata": {}
  },
  {
   "cell_type": "markdown",
   "source": [
    "We begin looping over imagePaths on Line 2.\r\n",
    "\r\n",
    "First, we extract the name of the person from the path (Line 6). To explain how this works, consider the following example in my Python shell:\r\n",
    "\r\n",
    "```shell\r\n",
    "$ python\r\n",
    ">>> from imutils import paths\r\n",
    ">>> import os\r\n",
    ">>> imagePaths = list(paths.list_images(\"dataset\"))\r\n",
    ">>> imagePath = imagePaths[0]\r\n",
    ">>> imagePath\r\n",
    "'dataset/raka/00004.jpg'\r\n",
    ">>> imagePath.split(os.path.sep)\r\n",
    "['dataset', 'raka', '00004.jpg']\r\n",
    ">>> imagePath.split(os.path.sep)[-2]\r\n",
    "'raka'\r\n",
    ">>>\r\n",
    "```\r\n",
    "\r\n",
    "Notice how by using imagePath.split and providing the split character (the OS path separator — “/” on unix and “\\” on Windows), the function produces a list of folder/file names (strings) which walk down the directory tree. We grab the second-to-last index, the persons name , which in this case is `raka` .\r\n",
    "\r\n",
    "Finally, we wrap up the above code block by loading the image and resize it to a known width (Lines 10 and 11).\r\n",
    "\r\n",
    "Let’s detect and localize faces:\r\n"
   ],
   "metadata": {}
  },
  {
   "cell_type": "code",
   "execution_count": null,
   "source": [
    "\t# construct a blob from the image\r\n",
    "\timageBlob = cv2.dnn.blobFromImage(\r\n",
    "\t\tcv2.resize(image, (300, 300)), 1.0, (300, 300),\r\n",
    "\t\t(104.0, 177.0, 123.0), swapRB=False, crop=False)\r\n",
    "\t# apply OpenCV's deep learning-based face detector to localize\r\n",
    "\t# faces in the input image\r\n",
    "\tdetector.setInput(imageBlob)\r\n",
    "\tdetections = detector.forward()"
   ],
   "outputs": [],
   "metadata": {}
  },
  {
   "cell_type": "markdown",
   "source": [
    "On Lines 2-4, we construct a blob.\r\n",
    "\r\n",
    "From there we detect faces in the image by passing the imageBlob through the detector network (Lines 7-8).\r\n",
    "\r\n",
    "Let’s process the detections :\r\n"
   ],
   "metadata": {}
  },
  {
   "cell_type": "code",
   "execution_count": null,
   "source": [
    "\t# ensure at least one face was found\r\n",
    "\tif len(detections) > 0:\r\n",
    "\t\t# we're making the assumption that each image has only ONE\r\n",
    "\t\t# face, so find the bounding box with the largest probability\r\n",
    "\t\ti = np.argmax(detections[0, 0, :, 2])\r\n",
    "\t\tconfidence = detections[0, 0, i, 2]\r\n",
    "\t\t# ensure that the detection with the largest probability also\r\n",
    "\t\t# means our minimum probability test (thus helping filter out\r\n",
    "\t\t# weak detections)\r\n",
    "\t\tif confidence > args[\"confidence\"]:\r\n",
    "\t\t\t# compute the (x, y)-coordinates of the bounding box for\r\n",
    "\t\t\t# the face\r\n",
    "\t\t\tbox = detections[0, 0, i, 3:7] * np.array([w, h, w, h])\r\n",
    "\t\t\t(startX, startY, endX, endY) = box.astype(\"int\")\r\n",
    "\t\t\t# extract the face ROI and grab the ROI dimensions\r\n",
    "\t\t\tface = image[startY:endY, startX:endX]\r\n",
    "\t\t\t(fH, fW) = face.shape[:2]\r\n",
    "\t\t\t# ensure the face width and height are sufficiently large\r\n",
    "\t\t\tif fW < 20 or fH < 20:\r\n",
    "\t\t\t\tcontinue"
   ],
   "outputs": [],
   "metadata": {}
  },
  {
   "cell_type": "markdown",
   "source": [
    "The detections list contains probabilities and coordinates to localize faces in an image.\r\n",
    "\r\n",
    "Assuming we have at least one detection, we’ll proceed into the body of the if-statement (Line 2).\r\n",
    "\r\n",
    "We make the assumption that there is only one face in the image, so we extract the detection with the highest confidence and check to make sure that the confidence meets the minimum probability threshold used to filter out weak detections (Lines 5-10).\r\n",
    "\r\n",
    "Assuming we’ve met that threshold, we extract the face ROI and grab/check dimensions to make sure the face ROI is sufficiently large (Lines 13-20).\r\n",
    "\r\n",
    "From there, we’ll take advantage of our embedder CNN and extract the face embeddings:\r\n"
   ],
   "metadata": {}
  },
  {
   "cell_type": "code",
   "execution_count": null,
   "source": [
    "\t\t\t# construct a blob for the face ROI, then pass the blob\r\n",
    "\t\t\t# through our face embedding model to obtain the 128-d\r\n",
    "\t\t\t# quantification of the face\r\n",
    "\t\t\tfaceBlob = cv2.dnn.blobFromImage(face, 1.0 / 255,\r\n",
    "\t\t\t\t(96, 96), (0, 0, 0), swapRB=True, crop=False)\r\n",
    "\t\t\tembedder.setInput(faceBlob)\r\n",
    "\t\t\tvec = embedder.forward()\r\n",
    "\t\t\t# add the name of the person + corresponding face\r\n",
    "\t\t\t# embedding to their respective lists\r\n",
    "\t\t\tknownNames.append(name)\r\n",
    "\t\t\tknownEmbeddings.append(vec.flatten())\r\n",
    "\t\t\ttotal += 1"
   ],
   "outputs": [],
   "metadata": {}
  },
  {
   "cell_type": "markdown",
   "source": [
    "We construct another blob, this time from the face ROI (not the whole image as we did before) on Lines 4-5.\r\n",
    "\r\n",
    "Subsequently, we pass the faceBlob through the embedder CNN (Lines 6-7). This generates a 128-D vector (vec ) which describes the face. We’ll leverage this data to recognize new faces via machine learning.\r\n",
    "\r\n",
    "And then we simply add the name and embedding vec to knownNames and knownEmbeddings , respectively (Lines 10-11).\r\n",
    "\r\n",
    "We also can’t forget about the variable we set to track the total number of faces either — we go ahead and increment the value on Line 12.\r\n",
    "\r\n",
    "We continue this process of looping over images, detecting faces, and extracting face embeddings for each and every image in our dataset.\r\n",
    "\r\n",
    "All that’s left when the loop finishes is to dump the data to disk:\r\n"
   ],
   "metadata": {}
  },
  {
   "cell_type": "code",
   "execution_count": null,
   "source": [
    "# dump the facial embeddings + names to disk\r\n",
    "print(\"[INFO] serializing {} encodings...\".format(total))\r\n",
    "data = {\"embeddings\": knownEmbeddings, \"names\": knownNames}\r\n",
    "f = open(args[\"embeddings\"], \"wb\")\r\n",
    "f.write(pickle.dumps(data))\r\n",
    "f.close()"
   ],
   "outputs": [],
   "metadata": {}
  },
  {
   "cell_type": "markdown",
   "source": [
    "We add the name and embedding data to a dictionary and then serialize the data in a pickle file on Lines 2-6.\r\n",
    "\r\n",
    "At this point we’re ready to extract embeddings by running our script.\r\n",
    "\r\n",
    "From there, open up a terminal and execute the following command to compute the face embeddings with OpenCV:\r\n",
    "\r\n",
    "```shell\r\n",
    "python extract_embeddings.py --dataset dataset --embeddings output/embeddings.pickle --detector face_recognition_model --embedding-model openface.nn4.small2.v1.t7\r\n",
    "```\r\n"
   ],
   "metadata": {}
  },
  {
   "cell_type": "markdown",
   "source": [
    "## Step #2: Train face recognition model\r\n",
    "\r\n",
    "At this point we have extracted 128-d embeddings for each face — but how do we actually recognize a person based on these embeddings? The answer is that we need to train a “standard” machine learning model (such as an SVM, k-NN classifier, Random Forest, etc.) on top of the embeddings.\r\n",
    "\r\n",
    "Open up the `train_model.py` file and insert the following code:\r\n"
   ],
   "metadata": {}
  },
  {
   "cell_type": "code",
   "execution_count": null,
   "source": [
    "# import the necessary packages\r\n",
    "from sklearn.preprocessing import LabelEncoder\r\n",
    "from sklearn.svm import SVC\r\n",
    "import argparse\r\n",
    "import pickle\r\n",
    "# construct the argument parser and parse the arguments\r\n",
    "ap = argparse.ArgumentParser()\r\n",
    "ap.add_argument(\"-e\", \"--embeddings\", required=True,\r\n",
    "\thelp=\"path to serialized db of facial embeddings\")\r\n",
    "ap.add_argument(\"-r\", \"--recognizer\", required=True,\r\n",
    "\thelp=\"path to output model trained to recognize faces\")\r\n",
    "ap.add_argument(\"-l\", \"--le\", required=True,\r\n",
    "\thelp=\"path to output label encoder\")\r\n",
    "args = vars(ap.parse_args())"
   ],
   "outputs": [],
   "metadata": {}
  },
  {
   "cell_type": "markdown",
   "source": [
    "We import our packages and modules on Lines 2-5. We’ll be using scikit-learn’s implementation of Support Vector Machines (SVM), a common machine learning model.\r\n",
    "\r\n",
    "From there we parse our command line arguments:\r\n",
    "\r\n",
    "- --embeddings : The path to the serialized embeddings (we exported it by running the previous extract_embeddings.py script).\r\n",
    "- --recognizer : This will be our output model that recognizes faces. It is based on SVM. We’ll be saving it so we can use it in the next two recognition scripts.\r\n",
    "- --le : Our label encoder output file path. We’ll serialize our label encoder to disk so that we can use it and the recognizer model in our image/video face recognition scripts.\r\n",
    "\r\n",
    "Each of these arguments is required.\r\n",
    "\r\n",
    "Let’s load our facial embeddings and encode our labels:\r\n"
   ],
   "metadata": {}
  },
  {
   "cell_type": "code",
   "execution_count": null,
   "source": [
    "# load the face embeddings\r\n",
    "print(\"[INFO] loading face embeddings...\")\r\n",
    "data = pickle.loads(open(args[\"embeddings\"], \"rb\").read())\r\n",
    "# encode the labels\r\n",
    "print(\"[INFO] encoding labels...\")\r\n",
    "le = LabelEncoder()\r\n",
    "labels = le.fit_transform(data[\"names\"])"
   ],
   "outputs": [],
   "metadata": {}
  },
  {
   "cell_type": "markdown",
   "source": [
    "Here we load our embeddings from Step #1 on Line 19. We won’t be generating any embeddings in this model training script — we’ll use the embeddings previously generated and serialized.\r\n",
    "\r\n",
    "Then we initialize our scikit-learn LabelEncoder and encode our name labels (Lines 6-7).\r\n",
    "\r\n",
    "Now it’s time to train our SVM model for recognizing faces:\r\n"
   ],
   "metadata": {}
  },
  {
   "cell_type": "code",
   "execution_count": null,
   "source": [
    "# train the model used to accept the 128-d embeddings of the face and\r\n",
    "# then produce the actual face recognition\r\n",
    "print(\"[INFO] training model...\")\r\n",
    "recognizer = SVC(C=1.0, kernel=\"linear\", probability=True)\r\n",
    "recognizer.fit(data[\"embeddings\"], labels)"
   ],
   "outputs": [],
   "metadata": {}
  },
  {
   "cell_type": "markdown",
   "source": [
    "On Line 4 we initialize our SVM model, and on Line 5 we fit the model (also known as “training the model”).\r\n",
    "\r\n",
    "Here we are using a Linear Support Vector Machine (SVM) but you can try experimenting with other machine learning models if you so wish.\r\n",
    "\r\n",
    "After training the model we output the model and label encoder to disk as pickle files.\r\n"
   ],
   "metadata": {}
  },
  {
   "cell_type": "code",
   "execution_count": null,
   "source": [
    "# write the actual face recognition model to disk\r\n",
    "f = open(args[\"recognizer\"], \"wb\")\r\n",
    "f.write(pickle.dumps(recognizer))\r\n",
    "f.close()\r\n",
    "# write the label encoder to disk\r\n",
    "f = open(args[\"le\"], \"wb\")\r\n",
    "f.write(pickle.dumps(le))\r\n",
    "f.close()"
   ],
   "outputs": [],
   "metadata": {}
  },
  {
   "cell_type": "markdown",
   "source": [
    "We write two pickle files to disk in this block — the face recognizer model and the label encoder.\r\n",
    "\r\n",
    "At this point, be sure you executed the code from Step #1 first.\r\n",
    "\r\n",
    "Now that we have finished coding train_model.py as well, let’s apply it to our extracted face embeddings:\r\n",
    "\r\n",
    "```shell\r\n",
    "python train_model.py --embeddings output/embeddings.pickle --recognizer output/recognizer.pickle --le output/le.pickle\r\n",
    "```\r\n",
    "\r\n",
    "Here you can see that our SVM has been trained on the embeddings and both the (1) SVM itself and (2) the label encoding have been written to disk, enabling us to apply them to input images and video."
   ],
   "metadata": {}
  },
  {
   "cell_type": "markdown",
   "source": [
    "## Step #3: Recognize faces with OpenCV\r\n",
    "\r\n",
    "We are now ready to perform face recognition with OpenCV!\r\n",
    "\r\n",
    "We’ll start with recognizing faces in images in this section and then move on to recognizing faces in video streams in the following section.\r\n",
    "\r\n",
    "Open up the recognize.py file in your project and insert the following code:\r\n"
   ],
   "metadata": {}
  },
  {
   "cell_type": "code",
   "execution_count": null,
   "source": [
    "# import the necessary packages\r\n",
    "import numpy as np\r\n",
    "import argparse\r\n",
    "import imutils\r\n",
    "import pickle\r\n",
    "import cv2\r\n",
    "import os\r\n",
    "# construct the argument parser and parse the arguments\r\n",
    "ap = argparse.ArgumentParser()\r\n",
    "ap.add_argument(\"-i\", \"--image\", required=True,\r\n",
    "\thelp=\"path to input image\")\r\n",
    "ap.add_argument(\"-d\", \"--detector\", required=True,\r\n",
    "\thelp=\"path to OpenCV's deep learning face detector\")\r\n",
    "ap.add_argument(\"-m\", \"--embedding-model\", required=True,\r\n",
    "\thelp=\"path to OpenCV's deep learning face embedding model\")\r\n",
    "ap.add_argument(\"-r\", \"--recognizer\", required=True,\r\n",
    "\thelp=\"path to model trained to recognize faces\")\r\n",
    "ap.add_argument(\"-l\", \"--le\", required=True,\r\n",
    "\thelp=\"path to label encoder\")\r\n",
    "ap.add_argument(\"-c\", \"--confidence\", type=float, default=0.5,\r\n",
    "\thelp=\"minimum probability to filter weak detections\")\r\n",
    "args = vars(ap.parse_args())"
   ],
   "outputs": [],
   "metadata": {}
  },
  {
   "cell_type": "markdown",
   "source": [
    "We import our required packages on Lines 2-7. At this point, you should have each of these packages installed.\r\n",
    "\r\n",
    "Our six command line arguments are parsed on Lines 9-22:\r\n",
    "\r\n",
    "- --image : The path to the input image. We will attempt to recognize the faces in this image.\r\n",
    "- --detector : The path to OpenCV’s deep learning face detector. We’ll use this model to detect where in the image the face ROIs are.\r\n",
    "- --embedding-model : The path to OpenCV’s deep learning face embedding model. We’ll use this model to extract the 128-D face embedding from the face ROI — we’ll feed the data into the recognizer.\r\n",
    "- --recognizer : The path to our recognizer model. We trained our SVM recognizer in Step #2. This is what will actually determine who a face is.\r\n",
    "- --le : The path to our label encoder. This contains our face labels such as 'raka' or 'anggie' .\r\n",
    "- --confidence : The optional threshold to filter weak face detections.\r\n",
    "\r\n",
    "Be sure to study these command line arguments — it is important to know the difference between the two deep learning models and the SVM model. If you find yourself confused later in this script, you should refer back to here.\r\n",
    "\r\n",
    "Now that we’ve handled our imports and command line arguments, let’s load the three models from disk into memory:\r\n"
   ],
   "metadata": {}
  },
  {
   "cell_type": "code",
   "execution_count": null,
   "source": [
    "# load our serialized face detector from disk\r\n",
    "print(\"[INFO] loading face detector...\")\r\n",
    "protoPath = os.path.sep.join([args[\"detector\"], \"deploy.prototxt\"])\r\n",
    "modelPath = os.path.sep.join([args[\"detector\"],\r\n",
    "\t\"res10_300x300_ssd_iter_140000.caffemodel\"])\r\n",
    "detector = cv2.dnn.readNetFromCaffe(protoPath, modelPath)\r\n",
    "# load our serialized face embedding model from disk\r\n",
    "print(\"[INFO] loading face recognizer...\")\r\n",
    "embedder = cv2.dnn.readNetFromTorch(args[\"embedding_model\"])\r\n",
    "# load the actual face recognition model along with the label encoder\r\n",
    "recognizer = pickle.loads(open(args[\"recognizer\"], \"rb\").read())\r\n",
    "le = pickle.loads(open(args[\"le\"], \"rb\").read())"
   ],
   "outputs": [],
   "metadata": {}
  },
  {
   "cell_type": "markdown",
   "source": [
    "We load three models in this block. At the risk of being redundant, I want to explicitly remind you of the differences among the models:\r\n",
    "\r\n",
    "- detector : A pre-trained Caffe DL model to detect where in the image the faces are (Lines 3-6).\r\n",
    "- embedder : A pre-trained Torch DL model to calculate our 128-D face embeddings (Line 9).\r\n",
    "- recognizer : Our Linear SVM face recognition model (Line 11). We trained this model in Step 2.\r\n",
    "\r\n",
    "We also load our label encoder which holds the names of the people our model can recognize (Line 12).\r\n",
    "\r\n",
    "Now let’s load our image and detect faces:\r\n"
   ],
   "metadata": {}
  },
  {
   "cell_type": "code",
   "execution_count": null,
   "source": [
    "# load the image, resize it to have a width of 600 pixels (while\r\n",
    "# maintaining the aspect ratio), and then grab the image dimensions\r\n",
    "image = cv2.imread(args[\"image\"])\r\n",
    "image = imutils.resize(image, width=600)\r\n",
    "(h, w) = image.shape[:2]\r\n",
    "# construct a blob from the image\r\n",
    "imageBlob = cv2.dnn.blobFromImage(\r\n",
    "\tcv2.resize(image, (300, 300)), 1.0, (300, 300),\r\n",
    "\t(104.0, 177.0, 123.0), swapRB=False, crop=False)\r\n",
    "# apply OpenCV's deep learning-based face detector to localize\r\n",
    "# faces in the input image\r\n",
    "detector.setInput(imageBlob)\r\n",
    "detections = detector.forward()"
   ],
   "outputs": [],
   "metadata": {}
  },
  {
   "cell_type": "markdown",
   "source": [
    "Here we:\r\n",
    "\r\n",
    "- Load the image into memory and construct a blob (Lines 3-9).\r\n",
    "- Localize faces in the image via our detector (Lines 12-13).\r\n",
    "\r\n",
    "Given our new detections , let’s recognize faces in the image. But first we need to filter weak detections and extract the face ROI:\r\n"
   ],
   "metadata": {}
  },
  {
   "cell_type": "code",
   "execution_count": null,
   "source": [
    "# loop over the detections\r\n",
    "for i in range(0, detections.shape[2]):\r\n",
    "\t# extract the confidence (i.e., probability) associated with the\r\n",
    "\t# prediction\r\n",
    "\tconfidence = detections[0, 0, i, 2]\r\n",
    "\t# filter out weak detections\r\n",
    "\tif confidence > args[\"confidence\"]:\r\n",
    "\t\t# compute the (x, y)-coordinates of the bounding box for the\r\n",
    "\t\t# face\r\n",
    "\t\tbox = detections[0, 0, i, 3:7] * np.array([w, h, w, h])\r\n",
    "\t\t(startX, startY, endX, endY) = box.astype(\"int\")\r\n",
    "\t\t# extract the face ROI\r\n",
    "\t\tface = image[startY:endY, startX:endX]\r\n",
    "\t\t(fH, fW) = face.shape[:2]\r\n",
    "\t\t# ensure the face width and height are sufficiently large\r\n",
    "\t\tif fW < 20 or fH < 20:\r\n",
    "\t\t\tcontinue"
   ],
   "outputs": [],
   "metadata": {}
  },
  {
   "cell_type": "markdown",
   "source": [
    "You’ll recognize this block from Step #1. I’ll explain it here once more:\r\n",
    "\r\n",
    "- We loop over the detections on Line 2 and extract the confidence of each on Line 5.\r\n",
    "- Then we compare the confidence to the minimum probability detection threshold contained in our command line args dictionary, ensuring that the computed probability is larger than the minimum probability (Line 7).\r\n",
    "- From there, we extract the face ROI (Lines 10-13) as well as ensure it’s spatial dimensions are sufficiently large (Lines 16-17).\r\n",
    "\r\n",
    "Recognizing the name of the face ROI requires just a few steps:\r\n"
   ],
   "metadata": {}
  },
  {
   "cell_type": "code",
   "execution_count": null,
   "source": [
    "\t\t# construct a blob for the face ROI, then pass the blob\r\n",
    "\t\t# through our face embedding model to obtain the 128-d\r\n",
    "\t\t# quantification of the face\r\n",
    "\t\tfaceBlob = cv2.dnn.blobFromImage(face, 1.0 / 255, (96, 96),\r\n",
    "\t\t\t(0, 0, 0), swapRB=True, crop=False)\r\n",
    "\t\tembedder.setInput(faceBlob)\r\n",
    "\t\tvec = embedder.forward()\r\n",
    "\t\t# perform classification to recognize the face\r\n",
    "\t\tpreds = recognizer.predict_proba(vec)[0]\r\n",
    "\t\tj = np.argmax(preds)\r\n",
    "\t\tproba = preds[j]\r\n",
    "\t\tname = le.classes_[j]"
   ],
   "outputs": [],
   "metadata": {}
  },
  {
   "cell_type": "markdown",
   "source": [
    "First, we construct a faceBlob (from the face ROI) and pass it through the embedder to generate a 128-D vector which describes the face (Lines 4-7)\r\n",
    "\r\n",
    "Then, we pass the vec through our SVM recognizer model (Line 9), the result of which is our predictions for who is in the face ROI.\r\n",
    "\r\n",
    "We take the highest probability index (Line 10) and query our label encoder to find the name (Line 12). In between, I extract the probability on Line 11.\r\n",
    "\r\n",
    "Note: You cam further filter out weak face recognitions by applying an additional threshold test on the probability. For example, inserting if proba < T (where T is a variable you define) can provide an additional layer of filtering to ensure there are less false-positive face recognitions.\r\n",
    "\r\n",
    "Now, let’s display OpenCV face recognition results:\r\n"
   ],
   "metadata": {}
  },
  {
   "cell_type": "code",
   "execution_count": null,
   "source": [
    "\t\t# draw the bounding box of the face along with the associated\r\n",
    "\t\t# probability\r\n",
    "\t\ttext = \"{}: {:.2f}%\".format(name, proba * 100)\r\n",
    "\t\ty = startY - 10 if startY - 10 > 10 else startY + 10\r\n",
    "\t\tcv2.rectangle(image, (startX, startY), (endX, endY),\r\n",
    "\t\t\t(0, 0, 255), 2)\r\n",
    "\t\tcv2.putText(image, text, (startX, y),\r\n",
    "\t\t\tcv2.FONT_HERSHEY_SIMPLEX, 0.45, (0, 0, 255), 2)\r\n",
    "# show the output image\r\n",
    "cv2.imshow(\"Image\", image)\r\n",
    "cv2.waitKey(0)"
   ],
   "outputs": [],
   "metadata": {}
  },
  {
   "cell_type": "markdown",
   "source": [
    "For every face we recognize in the loop (including the “unknown”) people:\r\n",
    "\r\n",
    "- We construct a text string containing the name and probability on Line 3.\r\n",
    "- And then we draw a rectangle around the face and place the text above the box (Lines 4-8).\r\n",
    "\r\n",
    "And then finally we visualize the results on the screen until a key is pressed (Lines 10 and 11).\r\n",
    "\r\n",
    "It is time to recognize faces in images with OpenCV!\r\n",
    "\r\n",
    "To apply our OpenCV face recognition pipeline to my provided images (or your own dataset + test images).\r\n",
    "\r\n",
    "From there, open up a terminal and execute the following command:\r\n",
    "\r\n",
    "```shell\r\n",
    "python recognize.py --detector face_recognition_model --embedding-model openface.nn4.small2.v1.t7 --recognizer output/recognizer.pickle --le output/le.pickle --image images/raka.png\r\n",
    "```\r\n"
   ],
   "metadata": {}
  },
  {
   "cell_type": "markdown",
   "source": [
    "## Recognize faces in video streams\r\n",
    "\r\n",
    "Open up the recognize_video.py file and let’s get started:\r\n"
   ],
   "metadata": {}
  },
  {
   "cell_type": "code",
   "execution_count": null,
   "source": [
    "# import the necessary packages\r\n",
    "from imutils.video import VideoStream\r\n",
    "from imutils.video import FPS\r\n",
    "import numpy as np\r\n",
    "import argparse\r\n",
    "import imutils\r\n",
    "import pickle\r\n",
    "import time\r\n",
    "import cv2\r\n",
    "import os\r\n",
    "# construct the argument parser and parse the arguments\r\n",
    "ap = argparse.ArgumentParser()\r\n",
    "ap.add_argument(\"-d\", \"--detector\", required=True,\r\n",
    "\thelp=\"path to OpenCV's deep learning face detector\")\r\n",
    "ap.add_argument(\"-m\", \"--embedding-model\", required=True,\r\n",
    "\thelp=\"path to OpenCV's deep learning face embedding model\")\r\n",
    "ap.add_argument(\"-r\", \"--recognizer\", required=True,\r\n",
    "\thelp=\"path to model trained to recognize faces\")\r\n",
    "ap.add_argument(\"-l\", \"--le\", required=True,\r\n",
    "\thelp=\"path to label encoder\")\r\n",
    "ap.add_argument(\"-c\", \"--confidence\", type=float, default=0.5,\r\n",
    "\thelp=\"minimum probability to filter weak detections\")\r\n",
    "args = vars(ap.parse_args())"
   ],
   "outputs": [],
   "metadata": {}
  },
  {
   "cell_type": "markdown",
   "source": [
    "Our imports are the same as the Step #3 section above, except for Lines 2 and 3 where we use the imutils.video module. We’ll use VideoStream to capture frames from our camera and FPS to calculate frames per second statistics.\r\n",
    "\r\n",
    "The command line arguments are also the same except we aren’t passing a path to a static image via the command line. Rather, we’ll grab a reference to our webcam and then process the video. Refer to Step #3 if you need to review the arguments.\r\n",
    "\r\n",
    "Our three models and label encoder are loaded here:"
   ],
   "metadata": {}
  },
  {
   "cell_type": "code",
   "execution_count": null,
   "source": [
    "# load our serialized face detector from disk\r\n",
    "print(\"[INFO] loading face detector...\")\r\n",
    "protoPath = os.path.sep.join([args[\"detector\"], \"deploy.prototxt\"])\r\n",
    "modelPath = os.path.sep.join([args[\"detector\"],\r\n",
    "\t\"res10_300x300_ssd_iter_140000.caffemodel\"])\r\n",
    "detector = cv2.dnn.readNetFromCaffe(protoPath, modelPath)\r\n",
    "# load our serialized face embedding model from disk\r\n",
    "print(\"[INFO] loading face recognizer...\")\r\n",
    "embedder = cv2.dnn.readNetFromTorch(args[\"embedding_model\"])\r\n",
    "# load the actual face recognition model along with the label encoder\r\n",
    "recognizer = pickle.loads(open(args[\"recognizer\"], \"rb\").read())\r\n",
    "le = pickle.loads(open(args[\"le\"], \"rb\").read())"
   ],
   "outputs": [],
   "metadata": {}
  },
  {
   "cell_type": "markdown",
   "source": [
    "Here we load face detector , face embedder model, face recognizer model (Linear SVM), and label encoder.\r\n",
    "\r\n",
    "Again, be sure to refer to Step #3 if you are confused about the three models or label encoder.\r\n",
    "\r\n",
    "Let’s initialize our video stream and begin processing frames:"
   ],
   "metadata": {}
  },
  {
   "cell_type": "code",
   "execution_count": null,
   "source": [
    "# initialize the video stream, then allow the camera sensor to warm up\r\n",
    "print(\"[INFO] starting video stream...\")\r\n",
    "vs = VideoStream(src=0).start()\r\n",
    "time.sleep(2.0)\r\n",
    "# start the FPS throughput estimator\r\n",
    "fps = FPS().start()\r\n",
    "# loop over frames from the video file stream\r\n",
    "while True:\r\n",
    "\t# grab the frame from the threaded video stream\r\n",
    "\tframe = vs.read()\r\n",
    "\t# resize the frame to have a width of 600 pixels (while\r\n",
    "\t# maintaining the aspect ratio), and then grab the image\r\n",
    "\t# dimensions\r\n",
    "\tframe = imutils.resize(frame, width=600)\r\n",
    "\t(h, w) = frame.shape[:2]\r\n",
    "\t# construct a blob from the image\r\n",
    "\timageBlob = cv2.dnn.blobFromImage(\r\n",
    "\t\tcv2.resize(frame, (300, 300)), 1.0, (300, 300),\r\n",
    "\t\t(104.0, 177.0, 123.0), swapRB=False, crop=False)\r\n",
    "\t# apply OpenCV's deep learning-based face detector to localize\r\n",
    "\t# faces in the input image\r\n",
    "\tdetector.setInput(imageBlob)\r\n",
    "\tdetections = detector.forward()"
   ],
   "outputs": [],
   "metadata": {}
  },
  {
   "cell_type": "markdown",
   "source": [
    "Our VideoStream object is initialized and started on Line 3. We wait for the camera sensor to warm up on Line 4.\r\n",
    "\r\n",
    "We also initialize our frames per second counter (Line 6) and begin looping over frames on Line 8. We grab a frame from the webcam on Line 10.\r\n",
    "\r\n",
    "From here everything is the same as Step 3. We resize the frame (Line 14) and then we construct a blob from the frame + detect where the faces are (Lines 17-23).\r\n",
    "\r\n",
    "Now let’s process the detections:"
   ],
   "metadata": {}
  },
  {
   "cell_type": "code",
   "execution_count": null,
   "source": [
    "\t# loop over the detections\r\n",
    "\tfor i in range(0, detections.shape[2]):\r\n",
    "\t\t# extract the confidence (i.e., probability) associated with\r\n",
    "\t\t# the prediction\r\n",
    "\t\tconfidence = detections[0, 0, i, 2]\r\n",
    "\t\t# filter out weak detections\r\n",
    "\t\tif confidence > args[\"confidence\"]:\r\n",
    "\t\t\t# compute the (x, y)-coordinates of the bounding box for\r\n",
    "\t\t\t# the face\r\n",
    "\t\t\tbox = detections[0, 0, i, 3:7] * np.array([w, h, w, h])\r\n",
    "\t\t\t(startX, startY, endX, endY) = box.astype(\"int\")\r\n",
    "\t\t\t# extract the face ROI\r\n",
    "\t\t\tface = frame[startY:endY, startX:endX]\r\n",
    "\t\t\t(fH, fW) = face.shape[:2]\r\n",
    "\t\t\t# ensure the face width and height are sufficiently large\r\n",
    "\t\t\tif fW < 20 or fH < 20:\r\n",
    "\t\t\t\tcontinue"
   ],
   "outputs": [],
   "metadata": {}
  },
  {
   "cell_type": "markdown",
   "source": [
    "Now it’s time to perform OpenCV face recognition:"
   ],
   "metadata": {}
  },
  {
   "cell_type": "code",
   "execution_count": null,
   "source": [
    "\t\t\t# construct a blob for the face ROI, then pass the blob\r\n",
    "\t\t\t# through our face embedding model to obtain the 128-d\r\n",
    "\t\t\t# quantification of the face\r\n",
    "\t\t\tfaceBlob = cv2.dnn.blobFromImage(face, 1.0 / 255,\r\n",
    "\t\t\t\t(96, 96), (0, 0, 0), swapRB=True, crop=False)\r\n",
    "\t\t\tembedder.setInput(faceBlob)\r\n",
    "\t\t\tvec = embedder.forward()\r\n",
    "\t\t\t# perform classification to recognize the face\r\n",
    "\t\t\tpreds = recognizer.predict_proba(vec)[0]\r\n",
    "\t\t\tj = np.argmax(preds)\r\n",
    "\t\t\tproba = preds[j]\r\n",
    "\t\t\tname = le.classes_[j]\r\n",
    "\t\t\t# draw the bounding box of the face along with the\r\n",
    "\t\t\t# associated probability\r\n",
    "\t\t\ttext = \"{}: {:.2f}%\".format(name, proba * 100)\r\n",
    "\t\t\ty = startY - 10 if startY - 10 > 10 else startY + 10\r\n",
    "\t\t\tcv2.rectangle(frame, (startX, startY), (endX, endY),\r\n",
    "\t\t\t\t(0, 0, 255), 2)\r\n",
    "\t\t\tcv2.putText(frame, text, (startX, y),\r\n",
    "\t\t\t\tcv2.FONT_HERSHEY_SIMPLEX, 0.45, (0, 0, 255), 2)\r\n",
    "\t# update the FPS counter\r\n",
    "\tfps.update()"
   ],
   "outputs": [],
   "metadata": {}
  },
  {
   "cell_type": "markdown",
   "source": [
    "Let’s display the results and clean up:"
   ],
   "metadata": {}
  },
  {
   "cell_type": "code",
   "execution_count": null,
   "source": [
    "\t# show the output frame\r\n",
    "\tcv2.imshow(\"Frame\", frame)\r\n",
    "\tkey = cv2.waitKey(1) & 0xFF\r\n",
    "\t# if the `q` key was pressed, break from the loop\r\n",
    "\tif key == ord(\"q\"):\r\n",
    "\t\tbreak\r\n",
    "# stop the timer and display FPS information\r\n",
    "fps.stop()\r\n",
    "print(\"[INFO] elasped time: {:.2f}\".format(fps.elapsed()))\r\n",
    "print(\"[INFO] approx. FPS: {:.2f}\".format(fps.fps()))\r\n",
    "# do a bit of cleanup\r\n",
    "cv2.destroyAllWindows()\r\n",
    "vs.stop()"
   ],
   "outputs": [],
   "metadata": {}
  },
  {
   "cell_type": "markdown",
   "source": [
    "To execute our OpenCV face recognition pipeline on a video stream, open up a terminal and execute the following command:\r\n",
    "\r\n",
    "```shell\r\n",
    "python recognize_video.py --detector face_recognition_model --embedding-model openface.nn4.small2.v1.t7 --recognizer output/recognizer.pickle --le output/le.pickle\r\n",
    "```\r\n"
   ],
   "metadata": {}
  }
 ],
 "metadata": {
  "orig_nbformat": 4,
  "language_info": {
   "name": "python",
   "version": "3.8.5"
  },
  "kernelspec": {
   "name": "python3",
   "display_name": "Python 3.8.5 64-bit"
  },
  "interpreter": {
   "hash": "60716cfbf8f6257f052921a35c79929cd52e6aa52b65b24e32100e25d3fdc1e3"
  }
 },
 "nbformat": 4,
 "nbformat_minor": 2
}