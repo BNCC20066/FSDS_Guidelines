{
 "cells": [
  {
   "cell_type": "markdown",
   "source": [
    "# CNN Practice"
   ],
   "metadata": {}
  },
  {
   "cell_type": "markdown",
   "source": [
    "## Loading Custom Dataset using Keras\r\n",
    "\r\n",
    "You will gain practical experience with the following concepts:\r\n",
    "\r\n",
    "- Efficiently loading a dataset off disk.\r\n",
    "- Identifying overfitting and applying techniques to mitigate it, including data augmentation and Dropout.\r\n",
    "\r\n",
    "This session follows a basic machine learning workflow:\r\n",
    "\r\n",
    "- Examine and understand data\r\n",
    "- Build an input pipeline\r\n",
    "- Build the model\r\n",
    "- Train the model\r\n",
    "- Test the model\r\n",
    "- Improve the model and repeat the process"
   ],
   "metadata": {}
  },
  {
   "cell_type": "code",
   "execution_count": 16,
   "source": [
    "import numpy as np\r\n",
    "import PIL\r\n",
    "import tensorflow as tf\r\n",
    "from tensorflow import keras\r\n",
    "from tensorflow.keras import layers\r\n",
    "from tensorflow.keras.models import Sequential\r\n",
    "from tensorflow.keras.preprocessing.image import ImageDataGenerator, img_to_array, load_img, array_to_img\r\n",
    "\r\n",
    "import matplotlib.pyplot as plt"
   ],
   "outputs": [],
   "metadata": {}
  },
  {
   "cell_type": "code",
   "execution_count": null,
   "source": [
    "if tf.test.gpu_device_name(): \r\n",
    "    print('Default GPU Device:{}'.format(tf.test.gpu_device_name()))\r\n",
    "else:\r\n",
    "   print(\"Please install GPU version of TF\")\r\n",
    "\r\n",
    "print(tf.__version__)"
   ],
   "outputs": [],
   "metadata": {}
  },
  {
   "cell_type": "markdown",
   "source": [
    "### Explore the Dataset\r\n",
    "\r\n",
    "Download the dataset [here](https://www.kaggle.com/puneet6060/intel-image-classification). This is image data of Natural Scenes around the world.\r\n",
    "\r\n",
    "This Data contains around 25k images of size 150x150 distributed under 6 categories.\r\n",
    "\r\n",
    "```py\r\n",
    "{'buildings' -> 0,\r\n",
    "'forest' -> 1,\r\n",
    "'glacier' -> 2,\r\n",
    "'mountain' -> 3,\r\n",
    "'sea' -> 4,\r\n",
    "'street' -> 5 }\r\n",
    "```\r\n",
    "\r\n",
    "The Train, Test and Prediction data is separated in each zip files. There are around 14k images in Train, 3k in Test and 7k in Prediction."
   ],
   "metadata": {}
  },
  {
   "cell_type": "code",
   "execution_count": null,
   "source": [
    "train_folder=r'seg_train/seg_train/'\r\n",
    "val_folder=r'seg_test/seg_test/'\r\n",
    "test_folder=r'seg_pred/seg_pred/'"
   ],
   "outputs": [],
   "metadata": {}
  },
  {
   "cell_type": "code",
   "execution_count": null,
   "source": [
    "import pathlib\r\n",
    "data_dir = pathlib.Path(train_folder)\r\n",
    "image_count = len(list(data_dir.glob('*/*.jpg')))\r\n",
    "print(image_count)"
   ],
   "outputs": [],
   "metadata": {}
  },
  {
   "cell_type": "markdown",
   "source": [
    "After downloading, you should now have a copy of the dataset available. There are 14043 total images for training"
   ],
   "metadata": {}
  },
  {
   "cell_type": "code",
   "execution_count": null,
   "source": [
    "buildings = list(data_dir.glob('buildings/*'))\r\n",
    "PIL.Image.open(str(buildings[0]))"
   ],
   "outputs": [],
   "metadata": {}
  },
  {
   "cell_type": "code",
   "execution_count": null,
   "source": [
    "PIL.Image.open(str(buildings[1]))"
   ],
   "outputs": [],
   "metadata": {}
  },
  {
   "cell_type": "code",
   "execution_count": null,
   "source": [
    "street = list(data_dir.glob('street/*'))\r\n",
    "PIL.Image.open(str(street[0]))"
   ],
   "outputs": [],
   "metadata": {}
  },
  {
   "cell_type": "markdown",
   "source": [
    "### Load using keras.preprocessing\r\n",
    "\r\n",
    "Define some params for the loader:"
   ],
   "metadata": {}
  },
  {
   "cell_type": "code",
   "execution_count": null,
   "source": [
    "IMG_WIDTH=180\r\n",
    "IMG_HEIGHT=180\r\n",
    "batch_size=4"
   ],
   "outputs": [],
   "metadata": {}
  },
  {
   "cell_type": "code",
   "execution_count": null,
   "source": [
    "train_dataset = image_dataset_from_directory(\r\n",
    "    train_folder,\r\n",
    "    shuffle=True,\r\n",
    "    batch_size=batch_size,\r\n",
    "    image_size=(IMG_HEIGHT, IMG_WIDTH)\r\n",
    "    )"
   ],
   "outputs": [],
   "metadata": {}
  },
  {
   "cell_type": "code",
   "execution_count": null,
   "source": [
    "val_dataset = tf.keras.preprocessing.image_dataset_from_directory(\r\n",
    "  val_folder,\r\n",
    "  image_size=(IMG_HEIGHT, IMG_WIDTH),\r\n",
    "  batch_size=batch_size)"
   ],
   "outputs": [],
   "metadata": {}
  },
  {
   "cell_type": "code",
   "execution_count": null,
   "source": [
    "class_names = train_dataset.class_names\r\n",
    "print(class_names)"
   ],
   "outputs": [],
   "metadata": {}
  },
  {
   "cell_type": "markdown",
   "source": [
    "You will train a model using these datasets by passing them to model.fit in a moment. If you like, you can also manually iterate over the dataset and retrieve batches of images:"
   ],
   "metadata": {}
  },
  {
   "cell_type": "code",
   "execution_count": null,
   "source": [
    "for image_batch, labels_batch in train_dataset:\r\n",
    "  print(image_batch.shape)\r\n",
    "  print(labels_batch.shape)\r\n",
    "  break"
   ],
   "outputs": [],
   "metadata": {}
  },
  {
   "cell_type": "markdown",
   "source": [
    "### Configure the dataset for performance\r\n",
    "\r\n",
    "Let's make sure to use buffered prefetching so you can yield data from disk without having I/O become blocking. These are two important methods you should use when loading data.\r\n",
    "\r\n",
    "Dataset.cache() keeps the images in memory after they're loaded off disk during the first epoch. This will ensure the dataset does not become a bottleneck while training your model. If your dataset is too large to fit into memory, you can also use this method to create a performant on-disk cache.\r\n",
    "\r\n",
    "Dataset.prefetch() overlaps data preprocessing and model execution while training."
   ],
   "metadata": {}
  },
  {
   "cell_type": "code",
   "execution_count": null,
   "source": [
    "AUTOTUNE = tf.data.AUTOTUNE\r\n",
    "\r\n",
    "train_ds = train_dataset.cache().shuffle(1000).prefetch(buffer_size=AUTOTUNE)\r\n",
    "val_ds = val_dataset.cache().prefetch(buffer_size=AUTOTUNE)"
   ],
   "outputs": [],
   "metadata": {}
  },
  {
   "cell_type": "markdown",
   "source": [
    "### Standardize the data\r\n",
    "\r\n",
    "The RGB channel values are in the [0, 255] range. This is not ideal for a neural network; in general you should seek to make your input values small. Here, you will standardize values to be in the [0, 1] range by using a Rescaling layer."
   ],
   "metadata": {}
  },
  {
   "cell_type": "code",
   "execution_count": null,
   "source": [
    "normalization_layer = layers.experimental.preprocessing.Rescaling(1./255)"
   ],
   "outputs": [],
   "metadata": {}
  },
  {
   "cell_type": "code",
   "execution_count": null,
   "source": [
    "normalized_dataset = train_dataset.map(lambda x, y: (normalization_layer(x), y))\r\n",
    "image_batch, labels_batch = next(iter(normalized_dataset))\r\n",
    "first_image = image_batch[0]\r\n",
    "# Notice the pixels values are now in `[0,1]`.\r\n",
    "print(np.min(first_image), np.max(first_image))"
   ],
   "outputs": [],
   "metadata": {}
  },
  {
   "cell_type": "markdown",
   "source": [
    "### Create the model\r\n",
    "\r\n",
    "The model consists of three convolution blocks with a max pool layer in each of them. There's a fully connected layer with 128 units on top of it that is activated by a relu activation function. This model has not been tuned for high accuracy, the goal of this tutorial is to show a standard approach."
   ],
   "metadata": {}
  },
  {
   "cell_type": "code",
   "execution_count": null,
   "source": [
    "num_classes = 6\r\n",
    "\r\n",
    "model = Sequential([\r\n",
    "    layers.InputLayer(input_shape=(IMG_HEIGHT,IMG_WIDTH, 3)),\r\n",
    "    layers.Conv2D(16, 3, padding='same', activation='relu'),\r\n",
    "    layers.MaxPooling2D(),\r\n",
    "    layers.Conv2D(32, 3, padding='same', activation='relu'),\r\n",
    "    layers.MaxPooling2D(),\r\n",
    "    layers.Conv2D(64, 3, padding='same', activation='relu'),\r\n",
    "    layers.MaxPooling2D(),\r\n",
    "    layers.Flatten(),\r\n",
    "    layers.Dense(128, activation='relu'),\r\n",
    "    layers.Dense(num_classes)\r\n",
    "])"
   ],
   "outputs": [],
   "metadata": {}
  },
  {
   "cell_type": "markdown",
   "source": [
    "### Compile the model\r\n",
    "\r\n",
    "For this tutorial, choose the optimizers.Adam optimizer and losses.SparseCategoricalCrossentropy loss function. To view training and validation accuracy for each training epoch, pass the metrics argument."
   ],
   "metadata": {}
  },
  {
   "cell_type": "code",
   "execution_count": null,
   "source": [
    "model.compile(optimizer='adam',\r\n",
    "              loss=tf.keras.losses.SparseCategoricalCrossentropy(from_logits=True),\r\n",
    "              metrics=['accuracy'])"
   ],
   "outputs": [],
   "metadata": {}
  },
  {
   "cell_type": "markdown",
   "source": [
    "### Model summary\r\n",
    "\r\n",
    "View all the layers of the network using the model's summary method:"
   ],
   "metadata": {}
  },
  {
   "cell_type": "code",
   "execution_count": null,
   "source": [
    "model.summary()"
   ],
   "outputs": [],
   "metadata": {}
  },
  {
   "cell_type": "code",
   "execution_count": null,
   "source": [
    "epochs=15\r\n",
    "\r\n",
    "history = model.fit(\r\n",
    "    train_dataset,\r\n",
    "    validation_data=val_dataset,\r\n",
    "    epochs=epochs\r\n",
    ")"
   ],
   "outputs": [],
   "metadata": {}
  },
  {
   "cell_type": "markdown",
   "source": [
    "### Visualize training results\r\n",
    "\r\n",
    "Create plots of loss and accuracy on the training and validation sets."
   ],
   "metadata": {}
  },
  {
   "cell_type": "code",
   "execution_count": null,
   "source": [
    "acc = history.history['accuracy']\r\n",
    "val_acc = history.history['val_accuracy']\r\n",
    "\r\n",
    "loss = history.history['loss']\r\n",
    "val_loss = history.history['val_loss']\r\n",
    "\r\n",
    "epochs_range = range(epochs)\r\n",
    "\r\n",
    "plt.figure(figsize=(8, 8))\r\n",
    "plt.subplot(1, 2, 1)\r\n",
    "plt.plot(epochs_range, acc, label='Training Accuracy')\r\n",
    "plt.plot(epochs_range, val_acc, label='Validation Accuracy')\r\n",
    "plt.legend(loc='lower right')\r\n",
    "plt.title('Training and Validation Accuracy')\r\n",
    "\r\n",
    "plt.subplot(1, 2, 2)\r\n",
    "plt.plot(epochs_range, loss, label='Training Loss')\r\n",
    "plt.plot(epochs_range, val_loss, label='Validation Loss')\r\n",
    "plt.legend(loc='upper right')\r\n",
    "plt.title('Training and Validation Loss')\r\n",
    "plt.show()"
   ],
   "outputs": [],
   "metadata": {}
  },
  {
   "cell_type": "markdown",
   "source": [
    "### Overfitting\r\n",
    "\r\n",
    "In the plots above, the training accuracy is increasing linearly over time, whereas validation accuracy stalls around 60% in the training process. Also, the difference in accuracy between training and validation accuracy is noticeable—a sign of overfitting.\r\n",
    "\r\n",
    "When there are a small number of training examples, the model sometimes learns from noises or unwanted details from training examples—to an extent that it negatively impacts the performance of the model on new examples. This phenomenon is known as overfitting. It means that the model will have a difficult time generalizing on a new dataset.\r\n",
    "\r\n",
    "There are multiple ways to fight overfitting in the training process. In this tutorial, you'll use data augmentation and add Dropout to your model.\r\n",
    "\r\n",
    "### Data augmentation\r\n",
    "\r\n",
    "Overfitting generally occurs when there are a small number of training examples. Data augmentation takes the approach of generating additional training data from your existing examples by augmenting them using random transformations that yield believable-looking images. This helps expose the model to more aspects of the data and generalize better.\r\n",
    "\r\n",
    "You will implement data augmentation using the layers from tf.keras.layers.experimental.preprocessing. These can be included inside your model like other layers, and run on the GPU."
   ],
   "metadata": {}
  },
  {
   "cell_type": "code",
   "execution_count": null,
   "source": [
    "data_augmentation = keras.Sequential(\r\n",
    "  [\r\n",
    "    layers.experimental.preprocessing.RandomFlip(\"horizontal\", input_shape=(IMG_HEIGHT, IMG_WIDTH, 3)),\r\n",
    "    layers.experimental.preprocessing.RandomRotation(0.1),\r\n",
    "    layers.experimental.preprocessing.RandomZoom(0.1),\r\n",
    "  ]\r\n",
    ")"
   ],
   "outputs": [],
   "metadata": {}
  },
  {
   "cell_type": "markdown",
   "source": [
    "### Dropout\r\n",
    "\r\n",
    "Another technique to reduce overfitting is to introduce Dropout to the network, a form of regularization.\r\n",
    "\r\n",
    "When you apply Dropout to a layer it randomly drops out (by setting the activation to zero) a number of output units from the layer during the training process. Dropout takes a fractional number as its input value, in the form such as 0.1, 0.2, 0.4, etc. This means dropping out 10%, 20% or 40% of the output units randomly from the applied layer.\r\n",
    "\r\n",
    "Let's create a new neural network using layers.Dropout, then train it using augmented images."
   ],
   "metadata": {}
  },
  {
   "cell_type": "code",
   "execution_count": null,
   "source": [
    "model = Sequential([\r\n",
    "  data_augmentation,\r\n",
    "  layers.Conv2D(16, 3, padding='same', activation='relu'),\r\n",
    "  layers.MaxPooling2D(),\r\n",
    "  layers.Conv2D(32, 3, padding='same', activation='relu'),\r\n",
    "  layers.MaxPooling2D(),\r\n",
    "  layers.Conv2D(64, 3, padding='same', activation='relu'),\r\n",
    "  layers.MaxPooling2D(),\r\n",
    "  layers.Dropout(0.2),\r\n",
    "  layers.Flatten(),\r\n",
    "  layers.Dense(128, activation='relu'),\r\n",
    "  layers.Dense(num_classes)\r\n",
    "])"
   ],
   "outputs": [],
   "metadata": {}
  },
  {
   "cell_type": "markdown",
   "source": [
    "### Compile and train the model"
   ],
   "metadata": {}
  },
  {
   "cell_type": "code",
   "execution_count": null,
   "source": [
    "model.compile(optimizer='adam',\r\n",
    "              loss=tf.keras.losses.SparseCategoricalCrossentropy(from_logits=True),\r\n",
    "              metrics=['accuracy'])"
   ],
   "outputs": [],
   "metadata": {}
  },
  {
   "cell_type": "code",
   "execution_count": null,
   "source": [
    "model.summary()"
   ],
   "outputs": [],
   "metadata": {}
  },
  {
   "cell_type": "code",
   "execution_count": null,
   "source": [
    "epochs = 15\r\n",
    "history = model.fit(\r\n",
    "  train_dataset,\r\n",
    "  validation_data=val_dataset,\r\n",
    "  epochs=epochs\r\n",
    ")"
   ],
   "outputs": [],
   "metadata": {}
  },
  {
   "cell_type": "markdown",
   "source": [
    "### Visualize training results\r\n",
    "\r\n",
    "After applying data augmentation and Dropout, there is less overfitting than before, and training and validation accuracy are closer aligned."
   ],
   "metadata": {}
  },
  {
   "cell_type": "code",
   "execution_count": null,
   "source": [
    "acc = history.history['accuracy']\r\n",
    "val_acc = history.history['val_accuracy']\r\n",
    "\r\n",
    "loss = history.history['loss']\r\n",
    "val_loss = history.history['val_loss']\r\n",
    "\r\n",
    "epochs_range = range(epochs)\r\n",
    "\r\n",
    "plt.figure(figsize=(8, 8))\r\n",
    "plt.subplot(1, 2, 1)\r\n",
    "plt.plot(epochs_range, acc, label='Training Accuracy')\r\n",
    "plt.plot(epochs_range, val_acc, label='Validation Accuracy')\r\n",
    "plt.legend(loc='lower right')\r\n",
    "plt.title('Training and Validation Accuracy')\r\n",
    "\r\n",
    "plt.subplot(1, 2, 2)\r\n",
    "plt.plot(epochs_range, loss, label='Training Loss')\r\n",
    "plt.plot(epochs_range, val_loss, label='Validation Loss')\r\n",
    "plt.legend(loc='upper right')\r\n",
    "plt.title('Training and Validation Loss')\r\n",
    "plt.show()"
   ],
   "outputs": [],
   "metadata": {}
  },
  {
   "cell_type": "markdown",
   "source": [
    "### Predict on new data\r\n",
    "\r\n",
    "Finally, let's use our model to classify an image that wasn't included in the training or validation sets."
   ],
   "metadata": {}
  },
  {
   "cell_type": "code",
   "execution_count": null,
   "source": [
    "test_image = r'seg_pred/seg_pred/10004.jpg'\r\n",
    "\r\n",
    "img = keras.preprocessing.image.load_img(\r\n",
    "    test_image, target_size=(img_height, img_width)\r\n",
    ")"
   ],
   "outputs": [],
   "metadata": {}
  },
  {
   "cell_type": "code",
   "execution_count": null,
   "source": [
    "img_array = keras.preprocessing.image.img_to_array(img)\r\n",
    "img_array = tf.expand_dims(img_array, 0)\r\n",
    "\r\n",
    "predictions = model.predict(img_array)\r\n",
    "score = tf.nn.softmax(predictions[0])\r\n",
    "\r\n",
    "print(\r\n",
    "    \"This image most likely belongs to {} with a {:.2f} percent confidence.\"\r\n",
    "    .format(class_names[np.argmax(score)], 100 * np.max(score))\r\n",
    ")"
   ],
   "outputs": [],
   "metadata": {}
  },
  {
   "cell_type": "markdown",
   "source": [
    "## Transfer Learning and Fine Tuning\r\n",
    "\r\n",
    "Download dataset [here](https://storage.googleapis.com/mledu-datasets/cats_and_dogs_filtered.zip)\r\n",
    "\r\n",
    "You will learn how to classify images of cats and dogs by using transfer learning from a pre-trained network.\r\n",
    "\r\n",
    "A pre-trained model is a saved network that was previously trained on a large dataset, typically on a large-scale image-classification task. You either use the pretrained model as is or use transfer learning to customize this model to a given task.\r\n",
    "\r\n",
    "The intuition behind transfer learning for image classification is that if a model is trained on a large and general enough dataset, this model will effectively serve as a generic model of the visual world. You can then take advantage of these learned feature maps without having to start from scratch by training a large model on a large dataset.\r\n",
    "\r\n",
    "In this session, you will try two ways to customize a pretrained model:\r\n",
    "\r\n",
    "1. Feature Extraction: Use the representations learned by a previous network to extract meaningful features from new samples. You simply add a new classifier, which will be trained from scratch, on top of the pretrained model so that you can repurpose the feature maps learned previously for the dataset.\r\n",
    "\r\n",
    "You do not need to (re)train the entire model. The base convolutional network already contains features that are generically useful for classifying pictures. However, the final, classification part of the pretrained model is specific to the original classification task, and subsequently specific to the set of classes on which the model was trained.\r\n",
    "\r\n",
    "2. Fine-Tuning: Unfreeze a few of the top layers of a frozen model base and jointly train both the newly-added classifier layers and the last layers of the base model. This allows us to \"fine-tune\" the higher-order feature representations in the base model in order to make them more relevant for the specific task.\r\n",
    "\r\n",
    "You will follow the general machine learning workflow.\r\n",
    "\r\n",
    "- Examine and understand the data\r\n",
    "- Build an input pipeline, in this case using Keras ImageDataGenerator\r\n",
    "- Compose the model\r\n",
    "- Load in the pretrained base model (and pretrained weights)\r\n",
    "- Stack the classification layers on top\r\n",
    "- Train the model\r\n",
    "- Evaluate model"
   ],
   "metadata": {}
  },
  {
   "cell_type": "code",
   "execution_count": null,
   "source": [
    "import matplotlib.pyplot as plt\r\n",
    "import numpy as np\r\n",
    "import os\r\n",
    "import tensorflow as tf\r\n",
    "\r\n",
    "from tensorflow.keras.preprocessing import image_dataset_from_directory"
   ],
   "outputs": [],
   "metadata": {}
  },
  {
   "cell_type": "markdown",
   "source": [
    "### Data preprocessing\r\n",
    "\r\n",
    "In this section, you will use a dataset containing several thousand images of cats and dogs. Download and extract a zip file containing the images, then create a tf.data.Dataset for training and validation using the tf.keras.preprocessing.image_dataset_from_directory utility. You can learn more about loading images in this tutorial."
   ],
   "metadata": {}
  },
  {
   "cell_type": "code",
   "execution_count": null,
   "source": [
    "train_dir = 'cats_and_dogs_filtered/train'\r\n",
    "validation_dir = 'cats_and_dogs_filtered/validation'"
   ],
   "outputs": [],
   "metadata": {}
  },
  {
   "cell_type": "code",
   "execution_count": null,
   "source": [
    "BATCH_SIZE = 32\r\n",
    "IMG_SIZE = (160, 160)\r\n",
    "\r\n",
    "train_dataset = image_dataset_from_directory(train_dir,\r\n",
    "                                             shuffle=True,\r\n",
    "                                             batch_size=BATCH_SIZE,\r\n",
    "                                             image_size=IMG_SIZE)"
   ],
   "outputs": [],
   "metadata": {}
  },
  {
   "cell_type": "code",
   "execution_count": null,
   "source": [
    "validation_dataset = image_dataset_from_directory(validation_dir,\r\n",
    "                                                  shuffle=True,\r\n",
    "                                                  batch_size=BATCH_SIZE,\r\n",
    "                                                  image_size=IMG_SIZE)"
   ],
   "outputs": [],
   "metadata": {}
  },
  {
   "cell_type": "code",
   "execution_count": null,
   "source": [
    "class_names = train_dataset.class_names\r\n",
    "\r\n",
    "plt.figure(figsize=(10, 10))\r\n",
    "for images, labels in train_dataset.take(1):\r\n",
    "  for i in range(9):\r\n",
    "    ax = plt.subplot(3, 3, i + 1)\r\n",
    "    plt.imshow(images[i].numpy().astype(\"uint8\"))\r\n",
    "    plt.title(class_names[labels[i]])\r\n",
    "    plt.axis(\"off\")"
   ],
   "outputs": [],
   "metadata": {}
  },
  {
   "cell_type": "markdown",
   "source": [
    "As the original dataset doesn't contain a test set, you will create one. To do so, determine how many batches of data are available in the validation set using tf.data.experimental.cardinality, then move 20% of them to a test set."
   ],
   "metadata": {}
  },
  {
   "cell_type": "code",
   "execution_count": null,
   "source": [
    "val_batches = tf.data.experimental.cardinality(validation_dataset)\r\n",
    "test_dataset = validation_dataset.take(val_batches // 5)\r\n",
    "validation_dataset = validation_dataset.skip(val_batches // 5)"
   ],
   "outputs": [],
   "metadata": {}
  },
  {
   "cell_type": "code",
   "execution_count": null,
   "source": [
    "print('Number of validation batches: %d' % tf.data.experimental.cardinality(validation_dataset))\r\n",
    "print('Number of test batches: %d' % tf.data.experimental.cardinality(test_dataset))"
   ],
   "outputs": [],
   "metadata": {}
  },
  {
   "cell_type": "markdown",
   "source": [
    "### Configure the dataset for performance\r\n",
    "\r\n",
    "Use buffered prefetching to load images from disk without having I/O become blocking. To learn more about this method see the data performance guide."
   ],
   "metadata": {}
  },
  {
   "cell_type": "code",
   "execution_count": null,
   "source": [
    "AUTOTUNE = tf.data.AUTOTUNE\r\n",
    "\r\n",
    "train_dataset = train_dataset.prefetch(buffer_size=AUTOTUNE)\r\n",
    "validation_dataset = validation_dataset.prefetch(buffer_size=AUTOTUNE)\r\n",
    "test_dataset = test_dataset.prefetch(buffer_size=AUTOTUNE)"
   ],
   "outputs": [],
   "metadata": {}
  },
  {
   "cell_type": "markdown",
   "source": [
    "### Use data augmentation\r\n",
    "\r\n",
    "When you don't have a large image dataset, it's a good practice to artificially introduce sample diversity by applying random, yet realistic, transformations to the training images, such as rotation and horizontal flipping. This helps expose the model to different aspects of the training data and reduce overfitting. "
   ],
   "metadata": {}
  },
  {
   "cell_type": "code",
   "execution_count": null,
   "source": [
    "data_augmentation = tf.keras.Sequential([\r\n",
    "  tf.keras.layers.experimental.preprocessing.RandomFlip('horizontal'),\r\n",
    "  tf.keras.layers.experimental.preprocessing.RandomRotation(0.2),\r\n",
    "])"
   ],
   "outputs": [],
   "metadata": {}
  },
  {
   "cell_type": "markdown",
   "source": [
    "Let's repeatedly apply these layers to the same image and see the result."
   ],
   "metadata": {}
  },
  {
   "cell_type": "code",
   "execution_count": null,
   "source": [
    "for image, _ in train_dataset.take(1):\r\n",
    "  plt.figure(figsize=(10, 10))\r\n",
    "  first_image = image[0]\r\n",
    "  for i in range(9):\r\n",
    "    ax = plt.subplot(3, 3, i + 1)\r\n",
    "    augmented_image = data_augmentation(tf.expand_dims(first_image, 0))\r\n",
    "    plt.imshow(augmented_image[0] / 255)\r\n",
    "    plt.axis('off')"
   ],
   "outputs": [],
   "metadata": {}
  },
  {
   "cell_type": "markdown",
   "source": [
    "### Rescale pixel values\r\n",
    "\r\n",
    "In a moment, you will download tf.keras.applications.MobileNetV2 for use as your base model. This model expects pixel values in [-1, 1], but at this point, the pixel values in your images are in [0, 255]. To rescale them, use the preprocessing method included with the model."
   ],
   "metadata": {}
  },
  {
   "cell_type": "code",
   "execution_count": null,
   "source": [
    "preprocess_input = tf.keras.applications.mobilenet_v2.preprocess_input"
   ],
   "outputs": [],
   "metadata": {}
  },
  {
   "cell_type": "code",
   "execution_count": null,
   "source": [
    "rescale = tf.keras.layers.experimental.preprocessing.Rescaling(1./127.5, offset= -1)"
   ],
   "outputs": [],
   "metadata": {}
  },
  {
   "cell_type": "markdown",
   "source": [
    "### Create the base model from the pre-trained convnets\r\n",
    "\r\n",
    "You will create the base model from the MobileNet V2 model developed at Google. This is pre-trained on the ImageNet dataset, a large dataset consisting of 1.4M images and 1000 classes. ImageNet is a research training dataset with a wide variety of categories like jackfruit and syringe. This base of knowledge will help us classify cats and dogs from our specific dataset.\r\n",
    "\r\n",
    "First, you need to pick which layer of MobileNet V2 you will use for feature extraction. The very last classification layer (on \"top\", as most diagrams of machine learning models go from bottom to top) is not very useful. Instead, you will follow the common practice to depend on the very last layer before the flatten operation. This layer is called the \"bottleneck layer\". The bottleneck layer features retain more generality as compared to the final/top layer.\r\n",
    "\r\n",
    "First, instantiate a MobileNet V2 model pre-loaded with weights trained on ImageNet. By specifying the include_top=False argument, you load a network that doesn't include the classification layers at the top, which is ideal for feature extraction."
   ],
   "metadata": {}
  },
  {
   "cell_type": "code",
   "execution_count": null,
   "source": [
    "# Create the base model from the pre-trained model MobileNet V2\r\n",
    "IMG_SHAPE = IMG_SIZE + (3,)\r\n",
    "base_model = tf.keras.applications.MobileNetV2(input_shape=IMG_SHAPE,\r\n",
    "                                               include_top=False,\r\n",
    "                                               weights='imagenet')"
   ],
   "outputs": [],
   "metadata": {}
  },
  {
   "cell_type": "markdown",
   "source": [
    "This feature extractor converts each 160x160x3 image into a 5x5x1280 block of features. Let's see what it does to an example batch of images:"
   ],
   "metadata": {}
  },
  {
   "cell_type": "code",
   "execution_count": null,
   "source": [
    "image_batch, label_batch = next(iter(train_dataset))\r\n",
    "feature_batch = base_model(image_batch)\r\n",
    "print(feature_batch.shape)"
   ],
   "outputs": [],
   "metadata": {}
  },
  {
   "cell_type": "markdown",
   "source": [
    "### Feature extraction\r\n",
    "\r\n",
    "In this step, you will freeze the convolutional base created from the previous step and to use as a feature extractor. Additionally, you add a classifier on top of it and train the top-level classifier.\r\n",
    "\r\n",
    "#### Freeze the convolutional base\r\n",
    "\r\n",
    "It is important to freeze the convolutional base before you compile and train the model. Freezing (by setting layer.trainable = False) prevents the weights in a given layer from being updated during training. MobileNet V2 has many layers, so setting the entire model's trainable flag to False will freeze all of them."
   ],
   "metadata": {}
  },
  {
   "cell_type": "code",
   "execution_count": null,
   "source": [
    "base_model.trainable = False"
   ],
   "outputs": [],
   "metadata": {}
  },
  {
   "cell_type": "markdown",
   "source": [
    "#### Important note about BatchNormalization layers\r\n",
    "\r\n",
    "Many models contain tf.keras.layers.BatchNormalization layers. This layer is a special case and precautions should be taken in the context of fine-tuning, as shown later in this tutorial.\r\n",
    "\r\n",
    "When you set layer.trainable = False, the BatchNormalization layer will run in inference mode, and will not update its mean and variance statistics.\r\n",
    "\r\n",
    "When you unfreeze a model that contains BatchNormalization layers in order to do fine-tuning, you should keep the BatchNormalization layers in inference mode by passing training = False when calling the base model. Otherwise, the updates applied to the non-trainable weights will destroy what the model has learned."
   ],
   "metadata": {}
  },
  {
   "cell_type": "code",
   "execution_count": null,
   "source": [
    "# Let's take a look at the base model architecture\r\n",
    "base_model.summary()"
   ],
   "outputs": [],
   "metadata": {}
  },
  {
   "cell_type": "markdown",
   "source": [
    "#### Add a classification head\r\n",
    "\r\n",
    "To generate predictions from the block of features, average over the spatial 5x5 spatial locations, using a tf.keras.layers.GlobalAveragePooling2D layer to convert the features to a single 1280-element vector per image."
   ],
   "metadata": {}
  },
  {
   "cell_type": "code",
   "execution_count": null,
   "source": [
    "global_average_layer = tf.keras.layers.GlobalAveragePooling2D()\r\n",
    "feature_batch_average = global_average_layer(feature_batch)\r\n",
    "print(feature_batch_average.shape)"
   ],
   "outputs": [],
   "metadata": {}
  },
  {
   "cell_type": "markdown",
   "source": [
    "Apply a tf.keras.layers.Dense layer to convert these features into a single prediction per image. You don't need an activation function here because this prediction will be treated as a logit, or a raw prediction value. Positive numbers predict class 1, negative numbers predict class 0."
   ],
   "metadata": {}
  },
  {
   "cell_type": "code",
   "execution_count": null,
   "source": [
    "prediction_layer = tf.keras.layers.Dense(1)\r\n",
    "prediction_batch = prediction_layer(feature_batch_average)\r\n",
    "print(prediction_batch.shape)"
   ],
   "outputs": [],
   "metadata": {}
  },
  {
   "cell_type": "markdown",
   "source": [
    "Build a model by chaining together the data augmentation, rescaling, base_model and feature extractor layers using the Keras Functional API. As previously mentioned, use training=False as our model contains a BatchNormalization layer."
   ],
   "metadata": {}
  },
  {
   "cell_type": "code",
   "execution_count": null,
   "source": [
    "inputs = tf.keras.Input(shape=(160, 160, 3))\r\n",
    "x = data_augmentation(inputs)\r\n",
    "x = preprocess_input(x)\r\n",
    "x = base_model(x, training=False)\r\n",
    "x = global_average_layer(x)\r\n",
    "x = tf.keras.layers.Dropout(0.2)(x)\r\n",
    "outputs = prediction_layer(x)\r\n",
    "model = tf.keras.Model(inputs, outputs)"
   ],
   "outputs": [],
   "metadata": {}
  },
  {
   "cell_type": "markdown",
   "source": [
    "### Compile the model\r\n",
    "\r\n",
    "Compile the model before training it. Since there are two classes, use a binary cross-entropy loss with from_logits=True since the model provides a linear output."
   ],
   "metadata": {}
  },
  {
   "cell_type": "code",
   "execution_count": null,
   "source": [
    "base_learning_rate = 0.0001\r\n",
    "model.compile(optimizer=tf.keras.optimizers.Adam(learning_rate=base_learning_rate),\r\n",
    "              loss=tf.keras.losses.BinaryCrossentropy(from_logits=True),\r\n",
    "              metrics=['accuracy'])"
   ],
   "outputs": [],
   "metadata": {}
  },
  {
   "cell_type": "code",
   "execution_count": null,
   "source": [
    "model.summary()"
   ],
   "outputs": [],
   "metadata": {}
  },
  {
   "cell_type": "markdown",
   "source": [
    "The 2.5M parameters in MobileNet are frozen, but there are 1.2K trainable parameters in the Dense layer. These are divided between two tf.Variable objects, the weights and biases."
   ],
   "metadata": {}
  },
  {
   "cell_type": "code",
   "execution_count": null,
   "source": [
    "len(model.trainable_variables)"
   ],
   "outputs": [],
   "metadata": {}
  },
  {
   "cell_type": "markdown",
   "source": [
    "### Train the model\r\n",
    "\r\n",
    "After training for 10 epochs, you should see ~94% accuracy on the validation set."
   ],
   "metadata": {}
  },
  {
   "cell_type": "code",
   "execution_count": null,
   "source": [
    "initial_epochs = 10\r\n",
    "\r\n",
    "loss0, accuracy0 = model.evaluate(validation_dataset)"
   ],
   "outputs": [],
   "metadata": {}
  },
  {
   "cell_type": "code",
   "execution_count": null,
   "source": [
    "print(\"initial loss: {:.2f}\".format(loss0))\r\n",
    "print(\"initial accuracy: {:.2f}\".format(accuracy0))"
   ],
   "outputs": [],
   "metadata": {}
  },
  {
   "cell_type": "code",
   "execution_count": null,
   "source": [
    "history = model.fit(train_dataset,\r\n",
    "                    epochs=initial_epochs,\r\n",
    "                    validation_data=validation_dataset)"
   ],
   "outputs": [],
   "metadata": {}
  },
  {
   "cell_type": "markdown",
   "source": [
    "### Learning curves\r\n",
    "\r\n",
    "Let's take a look at the learning curves of the training and validation accuracy/loss when using the MobileNet V2 base model as a fixed feature extractor."
   ],
   "metadata": {}
  },
  {
   "cell_type": "code",
   "execution_count": null,
   "source": [
    "acc = history.history['accuracy']\r\n",
    "val_acc = history.history['val_accuracy']\r\n",
    "\r\n",
    "loss = history.history['loss']\r\n",
    "val_loss = history.history['val_loss']\r\n",
    "\r\n",
    "plt.figure(figsize=(8, 8))\r\n",
    "plt.subplot(2, 1, 1)\r\n",
    "plt.plot(acc, label='Training Accuracy')\r\n",
    "plt.plot(val_acc, label='Validation Accuracy')\r\n",
    "plt.legend(loc='lower right')\r\n",
    "plt.ylabel('Accuracy')\r\n",
    "plt.ylim([min(plt.ylim()),1])\r\n",
    "plt.title('Training and Validation Accuracy')\r\n",
    "\r\n",
    "plt.subplot(2, 1, 2)\r\n",
    "plt.plot(loss, label='Training Loss')\r\n",
    "plt.plot(val_loss, label='Validation Loss')\r\n",
    "plt.legend(loc='upper right')\r\n",
    "plt.ylabel('Cross Entropy')\r\n",
    "plt.ylim([0,1.0])\r\n",
    "plt.title('Training and Validation Loss')\r\n",
    "plt.xlabel('epoch')\r\n",
    "plt.show()"
   ],
   "outputs": [],
   "metadata": {}
  },
  {
   "cell_type": "markdown",
   "source": [
    "To a lesser extent, it is also because training metrics report the average for an epoch, while validation metrics are evaluated after the epoch, so validation metrics see a model that has trained slightly longer.\r\n",
    "\r\n",
    "### Fine tuning\r\n",
    "\r\n",
    "In the feature extraction experiment, you were only training a few layers on top of an MobileNet V2 base model. The weights of the pre-trained network were not updated during training.\r\n",
    "\r\n",
    "One way to increase performance even further is to train (or \"fine-tune\") the weights of the top layers of the pre-trained model alongside the training of the classifier you added. The training process will force the weights to be tuned from generic feature maps to features associated specifically with the dataset.\r\n",
    "\r\n",
    "Also, you should try to fine-tune a small number of top layers rather than the whole MobileNet model. In most convolutional networks, the higher up a layer is, the more specialized it is. The first few layers learn very simple and generic features that generalize to almost all types of images. As you go higher up, the features are increasingly more specific to the dataset on which the model was trained. The goal of fine-tuning is to adapt these specialized features to work with the new dataset, rather than overwrite the generic learning.\r\n",
    "\r\n",
    "### Un-freeze the top layers of the model\r\n",
    "\r\n",
    "All you need to do is unfreeze the base_model and set the bottom layers to be un-trainable. Then, you should recompile the model (necessary for these changes to take effect), and resume training."
   ],
   "metadata": {}
  },
  {
   "cell_type": "code",
   "execution_count": null,
   "source": [
    "base_model.trainable = True"
   ],
   "outputs": [],
   "metadata": {}
  },
  {
   "cell_type": "code",
   "execution_count": null,
   "source": [
    "# Let's take a look to see how many layers are in the base model\r\n",
    "print(\"Number of layers in the base model: \", len(base_model.layers))\r\n",
    "\r\n",
    "# Fine-tune from this layer onwards\r\n",
    "fine_tune_at = 100\r\n",
    "\r\n",
    "# Freeze all the layers before the `fine_tune_at` layer\r\n",
    "for layer in base_model.layers[:fine_tune_at]:\r\n",
    "  layer.trainable =  False"
   ],
   "outputs": [],
   "metadata": {}
  },
  {
   "cell_type": "markdown",
   "source": [
    "### Compile the model\r\n",
    "\r\n",
    "As you are training a much larger model and want to readapt the pretrained weights, it is important to use a lower learning rate at this stage. Otherwise, your model could overfit very quickly."
   ],
   "metadata": {}
  },
  {
   "cell_type": "code",
   "execution_count": null,
   "source": [
    "model.compile(loss=tf.keras.losses.BinaryCrossentropy(from_logits=True),\r\n",
    "              optimizer = tf.keras.optimizers.RMSprop(learning_rate=base_learning_rate/10),\r\n",
    "              metrics=['accuracy'])"
   ],
   "outputs": [],
   "metadata": {}
  },
  {
   "cell_type": "code",
   "execution_count": null,
   "source": [
    "model.summary()"
   ],
   "outputs": [],
   "metadata": {}
  },
  {
   "cell_type": "code",
   "execution_count": null,
   "source": [
    "len(model.trainable_variables)"
   ],
   "outputs": [],
   "metadata": {}
  },
  {
   "cell_type": "markdown",
   "source": [
    "### Continue training the model\r\n",
    "\r\n",
    "If you trained to convergence earlier, this step will improve your accuracy by a few percentage points."
   ],
   "metadata": {}
  },
  {
   "cell_type": "code",
   "execution_count": null,
   "source": [
    "fine_tune_epochs = 10\r\n",
    "total_epochs =  initial_epochs + fine_tune_epochs\r\n",
    "\r\n",
    "history_fine = model.fit(train_dataset,\r\n",
    "                         epochs=total_epochs,\r\n",
    "                         initial_epoch=history.epoch[-1],\r\n",
    "                         validation_data=validation_dataset)"
   ],
   "outputs": [],
   "metadata": {}
  },
  {
   "cell_type": "markdown",
   "source": [
    "Let's take a look at the learning curves of the training and validation accuracy/loss when fine-tuning the last few layers of the MobileNet V2 base model and training the classifier on top of it. The validation loss is much higher than the training loss, so you may get some overfitting.\r\n",
    "\r\n",
    "You may also get some overfitting as the new training set is relatively small and similar to the original MobileNet V2 datasets.\r\n",
    "\r\n",
    "After fine tuning the model nearly reaches 98% accuracy on the validation set."
   ],
   "metadata": {}
  },
  {
   "cell_type": "code",
   "execution_count": null,
   "source": [
    "acc += history_fine.history['accuracy']\r\n",
    "val_acc += history_fine.history['val_accuracy']\r\n",
    "\r\n",
    "loss += history_fine.history['loss']\r\n",
    "val_loss += history_fine.history['val_loss']"
   ],
   "outputs": [],
   "metadata": {}
  },
  {
   "cell_type": "code",
   "execution_count": null,
   "source": [
    "plt.figure(figsize=(8, 8))\r\n",
    "plt.subplot(2, 1, 1)\r\n",
    "plt.plot(acc, label='Training Accuracy')\r\n",
    "plt.plot(val_acc, label='Validation Accuracy')\r\n",
    "plt.ylim([0.8, 1])\r\n",
    "plt.plot([initial_epochs-1,initial_epochs-1],\r\n",
    "          plt.ylim(), label='Start Fine Tuning')\r\n",
    "plt.legend(loc='lower right')\r\n",
    "plt.title('Training and Validation Accuracy')\r\n",
    "\r\n",
    "plt.subplot(2, 1, 2)\r\n",
    "plt.plot(loss, label='Training Loss')\r\n",
    "plt.plot(val_loss, label='Validation Loss')\r\n",
    "plt.ylim([0, 1.0])\r\n",
    "plt.plot([initial_epochs-1,initial_epochs-1],\r\n",
    "         plt.ylim(), label='Start Fine Tuning')\r\n",
    "plt.legend(loc='upper right')\r\n",
    "plt.title('Training and Validation Loss')\r\n",
    "plt.xlabel('epoch')\r\n",
    "plt.show()"
   ],
   "outputs": [],
   "metadata": {}
  },
  {
   "cell_type": "markdown",
   "source": [
    "### Evaluation and prediction\r\n",
    "\r\n",
    "Finaly you can verify the performance of the model on new data using test set."
   ],
   "metadata": {}
  },
  {
   "cell_type": "code",
   "execution_count": null,
   "source": [
    "loss, accuracy = model.evaluate(test_dataset)\r\n",
    "print('Test accuracy :', accuracy)"
   ],
   "outputs": [],
   "metadata": {}
  },
  {
   "cell_type": "markdown",
   "source": [
    "And now you are all set to use this model to predict if your pet is a cat or dog."
   ],
   "metadata": {}
  },
  {
   "cell_type": "code",
   "execution_count": null,
   "source": [
    "#Retrieve a batch of images from the test set\r\n",
    "image_batch, label_batch = test_dataset.as_numpy_iterator().next()\r\n",
    "predictions = model.predict_on_batch(image_batch).flatten()\r\n",
    "\r\n",
    "# Apply a sigmoid since our model returns logits\r\n",
    "predictions = tf.nn.sigmoid(predictions)\r\n",
    "predictions = tf.where(predictions < 0.5, 0, 1)\r\n",
    "\r\n",
    "print('Predictions:\\n', predictions.numpy())\r\n",
    "print('Labels:\\n', label_batch)\r\n",
    "\r\n",
    "plt.figure(figsize=(10, 10))\r\n",
    "for i in range(9):\r\n",
    "  ax = plt.subplot(3, 3, i + 1)\r\n",
    "  plt.imshow(image_batch[i].astype(\"uint8\"))\r\n",
    "  plt.title(class_names[predictions[i]])\r\n",
    "  plt.axis(\"off\")"
   ],
   "outputs": [],
   "metadata": {}
  },
  {
   "cell_type": "markdown",
   "source": [
    "### Summary\r\n",
    "\r\n",
    "- Using a pre-trained model for feature extraction: When working with a small dataset, it is a common practice to take advantage of features learned by a model trained on a larger dataset in the same domain. This is done by instantiating the pre-trained model and adding a fully-connected classifier on top. The pre-trained model is \"frozen\" and only the weights of the classifier get updated during training. In this case, the convolutional base extracted all the features associated with each image and you just trained a classifier that determines the image class given that set of extracted features.\r\n",
    "\r\n",
    "- Fine-tuning a pre-trained model: To further improve performance, one might want to repurpose the top-level layers of the pre-trained models to the new dataset via fine-tuning. In this case, you tuned your weights such that your model learned high-level features specific to the dataset. This technique is usually recommended when the training dataset is large and very similar to the original dataset that the pre-trained model was trained on."
   ],
   "metadata": {}
  },
  {
   "cell_type": "markdown",
   "source": [
    "## Data Augmentation\r\n",
    "\r\n",
    "Read the references [here](https://colab.research.google.com/github/tensorflow/docs/blob/master/site/en/tutorials/images/data_augmentation.ipynb)."
   ],
   "metadata": {}
  }
 ],
 "metadata": {
  "interpreter": {
   "hash": "60716cfbf8f6257f052921a35c79929cd52e6aa52b65b24e32100e25d3fdc1e3"
  },
  "kernelspec": {
   "name": "python3",
   "display_name": "Python 3.8.5 64-bit"
  },
  "language_info": {
   "codemirror_mode": {
    "name": "ipython",
    "version": 3
   },
   "file_extension": ".py",
   "mimetype": "text/x-python",
   "name": "python",
   "nbconvert_exporter": "python",
   "pygments_lexer": "ipython3",
   "version": "3.8.5"
  },
  "toc": {
   "base_numbering": 1,
   "nav_menu": {},
   "number_sections": true,
   "sideBar": true,
   "skip_h1_title": false,
   "title_cell": "Table of Contents",
   "title_sidebar": "Contents",
   "toc_cell": false,
   "toc_position": {},
   "toc_section_display": true,
   "toc_window_display": false
  }
 },
 "nbformat": 4,
 "nbformat_minor": 2
}