{
 "cells": [
  {
   "cell_type": "markdown",
   "source": [
    "# Recommendation System\r\n",
    "\r\n",
    "This session we will do the \r\n",
    "[Collaborative filtering](https://en.wikipedia.org/wiki/Collaborative_filtering)\r\n",
    "using the [Movielens dataset](https://www.kaggle.com/c/movielens-100k)\r\n",
    "to recommend movies to users.\r\n",
    "The MovieLens ratings dataset lists the ratings given by a set of users to a set of movies.\r\n",
    "Our goal is to be able to predict ratings for movies a user has not yet watched.\r\n",
    "The movies with the highest predicted ratings can then be recommended to the user."
   ],
   "metadata": {}
  },
  {
   "cell_type": "code",
   "execution_count": 13,
   "source": [
    "import os\r\n",
    "import math\r\n",
    "import pandas as pd\r\n",
    "import numpy as np\r\n",
    "from zipfile import ZipFile\r\n",
    "from urllib.request import urlretrieve\r\n",
    "import tensorflow as tf\r\n",
    "from tensorflow import keras\r\n",
    "from tensorflow.keras import layers\r\n",
    "from pathlib import Path\r\n",
    "import matplotlib.pyplot as plt\r\n"
   ],
   "outputs": [],
   "metadata": {}
  },
  {
   "cell_type": "markdown",
   "source": [
    "Data download"
   ],
   "metadata": {}
  },
  {
   "cell_type": "code",
   "execution_count": 2,
   "source": [
    "# Download the actual data from http://files.grouplens.org/datasets/movielens/ml-latest-small.zip\"\r\n",
    "# Use the ratings.csv file\r\n",
    "movielens_data_file_url = (\r\n",
    "    \"http://files.grouplens.org/datasets/movielens/ml-latest-small.zip\"\r\n",
    ")\r\n",
    "movielens_zipped_file = keras.utils.get_file(\r\n",
    "    \"ml-latest-small.zip\", movielens_data_file_url, extract=False\r\n",
    ")\r\n",
    "keras_datasets_path = Path(movielens_zipped_file).parents[0]\r\n",
    "movielens_dir = keras_datasets_path / \"ml-latest-small\"\r\n",
    "\r\n",
    "# Only extract the data the first time the script is run.\r\n",
    "if not movielens_dir.exists():\r\n",
    "    with ZipFile(movielens_zipped_file, \"r\") as zip:\r\n",
    "        # Extract files\r\n",
    "        print(\"Extracting all the files now...\")\r\n",
    "        zip.extractall(path=keras_datasets_path)\r\n",
    "        print(\"Done!\")\r\n",
    "\r\n",
    "ratings_file = movielens_dir / \"ratings.csv\"\r\n",
    "df = pd.read_csv(ratings_file)\r\n"
   ],
   "outputs": [
    {
     "output_type": "stream",
     "name": "stdout",
     "text": [
      "Downloading data from http://files.grouplens.org/datasets/movielens/ml-latest-small.zip\n",
      "983040/978202 [==============================] - 4s 4us/step\n",
      "Extracting all the files now...\n",
      "Done!\n"
     ]
    }
   ],
   "metadata": {}
  },
  {
   "cell_type": "markdown",
   "source": [
    "preprocessing to encode users and movies as integer"
   ],
   "metadata": {}
  },
  {
   "cell_type": "code",
   "execution_count": 3,
   "source": [
    "user_ids = df[\"userId\"].unique().tolist()\r\n",
    "user2user_encoded = {x: i for i, x in enumerate(user_ids)}\r\n",
    "userencoded2user = {i: x for i, x in enumerate(user_ids)}\r\n",
    "movie_ids = df[\"movieId\"].unique().tolist()\r\n",
    "movie2movie_encoded = {x: i for i, x in enumerate(movie_ids)}\r\n",
    "movie_encoded2movie = {i: x for i, x in enumerate(movie_ids)}\r\n",
    "df[\"user\"] = df[\"userId\"].map(user2user_encoded)\r\n",
    "df[\"movie\"] = df[\"movieId\"].map(movie2movie_encoded)\r\n",
    "\r\n",
    "num_users = len(user2user_encoded)\r\n",
    "num_movies = len(movie_encoded2movie)\r\n",
    "df[\"rating\"] = df[\"rating\"].values.astype(np.float32)\r\n",
    "# min and max ratings will be used to normalize the ratings later\r\n",
    "min_rating = min(df[\"rating\"])\r\n",
    "max_rating = max(df[\"rating\"])\r\n",
    "\r\n",
    "print(\r\n",
    "    \"Number of users: {}, Number of Movies: {}, Min rating: {}, Max rating: {}\".format(\r\n",
    "        num_users, num_movies, min_rating, max_rating\r\n",
    "    )\r\n",
    ")\r\n"
   ],
   "outputs": [
    {
     "output_type": "stream",
     "name": "stdout",
     "text": [
      "Number of users: 610, Number of Movies: 9724, Min rating: 0.5, Max rating: 5.0\n"
     ]
    }
   ],
   "metadata": {}
  },
  {
   "cell_type": "markdown",
   "source": [
    "Prepare training and validation data"
   ],
   "metadata": {}
  },
  {
   "cell_type": "code",
   "execution_count": 4,
   "source": [
    "df = df.sample(frac=1, random_state=42)\r\n",
    "x = df[[\"user\", \"movie\"]].values\r\n",
    "# Normalize the targets between 0 and 1. Makes it easy to train.\r\n",
    "y = df[\"rating\"].apply(lambda x: (x - min_rating) / (max_rating - min_rating)).values\r\n",
    "# Assuming training on 90% of the data and validating on 10%.\r\n",
    "train_indices = int(0.9 * df.shape[0])\r\n",
    "x_train, x_val, y_train, y_val = (\r\n",
    "    x[:train_indices],\r\n",
    "    x[train_indices:],\r\n",
    "    y[:train_indices],\r\n",
    "    y[train_indices:],\r\n",
    ")\r\n"
   ],
   "outputs": [],
   "metadata": {}
  },
  {
   "cell_type": "markdown",
   "source": [
    "Create model"
   ],
   "metadata": {}
  },
  {
   "cell_type": "code",
   "execution_count": 6,
   "source": [
    "EMBEDDING_SIZE = 50\r\n",
    "\r\n",
    "\r\n",
    "class RecommenderNet(keras.Model):\r\n",
    "    def __init__(self, num_users, num_movies, embedding_size, **kwargs):\r\n",
    "        super(RecommenderNet, self).__init__(**kwargs)\r\n",
    "        self.num_users = num_users\r\n",
    "        self.num_movies = num_movies\r\n",
    "        self.embedding_size = embedding_size\r\n",
    "        self.user_embedding = layers.Embedding(\r\n",
    "            num_users,\r\n",
    "            embedding_size,\r\n",
    "            embeddings_initializer=\"he_normal\",\r\n",
    "            embeddings_regularizer=keras.regularizers.l2(1e-6),\r\n",
    "        )\r\n",
    "        self.user_bias = layers.Embedding(num_users, 1)\r\n",
    "        self.movie_embedding = layers.Embedding(\r\n",
    "            num_movies,\r\n",
    "            embedding_size,\r\n",
    "            embeddings_initializer=\"he_normal\",\r\n",
    "            embeddings_regularizer=keras.regularizers.l2(1e-6),\r\n",
    "        )\r\n",
    "        self.movie_bias = layers.Embedding(num_movies, 1)\r\n",
    "\r\n",
    "    def call(self, inputs):\r\n",
    "        user_vector = self.user_embedding(inputs[:, 0])\r\n",
    "        user_bias = self.user_bias(inputs[:, 0])\r\n",
    "        movie_vector = self.movie_embedding(inputs[:, 1])\r\n",
    "        movie_bias = self.movie_bias(inputs[:, 1])\r\n",
    "        dot_user_movie = tf.tensordot(user_vector, movie_vector, 2)\r\n",
    "        # Add all the components (including bias)\r\n",
    "        x = dot_user_movie + user_bias + movie_bias\r\n",
    "        # The sigmoid activation forces the rating to between 0 and 1\r\n",
    "        return tf.nn.sigmoid(x)\r\n",
    "\r\n",
    "\r\n",
    "model = RecommenderNet(num_users, num_movies, EMBEDDING_SIZE)\r\n",
    "model.compile(\r\n",
    "    loss=tf.keras.losses.BinaryCrossentropy(), optimizer=keras.optimizers.Adam(learning_rate=0.001)\r\n",
    ")\r\n"
   ],
   "outputs": [],
   "metadata": {}
  },
  {
   "cell_type": "markdown",
   "source": [
    "Train the model"
   ],
   "metadata": {}
  },
  {
   "cell_type": "code",
   "execution_count": 7,
   "source": [
    "history = model.fit(\r\n",
    "    x=x_train,\r\n",
    "    y=y_train,\r\n",
    "    batch_size=64,\r\n",
    "    epochs=5,\r\n",
    "    verbose=1,\r\n",
    "    validation_data=(x_val, y_val),\r\n",
    ")\r\n"
   ],
   "outputs": [
    {
     "output_type": "stream",
     "name": "stdout",
     "text": [
      "Epoch 1/5\n",
      "1418/1418 [==============================] - 12s 7ms/step - loss: 0.6361 - val_loss: 0.6203\n",
      "Epoch 2/5\n",
      "1418/1418 [==============================] - 9s 6ms/step - loss: 0.6133 - val_loss: 0.6183\n",
      "Epoch 3/5\n",
      "1418/1418 [==============================] - 9s 6ms/step - loss: 0.6084 - val_loss: 0.6166\n",
      "Epoch 4/5\n",
      "1418/1418 [==============================] - 9s 6ms/step - loss: 0.6072 - val_loss: 0.6147\n",
      "Epoch 5/5\n",
      "1418/1418 [==============================] - 9s 6ms/step - loss: 0.6064 - val_loss: 0.6126\n"
     ]
    }
   ],
   "metadata": {}
  },
  {
   "cell_type": "code",
   "execution_count": 8,
   "source": [
    "plt.plot(history.history[\"loss\"])\r\n",
    "plt.plot(history.history[\"val_loss\"])\r\n",
    "plt.title(\"model loss\")\r\n",
    "plt.ylabel(\"loss\")\r\n",
    "plt.xlabel(\"epoch\")\r\n",
    "plt.legend([\"train\", \"test\"], loc=\"upper left\")\r\n",
    "plt.show()\r\n"
   ],
   "outputs": [
    {
     "output_type": "display_data",
     "data": {
      "text/plain": [
       "<Figure size 432x288 with 1 Axes>"
      ],
      "image/svg+xml": "<?xml version=\"1.0\" encoding=\"utf-8\" standalone=\"no\"?>\r\n<!DOCTYPE svg PUBLIC \"-//W3C//DTD SVG 1.1//EN\"\r\n  \"http://www.w3.org/Graphics/SVG/1.1/DTD/svg11.dtd\">\r\n<!-- Created with matplotlib (https://matplotlib.org/) -->\r\n<svg height=\"277.314375pt\" version=\"1.1\" viewBox=\"0 0 398.50625 277.314375\" width=\"398.50625pt\" xmlns=\"http://www.w3.org/2000/svg\" xmlns:xlink=\"http://www.w3.org/1999/xlink\">\r\n <metadata>\r\n  <rdf:RDF xmlns:cc=\"http://creativecommons.org/ns#\" xmlns:dc=\"http://purl.org/dc/elements/1.1/\" xmlns:rdf=\"http://www.w3.org/1999/02/22-rdf-syntax-ns#\">\r\n   <cc:Work>\r\n    <dc:type rdf:resource=\"http://purl.org/dc/dcmitype/StillImage\"/>\r\n    <dc:date>2021-08-26T12:53:49.201783</dc:date>\r\n    <dc:format>image/svg+xml</dc:format>\r\n    <dc:creator>\r\n     <cc:Agent>\r\n      <dc:title>Matplotlib v3.3.1, https://matplotlib.org/</dc:title>\r\n     </cc:Agent>\r\n    </dc:creator>\r\n   </cc:Work>\r\n  </rdf:RDF>\r\n </metadata>\r\n <defs>\r\n  <style type=\"text/css\">*{stroke-linecap:butt;stroke-linejoin:round;}</style>\r\n </defs>\r\n <g id=\"figure_1\">\r\n  <g id=\"patch_1\">\r\n   <path d=\"M 0 277.314375 \r\nL 398.50625 277.314375 \r\nL 398.50625 0 \r\nL 0 0 \r\nz\r\n\" style=\"fill:none;\"/>\r\n  </g>\r\n  <g id=\"axes_1\">\r\n   <g id=\"patch_2\">\r\n    <path d=\"M 56.50625 239.758125 \r\nL 391.30625 239.758125 \r\nL 391.30625 22.318125 \r\nL 56.50625 22.318125 \r\nz\r\n\" style=\"fill:#ffffff;\"/>\r\n   </g>\r\n   <g id=\"matplotlib.axis_1\">\r\n    <g id=\"xtick_1\">\r\n     <g id=\"line2d_1\">\r\n      <defs>\r\n       <path d=\"M 0 0 \r\nL 0 3.5 \r\n\" id=\"m48b53787b7\" style=\"stroke:#000000;stroke-width:0.8;\"/>\r\n      </defs>\r\n      <g>\r\n       <use style=\"stroke:#000000;stroke-width:0.8;\" x=\"71.724432\" xlink:href=\"#m48b53787b7\" y=\"239.758125\"/>\r\n      </g>\r\n     </g>\r\n     <g id=\"text_1\">\r\n      <!-- 0.0 -->\r\n      <g transform=\"translate(63.772869 254.356562)scale(0.1 -0.1)\">\r\n       <defs>\r\n        <path d=\"M 31.78125 66.40625 \r\nQ 24.171875 66.40625 20.328125 58.90625 \r\nQ 16.5 51.421875 16.5 36.375 \r\nQ 16.5 21.390625 20.328125 13.890625 \r\nQ 24.171875 6.390625 31.78125 6.390625 \r\nQ 39.453125 6.390625 43.28125 13.890625 \r\nQ 47.125 21.390625 47.125 36.375 \r\nQ 47.125 51.421875 43.28125 58.90625 \r\nQ 39.453125 66.40625 31.78125 66.40625 \r\nz\r\nM 31.78125 74.21875 \r\nQ 44.046875 74.21875 50.515625 64.515625 \r\nQ 56.984375 54.828125 56.984375 36.375 \r\nQ 56.984375 17.96875 50.515625 8.265625 \r\nQ 44.046875 -1.421875 31.78125 -1.421875 \r\nQ 19.53125 -1.421875 13.0625 8.265625 \r\nQ 6.59375 17.96875 6.59375 36.375 \r\nQ 6.59375 54.828125 13.0625 64.515625 \r\nQ 19.53125 74.21875 31.78125 74.21875 \r\nz\r\n\" id=\"DejaVuSans-48\"/>\r\n        <path d=\"M 10.6875 12.40625 \r\nL 21 12.40625 \r\nL 21 0 \r\nL 10.6875 0 \r\nz\r\n\" id=\"DejaVuSans-46\"/>\r\n       </defs>\r\n       <use xlink:href=\"#DejaVuSans-48\"/>\r\n       <use x=\"63.623047\" xlink:href=\"#DejaVuSans-46\"/>\r\n       <use x=\"95.410156\" xlink:href=\"#DejaVuSans-48\"/>\r\n      </g>\r\n     </g>\r\n    </g>\r\n    <g id=\"xtick_2\">\r\n     <g id=\"line2d_2\">\r\n      <g>\r\n       <use style=\"stroke:#000000;stroke-width:0.8;\" x=\"109.769886\" xlink:href=\"#m48b53787b7\" y=\"239.758125\"/>\r\n      </g>\r\n     </g>\r\n     <g id=\"text_2\">\r\n      <!-- 0.5 -->\r\n      <g transform=\"translate(101.818324 254.356562)scale(0.1 -0.1)\">\r\n       <defs>\r\n        <path d=\"M 10.796875 72.90625 \r\nL 49.515625 72.90625 \r\nL 49.515625 64.59375 \r\nL 19.828125 64.59375 \r\nL 19.828125 46.734375 \r\nQ 21.96875 47.46875 24.109375 47.828125 \r\nQ 26.265625 48.1875 28.421875 48.1875 \r\nQ 40.625 48.1875 47.75 41.5 \r\nQ 54.890625 34.8125 54.890625 23.390625 \r\nQ 54.890625 11.625 47.5625 5.09375 \r\nQ 40.234375 -1.421875 26.90625 -1.421875 \r\nQ 22.3125 -1.421875 17.546875 -0.640625 \r\nQ 12.796875 0.140625 7.71875 1.703125 \r\nL 7.71875 11.625 \r\nQ 12.109375 9.234375 16.796875 8.0625 \r\nQ 21.484375 6.890625 26.703125 6.890625 \r\nQ 35.15625 6.890625 40.078125 11.328125 \r\nQ 45.015625 15.765625 45.015625 23.390625 \r\nQ 45.015625 31 40.078125 35.4375 \r\nQ 35.15625 39.890625 26.703125 39.890625 \r\nQ 22.75 39.890625 18.8125 39.015625 \r\nQ 14.890625 38.140625 10.796875 36.28125 \r\nz\r\n\" id=\"DejaVuSans-53\"/>\r\n       </defs>\r\n       <use xlink:href=\"#DejaVuSans-48\"/>\r\n       <use x=\"63.623047\" xlink:href=\"#DejaVuSans-46\"/>\r\n       <use x=\"95.410156\" xlink:href=\"#DejaVuSans-53\"/>\r\n      </g>\r\n     </g>\r\n    </g>\r\n    <g id=\"xtick_3\">\r\n     <g id=\"line2d_3\">\r\n      <g>\r\n       <use style=\"stroke:#000000;stroke-width:0.8;\" x=\"147.815341\" xlink:href=\"#m48b53787b7\" y=\"239.758125\"/>\r\n      </g>\r\n     </g>\r\n     <g id=\"text_3\">\r\n      <!-- 1.0 -->\r\n      <g transform=\"translate(139.863778 254.356562)scale(0.1 -0.1)\">\r\n       <defs>\r\n        <path d=\"M 12.40625 8.296875 \r\nL 28.515625 8.296875 \r\nL 28.515625 63.921875 \r\nL 10.984375 60.40625 \r\nL 10.984375 69.390625 \r\nL 28.421875 72.90625 \r\nL 38.28125 72.90625 \r\nL 38.28125 8.296875 \r\nL 54.390625 8.296875 \r\nL 54.390625 0 \r\nL 12.40625 0 \r\nz\r\n\" id=\"DejaVuSans-49\"/>\r\n       </defs>\r\n       <use xlink:href=\"#DejaVuSans-49\"/>\r\n       <use x=\"63.623047\" xlink:href=\"#DejaVuSans-46\"/>\r\n       <use x=\"95.410156\" xlink:href=\"#DejaVuSans-48\"/>\r\n      </g>\r\n     </g>\r\n    </g>\r\n    <g id=\"xtick_4\">\r\n     <g id=\"line2d_4\">\r\n      <g>\r\n       <use style=\"stroke:#000000;stroke-width:0.8;\" x=\"185.860795\" xlink:href=\"#m48b53787b7\" y=\"239.758125\"/>\r\n      </g>\r\n     </g>\r\n     <g id=\"text_4\">\r\n      <!-- 1.5 -->\r\n      <g transform=\"translate(177.909233 254.356562)scale(0.1 -0.1)\">\r\n       <use xlink:href=\"#DejaVuSans-49\"/>\r\n       <use x=\"63.623047\" xlink:href=\"#DejaVuSans-46\"/>\r\n       <use x=\"95.410156\" xlink:href=\"#DejaVuSans-53\"/>\r\n      </g>\r\n     </g>\r\n    </g>\r\n    <g id=\"xtick_5\">\r\n     <g id=\"line2d_5\">\r\n      <g>\r\n       <use style=\"stroke:#000000;stroke-width:0.8;\" x=\"223.90625\" xlink:href=\"#m48b53787b7\" y=\"239.758125\"/>\r\n      </g>\r\n     </g>\r\n     <g id=\"text_5\">\r\n      <!-- 2.0 -->\r\n      <g transform=\"translate(215.954688 254.356562)scale(0.1 -0.1)\">\r\n       <defs>\r\n        <path d=\"M 19.1875 8.296875 \r\nL 53.609375 8.296875 \r\nL 53.609375 0 \r\nL 7.328125 0 \r\nL 7.328125 8.296875 \r\nQ 12.9375 14.109375 22.625 23.890625 \r\nQ 32.328125 33.6875 34.8125 36.53125 \r\nQ 39.546875 41.84375 41.421875 45.53125 \r\nQ 43.3125 49.21875 43.3125 52.78125 \r\nQ 43.3125 58.59375 39.234375 62.25 \r\nQ 35.15625 65.921875 28.609375 65.921875 \r\nQ 23.96875 65.921875 18.8125 64.3125 \r\nQ 13.671875 62.703125 7.8125 59.421875 \r\nL 7.8125 69.390625 \r\nQ 13.765625 71.78125 18.9375 73 \r\nQ 24.125 74.21875 28.421875 74.21875 \r\nQ 39.75 74.21875 46.484375 68.546875 \r\nQ 53.21875 62.890625 53.21875 53.421875 \r\nQ 53.21875 48.921875 51.53125 44.890625 \r\nQ 49.859375 40.875 45.40625 35.40625 \r\nQ 44.1875 33.984375 37.640625 27.21875 \r\nQ 31.109375 20.453125 19.1875 8.296875 \r\nz\r\n\" id=\"DejaVuSans-50\"/>\r\n       </defs>\r\n       <use xlink:href=\"#DejaVuSans-50\"/>\r\n       <use x=\"63.623047\" xlink:href=\"#DejaVuSans-46\"/>\r\n       <use x=\"95.410156\" xlink:href=\"#DejaVuSans-48\"/>\r\n      </g>\r\n     </g>\r\n    </g>\r\n    <g id=\"xtick_6\">\r\n     <g id=\"line2d_6\">\r\n      <g>\r\n       <use style=\"stroke:#000000;stroke-width:0.8;\" x=\"261.951705\" xlink:href=\"#m48b53787b7\" y=\"239.758125\"/>\r\n      </g>\r\n     </g>\r\n     <g id=\"text_6\">\r\n      <!-- 2.5 -->\r\n      <g transform=\"translate(254.000142 254.356562)scale(0.1 -0.1)\">\r\n       <use xlink:href=\"#DejaVuSans-50\"/>\r\n       <use x=\"63.623047\" xlink:href=\"#DejaVuSans-46\"/>\r\n       <use x=\"95.410156\" xlink:href=\"#DejaVuSans-53\"/>\r\n      </g>\r\n     </g>\r\n    </g>\r\n    <g id=\"xtick_7\">\r\n     <g id=\"line2d_7\">\r\n      <g>\r\n       <use style=\"stroke:#000000;stroke-width:0.8;\" x=\"299.997159\" xlink:href=\"#m48b53787b7\" y=\"239.758125\"/>\r\n      </g>\r\n     </g>\r\n     <g id=\"text_7\">\r\n      <!-- 3.0 -->\r\n      <g transform=\"translate(292.045597 254.356562)scale(0.1 -0.1)\">\r\n       <defs>\r\n        <path d=\"M 40.578125 39.3125 \r\nQ 47.65625 37.796875 51.625 33 \r\nQ 55.609375 28.21875 55.609375 21.1875 \r\nQ 55.609375 10.40625 48.1875 4.484375 \r\nQ 40.765625 -1.421875 27.09375 -1.421875 \r\nQ 22.515625 -1.421875 17.65625 -0.515625 \r\nQ 12.796875 0.390625 7.625 2.203125 \r\nL 7.625 11.71875 \r\nQ 11.71875 9.328125 16.59375 8.109375 \r\nQ 21.484375 6.890625 26.8125 6.890625 \r\nQ 36.078125 6.890625 40.9375 10.546875 \r\nQ 45.796875 14.203125 45.796875 21.1875 \r\nQ 45.796875 27.640625 41.28125 31.265625 \r\nQ 36.765625 34.90625 28.71875 34.90625 \r\nL 20.21875 34.90625 \r\nL 20.21875 43.015625 \r\nL 29.109375 43.015625 \r\nQ 36.375 43.015625 40.234375 45.921875 \r\nQ 44.09375 48.828125 44.09375 54.296875 \r\nQ 44.09375 59.90625 40.109375 62.90625 \r\nQ 36.140625 65.921875 28.71875 65.921875 \r\nQ 24.65625 65.921875 20.015625 65.03125 \r\nQ 15.375 64.15625 9.8125 62.3125 \r\nL 9.8125 71.09375 \r\nQ 15.4375 72.65625 20.34375 73.4375 \r\nQ 25.25 74.21875 29.59375 74.21875 \r\nQ 40.828125 74.21875 47.359375 69.109375 \r\nQ 53.90625 64.015625 53.90625 55.328125 \r\nQ 53.90625 49.265625 50.4375 45.09375 \r\nQ 46.96875 40.921875 40.578125 39.3125 \r\nz\r\n\" id=\"DejaVuSans-51\"/>\r\n       </defs>\r\n       <use xlink:href=\"#DejaVuSans-51\"/>\r\n       <use x=\"63.623047\" xlink:href=\"#DejaVuSans-46\"/>\r\n       <use x=\"95.410156\" xlink:href=\"#DejaVuSans-48\"/>\r\n      </g>\r\n     </g>\r\n    </g>\r\n    <g id=\"xtick_8\">\r\n     <g id=\"line2d_8\">\r\n      <g>\r\n       <use style=\"stroke:#000000;stroke-width:0.8;\" x=\"338.042614\" xlink:href=\"#m48b53787b7\" y=\"239.758125\"/>\r\n      </g>\r\n     </g>\r\n     <g id=\"text_8\">\r\n      <!-- 3.5 -->\r\n      <g transform=\"translate(330.091051 254.356562)scale(0.1 -0.1)\">\r\n       <use xlink:href=\"#DejaVuSans-51\"/>\r\n       <use x=\"63.623047\" xlink:href=\"#DejaVuSans-46\"/>\r\n       <use x=\"95.410156\" xlink:href=\"#DejaVuSans-53\"/>\r\n      </g>\r\n     </g>\r\n    </g>\r\n    <g id=\"xtick_9\">\r\n     <g id=\"line2d_9\">\r\n      <g>\r\n       <use style=\"stroke:#000000;stroke-width:0.8;\" x=\"376.088068\" xlink:href=\"#m48b53787b7\" y=\"239.758125\"/>\r\n      </g>\r\n     </g>\r\n     <g id=\"text_9\">\r\n      <!-- 4.0 -->\r\n      <g transform=\"translate(368.136506 254.356562)scale(0.1 -0.1)\">\r\n       <defs>\r\n        <path d=\"M 37.796875 64.3125 \r\nL 12.890625 25.390625 \r\nL 37.796875 25.390625 \r\nz\r\nM 35.203125 72.90625 \r\nL 47.609375 72.90625 \r\nL 47.609375 25.390625 \r\nL 58.015625 25.390625 \r\nL 58.015625 17.1875 \r\nL 47.609375 17.1875 \r\nL 47.609375 0 \r\nL 37.796875 0 \r\nL 37.796875 17.1875 \r\nL 4.890625 17.1875 \r\nL 4.890625 26.703125 \r\nz\r\n\" id=\"DejaVuSans-52\"/>\r\n       </defs>\r\n       <use xlink:href=\"#DejaVuSans-52\"/>\r\n       <use x=\"63.623047\" xlink:href=\"#DejaVuSans-46\"/>\r\n       <use x=\"95.410156\" xlink:href=\"#DejaVuSans-48\"/>\r\n      </g>\r\n     </g>\r\n    </g>\r\n    <g id=\"text_10\">\r\n     <!-- epoch -->\r\n     <g transform=\"translate(208.678125 268.034687)scale(0.1 -0.1)\">\r\n      <defs>\r\n       <path d=\"M 56.203125 29.59375 \r\nL 56.203125 25.203125 \r\nL 14.890625 25.203125 \r\nQ 15.484375 15.921875 20.484375 11.0625 \r\nQ 25.484375 6.203125 34.421875 6.203125 \r\nQ 39.59375 6.203125 44.453125 7.46875 \r\nQ 49.3125 8.734375 54.109375 11.28125 \r\nL 54.109375 2.78125 \r\nQ 49.265625 0.734375 44.1875 -0.34375 \r\nQ 39.109375 -1.421875 33.890625 -1.421875 \r\nQ 20.796875 -1.421875 13.15625 6.1875 \r\nQ 5.515625 13.8125 5.515625 26.8125 \r\nQ 5.515625 40.234375 12.765625 48.109375 \r\nQ 20.015625 56 32.328125 56 \r\nQ 43.359375 56 49.78125 48.890625 \r\nQ 56.203125 41.796875 56.203125 29.59375 \r\nz\r\nM 47.21875 32.234375 \r\nQ 47.125 39.59375 43.09375 43.984375 \r\nQ 39.0625 48.390625 32.421875 48.390625 \r\nQ 24.90625 48.390625 20.390625 44.140625 \r\nQ 15.875 39.890625 15.1875 32.171875 \r\nz\r\n\" id=\"DejaVuSans-101\"/>\r\n       <path d=\"M 18.109375 8.203125 \r\nL 18.109375 -20.796875 \r\nL 9.078125 -20.796875 \r\nL 9.078125 54.6875 \r\nL 18.109375 54.6875 \r\nL 18.109375 46.390625 \r\nQ 20.953125 51.265625 25.265625 53.625 \r\nQ 29.59375 56 35.59375 56 \r\nQ 45.5625 56 51.78125 48.09375 \r\nQ 58.015625 40.1875 58.015625 27.296875 \r\nQ 58.015625 14.40625 51.78125 6.484375 \r\nQ 45.5625 -1.421875 35.59375 -1.421875 \r\nQ 29.59375 -1.421875 25.265625 0.953125 \r\nQ 20.953125 3.328125 18.109375 8.203125 \r\nz\r\nM 48.6875 27.296875 \r\nQ 48.6875 37.203125 44.609375 42.84375 \r\nQ 40.53125 48.484375 33.40625 48.484375 \r\nQ 26.265625 48.484375 22.1875 42.84375 \r\nQ 18.109375 37.203125 18.109375 27.296875 \r\nQ 18.109375 17.390625 22.1875 11.75 \r\nQ 26.265625 6.109375 33.40625 6.109375 \r\nQ 40.53125 6.109375 44.609375 11.75 \r\nQ 48.6875 17.390625 48.6875 27.296875 \r\nz\r\n\" id=\"DejaVuSans-112\"/>\r\n       <path d=\"M 30.609375 48.390625 \r\nQ 23.390625 48.390625 19.1875 42.75 \r\nQ 14.984375 37.109375 14.984375 27.296875 \r\nQ 14.984375 17.484375 19.15625 11.84375 \r\nQ 23.34375 6.203125 30.609375 6.203125 \r\nQ 37.796875 6.203125 41.984375 11.859375 \r\nQ 46.1875 17.53125 46.1875 27.296875 \r\nQ 46.1875 37.015625 41.984375 42.703125 \r\nQ 37.796875 48.390625 30.609375 48.390625 \r\nz\r\nM 30.609375 56 \r\nQ 42.328125 56 49.015625 48.375 \r\nQ 55.71875 40.765625 55.71875 27.296875 \r\nQ 55.71875 13.875 49.015625 6.21875 \r\nQ 42.328125 -1.421875 30.609375 -1.421875 \r\nQ 18.84375 -1.421875 12.171875 6.21875 \r\nQ 5.515625 13.875 5.515625 27.296875 \r\nQ 5.515625 40.765625 12.171875 48.375 \r\nQ 18.84375 56 30.609375 56 \r\nz\r\n\" id=\"DejaVuSans-111\"/>\r\n       <path d=\"M 48.78125 52.59375 \r\nL 48.78125 44.1875 \r\nQ 44.96875 46.296875 41.140625 47.34375 \r\nQ 37.3125 48.390625 33.40625 48.390625 \r\nQ 24.65625 48.390625 19.8125 42.84375 \r\nQ 14.984375 37.3125 14.984375 27.296875 \r\nQ 14.984375 17.28125 19.8125 11.734375 \r\nQ 24.65625 6.203125 33.40625 6.203125 \r\nQ 37.3125 6.203125 41.140625 7.25 \r\nQ 44.96875 8.296875 48.78125 10.40625 \r\nL 48.78125 2.09375 \r\nQ 45.015625 0.34375 40.984375 -0.53125 \r\nQ 36.96875 -1.421875 32.421875 -1.421875 \r\nQ 20.0625 -1.421875 12.78125 6.34375 \r\nQ 5.515625 14.109375 5.515625 27.296875 \r\nQ 5.515625 40.671875 12.859375 48.328125 \r\nQ 20.21875 56 33.015625 56 \r\nQ 37.15625 56 41.109375 55.140625 \r\nQ 45.0625 54.296875 48.78125 52.59375 \r\nz\r\n\" id=\"DejaVuSans-99\"/>\r\n       <path d=\"M 54.890625 33.015625 \r\nL 54.890625 0 \r\nL 45.90625 0 \r\nL 45.90625 32.71875 \r\nQ 45.90625 40.484375 42.875 44.328125 \r\nQ 39.84375 48.1875 33.796875 48.1875 \r\nQ 26.515625 48.1875 22.3125 43.546875 \r\nQ 18.109375 38.921875 18.109375 30.90625 \r\nL 18.109375 0 \r\nL 9.078125 0 \r\nL 9.078125 75.984375 \r\nL 18.109375 75.984375 \r\nL 18.109375 46.1875 \r\nQ 21.34375 51.125 25.703125 53.5625 \r\nQ 30.078125 56 35.796875 56 \r\nQ 45.21875 56 50.046875 50.171875 \r\nQ 54.890625 44.34375 54.890625 33.015625 \r\nz\r\n\" id=\"DejaVuSans-104\"/>\r\n      </defs>\r\n      <use xlink:href=\"#DejaVuSans-101\"/>\r\n      <use x=\"61.523438\" xlink:href=\"#DejaVuSans-112\"/>\r\n      <use x=\"125\" xlink:href=\"#DejaVuSans-111\"/>\r\n      <use x=\"186.181641\" xlink:href=\"#DejaVuSans-99\"/>\r\n      <use x=\"241.162109\" xlink:href=\"#DejaVuSans-104\"/>\r\n     </g>\r\n    </g>\r\n   </g>\r\n   <g id=\"matplotlib.axis_2\">\r\n    <g id=\"ytick_1\">\r\n     <g id=\"line2d_10\">\r\n      <defs>\r\n       <path d=\"M 0 0 \r\nL -3.5 0 \r\n\" id=\"m3f1d2920f4\" style=\"stroke:#000000;stroke-width:0.8;\"/>\r\n      </defs>\r\n      <g>\r\n       <use style=\"stroke:#000000;stroke-width:0.8;\" x=\"56.50625\" xlink:href=\"#m3f1d2920f4\" y=\"239.291914\"/>\r\n      </g>\r\n     </g>\r\n     <g id=\"text_11\">\r\n      <!-- 0.605 -->\r\n      <g transform=\"translate(20.878125 243.091133)scale(0.1 -0.1)\">\r\n       <defs>\r\n        <path d=\"M 33.015625 40.375 \r\nQ 26.375 40.375 22.484375 35.828125 \r\nQ 18.609375 31.296875 18.609375 23.390625 \r\nQ 18.609375 15.53125 22.484375 10.953125 \r\nQ 26.375 6.390625 33.015625 6.390625 \r\nQ 39.65625 6.390625 43.53125 10.953125 \r\nQ 47.40625 15.53125 47.40625 23.390625 \r\nQ 47.40625 31.296875 43.53125 35.828125 \r\nQ 39.65625 40.375 33.015625 40.375 \r\nz\r\nM 52.59375 71.296875 \r\nL 52.59375 62.3125 \r\nQ 48.875 64.0625 45.09375 64.984375 \r\nQ 41.3125 65.921875 37.59375 65.921875 \r\nQ 27.828125 65.921875 22.671875 59.328125 \r\nQ 17.53125 52.734375 16.796875 39.40625 \r\nQ 19.671875 43.65625 24.015625 45.921875 \r\nQ 28.375 48.1875 33.59375 48.1875 \r\nQ 44.578125 48.1875 50.953125 41.515625 \r\nQ 57.328125 34.859375 57.328125 23.390625 \r\nQ 57.328125 12.15625 50.6875 5.359375 \r\nQ 44.046875 -1.421875 33.015625 -1.421875 \r\nQ 20.359375 -1.421875 13.671875 8.265625 \r\nQ 6.984375 17.96875 6.984375 36.375 \r\nQ 6.984375 53.65625 15.1875 63.9375 \r\nQ 23.390625 74.21875 37.203125 74.21875 \r\nQ 40.921875 74.21875 44.703125 73.484375 \r\nQ 48.484375 72.75 52.59375 71.296875 \r\nz\r\n\" id=\"DejaVuSans-54\"/>\r\n       </defs>\r\n       <use xlink:href=\"#DejaVuSans-48\"/>\r\n       <use x=\"63.623047\" xlink:href=\"#DejaVuSans-46\"/>\r\n       <use x=\"95.410156\" xlink:href=\"#DejaVuSans-54\"/>\r\n       <use x=\"159.033203\" xlink:href=\"#DejaVuSans-48\"/>\r\n       <use x=\"222.65625\" xlink:href=\"#DejaVuSans-53\"/>\r\n      </g>\r\n     </g>\r\n    </g>\r\n    <g id=\"ytick_2\">\r\n     <g id=\"line2d_11\">\r\n      <g>\r\n       <use style=\"stroke:#000000;stroke-width:0.8;\" x=\"56.50625\" xlink:href=\"#m3f1d2920f4\" y=\"205.980497\"/>\r\n      </g>\r\n     </g>\r\n     <g id=\"text_12\">\r\n      <!-- 0.610 -->\r\n      <g transform=\"translate(20.878125 209.779716)scale(0.1 -0.1)\">\r\n       <use xlink:href=\"#DejaVuSans-48\"/>\r\n       <use x=\"63.623047\" xlink:href=\"#DejaVuSans-46\"/>\r\n       <use x=\"95.410156\" xlink:href=\"#DejaVuSans-54\"/>\r\n       <use x=\"159.033203\" xlink:href=\"#DejaVuSans-49\"/>\r\n       <use x=\"222.65625\" xlink:href=\"#DejaVuSans-48\"/>\r\n      </g>\r\n     </g>\r\n    </g>\r\n    <g id=\"ytick_3\">\r\n     <g id=\"line2d_12\">\r\n      <g>\r\n       <use style=\"stroke:#000000;stroke-width:0.8;\" x=\"56.50625\" xlink:href=\"#m3f1d2920f4\" y=\"172.669081\"/>\r\n      </g>\r\n     </g>\r\n     <g id=\"text_13\">\r\n      <!-- 0.615 -->\r\n      <g transform=\"translate(20.878125 176.468299)scale(0.1 -0.1)\">\r\n       <use xlink:href=\"#DejaVuSans-48\"/>\r\n       <use x=\"63.623047\" xlink:href=\"#DejaVuSans-46\"/>\r\n       <use x=\"95.410156\" xlink:href=\"#DejaVuSans-54\"/>\r\n       <use x=\"159.033203\" xlink:href=\"#DejaVuSans-49\"/>\r\n       <use x=\"222.65625\" xlink:href=\"#DejaVuSans-53\"/>\r\n      </g>\r\n     </g>\r\n    </g>\r\n    <g id=\"ytick_4\">\r\n     <g id=\"line2d_13\">\r\n      <g>\r\n       <use style=\"stroke:#000000;stroke-width:0.8;\" x=\"56.50625\" xlink:href=\"#m3f1d2920f4\" y=\"139.357664\"/>\r\n      </g>\r\n     </g>\r\n     <g id=\"text_14\">\r\n      <!-- 0.620 -->\r\n      <g transform=\"translate(20.878125 143.156883)scale(0.1 -0.1)\">\r\n       <use xlink:href=\"#DejaVuSans-48\"/>\r\n       <use x=\"63.623047\" xlink:href=\"#DejaVuSans-46\"/>\r\n       <use x=\"95.410156\" xlink:href=\"#DejaVuSans-54\"/>\r\n       <use x=\"159.033203\" xlink:href=\"#DejaVuSans-50\"/>\r\n       <use x=\"222.65625\" xlink:href=\"#DejaVuSans-48\"/>\r\n      </g>\r\n     </g>\r\n    </g>\r\n    <g id=\"ytick_5\">\r\n     <g id=\"line2d_14\">\r\n      <g>\r\n       <use style=\"stroke:#000000;stroke-width:0.8;\" x=\"56.50625\" xlink:href=\"#m3f1d2920f4\" y=\"106.046247\"/>\r\n      </g>\r\n     </g>\r\n     <g id=\"text_15\">\r\n      <!-- 0.625 -->\r\n      <g transform=\"translate(20.878125 109.845466)scale(0.1 -0.1)\">\r\n       <use xlink:href=\"#DejaVuSans-48\"/>\r\n       <use x=\"63.623047\" xlink:href=\"#DejaVuSans-46\"/>\r\n       <use x=\"95.410156\" xlink:href=\"#DejaVuSans-54\"/>\r\n       <use x=\"159.033203\" xlink:href=\"#DejaVuSans-50\"/>\r\n       <use x=\"222.65625\" xlink:href=\"#DejaVuSans-53\"/>\r\n      </g>\r\n     </g>\r\n    </g>\r\n    <g id=\"ytick_6\">\r\n     <g id=\"line2d_15\">\r\n      <g>\r\n       <use style=\"stroke:#000000;stroke-width:0.8;\" x=\"56.50625\" xlink:href=\"#m3f1d2920f4\" y=\"72.73483\"/>\r\n      </g>\r\n     </g>\r\n     <g id=\"text_16\">\r\n      <!-- 0.630 -->\r\n      <g transform=\"translate(20.878125 76.534049)scale(0.1 -0.1)\">\r\n       <use xlink:href=\"#DejaVuSans-48\"/>\r\n       <use x=\"63.623047\" xlink:href=\"#DejaVuSans-46\"/>\r\n       <use x=\"95.410156\" xlink:href=\"#DejaVuSans-54\"/>\r\n       <use x=\"159.033203\" xlink:href=\"#DejaVuSans-51\"/>\r\n       <use x=\"222.65625\" xlink:href=\"#DejaVuSans-48\"/>\r\n      </g>\r\n     </g>\r\n    </g>\r\n    <g id=\"ytick_7\">\r\n     <g id=\"line2d_16\">\r\n      <g>\r\n       <use style=\"stroke:#000000;stroke-width:0.8;\" x=\"56.50625\" xlink:href=\"#m3f1d2920f4\" y=\"39.423414\"/>\r\n      </g>\r\n     </g>\r\n     <g id=\"text_17\">\r\n      <!-- 0.635 -->\r\n      <g transform=\"translate(20.878125 43.222632)scale(0.1 -0.1)\">\r\n       <use xlink:href=\"#DejaVuSans-48\"/>\r\n       <use x=\"63.623047\" xlink:href=\"#DejaVuSans-46\"/>\r\n       <use x=\"95.410156\" xlink:href=\"#DejaVuSans-54\"/>\r\n       <use x=\"159.033203\" xlink:href=\"#DejaVuSans-51\"/>\r\n       <use x=\"222.65625\" xlink:href=\"#DejaVuSans-53\"/>\r\n      </g>\r\n     </g>\r\n    </g>\r\n    <g id=\"text_18\">\r\n     <!-- loss -->\r\n     <g transform=\"translate(14.798438 140.695937)rotate(-90)scale(0.1 -0.1)\">\r\n      <defs>\r\n       <path d=\"M 9.421875 75.984375 \r\nL 18.40625 75.984375 \r\nL 18.40625 0 \r\nL 9.421875 0 \r\nz\r\n\" id=\"DejaVuSans-108\"/>\r\n       <path d=\"M 44.28125 53.078125 \r\nL 44.28125 44.578125 \r\nQ 40.484375 46.53125 36.375 47.5 \r\nQ 32.28125 48.484375 27.875 48.484375 \r\nQ 21.1875 48.484375 17.84375 46.4375 \r\nQ 14.5 44.390625 14.5 40.28125 \r\nQ 14.5 37.15625 16.890625 35.375 \r\nQ 19.28125 33.59375 26.515625 31.984375 \r\nL 29.59375 31.296875 \r\nQ 39.15625 29.25 43.1875 25.515625 \r\nQ 47.21875 21.78125 47.21875 15.09375 \r\nQ 47.21875 7.46875 41.1875 3.015625 \r\nQ 35.15625 -1.421875 24.609375 -1.421875 \r\nQ 20.21875 -1.421875 15.453125 -0.5625 \r\nQ 10.6875 0.296875 5.421875 2 \r\nL 5.421875 11.28125 \r\nQ 10.40625 8.6875 15.234375 7.390625 \r\nQ 20.0625 6.109375 24.8125 6.109375 \r\nQ 31.15625 6.109375 34.5625 8.28125 \r\nQ 37.984375 10.453125 37.984375 14.40625 \r\nQ 37.984375 18.0625 35.515625 20.015625 \r\nQ 33.0625 21.96875 24.703125 23.78125 \r\nL 21.578125 24.515625 \r\nQ 13.234375 26.265625 9.515625 29.90625 \r\nQ 5.8125 33.546875 5.8125 39.890625 \r\nQ 5.8125 47.609375 11.28125 51.796875 \r\nQ 16.75 56 26.8125 56 \r\nQ 31.78125 56 36.171875 55.265625 \r\nQ 40.578125 54.546875 44.28125 53.078125 \r\nz\r\n\" id=\"DejaVuSans-115\"/>\r\n      </defs>\r\n      <use xlink:href=\"#DejaVuSans-108\"/>\r\n      <use x=\"27.783203\" xlink:href=\"#DejaVuSans-111\"/>\r\n      <use x=\"88.964844\" xlink:href=\"#DejaVuSans-115\"/>\r\n      <use x=\"141.064453\" xlink:href=\"#DejaVuSans-115\"/>\r\n     </g>\r\n    </g>\r\n   </g>\r\n   <g id=\"line2d_17\">\r\n    <path clip-path=\"url(#p79815257c9)\" d=\"M 71.724432 32.201761 \r\nL 147.815341 183.991219 \r\nL 223.90625 216.46829 \r\nL 299.997159 224.338872 \r\nL 376.088068 229.874489 \r\n\" style=\"fill:none;stroke:#1f77b4;stroke-linecap:square;stroke-width:1.5;\"/>\r\n   </g>\r\n   <g id=\"line2d_18\">\r\n    <path clip-path=\"url(#p79815257c9)\" d=\"M 71.724432 137.410636 \r\nL 147.815341 150.473737 \r\nL 223.90625 161.735976 \r\nL 299.997159 174.885249 \r\nL 376.088068 188.938328 \r\n\" style=\"fill:none;stroke:#ff7f0e;stroke-linecap:square;stroke-width:1.5;\"/>\r\n   </g>\r\n   <g id=\"patch_3\">\r\n    <path d=\"M 56.50625 239.758125 \r\nL 56.50625 22.318125 \r\n\" style=\"fill:none;stroke:#000000;stroke-linecap:square;stroke-linejoin:miter;stroke-width:0.8;\"/>\r\n   </g>\r\n   <g id=\"patch_4\">\r\n    <path d=\"M 391.30625 239.758125 \r\nL 391.30625 22.318125 \r\n\" style=\"fill:none;stroke:#000000;stroke-linecap:square;stroke-linejoin:miter;stroke-width:0.8;\"/>\r\n   </g>\r\n   <g id=\"patch_5\">\r\n    <path d=\"M 56.50625 239.758125 \r\nL 391.30625 239.758125 \r\n\" style=\"fill:none;stroke:#000000;stroke-linecap:square;stroke-linejoin:miter;stroke-width:0.8;\"/>\r\n   </g>\r\n   <g id=\"patch_6\">\r\n    <path d=\"M 56.50625 22.318125 \r\nL 391.30625 22.318125 \r\n\" style=\"fill:none;stroke:#000000;stroke-linecap:square;stroke-linejoin:miter;stroke-width:0.8;\"/>\r\n   </g>\r\n   <g id=\"text_19\">\r\n    <!-- model loss -->\r\n    <g transform=\"translate(191.726562 16.318125)scale(0.12 -0.12)\">\r\n     <defs>\r\n      <path d=\"M 52 44.1875 \r\nQ 55.375 50.25 60.0625 53.125 \r\nQ 64.75 56 71.09375 56 \r\nQ 79.640625 56 84.28125 50.015625 \r\nQ 88.921875 44.046875 88.921875 33.015625 \r\nL 88.921875 0 \r\nL 79.890625 0 \r\nL 79.890625 32.71875 \r\nQ 79.890625 40.578125 77.09375 44.375 \r\nQ 74.3125 48.1875 68.609375 48.1875 \r\nQ 61.625 48.1875 57.5625 43.546875 \r\nQ 53.515625 38.921875 53.515625 30.90625 \r\nL 53.515625 0 \r\nL 44.484375 0 \r\nL 44.484375 32.71875 \r\nQ 44.484375 40.625 41.703125 44.40625 \r\nQ 38.921875 48.1875 33.109375 48.1875 \r\nQ 26.21875 48.1875 22.15625 43.53125 \r\nQ 18.109375 38.875 18.109375 30.90625 \r\nL 18.109375 0 \r\nL 9.078125 0 \r\nL 9.078125 54.6875 \r\nL 18.109375 54.6875 \r\nL 18.109375 46.1875 \r\nQ 21.1875 51.21875 25.484375 53.609375 \r\nQ 29.78125 56 35.6875 56 \r\nQ 41.65625 56 45.828125 52.96875 \r\nQ 50 49.953125 52 44.1875 \r\nz\r\n\" id=\"DejaVuSans-109\"/>\r\n      <path d=\"M 45.40625 46.390625 \r\nL 45.40625 75.984375 \r\nL 54.390625 75.984375 \r\nL 54.390625 0 \r\nL 45.40625 0 \r\nL 45.40625 8.203125 \r\nQ 42.578125 3.328125 38.25 0.953125 \r\nQ 33.9375 -1.421875 27.875 -1.421875 \r\nQ 17.96875 -1.421875 11.734375 6.484375 \r\nQ 5.515625 14.40625 5.515625 27.296875 \r\nQ 5.515625 40.1875 11.734375 48.09375 \r\nQ 17.96875 56 27.875 56 \r\nQ 33.9375 56 38.25 53.625 \r\nQ 42.578125 51.265625 45.40625 46.390625 \r\nz\r\nM 14.796875 27.296875 \r\nQ 14.796875 17.390625 18.875 11.75 \r\nQ 22.953125 6.109375 30.078125 6.109375 \r\nQ 37.203125 6.109375 41.296875 11.75 \r\nQ 45.40625 17.390625 45.40625 27.296875 \r\nQ 45.40625 37.203125 41.296875 42.84375 \r\nQ 37.203125 48.484375 30.078125 48.484375 \r\nQ 22.953125 48.484375 18.875 42.84375 \r\nQ 14.796875 37.203125 14.796875 27.296875 \r\nz\r\n\" id=\"DejaVuSans-100\"/>\r\n      <path id=\"DejaVuSans-32\"/>\r\n     </defs>\r\n     <use xlink:href=\"#DejaVuSans-109\"/>\r\n     <use x=\"97.412109\" xlink:href=\"#DejaVuSans-111\"/>\r\n     <use x=\"158.59375\" xlink:href=\"#DejaVuSans-100\"/>\r\n     <use x=\"222.070312\" xlink:href=\"#DejaVuSans-101\"/>\r\n     <use x=\"283.59375\" xlink:href=\"#DejaVuSans-108\"/>\r\n     <use x=\"311.376953\" xlink:href=\"#DejaVuSans-32\"/>\r\n     <use x=\"343.164062\" xlink:href=\"#DejaVuSans-108\"/>\r\n     <use x=\"370.947266\" xlink:href=\"#DejaVuSans-111\"/>\r\n     <use x=\"432.128906\" xlink:href=\"#DejaVuSans-115\"/>\r\n     <use x=\"484.228516\" xlink:href=\"#DejaVuSans-115\"/>\r\n    </g>\r\n   </g>\r\n   <g id=\"legend_1\">\r\n    <g id=\"patch_7\">\r\n     <path d=\"M 63.50625 59.674375 \r\nL 118.78125 59.674375 \r\nQ 120.78125 59.674375 120.78125 57.674375 \r\nL 120.78125 29.318125 \r\nQ 120.78125 27.318125 118.78125 27.318125 \r\nL 63.50625 27.318125 \r\nQ 61.50625 27.318125 61.50625 29.318125 \r\nL 61.50625 57.674375 \r\nQ 61.50625 59.674375 63.50625 59.674375 \r\nz\r\n\" style=\"fill:#ffffff;opacity:0.8;stroke:#cccccc;stroke-linejoin:miter;\"/>\r\n    </g>\r\n    <g id=\"line2d_19\">\r\n     <path d=\"M 65.50625 35.416562 \r\nL 85.50625 35.416562 \r\n\" style=\"fill:none;stroke:#1f77b4;stroke-linecap:square;stroke-width:1.5;\"/>\r\n    </g>\r\n    <g id=\"line2d_20\"/>\r\n    <g id=\"text_20\">\r\n     <!-- train -->\r\n     <g transform=\"translate(93.50625 38.916562)scale(0.1 -0.1)\">\r\n      <defs>\r\n       <path d=\"M 18.3125 70.21875 \r\nL 18.3125 54.6875 \r\nL 36.8125 54.6875 \r\nL 36.8125 47.703125 \r\nL 18.3125 47.703125 \r\nL 18.3125 18.015625 \r\nQ 18.3125 11.328125 20.140625 9.421875 \r\nQ 21.96875 7.515625 27.59375 7.515625 \r\nL 36.8125 7.515625 \r\nL 36.8125 0 \r\nL 27.59375 0 \r\nQ 17.1875 0 13.234375 3.875 \r\nQ 9.28125 7.765625 9.28125 18.015625 \r\nL 9.28125 47.703125 \r\nL 2.6875 47.703125 \r\nL 2.6875 54.6875 \r\nL 9.28125 54.6875 \r\nL 9.28125 70.21875 \r\nz\r\n\" id=\"DejaVuSans-116\"/>\r\n       <path d=\"M 41.109375 46.296875 \r\nQ 39.59375 47.171875 37.8125 47.578125 \r\nQ 36.03125 48 33.890625 48 \r\nQ 26.265625 48 22.1875 43.046875 \r\nQ 18.109375 38.09375 18.109375 28.8125 \r\nL 18.109375 0 \r\nL 9.078125 0 \r\nL 9.078125 54.6875 \r\nL 18.109375 54.6875 \r\nL 18.109375 46.1875 \r\nQ 20.953125 51.171875 25.484375 53.578125 \r\nQ 30.03125 56 36.53125 56 \r\nQ 37.453125 56 38.578125 55.875 \r\nQ 39.703125 55.765625 41.0625 55.515625 \r\nz\r\n\" id=\"DejaVuSans-114\"/>\r\n       <path d=\"M 34.28125 27.484375 \r\nQ 23.390625 27.484375 19.1875 25 \r\nQ 14.984375 22.515625 14.984375 16.5 \r\nQ 14.984375 11.71875 18.140625 8.90625 \r\nQ 21.296875 6.109375 26.703125 6.109375 \r\nQ 34.1875 6.109375 38.703125 11.40625 \r\nQ 43.21875 16.703125 43.21875 25.484375 \r\nL 43.21875 27.484375 \r\nz\r\nM 52.203125 31.203125 \r\nL 52.203125 0 \r\nL 43.21875 0 \r\nL 43.21875 8.296875 \r\nQ 40.140625 3.328125 35.546875 0.953125 \r\nQ 30.953125 -1.421875 24.3125 -1.421875 \r\nQ 15.921875 -1.421875 10.953125 3.296875 \r\nQ 6 8.015625 6 15.921875 \r\nQ 6 25.140625 12.171875 29.828125 \r\nQ 18.359375 34.515625 30.609375 34.515625 \r\nL 43.21875 34.515625 \r\nL 43.21875 35.40625 \r\nQ 43.21875 41.609375 39.140625 45 \r\nQ 35.0625 48.390625 27.6875 48.390625 \r\nQ 23 48.390625 18.546875 47.265625 \r\nQ 14.109375 46.140625 10.015625 43.890625 \r\nL 10.015625 52.203125 \r\nQ 14.9375 54.109375 19.578125 55.046875 \r\nQ 24.21875 56 28.609375 56 \r\nQ 40.484375 56 46.34375 49.84375 \r\nQ 52.203125 43.703125 52.203125 31.203125 \r\nz\r\n\" id=\"DejaVuSans-97\"/>\r\n       <path d=\"M 9.421875 54.6875 \r\nL 18.40625 54.6875 \r\nL 18.40625 0 \r\nL 9.421875 0 \r\nz\r\nM 9.421875 75.984375 \r\nL 18.40625 75.984375 \r\nL 18.40625 64.59375 \r\nL 9.421875 64.59375 \r\nz\r\n\" id=\"DejaVuSans-105\"/>\r\n       <path d=\"M 54.890625 33.015625 \r\nL 54.890625 0 \r\nL 45.90625 0 \r\nL 45.90625 32.71875 \r\nQ 45.90625 40.484375 42.875 44.328125 \r\nQ 39.84375 48.1875 33.796875 48.1875 \r\nQ 26.515625 48.1875 22.3125 43.546875 \r\nQ 18.109375 38.921875 18.109375 30.90625 \r\nL 18.109375 0 \r\nL 9.078125 0 \r\nL 9.078125 54.6875 \r\nL 18.109375 54.6875 \r\nL 18.109375 46.1875 \r\nQ 21.34375 51.125 25.703125 53.5625 \r\nQ 30.078125 56 35.796875 56 \r\nQ 45.21875 56 50.046875 50.171875 \r\nQ 54.890625 44.34375 54.890625 33.015625 \r\nz\r\n\" id=\"DejaVuSans-110\"/>\r\n      </defs>\r\n      <use xlink:href=\"#DejaVuSans-116\"/>\r\n      <use x=\"39.208984\" xlink:href=\"#DejaVuSans-114\"/>\r\n      <use x=\"80.322266\" xlink:href=\"#DejaVuSans-97\"/>\r\n      <use x=\"141.601562\" xlink:href=\"#DejaVuSans-105\"/>\r\n      <use x=\"169.384766\" xlink:href=\"#DejaVuSans-110\"/>\r\n     </g>\r\n    </g>\r\n    <g id=\"line2d_21\">\r\n     <path d=\"M 65.50625 50.094687 \r\nL 85.50625 50.094687 \r\n\" style=\"fill:none;stroke:#ff7f0e;stroke-linecap:square;stroke-width:1.5;\"/>\r\n    </g>\r\n    <g id=\"line2d_22\"/>\r\n    <g id=\"text_21\">\r\n     <!-- test -->\r\n     <g transform=\"translate(93.50625 53.594687)scale(0.1 -0.1)\">\r\n      <use xlink:href=\"#DejaVuSans-116\"/>\r\n      <use x=\"39.208984\" xlink:href=\"#DejaVuSans-101\"/>\r\n      <use x=\"100.732422\" xlink:href=\"#DejaVuSans-115\"/>\r\n      <use x=\"152.832031\" xlink:href=\"#DejaVuSans-116\"/>\r\n     </g>\r\n    </g>\r\n   </g>\r\n  </g>\r\n </g>\r\n <defs>\r\n  <clipPath id=\"p79815257c9\">\r\n   <rect height=\"217.44\" width=\"334.8\" x=\"56.50625\" y=\"22.318125\"/>\r\n  </clipPath>\r\n </defs>\r\n</svg>\r\n",
      "image/png": "[encoded data removed]"
     },
     "metadata": {
      "needs_background": "light"
     }
    }
   ],
   "metadata": {}
  },
  {
   "cell_type": "markdown",
   "source": [
    "show top 10 movies"
   ],
   "metadata": {}
  },
  {
   "cell_type": "code",
   "execution_count": 9,
   "source": [
    "movie_df = pd.read_csv(movielens_dir / \"movies.csv\")\r\n",
    "\r\n",
    "# Let us get a user and see the top recommendations.\r\n",
    "user_id = df.userId.sample(1).iloc[0]\r\n",
    "movies_watched_by_user = df[df.userId == user_id]\r\n",
    "movies_not_watched = movie_df[\r\n",
    "    ~movie_df[\"movieId\"].isin(movies_watched_by_user.movieId.values)\r\n",
    "][\"movieId\"]\r\n",
    "movies_not_watched = list(\r\n",
    "    set(movies_not_watched).intersection(set(movie2movie_encoded.keys()))\r\n",
    ")\r\n",
    "movies_not_watched = [[movie2movie_encoded.get(x)] for x in movies_not_watched]\r\n",
    "user_encoder = user2user_encoded.get(user_id)\r\n",
    "user_movie_array = np.hstack(\r\n",
    "    ([[user_encoder]] * len(movies_not_watched), movies_not_watched)\r\n",
    ")\r\n",
    "ratings = model.predict(user_movie_array).flatten()\r\n",
    "top_ratings_indices = ratings.argsort()[-10:][::-1]\r\n",
    "recommended_movie_ids = [\r\n",
    "    movie_encoded2movie.get(movies_not_watched[x][0]) for x in top_ratings_indices\r\n",
    "]\r\n",
    "\r\n",
    "print(\"Showing recommendations for user: {}\".format(user_id))\r\n",
    "print(\"====\" * 9)\r\n",
    "print(\"Movies with high ratings from user\")\r\n",
    "print(\"----\" * 8)\r\n",
    "top_movies_user = (\r\n",
    "    movies_watched_by_user.sort_values(by=\"rating\", ascending=False)\r\n",
    "    .head(5)\r\n",
    "    .movieId.values\r\n",
    ")\r\n",
    "movie_df_rows = movie_df[movie_df[\"movieId\"].isin(top_movies_user)]\r\n",
    "for row in movie_df_rows.itertuples():\r\n",
    "    print(row.title, \":\", row.genres)\r\n",
    "\r\n",
    "print(\"----\" * 8)\r\n",
    "print(\"Top 10 movie recommendations\")\r\n",
    "print(\"----\" * 8)\r\n",
    "recommended_movies = movie_df[movie_df[\"movieId\"].isin(recommended_movie_ids)]\r\n",
    "for row in recommended_movies.itertuples():\r\n",
    "    print(row.title, \":\", row.genres)\r\n"
   ],
   "outputs": [
    {
     "output_type": "stream",
     "name": "stdout",
     "text": [
      "Showing recommendations for user: 488\n",
      "====================================\n",
      "Movies with high ratings from user\n",
      "--------------------------------\n",
      "Shawshank Redemption, The (1994) : Crime|Drama\n",
      "Some Like It Hot (1959) : Comedy|Crime\n",
      "Lord of the Rings: The Two Towers, The (2002) : Adventure|Fantasy\n",
      "Finding Nemo (2003) : Adventure|Animation|Children|Comedy\n",
      "Whale Rider (2002) : Drama\n",
      "--------------------------------\n",
      "Top 10 movie recommendations\n",
      "--------------------------------\n",
      "Usual Suspects, The (1995) : Crime|Mystery|Thriller\n",
      "Star Wars: Episode IV - A New Hope (1977) : Action|Adventure|Sci-Fi\n",
      "Pulp Fiction (1994) : Comedy|Crime|Drama|Thriller\n",
      "Forrest Gump (1994) : Comedy|Drama|Romance|War\n",
      "Godfather, The (1972) : Crime|Drama\n",
      "Apocalypse Now (1979) : Action|Drama|War\n",
      "Star Wars: Episode VI - Return of the Jedi (1983) : Action|Adventure|Sci-Fi\n",
      "Goodfellas (1990) : Crime|Drama\n",
      "Godfather: Part II, The (1974) : Crime|Drama\n",
      "Fight Club (1999) : Action|Crime|Drama|Thriller\n"
     ]
    }
   ],
   "metadata": {}
  },
  {
   "cell_type": "markdown",
   "source": [
    "Transformer-Based Recommendation System ([Behavior Sequence Transformer (BST)](https://arxiv.org/abs/1905.06874))"
   ],
   "metadata": {}
  },
  {
   "cell_type": "code",
   "execution_count": 14,
   "source": [
    "urlretrieve(\"http://files.grouplens.org/datasets/movielens/ml-1m.zip\", \"movielens.zip\")\r\n",
    "ZipFile(\"movielens.zip\", \"r\").extractall()"
   ],
   "outputs": [],
   "metadata": {}
  },
  {
   "cell_type": "markdown",
   "source": [
    "Load the data into pandas DataFrames with their proper column names."
   ],
   "metadata": {}
  },
  {
   "cell_type": "code",
   "execution_count": 19,
   "source": [
    "users = pd.read_csv(\r\n",
    "    \"ml-1m/users.dat\",\r\n",
    "    sep=\"::\",\r\n",
    "    names=[\"user_id\", \"sex\", \"age_group\", \"occupation\", \"zip_code\"],\r\n",
    "    engine='python'\r\n",
    ")\r\n",
    "\r\n",
    "ratings = pd.read_csv(\r\n",
    "    \"ml-1m/ratings.dat\",\r\n",
    "    sep=\"::\",\r\n",
    "    names=[\"user_id\", \"movie_id\", \"rating\", \"unix_timestamp\"],\r\n",
    "    engine='python'\r\n",
    ")\r\n",
    "\r\n",
    "movies = pd.read_csv(\r\n",
    "    \"ml-1m/movies.dat\", sep=\"::\", names=[\"movie_id\", \"title\", \"genres\"],\r\n",
    "    engine='python'\r\n",
    ")"
   ],
   "outputs": [],
   "metadata": {}
  },
  {
   "cell_type": "markdown",
   "source": [
    "Do some simple data processing to fix the data types of the columns."
   ],
   "metadata": {}
  },
  {
   "cell_type": "code",
   "execution_count": 20,
   "source": [
    "users[\"user_id\"] = users[\"user_id\"].apply(lambda x: f\"user_{x}\")\r\n",
    "users[\"age_group\"] = users[\"age_group\"].apply(lambda x: f\"group_{x}\")\r\n",
    "users[\"occupation\"] = users[\"occupation\"].apply(lambda x: f\"occupation_{x}\")\r\n",
    "\r\n",
    "movies[\"movie_id\"] = movies[\"movie_id\"].apply(lambda x: f\"movie_{x}\")\r\n",
    "\r\n",
    "ratings[\"movie_id\"] = ratings[\"movie_id\"].apply(lambda x: f\"movie_{x}\")\r\n",
    "ratings[\"user_id\"] = ratings[\"user_id\"].apply(lambda x: f\"user_{x}\")\r\n",
    "ratings[\"rating\"] = ratings[\"rating\"].apply(lambda x: float(x))"
   ],
   "outputs": [],
   "metadata": {}
  },
  {
   "cell_type": "markdown",
   "source": [
    "Each movie has multiple genres. We split them into separate columns in the movies DataFrame."
   ],
   "metadata": {}
  },
  {
   "cell_type": "code",
   "execution_count": 21,
   "source": [
    "genres = [\r\n",
    "    \"Action\",\r\n",
    "    \"Adventure\",\r\n",
    "    \"Animation\",\r\n",
    "    \"Children's\",\r\n",
    "    \"Comedy\",\r\n",
    "    \"Crime\",\r\n",
    "    \"Documentary\",\r\n",
    "    \"Drama\",\r\n",
    "    \"Fantasy\",\r\n",
    "    \"Film-Noir\",\r\n",
    "    \"Horror\",\r\n",
    "    \"Musical\",\r\n",
    "    \"Mystery\",\r\n",
    "    \"Romance\",\r\n",
    "    \"Sci-Fi\",\r\n",
    "    \"Thriller\",\r\n",
    "    \"War\",\r\n",
    "    \"Western\",\r\n",
    "]\r\n",
    "\r\n",
    "for genre in genres:\r\n",
    "    movies[genre] = movies[\"genres\"].apply(\r\n",
    "        lambda values: int(genre in values.split(\"|\"))\r\n",
    "    )\r\n"
   ],
   "outputs": [],
   "metadata": {}
  },
  {
   "cell_type": "markdown",
   "source": [
    "Transform the movie ratings data into sequences"
   ],
   "metadata": {}
  },
  {
   "cell_type": "code",
   "execution_count": 22,
   "source": [
    "ratings_group = ratings.sort_values(by=[\"unix_timestamp\"]).groupby(\"user_id\")\r\n",
    "\r\n",
    "ratings_data = pd.DataFrame(\r\n",
    "    data={\r\n",
    "        \"user_id\": list(ratings_group.groups.keys()),\r\n",
    "        \"movie_ids\": list(ratings_group.movie_id.apply(list)),\r\n",
    "        \"ratings\": list(ratings_group.rating.apply(list)),\r\n",
    "        \"timestamps\": list(ratings_group.unix_timestamp.apply(list)),\r\n",
    "    }\r\n",
    ")\r\n"
   ],
   "outputs": [],
   "metadata": {}
  },
  {
   "cell_type": "markdown",
   "source": [
    "Now, let's split the movie_ids list into a set of sequences of a fixed length. We do the same for the ratings. Set the sequence_length variable to change the length of the input sequence to the model. You can also change the step_size to control the number of sequences to generate for each user."
   ],
   "metadata": {}
  },
  {
   "cell_type": "code",
   "execution_count": 23,
   "source": [
    "sequence_length = 4\r\n",
    "step_size = 2\r\n",
    "\r\n",
    "\r\n",
    "def create_sequences(values, window_size, step_size):\r\n",
    "    sequences = []\r\n",
    "    start_index = 0\r\n",
    "    while True:\r\n",
    "        end_index = start_index + window_size\r\n",
    "        seq = values[start_index:end_index]\r\n",
    "        if len(seq) < window_size:\r\n",
    "            seq = values[-window_size:]\r\n",
    "            if len(seq) == window_size:\r\n",
    "                sequences.append(seq)\r\n",
    "            break\r\n",
    "        sequences.append(seq)\r\n",
    "        start_index += step_size\r\n",
    "    return sequences\r\n",
    "\r\n",
    "\r\n",
    "ratings_data.movie_ids = ratings_data.movie_ids.apply(\r\n",
    "    lambda ids: create_sequences(ids, sequence_length, step_size)\r\n",
    ")\r\n",
    "\r\n",
    "ratings_data.ratings = ratings_data.ratings.apply(\r\n",
    "    lambda ids: create_sequences(ids, sequence_length, step_size)\r\n",
    ")\r\n",
    "\r\n",
    "del ratings_data[\"timestamps\"]"
   ],
   "outputs": [],
   "metadata": {}
  },
  {
   "cell_type": "markdown",
   "source": [
    "After that, we process the output to have each sequence in a separate records in the DataFrame. In addition, we join the user features with the ratings data."
   ],
   "metadata": {}
  },
  {
   "cell_type": "code",
   "execution_count": 24,
   "source": [
    "ratings_data_movies = ratings_data[[\"user_id\", \"movie_ids\"]].explode(\r\n",
    "    \"movie_ids\", ignore_index=True\r\n",
    ")\r\n",
    "ratings_data_rating = ratings_data[[\"ratings\"]].explode(\"ratings\", ignore_index=True)\r\n",
    "ratings_data_transformed = pd.concat([ratings_data_movies, ratings_data_rating], axis=1)\r\n",
    "ratings_data_transformed = ratings_data_transformed.join(\r\n",
    "    users.set_index(\"user_id\"), on=\"user_id\"\r\n",
    ")\r\n",
    "ratings_data_transformed.movie_ids = ratings_data_transformed.movie_ids.apply(\r\n",
    "    lambda x: \",\".join(x)\r\n",
    ")\r\n",
    "ratings_data_transformed.ratings = ratings_data_transformed.ratings.apply(\r\n",
    "    lambda x: \",\".join([str(v) for v in x])\r\n",
    ")\r\n",
    "\r\n",
    "del ratings_data_transformed[\"zip_code\"]\r\n",
    "\r\n",
    "ratings_data_transformed.rename(\r\n",
    "    columns={\"movie_ids\": \"sequence_movie_ids\", \"ratings\": \"sequence_ratings\"},\r\n",
    "    inplace=True,\r\n",
    ")"
   ],
   "outputs": [],
   "metadata": {}
  },
  {
   "cell_type": "markdown",
   "source": [
    "With sequence_length of 4 and step_size of 2, we end up with 498,623 sequences.\r\n",
    "\r\n",
    "Finally, we split the data into training and testing splits, with 85% and 15% of the instances, respectively, and store them to CSV files."
   ],
   "metadata": {}
  },
  {
   "cell_type": "code",
   "execution_count": 25,
   "source": [
    "random_selection = np.random.rand(len(ratings_data_transformed.index)) <= 0.85\r\n",
    "train_data = ratings_data_transformed[random_selection]\r\n",
    "test_data = ratings_data_transformed[~random_selection]\r\n",
    "\r\n",
    "train_data.to_csv(\"train_data.csv\", index=False, sep=\"|\", header=False)\r\n",
    "test_data.to_csv(\"test_data.csv\", index=False, sep=\"|\", header=False)"
   ],
   "outputs": [],
   "metadata": {}
  },
  {
   "cell_type": "markdown",
   "source": [
    "Define metadata"
   ],
   "metadata": {}
  },
  {
   "cell_type": "code",
   "execution_count": 26,
   "source": [
    "CSV_HEADER = list(ratings_data_transformed.columns)\r\n",
    "\r\n",
    "CATEGORICAL_FEATURES_WITH_VOCABULARY = {\r\n",
    "    \"user_id\": list(users.user_id.unique()),\r\n",
    "    \"movie_id\": list(movies.movie_id.unique()),\r\n",
    "    \"sex\": list(users.sex.unique()),\r\n",
    "    \"age_group\": list(users.age_group.unique()),\r\n",
    "    \"occupation\": list(users.occupation.unique()),\r\n",
    "}\r\n",
    "\r\n",
    "USER_FEATURES = [\"sex\", \"age_group\", \"occupation\"]\r\n",
    "\r\n",
    "MOVIE_FEATURES = [\"genres\"]"
   ],
   "outputs": [],
   "metadata": {}
  },
  {
   "cell_type": "markdown",
   "source": [
    "Create tf.data.Dataset for training and evaluation"
   ],
   "metadata": {}
  },
  {
   "cell_type": "code",
   "execution_count": 27,
   "source": [
    "\r\n",
    "def get_dataset_from_csv(csv_file_path, shuffle=False, batch_size=128):\r\n",
    "    def process(features):\r\n",
    "        movie_ids_string = features[\"sequence_movie_ids\"]\r\n",
    "        sequence_movie_ids = tf.strings.split(movie_ids_string, \",\").to_tensor()\r\n",
    "\r\n",
    "        # The last movie id in the sequence is the target movie.\r\n",
    "        features[\"target_movie_id\"] = sequence_movie_ids[:, -1]\r\n",
    "        features[\"sequence_movie_ids\"] = sequence_movie_ids[:, :-1]\r\n",
    "\r\n",
    "        ratings_string = features[\"sequence_ratings\"]\r\n",
    "        sequence_ratings = tf.strings.to_number(\r\n",
    "            tf.strings.split(ratings_string, \",\"), tf.dtypes.float32\r\n",
    "        ).to_tensor()\r\n",
    "\r\n",
    "        # The last rating in the sequence is the target for the model to predict.\r\n",
    "        target = sequence_ratings[:, -1]\r\n",
    "        features[\"sequence_ratings\"] = sequence_ratings[:, :-1]\r\n",
    "\r\n",
    "        return features, target\r\n",
    "\r\n",
    "    dataset = tf.data.experimental.make_csv_dataset(\r\n",
    "        csv_file_path,\r\n",
    "        batch_size=batch_size,\r\n",
    "        column_names=CSV_HEADER,\r\n",
    "        num_epochs=1,\r\n",
    "        header=False,\r\n",
    "        field_delim=\"|\",\r\n",
    "        shuffle=shuffle,\r\n",
    "    ).map(process)\r\n",
    "\r\n",
    "    return dataset\r\n"
   ],
   "outputs": [],
   "metadata": {}
  },
  {
   "cell_type": "markdown",
   "source": [
    "Create model inputs"
   ],
   "metadata": {}
  },
  {
   "cell_type": "code",
   "execution_count": 28,
   "source": [
    "def create_model_inputs():\r\n",
    "    return {\r\n",
    "        \"user_id\": layers.Input(name=\"user_id\", shape=(1,), dtype=tf.string),\r\n",
    "        \"sequence_movie_ids\": layers.Input(\r\n",
    "            name=\"sequence_movie_ids\", shape=(sequence_length - 1,), dtype=tf.string\r\n",
    "        ),\r\n",
    "        \"target_movie_id\": layers.Input(\r\n",
    "            name=\"target_movie_id\", shape=(1,), dtype=tf.string\r\n",
    "        ),\r\n",
    "        \"sequence_ratings\": layers.Input(\r\n",
    "            name=\"sequence_ratings\", shape=(sequence_length - 1,), dtype=tf.float32\r\n",
    "        ),\r\n",
    "        \"sex\": layers.Input(name=\"sex\", shape=(1,), dtype=tf.string),\r\n",
    "        \"age_group\": layers.Input(name=\"age_group\", shape=(1,), dtype=tf.string),\r\n",
    "        \"occupation\": layers.Input(name=\"occupation\", shape=(1,), dtype=tf.string),\r\n",
    "    }\r\n"
   ],
   "outputs": [],
   "metadata": {}
  },
  {
   "cell_type": "markdown",
   "source": [
    "Encode input features\r\n",
    "\r\n",
    "The encode_input_features method works as follows:\r\n",
    "\r\n",
    "- Each categorical user feature is encoded using layers.Embedding, with embedding dimension equals to the square root of the vocabulary size of the feature. The embeddings of these features are concatenated to form a single input tensor.\r\n",
    "- Each movie in the movie sequence and the target movie is encoded layers.Embedding, where the dimension size is the square root of the number of movies.\r\n",
    "- A multi-hot genres vector for each movie is concatenated with its embedding vector, and processed using a non-linear layers.Dense to output a vector of the same movie embedding dimensions.\r\n",
    "- A positional embedding is added to each movie embedding in the sequence, and then multiplied by its rating from the ratings sequence.\r\n",
    "- The target movie embedding is concatenated to the sequence movie embeddings, producing a tensor with the shape of [batch size, sequence length, embedding size], as expected by the attention layer for the transformer architecture.\r\n",
    "- The method returns a tuple of two elements: encoded_transformer_features and encoded_other_features."
   ],
   "metadata": {}
  },
  {
   "cell_type": "code",
   "execution_count": 32,
   "source": [
    "def encode_input_features(\r\n",
    "    inputs,\r\n",
    "    include_user_id=True,\r\n",
    "    include_user_features=True,\r\n",
    "    include_movie_features=True,\r\n",
    "):\r\n",
    "\r\n",
    "    encoded_transformer_features = []\r\n",
    "    encoded_other_features = []\r\n",
    "\r\n",
    "    other_feature_names = []\r\n",
    "    if include_user_id:\r\n",
    "        other_feature_names.append(\"user_id\")\r\n",
    "    if include_user_features:\r\n",
    "        other_feature_names.extend(USER_FEATURES)\r\n",
    "\r\n",
    "    ## Encode user features\r\n",
    "    for feature_name in other_feature_names:\r\n",
    "        # Convert the string input values into integer indices.\r\n",
    "        vocabulary = CATEGORICAL_FEATURES_WITH_VOCABULARY[feature_name]\r\n",
    "        idx = layers.experimental.preprocessing.StringLookup(vocabulary=vocabulary, mask_token=None, num_oov_indices=0)(\r\n",
    "            inputs[feature_name]\r\n",
    "        )\r\n",
    "        # Compute embedding dimensions\r\n",
    "        embedding_dims = int(math.sqrt(len(vocabulary)))\r\n",
    "        # Create an embedding layer with the specified dimensions.\r\n",
    "        embedding_encoder = layers.Embedding(\r\n",
    "            input_dim=len(vocabulary),\r\n",
    "            output_dim=embedding_dims,\r\n",
    "            name=f\"{feature_name}_embedding\",\r\n",
    "        )\r\n",
    "        # Convert the index values to embedding representations.\r\n",
    "        encoded_other_features.append(embedding_encoder(idx))\r\n",
    "\r\n",
    "    ## Create a single embedding vector for the user features\r\n",
    "    if len(encoded_other_features) > 1:\r\n",
    "        encoded_other_features = layers.concatenate(encoded_other_features)\r\n",
    "    elif len(encoded_other_features) == 1:\r\n",
    "        encoded_other_features = encoded_other_features[0]\r\n",
    "    else:\r\n",
    "        encoded_other_features = None\r\n",
    "\r\n",
    "    ## Create a movie embedding encoder\r\n",
    "    movie_vocabulary = CATEGORICAL_FEATURES_WITH_VOCABULARY[\"movie_id\"]\r\n",
    "    movie_embedding_dims = int(math.sqrt(len(movie_vocabulary)))\r\n",
    "    # Create a lookup to convert string values to integer indices.\r\n",
    "    movie_index_lookup = layers.experimental.preprocessing.StringLookup(\r\n",
    "        vocabulary=movie_vocabulary,\r\n",
    "        mask_token=None,\r\n",
    "        num_oov_indices=0,\r\n",
    "        name=\"movie_index_lookup\",\r\n",
    "    )\r\n",
    "    # Create an embedding layer with the specified dimensions.\r\n",
    "    movie_embedding_encoder = layers.Embedding(\r\n",
    "        input_dim=len(movie_vocabulary),\r\n",
    "        output_dim=movie_embedding_dims,\r\n",
    "        name=f\"movie_embedding\",\r\n",
    "    )\r\n",
    "    # Create a vector lookup for movie genres.\r\n",
    "    genre_vectors = movies[genres].to_numpy()\r\n",
    "    movie_genres_lookup = layers.Embedding(\r\n",
    "        input_dim=genre_vectors.shape[0],\r\n",
    "        output_dim=genre_vectors.shape[1],\r\n",
    "        embeddings_initializer=tf.keras.initializers.Constant(genre_vectors),\r\n",
    "        trainable=False,\r\n",
    "        name=\"genres_vector\",\r\n",
    "    )\r\n",
    "    # Create a processing layer for genres.\r\n",
    "    movie_embedding_processor = layers.Dense(\r\n",
    "        units=movie_embedding_dims,\r\n",
    "        activation=\"relu\",\r\n",
    "        name=\"process_movie_embedding_with_genres\",\r\n",
    "    )\r\n",
    "\r\n",
    "    ## Define a function to encode a given movie id.\r\n",
    "    def encode_movie(movie_id):\r\n",
    "        # Convert the string input values into integer indices.\r\n",
    "        movie_idx = movie_index_lookup(movie_id)\r\n",
    "        movie_embedding = movie_embedding_encoder(movie_idx)\r\n",
    "        encoded_movie = movie_embedding\r\n",
    "        if include_movie_features:\r\n",
    "            movie_genres_vector = movie_genres_lookup(movie_idx)\r\n",
    "            encoded_movie = movie_embedding_processor(\r\n",
    "                layers.concatenate([movie_embedding, movie_genres_vector])\r\n",
    "            )\r\n",
    "        return encoded_movie\r\n",
    "\r\n",
    "    ## Encoding target_movie_id\r\n",
    "    target_movie_id = inputs[\"target_movie_id\"]\r\n",
    "    encoded_target_movie = encode_movie(target_movie_id)\r\n",
    "\r\n",
    "    ## Encoding sequence movie_ids.\r\n",
    "    sequence_movies_ids = inputs[\"sequence_movie_ids\"]\r\n",
    "    encoded_sequence_movies = encode_movie(sequence_movies_ids)\r\n",
    "    # Create positional embedding.\r\n",
    "    position_embedding_encoder = layers.Embedding(\r\n",
    "        input_dim=sequence_length,\r\n",
    "        output_dim=movie_embedding_dims,\r\n",
    "        name=\"position_embedding\",\r\n",
    "    )\r\n",
    "    positions = tf.range(start=0, limit=sequence_length - 1, delta=1)\r\n",
    "    encodded_positions = position_embedding_encoder(positions)\r\n",
    "    # Retrieve sequence ratings to incorporate them into the encoding of the movie.\r\n",
    "    sequence_ratings = tf.expand_dims(inputs[\"sequence_ratings\"], -1)\r\n",
    "    # Add the positional encoding to the movie encodings and multiply them by rating.\r\n",
    "    encoded_sequence_movies_with_poistion_and_rating = layers.Multiply()(\r\n",
    "        [(encoded_sequence_movies + encodded_positions), sequence_ratings]\r\n",
    "    )\r\n",
    "\r\n",
    "    # Construct the transformer inputs.\r\n",
    "    for encoded_movie in tf.unstack(\r\n",
    "        encoded_sequence_movies_with_poistion_and_rating, axis=1\r\n",
    "    ):\r\n",
    "        encoded_transformer_features.append(tf.expand_dims(encoded_movie, 1))\r\n",
    "    encoded_transformer_features.append(encoded_target_movie)\r\n",
    "\r\n",
    "    encoded_transformer_features = layers.concatenate(\r\n",
    "        encoded_transformer_features, axis=1\r\n",
    "    )\r\n",
    "\r\n",
    "    return encoded_transformer_features, encoded_other_features\r\n"
   ],
   "outputs": [],
   "metadata": {}
  },
  {
   "cell_type": "markdown",
   "source": [
    "Create a BST model"
   ],
   "metadata": {}
  },
  {
   "cell_type": "code",
   "execution_count": 33,
   "source": [
    "include_user_id = False\r\n",
    "include_user_features = False\r\n",
    "include_movie_features = False\r\n",
    "\r\n",
    "hidden_units = [256, 128]\r\n",
    "dropout_rate = 0.1\r\n",
    "num_heads = 3\r\n",
    "\r\n",
    "\r\n",
    "def create_model():\r\n",
    "    inputs = create_model_inputs()\r\n",
    "    transformer_features, other_features = encode_input_features(\r\n",
    "        inputs, include_user_id, include_user_features, include_movie_features\r\n",
    "    )\r\n",
    "\r\n",
    "    # Create a multi-headed attention layer.\r\n",
    "    attention_output = layers.MultiHeadAttention(\r\n",
    "        num_heads=num_heads, key_dim=transformer_features.shape[2], dropout=dropout_rate\r\n",
    "    )(transformer_features, transformer_features)\r\n",
    "\r\n",
    "    # Transformer block.\r\n",
    "    attention_output = layers.Dropout(dropout_rate)(attention_output)\r\n",
    "    x1 = layers.Add()([transformer_features, attention_output])\r\n",
    "    x1 = layers.LayerNormalization()(x1)\r\n",
    "    x2 = layers.LeakyReLU()(x1)\r\n",
    "    x2 = layers.Dense(units=x2.shape[-1])(x2)\r\n",
    "    x2 = layers.Dropout(dropout_rate)(x2)\r\n",
    "    transformer_features = layers.Add()([x1, x2])\r\n",
    "    transformer_features = layers.LayerNormalization()(transformer_features)\r\n",
    "    features = layers.Flatten()(transformer_features)\r\n",
    "\r\n",
    "    # Included the other features.\r\n",
    "    if other_features is not None:\r\n",
    "        features = layers.concatenate(\r\n",
    "            [features, layers.Reshape([other_features.shape[-1]])(other_features)]\r\n",
    "        )\r\n",
    "\r\n",
    "    # Fully-connected layers.\r\n",
    "    for num_units in hidden_units:\r\n",
    "        features = layers.Dense(num_units)(features)\r\n",
    "        features = layers.BatchNormalization()(features)\r\n",
    "        features = layers.LeakyReLU()(features)\r\n",
    "        features = layers.Dropout(dropout_rate)(features)\r\n",
    "\r\n",
    "    outputs = layers.Dense(units=1)(features)\r\n",
    "    model = keras.Model(inputs=inputs, outputs=outputs)\r\n",
    "    return model\r\n",
    "\r\n",
    "\r\n",
    "model = create_model()"
   ],
   "outputs": [],
   "metadata": {}
  },
  {
   "cell_type": "markdown",
   "source": [
    "Run training and evaluation experiment"
   ],
   "metadata": {}
  },
  {
   "cell_type": "code",
   "execution_count": 34,
   "source": [
    "# Compile the model.\r\n",
    "model.compile(\r\n",
    "    optimizer=keras.optimizers.Adagrad(learning_rate=0.01),\r\n",
    "    loss=keras.losses.MeanSquaredError(),\r\n",
    "    metrics=[keras.metrics.MeanAbsoluteError()],\r\n",
    ")\r\n",
    "\r\n",
    "# Read the training data.\r\n",
    "train_dataset = get_dataset_from_csv(\"train_data.csv\", shuffle=True, batch_size=265)\r\n",
    "\r\n",
    "# Fit the model with the training data.\r\n",
    "model.fit(train_dataset, epochs=5)\r\n",
    "\r\n",
    "# Read the test data.\r\n",
    "test_dataset = get_dataset_from_csv(\"test_data.csv\", batch_size=265)\r\n",
    "\r\n",
    "# Evaluate the model on the test data.\r\n",
    "_, rmse = model.evaluate(test_dataset, verbose=0)\r\n",
    "print(f\"Test MAE: {round(rmse, 3)}\")"
   ],
   "outputs": [
    {
     "output_type": "stream",
     "name": "stdout",
     "text": [
      "Epoch 1/5\n"
     ]
    }
   ],
   "metadata": {}
  }
 ],
 "metadata": {
  "orig_nbformat": 4,
  "language_info": {
   "name": "python",
   "version": "3.8.5",
   "mimetype": "text/x-python",
   "codemirror_mode": {
    "name": "ipython",
    "version": 3
   },
   "pygments_lexer": "ipython3",
   "nbconvert_exporter": "python",
   "file_extension": ".py"
  },
  "kernelspec": {
   "name": "python3",
   "display_name": "Python 3.8.5 64-bit"
  },
  "interpreter": {
   "hash": "60716cfbf8f6257f052921a35c79929cd52e6aa52b65b24e32100e25d3fdc1e3"
  }
 },
 "nbformat": 4,
 "nbformat_minor": 2
}