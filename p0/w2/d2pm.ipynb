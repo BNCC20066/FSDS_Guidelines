{
   "cells": [
      {
         "source": [
            "# Week 2: Day 2 PM // Math: Linear Algebra"
         ],
         "cell_type": "markdown",
         "metadata": {}
      },
      {
         "cell_type": "code",
         "execution_count": null,
         "metadata": {},
         "outputs": [],
         "source": [
            "import matplotlib.pyplot as plt\n",
            "import numpy as np\n",
            "import sympy as sy\n",
            "sy.init_printing() "
         ]
      },
      {
         "cell_type": "markdown",
         "metadata": {},
         "source": [
            "## Linear Transformation"
         ]
      },
      {
         "cell_type": "markdown",
         "metadata": {},
         "source": [
            "There many new terminologies in this chapter, however they are not entirely new to us."
         ]
      },
      {
         "cell_type": "markdown",
         "metadata": {},
         "source": [
            "Let $V$ and $W$ be vector spaces. The mapping $T:\\ V\\rightarrow W$ is called alinear transformation if an only if\n",
            "\n",
            "$$\n",
            "T(u+v)=T(u)+T(v)\\quad \\text{and} \\quad T(cu)=cT(u)\n",
            "$$\n",
            "\n",
            "for all $u,v\\in V$ and all $c\\in R$. If $T:\\ V\\rightarrow W$, then $T$ is called a linear operator. For each $u\\in V$, the vector $w=T(u)$ is called the of $u$ under $T$."
         ]
      },
      {
         "cell_type": "markdown",
         "metadata": {},
         "source": [
            "### Parametric Function Plotting"
         ]
      },
      {
         "cell_type": "markdown",
         "metadata": {},
         "source": [
            "We need one tool for illustrating the idea of linear transformation.\n",
            "\n",
            "We want to plot any line in vector space by an equation: $p = p_0+tv$. We need to know vector $p_0$ and $v$ to plot the line. \n",
            "\n",
            "For instance, $p_0 = (2, 6)$, $v=(5, 3)$ and $p = (x, y)$, subsitute them into our equation\n",
            "$$\n",
            "\\left[\n",
            "\\begin{matrix}\n",
            "x\\\\y\n",
            "\\end{matrix}\n",
            "\\right]=\\left[\n",
            "\\begin{matrix}\n",
            "2\\\\6\n",
            "\\end{matrix}\n",
            "\\right]+\n",
            "t\\left[\n",
            "\\begin{matrix}\n",
            "5\\\\3\n",
            "\\end{matrix}\n",
            "\\right]\n",
            "$$"
         ]
      },
      {
         "cell_type": "code",
         "execution_count": null,
         "metadata": {},
         "outputs": [],
         "source": [
            "def paraEqPlot(p0, v0, p1, v1):\n",
            "    t = np.linspace(-5, 5)\n",
            "    ################### First Line ####################\n",
            "    fig, ax = plt.subplots(figsize = (10, 10))\n",
            "    x = p0[0,:] + v0[0,:]*t\n",
            "    y = p0[1,:] + v0[1,:]*t\n",
            "    ax.plot(x, y, lw = 3, color = 'red')\n",
            "    ax.grid(True)\n",
            "    ax.scatter(p0[0,:], p0[1,:], s = 150, ec = 'red', fc = 'black', zorder = 3)\n",
            "    \n",
            "    ################### First Line ####################\n",
            "    x = p1[0,:] + v1[0,:]*t\n",
            "    y = p1[1,:] + v1[1,:]*t\n",
            "    ax.plot(x, y, lw = 3, color = 'blue')\n",
            "    ax.grid(True)\n",
            "    ax.scatter(p1[0,:], p1[1,:], s = 150, ec = 'red', fc = 'black', zorder = 3)\n",
            "    \n",
            "    ax.spines['left'].set_position('zero')\n",
            "    ax.spines['bottom'].set_position('zero')\n",
            "\n",
            "    # Eliminate upper and right axes\n",
            "    ax.spines['right'].set_color('none')\n",
            "    ax.spines['top'].set_color('none')\n",
            "\n",
            "    # Show ticks in the left and lower axes only\n",
            "    ax.xaxis.set_ticks_position('bottom')\n",
            "    ax.yaxis.set_ticks_position('left')\n",
            "    \n",
            "    string =  '$(%.d, %.d)$' % (p0[0,:], p0[1,:])\n",
            "    ax.text(x= p0[0,:]+.5, y = p0[1,:], s = string, size = 14)\n",
            "    \n",
            "    string =  '$(%.d, %.d)$' % (p1[0,:], p1[1,:])\n",
            "    ax.text(x= p1[0,:]+.5, y = p1[1,:], s = string, size = 14)"
         ]
      },
      {
         "cell_type": "markdown",
         "metadata": {},
         "source": [
            "### A Simple Linear Transformation"
         ]
      },
      {
         "cell_type": "markdown",
         "metadata": {},
         "source": [
            "Now we know the parametric functions in $\\mathbb{R}^2$, we can show how a linear transformation acturally works on a line."
         ]
      },
      {
         "cell_type": "markdown",
         "metadata": {},
         "source": [
            "Let's say, we perform linear transformation on a vector $(x, y)$, \n",
            "\n",
            "$$\n",
            "T\\left(\\left[\\matrix{x\\cr y}\\right]\\right)=\\pmatrix{3x-2y\\cr -2x+3y}\\\\\n",
            "$$\n",
            "and substitute the parametric function into the linear operator.\n",
            "\n",
            "$$\n",
            "T\\left(\\left[\\matrix{4+t\\cr 5+3t}\\right]\\right)=\\pmatrix{3(4+t)-2(5+3t)\\cr -2(4+t)+3(5+3t)}=\\left[\n",
            "\\begin{matrix}\n",
            "2-3t\\\\7+7t\n",
            "\\end{matrix}\n",
            "\\right]\n",
            "$$"
         ]
      },
      {
         "cell_type": "markdown",
         "metadata": {},
         "source": [
            "The red line is transformed into"
         ]
      },
      {
         "cell_type": "code",
         "execution_count": null,
         "metadata": {},
         "outputs": [],
         "source": [
            "p0 = np.array([[4],[5]])\n",
            "v0 = np.array([[1],[3]])\n",
            "p1 = np.array([[2],[7]])\n",
            "v1 = np.array([[-3],[7]])\n",
            "paraEqPlot(p0,v0,p1, v1)"
         ]
      },
      {
         "cell_type": "markdown",
         "metadata": {},
         "source": [
            "### Visualization of Change of Basis"
         ]
      },
      {
         "cell_type": "markdown",
         "metadata": {},
         "source": [
            "Change of basis is also a kind of linear transformation. Let's create a grid."
         ]
      },
      {
         "cell_type": "code",
         "execution_count": null,
         "metadata": {},
         "outputs": [],
         "source": [
            "u1, u2 = np.linspace(-5, 5, 10), np.linspace(-5, 5, 10)\n",
            "U1, U2 = np.meshgrid(u1, u2)"
         ]
      },
      {
         "cell_type": "markdown",
         "metadata": {},
         "source": [
            "We plot each row of $U2$ again each row of $U1$"
         ]
      },
      {
         "cell_type": "code",
         "execution_count": null,
         "metadata": {},
         "outputs": [],
         "source": [
            "fig, ax = plt.subplots(figsize = (10, 10))\n",
            "ax.plot(U1,U2, color = 'black') \n",
            "ax.plot(U1.T,U2.T, color = 'black') \n",
            "plt.show()"
         ]
      },
      {
         "cell_type": "markdown",
         "metadata": {},
         "source": [
            "Let $A$ and $B$ be two bases in $\\mathbb{R}^3$\n",
            " \n",
            "$$\n",
            "A=\\left\\{\\left[\\matrix{2\\cr 1}\\right],\\ \\left[\\matrix{1\\cr 1}\\right]\\right\\}\\\\\n",
            "B=\\left\\{\\left[\\matrix{3\\cr 2}\\right],\\ \\left[\\matrix{0\\cr -1}\\right]\\right\\}\\\\\n",
            "$$\n",
            "\n",
            "If we want to use basis $A$ to represent $B$, we can construct an augmented matrix like we did before.\n",
            "\n",
            "$$\n",
            "[A|B]=\n",
            "\\left[\n",
            "\\begin{matrix}\n",
            "2 & 1 & 3 & 0\\\\\n",
            "1 & 1 & 2 & -1\n",
            "\\end{matrix}\n",
            "\\right]\n",
            "$$"
         ]
      },
      {
         "cell_type": "code",
         "execution_count": null,
         "metadata": {},
         "outputs": [],
         "source": [
            "AB = sy.Matrix([[2,1,3,0],[1,1,2,-1]]); AB.rref()"
         ]
      },
      {
         "cell_type": "markdown",
         "metadata": {},
         "source": [
            "We find the transition matrix $P_{A\\leftarrow B}$\n",
            "$$\n",
            "[A|B]=[I|P_{A\\leftarrow B}]\n",
            "$$"
         ]
      },
      {
         "cell_type": "markdown",
         "metadata": {},
         "source": [
            "We can write\n",
            "\n",
            "$$\n",
            "\\big[x\\big]_A = P_{A\\leftarrow B}\\big[u\\big]_B\\\\\n",
            "\\left[\n",
            "\\begin{matrix}\n",
            "x_1\\\\x_2\n",
            "\\end{matrix}\n",
            "\\right]\n",
            "=\n",
            "\\left[\n",
            "\\begin{matrix}\n",
            "1 & 1\\\\1 & -2\n",
            "\\end{matrix}\n",
            "\\right]\n",
            "\\left[\n",
            "\\begin{matrix}\n",
            "u_1\\\\u_2\n",
            "\\end{matrix}\n",
            "\\right]\\\\\n",
            "$$"
         ]
      },
      {
         "cell_type": "markdown",
         "metadata": {},
         "source": [
            "Therefore\n",
            "$$\n",
            "x_1 = u_1+u_2\\\\\n",
            "x_2 = u_1 - 2u_2\n",
            "$$"
         ]
      },
      {
         "cell_type": "markdown",
         "metadata": {},
         "source": [
            "Let's plot original and transformed coordinates together."
         ]
      },
      {
         "cell_type": "code",
         "execution_count": null,
         "metadata": {},
         "outputs": [],
         "source": [
            "u1, u2 = np.linspace(-10, 10, 21), np.linspace(-10, 10, 21)\n",
            "U1, U2 = np.meshgrid(u1, u2)\n",
            "\n",
            "fig, ax = plt.subplots(figsize = (10, 10))\n",
            "ax.plot(U1,U2, color = 'black', lw = 1) \n",
            "ax.plot(U1.T,U2.T, color = 'black', lw = 1) \n",
            "\n",
            "X1 = U1 +U2\n",
            "X2 = U1 - 2*U2\n",
            "ax.plot(X1,X2, color = 'red', ls = '--') \n",
            "ax.plot(X1.T,X2.T, color = 'red', ls = '--') \n",
            "\n",
            "ax.arrow(0, 0, 1, 1, color = 'blue', width = .07, \n",
            "     length_includes_head = True,\n",
            "     head_width = .2, # default: 3*width\n",
            "     head_length = .3, zorder = 4,\n",
            "     overhang = .4)\n",
            "\n",
            "ax.arrow(0, 0, 1, -2, color = 'blue', width = .07, \n",
            "     length_includes_head = True,\n",
            "     head_width = .2, # default: 3*width\n",
            "     head_length = .3,zorder = 4,\n",
            "     overhang = .4)\n",
            "\n",
            "ax.text(0.1,0.1,'$(0, 0)$',size = 14)\n",
            "ax.scatter(0,0,s = 120, zorder = 5, ec = 'red', fc = 'black')\n",
            "\n",
            "ax.axis([-4, 4, -5, 5])\n",
            "plt.show()"
         ]
      },
      {
         "cell_type": "markdown",
         "metadata": {},
         "source": [
            "## Visualization of Linear Combination in $\\mathbb{R}^2$"
         ]
      },
      {
         "cell_type": "markdown",
         "metadata": {},
         "source": [
            "Consider two vectors $u$ and $v$ in $\\mathbb{R}^2$, and they are independent of each other, i.e. not pointing to the same or opposite direction. Therefore any vector in the $\\mathbb{R}^2$ can be represented by a linear combination of $u$ and $v$"
         ]
      },
      {
         "cell_type": "markdown",
         "metadata": {},
         "source": [
            "For instance, this is a linear combination and essentially a linear system."
         ]
      },
      {
         "cell_type": "markdown",
         "metadata": {},
         "source": [
            "$$\n",
            "c_1\n",
            "\\left[\n",
            "\\begin{matrix}\n",
            "4\\\\\n",
            "2\n",
            "\\end{matrix}\n",
            "\\right]+\n",
            "c_2\n",
            "\\left[\n",
            "\\begin{matrix}\n",
            "-2\\\\\n",
            "2\n",
            "\\end{matrix}\n",
            "\\right]\n",
            "=\n",
            "\\left[\n",
            "\\begin{matrix}\n",
            "2\\\\\n",
            "10\n",
            "\\end{matrix}\n",
            "\\right]\n",
            "$$"
         ]
      },
      {
         "cell_type": "markdown",
         "metadata": {},
         "source": [
            "Solve the system in SymPy:"
         ]
      },
      {
         "cell_type": "code",
         "execution_count": null,
         "metadata": {},
         "outputs": [],
         "source": [
            "A = sy.Matrix([[4, -2, 2], [2,2,10]])\n",
            "A.rref()"
         ]
      },
      {
         "cell_type": "markdown",
         "metadata": {},
         "source": [
            "The solution is $(c_1, c_2)^T = (2, 3)^T$, which means the sum of 2 times of $\\left[\n",
            "\\begin{matrix}\n",
            "4\\\\\n",
            "2\n",
            "\\end{matrix}\n",
            "\\right]$ and 3 times of $\\left[\n",
            "\\begin{matrix}\n",
            "-2\\\\\n",
            "2\n",
            "\\end{matrix}\n",
            "\\right]$ is $\\left[\n",
            "\\begin{matrix}\n",
            "2\\\\\n",
            "10\n",
            "\\end{matrix}\n",
            "\\right]$. "
         ]
      },
      {
         "cell_type": "markdown",
         "metadata": {},
         "source": [
            "Besides plotting the vectors and its addition, we would like to plot the coordinates of basis that spanned by $u$ and $v$ as well. We will explain further in later chapter."
         ]
      },
      {
         "cell_type": "markdown",
         "metadata": {},
         "source": [
            "We can calcuate the slope of vectors\n",
            "$$\n",
            "s_1 =\\frac{y}{x} = \\frac{2}{4}=.5\\\\\n",
            "s_2 =\\frac{y}{x}= \\frac{2}{-2}=.-1\n",
            "$$\n",
            "\n",
            "The basis can be constructed as:\n",
            "$$\n",
            "y_1 = a+.5x\\\\\n",
            "y_2 = b-x\n",
            "$$"
         ]
      },
      {
         "cell_type": "code",
         "execution_count": null,
         "metadata": {},
         "outputs": [],
         "source": [
            "fig, ax = plt.subplots(figsize=(8, 8))\n",
            "\n",
            "vec = np.array([[[0,0,4,2]],\n",
            "                 [[0,0,-2,2]],\n",
            "                 [[0,0,2,10]],\n",
            "                 [[0,0,8,4]], \n",
            "                 [[0,0,-6,6]]])\n",
            "colors = ['b','b','r','b','b']\n",
            "\n",
            "for i in range(vec.shape[0]):\n",
            "    X,Y,U,V = zip(*vec[i,:,:])\n",
            "    ax.quiver(X, Y, U, V, angles='xy', scale_units='xy', color = colors[i], scale=1, alpha = .6)\n",
            "    ax.text(x = vec[i,0,2], y = vec[i,0,3], s = '(%.0d, %.0d)' %(vec[i,0,2],vec[i,0,3]), fontsize = 16)\n",
            "\n",
            "points12 = np.array([[8,4],[2,10]])\n",
            "ax.plot(points12[:,0], points12[:,1], c = 'b', lw = 3.5,alpha =0.5, ls = '--')\n",
            "\n",
            "points34 = np.array([[-6, 6],[2,10]])\n",
            "ax.plot(points34[:,0], points34[:,1], c = 'b', lw = 3.5,alpha =0.5, ls = '--')\n",
            "\n",
            "ax.set_xlim([-10, 10])\n",
            "ax.set_ylim([0, 10.5])\n",
            "ax.set_xlabel('x-axis', fontsize =16)\n",
            "ax.set_ylabel('y-axis', fontsize =16)\n",
            "ax.grid()\n",
            "\n",
            "######################################Basis########################################\n",
            "a = np.arange(-11, 20, 1)\n",
            "x = np.arange(-11, 20, 1)\n",
            "\n",
            "for i in a:    \n",
            "    y1 = i + .5*x\n",
            "    ax.plot(x, y1, ls = '--', color = 'pink', lw = 2)\n",
            "    y2 = i - x\n",
            "    ax.plot(x, y2, ls = '--', color = 'pink', lw = 2)    \n",
            "\n",
            "ax.set_title('Linear Combination of Two Vectors in $\\mathbf{R}^2$', size = 22, x =0.5, y = 1.01)\n",
            "plt.show()"
         ]
      },
      {
         "cell_type": "markdown",
         "metadata": {},
         "source": [
            "## Linear Combination Visualization in 3D"
         ]
      },
      {
         "cell_type": "markdown",
         "metadata": {},
         "source": [
            "We can show that any vectors in $\\mathbb{R}^3$ can be a linear combination of a standard basis, which we will see again later.This time, we upgrade the difficulty, we create a function for drawing linear combination of standard basis in 3D, we only need to provide the scalar multiplier."
         ]
      },
      {
         "cell_type": "code",
         "execution_count": null,
         "metadata": {},
         "outputs": [],
         "source": [
            "def linearCombo(a, b, c):\n",
            "    %matplotlib notebook\n",
            "    '''This function is for visualizing linear combination of standard basis in 3D.\n",
            "    Function syntax: linearCombo(a, b, c), where a, b, c are the scalar multiplier, \n",
            "    also the elements of the vector.\n",
            "    '''\n",
            "    fig, ax = plt.subplots(figsize = (8, 8))\n",
            "    ax = fig.gca(projection='3d')\n",
            "    ######################## Standard basis and Scalar Multiplid Vectors#########################\n",
            "    vec = np.array([[[0, 0, 0, 1, 0, 0]], # e1\n",
            "                    [[0, 0, 0, 0, 1, 0]], # e2\n",
            "                    [[0, 0, 0, 0, 0, 1]], # e3\n",
            "                    [[0, 0, 0, a, 0, 0]], # a* e1\n",
            "                    [[0, 0, 0, 0, b, 0]], # b* e2\n",
            "                    [[0, 0, 0, 0, 0, c]], # c* e3\n",
            "                    [[0, 0, 0, a, b, c]]]) # ae1 + be2 + ce3\n",
            "    colors = ['b','b','b','r','r','r','g']\n",
            "    for i in range(vec.shape[0]): \n",
            "        X, Y, Z, U, V, W = zip(*vec[i,:,:])\n",
            "        ax.quiver(X, Y, Z, U, V, W, length=1, normalize=False, \n",
            "                  color = colors[i] ,arrow_length_ratio = .08, pivot = 'tail',\n",
            "                  linestyles = 'solid',linewidths = 3, alpha =.6)\n",
            "    \n",
            "    #################################Plot Rectangle Boxes##############################\n",
            "    dlines = np.array([[[a, 0, 0],[a, b, 0]],\n",
            "                      [[0, b, 0],[a, b, 0]],\n",
            "                      [[0, 0, c],[a, b, c]],\n",
            "                      [[0, 0, c],[a, 0, c]],\n",
            "                      [[a, 0, c],[a, b, c]],\n",
            "                      [[0, 0, c],[0, b, c]],\n",
            "                      [[0, b, c],[a, b, c]],\n",
            "                      [[a, 0, 0],[a, 0, c]],\n",
            "                      [[0, b, 0],[0, b, c]],\n",
            "                      [[a, b, 0],[a, b, c]]])\n",
            "    colors = ['k','k','g','k','k','k','k','k','k']\n",
            "    for i in range(dlines.shape[0]):\n",
            "        ax.plot(dlines[i,:,0], dlines[i,:,1], dlines[i,:,2], lw =3, ls = '--', color = 'black', alpha=0.5)\n",
            "    \n",
            "    #################################Annotation########################################\n",
            "    ax.text(x = a, y = b, z = c, s= ' $(%0.d, %0.d, %.0d)$'% (a, b, c), size = 18)\n",
            "    ax.text(x = a, y = 0, z = 0, s= ' $%0.d e_1 = (%0.d, 0, 0)$'% (a, a), size = 15)\n",
            "    ax.text(x = 0, y = b, z = 0, s= ' $%0.d e_2 = (0, %0.d, 0)$'% (b, b), size = 15)\n",
            "    ax.text(x = 0, y = 0, z = c, s= ' $%0.d e_3 = (0, 0, %0.d)$' %(c, c), size = 15)\n",
            "    \n",
            "    #################################Axis Setting######################################\n",
            "    ax.grid()\n",
            "    ax.set_xlim([0, a+1])\n",
            "    ax.set_ylim([0, b+1])\n",
            "    ax.set_zlim([0, c+1])\n",
            "    \n",
            "    ax.set_xlabel('x-axis', size = 18)\n",
            "    ax.set_ylabel('y-axis', size = 18)\n",
            "    ax.set_zlabel('z-axis', size = 18)\n",
            "    \n",
            "    ax.set_title('Vector $(%0.d, %0.d, %.0d)$ Visualization' %(a, b, c), size = 20)\n",
            "    \n",
            "    ax.view_init(elev=20., azim=15)\n",
            "\n",
            "if __name__ == '__main__':\n",
            "    a = 7\n",
            "    b = 4\n",
            "    c = 9\n",
            "    linearCombo(a, b, c)\n"
         ]
      },
      {
         "cell_type": "markdown",
         "metadata": {},
         "source": [
            "## Linear Combination of Inconsistent System"
         ]
      },
      {
         "cell_type": "markdown",
         "metadata": {},
         "source": [
            "### One Free Variable"
         ]
      },
      {
         "cell_type": "markdown",
         "metadata": {},
         "source": [
            "We have seen how inconsistent systems can be solved in the earlier lectures.Now we will see what solution means from the perspective of linear combination.\n",
            "\n",
            "Consider a system\n",
            "\n",
            "$$\n",
            "\\left[\n",
            "\\begin{matrix}\n",
            "1 & 1 & 2\\\\\n",
            "-2 &0 & 1\\\\\n",
            "1& 1 & 2\n",
            "\\end{matrix}\n",
            "\\right]\n",
            "\\left[\n",
            "\\begin{matrix}\n",
            "c_1\\\\c_2\\\\c_3\n",
            "\\end{matrix}\n",
            "\\right]\n",
            "=\n",
            "\\left[\n",
            "\\begin{matrix}\n",
            "1\\\\-3\\\\1\n",
            "\\end{matrix}\n",
            "\\right]\n",
            "$$"
         ]
      },
      {
         "cell_type": "markdown",
         "metadata": {},
         "source": [
            "Solve in SymPy:"
         ]
      },
      {
         "cell_type": "code",
         "execution_count": null,
         "metadata": {},
         "outputs": [],
         "source": [
            "A = sy.Matrix([[1,1,2,1],[-2,0,1,-3],[1,1,2,1]])\n",
            "A.rref()"
         ]
      },
      {
         "cell_type": "markdown",
         "metadata": {},
         "source": [
            "The solution is not unique, due to a free variable: "
         ]
      },
      {
         "cell_type": "markdown",
         "metadata": {},
         "source": [
            "$$\n",
            "c_1 - \\frac{1}{2}c_3 =\\frac{3}{2}\\\\\n",
            "c_2 + \\frac{5}{2}c_3 = -\\frac{1}{2}\\\\\n",
            "c_3 = free\n",
            "$$"
         ]
      },
      {
         "cell_type": "markdown",
         "metadata": {},
         "source": [
            "Let $c_3 = t$,  the system can be parameterized:"
         ]
      },
      {
         "cell_type": "markdown",
         "metadata": {},
         "source": [
            "$$\n",
            "\\left[\n",
            "\\begin{matrix}\n",
            "c_1\\\\c_2\\\\c_3\n",
            "\\end{matrix}\n",
            "\\right]\n",
            "=\n",
            "\\left[\n",
            "\\begin{matrix}\n",
            "\\frac{3}{2}+\\frac{1}{2}t\\\\\n",
            "-\\frac{1}{2}-\\frac{5}{2}t\\\\\n",
            "t\n",
            "\\end{matrix}\n",
            "\\right]\n",
            "$$"
         ]
      },
      {
         "cell_type": "markdown",
         "metadata": {},
         "source": [
            "The solution is a line with infinite length, but we can still visualize a segment if we set the range.\n",
            "\n",
            "For instance, we set the range of $t\\in (-1, 1)$, the solution looks like:"
         ]
      },
      {
         "cell_type": "code",
         "execution_count": null,
         "metadata": {
            "scrolled": false
         },
         "outputs": [],
         "source": [
            "fig = plt.figure(figsize = (8,8))\n",
            "ax = fig.add_subplot(projection='3d')\n",
            "\n",
            "t = np.linspace(-1, 1, 10)\n",
            "c1 = 3/2+t/2\n",
            "c2 = -1/2-5/2*t\n",
            "\n",
            "ax.plot(c1, c2, t, lw = 5)\n",
            "\n",
            "ax.set_xlabel('x-axis', size = 18)\n",
            "ax.set_ylabel('y-axis', size = 18)\n",
            "ax.set_zlabel('z-axis', size = 18)\n",
            "\n",
            "ax.set_title('Solution of A Linear System with One Free Variable', size = 18)\n",
            "plt.show()"
         ]
      },
      {
         "cell_type": "markdown",
         "metadata": {},
         "source": [
            "### Two Free Variables"
         ]
      },
      {
         "cell_type": "markdown",
         "metadata": {},
         "source": [
            "Now consider the linear system:\n",
            "\n",
            "$$\n",
            "\\left[\n",
            "\\begin{matrix}\n",
            "1 & -3 & -2\\\\\n",
            "0 &0 & 0 \\\\\n",
            "0& 0 & 0 \n",
            "\\end{matrix}\n",
            "\\right]\n",
            "\\left[\n",
            "\\begin{matrix}\n",
            "x_1\\\\\n",
            "x_2\\\\\n",
            "x_3\n",
            "\\end{matrix}\n",
            "\\right]\n",
            "=\n",
            "\\left[\n",
            "\\begin{matrix}\n",
            "0\\\\0\\\\0\n",
            "\\end{matrix}\n",
            "\\right]\n",
            "$$\n",
            "\n",
            "The augmented matrix is\n",
            "\n",
            "$$\n",
            "\\left[\n",
            "\\begin{matrix}\n",
            "1 & -3 & -2 & 0\\\\\n",
            "0 &0 & 0 & 0\\\\\n",
            "0& 0 & 0 & 0\n",
            "\\end{matrix}\n",
            "\\right]\n",
            "$$"
         ]
      },
      {
         "cell_type": "markdown",
         "metadata": {},
         "source": [
            "Then we have two free variables\n",
            "$$\n",
            "\\begin{align}\n",
            "x_1 &= 3x_2+2x_3\\\\\n",
            "x_2 &= free\\\\\n",
            "x_3 &= free\n",
            "\\end{align}\n",
            "$$\n",
            "Rewrite the solution \n",
            "\n",
            "$$\n",
            "\\left[\n",
            "\\begin{matrix}\n",
            "x_1\\\\\n",
            "x_2\\\\\n",
            "x_3\n",
            "\\end{matrix}\n",
            "\\right]\n",
            "=\n",
            "\\left[\n",
            "\\begin{matrix}\n",
            "3x_2+2x_3\\\\\n",
            "x_2\\\\\n",
            "x_3\n",
            "\\end{matrix}\n",
            "\\right]\n",
            "=\n",
            "\\left[\\begin{array}{c}\n",
            "3 x_{2} \\\\\n",
            "x_{2} \\\\\n",
            "0\n",
            "\\end{array}\\right]+\\left[\\begin{array}{c}\n",
            "2 x_{3} \\\\\n",
            "0 \\\\\n",
            "x_{3}\n",
            "\\end{array}\\right]=\n",
            "x_{2}\\left[\\begin{array}{l}\n",
            "3 \\\\\n",
            "1 \\\\\n",
            "0\n",
            "\\end{array}\\right]+x_{3}\\left[\\begin{array}{l}\n",
            "2 \\\\\n",
            "0 \\\\\n",
            "1\n",
            "\\end{array}\\right]\n",
            "$$"
         ]
      },
      {
         "cell_type": "markdown",
         "metadata": {},
         "source": [
            "The solution is a plain spanned by two vectors $(3, 1, 0)^T$ and $(2, 0, 1)^T$. Let's visualize the plane and spanning vectors."
         ]
      },
      {
         "cell_type": "markdown",
         "metadata": {},
         "source": [
            "We also plot another vector $v = (2,2,1)$ which is not a linear combination of $(3, 1, 0)^T$ and $(2, 0, 1)^T$. As you pan around the view angle, it is apparent that $v$ is not in the same plane of basis vectors."
         ]
      },
      {
         "cell_type": "code",
         "execution_count": null,
         "metadata": {},
         "outputs": [],
         "source": [
            "fig = plt.figure(figsize = (8,8))\n",
            "ax = fig.add_subplot(projection='3d')\n",
            "\n",
            "x2 = np.linspace(-2, 2, 10)\n",
            "x3 = np.linspace(-2, 2, 10)\n",
            "X2, X3 = np.meshgrid(x2, x3)\n",
            "X1 = 3*X2 + 2*X3\n",
            "ax.plot_wireframe(X1, X2, X3, linewidth = 1.5, color = 'k', alpha = .6)\n",
            "\n",
            "vec = np.array([[[0, 0, 0, 3, 1, 0]],\n",
            "               [[0, 0, 0, 2, 0, 1]],\n",
            "               [[0, 0, 0, 5, 1, 1]],\n",
            "               [[0, 0, 0, 2, 2, 1]]])\n",
            "colors = ['r', 'b', 'g', 'purple']\n",
            "for i in range(vec.shape[0]):\n",
            "    X, Y, Z, U, V, W = zip(*vec[i,:,:])\n",
            "    ax.quiver(X, Y, Z, U, V, W, length=1, normalize=False, color = colors[i],\n",
            "              arrow_length_ratio = .08, pivot = 'tail',\n",
            "              linestyles = 'solid',linewidths = 3, alpha = .6)\n",
            "\n",
            "################################Dashed Line################################\n",
            "\n",
            "point12 = np.array([[2, 0, 1],[5, 1, 1]])\n",
            "ax.plot(point12[:,0], point12[:,1], point12[:,2], lw =3, ls = '--', color = 'black', alpha=0.5)\n",
            "\n",
            "point34 = np.array([[3, 1, 0], [5, 1, 1]])\n",
            "ax.plot(point34[:,0], point34[:,1], point34[:,2], lw =3, ls = '--', color = 'black', alpha=0.5)\n",
            "\n",
            "#################################Texts#######################################\n",
            "ax.text(x = 3, y = 1, z = 0, s='$(3, 1, 0)$', color = 'red', size = 16)\n",
            "ax.text(x = 2, y = 0, z = 1, s='$(2, 0, 1)$', color = 'blue', size = 16)\n",
            "ax.text(x = 5, y = 1, z = 1, s='$(5, 1, 1)$', color = 'green', size = 16)\n",
            "ax.text(x = 2, y = 2, z = 1, s='$v$', color = 'purple', size = 16)\n",
            "\n",
            "ax.set_xlabel('x-axis', size = 18)\n",
            "ax.set_ylabel('y-axis', size = 18)\n",
            "ax.set_zlabel('z-axis', size = 18)\n",
            "\n",
            "ax.view_init(elev=-29, azim=130)\n"
         ]
      },
      {
         "cell_type": "markdown",
         "metadata": {},
         "source": [
            "## Linear Combination of Polynomial"
         ]
      },
      {
         "cell_type": "markdown",
         "metadata": {},
         "source": [
            "In a more general sense, a funcion or a polynomial can also be a linear combination of other functions or polynomials.\n",
            "\n",
            "Now consider a polynomial $p(x)=4 x^{3}+5 x^{2}-2 x+7$, determine if it is a linear combination of three polynomials below:\n",
            "$$\n",
            "p_{1}(x)=x^{3}+2 x^{2}-x+1\\\\\n",
            "p_{2}(x)=2 x^{3}+x^{2}-x+1\\\\\n",
            "p_{3}(x)=x^{3}-x^{2}-x-4\n",
            "$$"
         ]
      },
      {
         "cell_type": "markdown",
         "metadata": {},
         "source": [
            "which means that we need to figure out if the equation below holds\n",
            "\n",
            "$$\n",
            "c_{1}\\left(x^{3}+2 x^{2}-x+1\\right)+c_{2}\\left(2 x^{3}+x^{2}-x+1\\right)+c_{3}\\left(x^{3}-x^{2}-x-4\\right)=4 x^{3}+5 x^{2}-2 x+7\n",
            "$$"
         ]
      },
      {
         "cell_type": "markdown",
         "metadata": {},
         "source": [
            "Rearrange and collect terms\n",
            "$$\n",
            "\\left(c_{1}+2 c_{2}+c_{3}\\right) x^{3}+\\left(2 c_{1}+c_{2}-c_{3}\\right) x^{2}+\\left(-c_{1}-c_{2}-c_{3}\\right) x+\\left(c_{1}+c_{2}-4 c_{3}\\right)=4 x^{3}+5 x^{2}-2 x+7\n",
            "$$"
         ]
      },
      {
         "cell_type": "markdown",
         "metadata": {},
         "source": [
            "Equate the coefficients and extract the augmented matrix\n",
            "$$\n",
            "\\begin{aligned}\n",
            "&c_{1}+2 c_{2}+c_{3}=4\\\\\n",
            "&2 c_{1}+c_{2}-c_{3}=5\\\\\n",
            "&-c_{1}-c_{2}-c_{3}=-2\\\\\n",
            "&c_{1}+c_{2}-4 c_{3}=7\\\\\n",
            "&\\left(\\begin{array}{cccc}\n",
            "1 & 2 & 1 & 3 \\\\\n",
            "2 & 1 & -1 & 5 \\\\\n",
            "-1 & -1 & -1 & -2 \\\\\n",
            "1 & 1 & -4 & 7\n",
            "\\end{array}\\right)\n",
            "\\end{aligned}\n",
            "$$"
         ]
      },
      {
         "cell_type": "markdown",
         "metadata": {},
         "source": [
            "Before solving, we notice that the system has 4 equations, but 3 unknowns, this case is called over-determined."
         ]
      },
      {
         "cell_type": "code",
         "execution_count": null,
         "metadata": {},
         "outputs": [],
         "source": [
            "A = sy.Matrix([[1,2,1,4],[2,1,-1,5],[-1,-1,-1,-2],[1,1,-4,7]])\n",
            "A.rref()"
         ]
      },
      {
         "cell_type": "markdown",
         "metadata": {},
         "source": [
            "We get the answer\n",
            "$$\n",
            "\\left(x^{3}+2 x^{2}-x+1\\right)+2\\left(2 x^{3}+x^{2}-x+1\\right)-\\left(x^{3}-x^{2}-x-4\\right)=4 x^{3}+5 x^{2}-2 x+7\n",
            "$$"
         ]
      },
      {
         "cell_type": "markdown",
         "metadata": {},
         "source": [
            "Indeed we have just established a linear combination between these polynomials."
         ]
      },
      {
         "cell_type": "code",
         "execution_count": null,
         "metadata": {},
         "outputs": [],
         "source": [
            "# Plot style\n",
            "sns.set()\n",
            "%pylab inline\n",
            "pylab.rcParams['figure.figsize'] = (4, 4)\n",
            "# Avoid inaccurate floating values (for inverse matrices in dot product for instance)\n",
            "# See https://stackoverflow.com/questions/24537791/numpy-matrix-inversion-rounding-errors\n",
            "np.set_printoptions(suppress=True)"
         ]
      },
      {
         "cell_type": "code",
         "execution_count": null,
         "metadata": {},
         "outputs": [],
         "source": [
            "def plotVectors(vecs, cols, alpha=1):\n",
            "    \"\"\"\n",
            "    Plot set of vectors.\n",
            "\n",
            "    Parameters\n",
            "    ----------\n",
            "    vecs : array-like\n",
            "        Coordinates of the vectors to plot. Each vectors is in an array. For\n",
            "        instance: [[1, 3], [2, 2]] can be used to plot 2 vectors.\n",
            "    cols : array-like\n",
            "        Colors of the vectors. For instance: ['red', 'blue'] will display the\n",
            "        first vector in red and the second in blue.\n",
            "    alpha : float\n",
            "        Opacity of vectors\n",
            "\n",
            "    Returns:\n",
            "\n",
            "    fig : instance of matplotlib.figure.Figure\n",
            "        The figure of the vectors\n",
            "    \"\"\"\n",
            "    plt.figure()\n",
            "    plt.axvline(x=0, color='#A9A9A9', zorder=0)\n",
            "    plt.axhline(y=0, color='#A9A9A9', zorder=0)\n",
            "\n",
            "    for i in range(len(vecs)):\n",
            "        x = np.concatenate([[0,0],vecs[i]])\n",
            "        plt.quiver([x[0]],\n",
            "                   [x[1]],\n",
            "                   [x[2]],\n",
            "                   [x[3]],\n",
            "                   angles='xy', scale_units='xy', scale=1, color=cols[i],\n",
            "                  alpha=alpha)"
         ]
      },
      {
         "cell_type": "markdown",
         "metadata": {},
         "source": [
            "Linear Dependence and Span\n",
            "\n",
            "Since it is all about systems of linear equations, let's start again with the set of equations:\n",
            "\n",
            "$$\\boldsymbol{Ax}=\\boldsymbol{b}$$\n",
            "\n",
            "This system corresponds to:\n",
            "\n",
            "$$\n",
            "A_{1,1}x_1 + A_{1,2}x_2 + \\cdots + A_{1,n}x_n = b_1 \\\\\\\\\n",
            "A_{2,1}x_1 + A_{2,2}x_2 + \\cdots + A_{2,n}x_n = b_2 \\\\\\\\\n",
            "\\cdots \\\\\\\\\n",
            "A_{m,1}x_1 + A_{m,2}x_2 + \\cdots + A_{m,n}x_n = b_n\n",
            "$$\n",
            "\n",
            "So we have multiple equations with multiple unknowns. We know $A_{1,1}...A_{m,n}$ and $b_1...b_n$. To solve the system we need to find the values of the variables $x_1...x_n$ that satisfies all equations."
         ]
      },
      {
         "cell_type": "markdown",
         "metadata": {},
         "source": [
            "## Number of solutions\n",
            "\n",
            "The first thing to ask when we face such a system of equations is: what is the number of solutions ?\n",
            "\n",
            "Three cases can represent the number of solutions of the system of equations $\\boldsymbol{Ax}=\\boldsymbol{b}$.\n",
            " \n",
            " 1. No solution\n",
            " 2. 1 solution\n",
            " 3. An infinite number of solutions\n",
            " \n",
            "### Why there can't be more than 1 solution and less than an infinite number of solutions ?\n",
            "\n",
            "#### Intuition\n",
            "\n",
            "Simply because we deal with **linear** systems! Two lines can't cross more than once.\n",
            "\n",
            "To be able to visualize it, let's take two dimensions and two equations. The solutions of the system correspond to the intersection of the lines. One option is that the two lines never cross (parallel). Another option is that they cross once. And finally, the last option is that they cross everywhere (superimposed):\n",
            "\n",
            "<img src=\"images/number-solutions-system-equations.png\" width=\"700\" alt=\"Examples of systems of equations with 0, 1 and an infinite number of solutions\" title=\"System of equations with 0, 1 and an infinite number of solutions\">\n",
            "<em>A system of equations has no solution, 1 solution or an infinite number of solutions</em>\n",
            "\n",
            "    Two lines can't cross more than once but can be either parallel or superimposed\n",
            "\n",
            "### Proof\n",
            "\n",
            "Let's imagine that $\\boldsymbol{x}$ and $\\boldsymbol{y}$ are two solutions of our system. This means that\n",
            "\n",
            "$$\n",
            "\\begin{cases}\n",
            "\\boldsymbol{Ax}=\\boldsymbol{b}\\\\\\\\\n",
            "\\boldsymbol{Ay}=\\boldsymbol{b}\n",
            "\\end{cases}\n",
            "$$\n",
            "\n",
            "In that case, we will see that $\\boldsymbol{z}=\\alpha \\boldsymbol{x} + (1-\\alpha \\boldsymbol{y})$ is also a solution for any value of $\\alpha$. If $\\boldsymbol{z}$ is a solution, we can say that $\\boldsymbol{Az}=\\boldsymbol{b}$. Indeed, if we plug $\\boldsymbol{z}$ into the left hand side of the equation we obtain:\n",
            "\n",
            "$$\n",
            "\\begin{align*}\n",
            "\\boldsymbol{Az}&=\\boldsymbol{A}(\\alpha x + (1-\\alpha y))\\\\\\\\\n",
            "    &=\\boldsymbol{Ax}\\alpha + \\boldsymbol{A}(1-\\alpha y)\\\\\\\\\n",
            "    &=\\boldsymbol{Ax}\\alpha + \\boldsymbol{Ay}(1-\\alpha)\n",
            "\\end{align*}\n",
            "$$\n",
            "\n",
            "And since $\\boldsymbol{Ax}=\\boldsymbol{Ay}=\\boldsymbol{b}$. This leads to:\n",
            "\n",
            "$$\n",
            "\\begin{align*}\n",
            "\\boldsymbol{Az}&=\\boldsymbol{b}\\alpha + \\boldsymbol{b}(1-\\alpha)\\\\\\\\\n",
            "    &=\\boldsymbol{b}\\alpha + \\boldsymbol{b}-\\boldsymbol{b}\\alpha\\\\\\\\\n",
            "    &=\\boldsymbol{b}\n",
            "\\end{align*}\n",
            "$$\n",
            "\n",
            "So $\\boldsymbol{z}$ is also a solution."
         ]
      },
      {
         "cell_type": "markdown",
         "metadata": {},
         "source": [
            "## Matrix representation of the system\n",
            "\n",
            "As we saw it, the equation $\\boldsymbol{Ax}=\\boldsymbol{b}$ can be represented by a matrix $\\boldsymbol{A}$ containing the weigths of each variable and a vector $\\boldsymbol{x}$ containing each variable. The product of $\\boldsymbol{A}$ and $\\boldsymbol{x}$ gives $\\boldsymbol{b}$ that is another vector of size $m$:\n",
            "\n",
            "$$\n",
            "\\begin{bmatrix}\n",
            "    A_{1,1} & A_{1,2} & \\cdots & A_{1,n} \\\\\\\\\n",
            "    A_{2,1} & A_{2,2} & \\cdots & A_{2,n} \\\\\\\\\n",
            "    \\cdots & \\cdots & \\cdots & \\cdots \\\\\\\\\n",
            "    A_{m,1} & A_{m,2} & \\cdots & A_{m,n}\n",
            "\\end{bmatrix}\n",
            "\\times\n",
            "\\begin{bmatrix}\n",
            "    x_1 \\\\\\\\\n",
            "    x_2 \\\\\\\\\n",
            "    \\cdots \\\\\\\\\n",
            "    x_n\n",
            "\\end{bmatrix}\n",
            "=\n",
            "\\begin{bmatrix}\n",
            "    b_1 \\\\\\\\\n",
            "    b_2 \\\\\\\\\n",
            "    \\cdots \\\\\\\\\n",
            "    b_m\n",
            "\\end{bmatrix}\n",
            "$$\n",
            "\n",
            "Which corresponds to the set of linear equations\n",
            "\n",
            "$$\n",
            "A_{1,1}x_1 + A_{1,2}x_2 + \\cdots + A_{1,n}x_n = b_1 \\\\\\\\\n",
            "A_{2,1}x_1 + A_{2,2}x_2 + \\cdots + A_{2,n}x_n = b_2 \\\\\\\\\n",
            "\\cdots \\\\\\\\\n",
            "A_{m,1}x_1 + A_{m,2}x_2 + \\cdots + A_{m,n}x_n = b_n\n",
            "$$\n",
            "\n",
            "Here are some intuitions about what is represented by these matrices. The number of columns of $\\boldsymbol{A}$ is the number of dimensions of our vector space. It is the number $n$ of directions we can travel by. The number of solutions of our linear system corresponds to the number of ways we can reach $\\boldsymbol{b}$ by travelling through our $n$ dimensions.\n",
            "\n",
            "But to understand this, we need to underline that two possibilities exist to represent the system of equations: ***the row figure*** and ***the column figure***."
         ]
      },
      {
         "cell_type": "markdown",
         "metadata": {},
         "source": [
            "## Graphical views: Row and column figures\n",
            "\n",
            "When you are looking to the matrix $\\boldsymbol{A}$:\n",
            "\n",
            "$$\n",
            "\\boldsymbol{A}=\\begin{bmatrix}\n",
            "    A_{1,1} & A_{1,2} & \\cdots & A_{1,n} \\\\\\\\\n",
            "    A_{2,1} & A_{2,2} & \\cdots & A_{2,n} \\\\\\\\\n",
            "    \\cdots & \\cdots & \\cdots & \\cdots \\\\\\\\\n",
            "    A_{m,1} & A_{m,2} & \\cdots & A_{m,n}\n",
            "\\end{bmatrix}\n",
            "$$\n",
            "\n",
            "You can consider its rows or its columns separately. Recall that the values are the weights corresponding to each variable. Each row synthetizes one equation. Each column is the set of weights given to 1 variable.\n",
            "\n",
            "It is possible to draw a different graphical represention of the set of equations looking at the rows or at the columns."
         ]
      },
      {
         "cell_type": "markdown",
         "metadata": {},
         "source": [
            "### Graphical view 1: the row figure\n",
            "\n",
            "The row figure is maybe more usual because it is the representation used when we have only one equation. It can now be extended to an infinite number of equations and unknowns (even if it would be hard to represent a 9-dimensional hyperplane in a 10-dimensional space...).\n",
            "\n",
            "We said that the solutions of the linear system of equations are the sets of values of $x_1...x_n$ that satisfies all equations, that is to say, the values taken by the unknowns. For instance, in the case of $\\boldsymbol{A}$ being a ($2 \\times 2$) matrix ($n=m=2$) the equations correspond to lines in a 2-dimensional space and the solution of the system is the intersection of these lines.\n",
            "\n",
            "Note that associating one direction in space to one parameter is only one way to represent the equations. There are number of ways to represent more than 3 parameters systems. For instance, you can add colors to have the representation of a fourth dimension. It is all about **representation**.\n",
            "\n",
            "<img src=\"images/representing-features.png\" width=\"900\" alt=\"Different ways of representing features\" title=\"Feature representation\">\n",
            "<em>Graphical representations of features</em>\n",
            "\n",
            "#### Overdetermined and underdetermined systems\n",
            "\n",
            "A linear system of equations can be viewed as a set of $(n-1)$-dimensional hyperplanes in a *n*-dimensional space. So the linear system can be characterized with its number of equations ($m$) and the number of unknown variables ($n$).\n",
            "\n",
            "- If there are more equations than unknows the system is called **overdetermined**. In the following example we can see a system of 3 equations (represented by 3 lines) and 2 unknowns (corresponding to 2 dimensions). In this example there is no solution since there is no point belonging to the three lines:\n",
            "\n",
            "<img src=\"images/overdetermined-system-linear-equations.png\" width=\"300\" alt=\"Example of an overdetermined system of linear equations with no solution\" title=\"Example of an overdetermined system of linear equations with no solution\">\n",
            "<em>Example of an overdetermined system of linear equations with no solution</em>\n",
            "\n",
            "- If there is more unknowns than equations the system is called **underdetermined**. In the following picture, there is only 1 equation (1 line) and 2 dimensions. Each point that is on the line is a solution of the system. In this case there is an infinite number of solutions:\n",
            "\n",
            "<img src=\"images/underdetermined-system-linear-equations.png\" width=\"300\" alt=\"Example of an underdetermined system of linear equations with an infinite number of solutions\" title=\"Example of an underdetermined system of linear equations with an infinite number of solutions\">\n",
            "<em>Example of an underdetermined system of linear equations with an infinite number of solutions</em>\n",
            "\n",
            "\n",
            "Let's see few examples of these different cases to clarify that."
         ]
      },
      {
         "cell_type": "markdown",
         "metadata": {},
         "source": [
            "### Example 1. \n",
            "\n",
            "$m=1$, $n=2$: **1 equation and 2 variables**\n",
            "\n",
            "$$\n",
            "A_{1,1}x_1 + A_{1,2}x_2 = b_1\n",
            "$$\n",
            "\n",
            "The graphical interpretation of $n=2$ is that we have a 2-D space. So we can represent it with 2 axes. Since our hyperplane is of $n-1$-dimensional, we have a 1-D hyperplane. This is simply a line. As $m=1$, we have only one equation. This means that we have only one line characterizing our linear system.\n",
            "\n",
            "Note that the last equation can also be written in a way that may be more usual:\n",
            "\n",
            "$$\n",
            "y = ax + b\n",
            "$$\n",
            "\n",
            "with $y$ corresponding to $x_2$, $x$ corresponding to $x_1$, $a$ corresponding to $A_{1,1}$ and $A_{1,2}=1$.\n",
            "\n",
            "For this first example we will take the following equation:\n",
            "\n",
            "$$\n",
            "y = 2x + 1\n",
            "$$\n",
            "\n",
            "Let's draw the line of this equation with Numpy and Matplotlib (see BONUS in [2.3](https://hadrienj.github.io/posts/Deep-Learning-Book-Series-2.3-Identity-and-Inverse-Matrices/) for light tips to plot equations)."
         ]
      },
      {
         "cell_type": "code",
         "execution_count": null,
         "metadata": {},
         "outputs": [],
         "source": [
            "x = np.arange(-10, 10)\n",
            "y = 2*x + 1\n",
            "\n",
            "plt.figure()\n",
            "plt.plot(x, y)\n",
            "plt.xlim(-2, 10)\n",
            "plt.ylim(-2, 10)\n",
            "# draw axes\n",
            "plt.axvline(x=0, color='#A9A9A9')\n",
            "plt.axhline(y=0, color='#A9A9A9')\n",
            "plt.show()\n",
            "plt.close()"
         ]
      },
      {
         "cell_type": "markdown",
         "metadata": {
            "collapsed": true
         },
         "source": [
            "#### Solutions\n",
            "\n",
            "The solutions of this linear system correspond to the value of $x$ and $y$ such as $y=2x+1$. Graphically, it corresponds to each point on the line so there is an infinite number of solutions. For instance, one solution is $x=0$ and $y=1$, or $x=1$ and $y=3$ and so on."
         ]
      },
      {
         "cell_type": "markdown",
         "metadata": {
            "collapsed": true
         },
         "source": [
            "### Example 2.\n",
            "\n",
            "*m*=2, *n*=2: **2 equations and 2 unknowns**\n",
            "\n",
            "$$\n",
            "A_{1,1}x_1 + A_{1,2}x_2 = b_1\\\\\\\\\n",
            "A_{2,1}x_1 + A_{2,2}x_2 = b_2\n",
            "$$"
         ]
      },
      {
         "cell_type": "markdown",
         "metadata": {
            "collapsed": true
         },
         "source": [
            "The graphical interpretation of this system is that we still have lines in a 2-D space. However this time there are 2 lines since there are 2 equations.\n",
            "\n",
            "Let's take these equations as example:\n",
            "\n",
            "$$\n",
            "\\begin{cases}\n",
            "y = 2x + 1\\\\\\\\\n",
            "y = 6x - 2\n",
            "\\end{cases}\n",
            "$$\n"
         ]
      },
      {
         "cell_type": "code",
         "execution_count": null,
         "metadata": {},
         "outputs": [],
         "source": [
            "x = np.arange(-10, 10)\n",
            "y = 2*x + 1\n",
            "y1 = 6*x - 2\n",
            "\n",
            "plt.figure()\n",
            "plt.plot(x, y)\n",
            "plt.plot(x, y1)\n",
            "plt.xlim(-2, 10)\n",
            "plt.ylim(-2, 10)\n",
            "# draw axes\n",
            "plt.axvline(x=0, color='#A9A9A9')\n",
            "plt.axhline(y=0, color='#A9A9A9')\n",
            "plt.show()\n",
            "plt.close()"
         ]
      },
      {
         "cell_type": "markdown",
         "metadata": {},
         "source": [
            "As we have seen, with 2 lines in a 2-D space, there are multiple possible cases. On the above figure, the two lines are crossing so there is one unique solution. If they are superimposed (same equation or equivalent, *cf*. linear dependance bellow) there are a infinite number of solutions since each points of the lines corresponds to an intersection. If they are parallel, there is no solution.\n",
            "\n",
            "The same thing can be observed with other values of $m$ (number of equations) and $n$ (number of dimensions). For instance, two 2-D planes in a 3-D space can be superposed (infinitely many solutions), or crossed (infinitely many solutions since their crossing is a line), or parallel (no solution)."
         ]
      },
      {
         "cell_type": "markdown",
         "metadata": {},
         "source": [
            "### Example 3.\n",
            "\n",
            "*m*=3, *n*=2: **3 equations and 2 unknowns**\n",
            "\n",
            "$$\n",
            "A_{1,1}x_1 + A_{1,2}x_2 = b_1\\\\\\\\\n",
            "A_{2,1}x_1 + A_{2,2}x_2 = b_2\\\\\\\\\n",
            "A_{3,1}x_1 + A_{3,2}x_2 = b_3\n",
            "$$\n",
            "\n",
            "The same idea stands with more than 2 equations in a 2-D space. In that example we have the following 3 equations:\n",
            "\n",
            "$$\n",
            "\\begin{cases}\n",
            "y = 2x + 1\\\\\\\\\n",
            "y = 6x - 2\\\\\\\\\n",
            "y = \\frac{1}{10}x+6\n",
            "\\end{cases}\n",
            "$$"
         ]
      },
      {
         "cell_type": "code",
         "execution_count": null,
         "metadata": {},
         "outputs": [],
         "source": [
            "x = np.arange(-10, 10)\n",
            "y = 2*x + 1\n",
            "\n",
            "y1 = 6*x - 2\n",
            "y2 = 0.1*x+6\n",
            "\n",
            "plt.figure()\n",
            "plt.plot(x, y)\n",
            "plt.plot(x, y1)\n",
            "plt.plot(x, y2)\n",
            "plt.xlim(-2, 10)\n",
            "plt.ylim(-2, 10)\n",
            "# draw axes\n",
            "plt.axvline(x=0, color='#A9A9A9')\n",
            "plt.axhline(y=0, color='#A9A9A9')\n",
            "plt.show()\n",
            "plt.close()"
         ]
      },
      {
         "cell_type": "markdown",
         "metadata": {},
         "source": [
            "In the above case, there is 3 equations and no solution because there is no point in space that is on each of these lines."
         ]
      },
      {
         "cell_type": "markdown",
         "metadata": {},
         "source": [
            "## Linear combination\n",
            "\n",
            "Before going to the column figure, we need to talk about linear combination. The linear combination of 2 vectors corresponds to their weighted sum.\n",
            "\n",
            "### Example 4.\n",
            "\n",
            "Let's take two vectors\n",
            "\n",
            "$$\n",
            "\\vec{u}=\n",
            "\\begin{bmatrix}\n",
            "    1 \\\\\\\\\n",
            "    3\n",
            "\\end{bmatrix}\n",
            "$$\n",
            "\n",
            "and\n",
            "\n",
            "$$\n",
            "\\vec{v}=\n",
            "\\begin{bmatrix}\n",
            "    2 \\\\\\\\\n",
            "    1\n",
            "\\end{bmatrix}\n",
            "$$\n",
            "\n",
            "These two vectors have 2 dimensions and thus contain coordinates in 2-D.\n",
            "\n",
            "\n",
            "The linear combination of $\\vec{u}$ and $\\vec{v}$ is\n",
            "\n",
            "$$\n",
            "a\\vec{u}+b\\vec{v}= a\n",
            "\\begin{bmatrix}\n",
            "    1 \\\\\\\\\n",
            "    3\n",
            "\\end{bmatrix} + b\\begin{bmatrix}\n",
            "    2 \\\\\\\\\n",
            "    1\n",
            "\\end{bmatrix}\n",
            "$$\n",
            "\n",
            "with $a$ and $b$ the weights of the vectors.\n",
            "\n",
            "Graphically, the vectors are added to reach a specific point in space. For example if $a=2$ and $b=1$:\n",
            "\n",
            "$$\n",
            "2\\vec{u}+\\vec{v}= 2\n",
            "\\begin{bmatrix}\n",
            "    1 \\\\\\\\\n",
            "    3\n",
            "\\end{bmatrix} +\n",
            "\\begin{bmatrix}\n",
            "    2 \\\\\\\\\n",
            "    1\n",
            "\\end{bmatrix} =\n",
            "\\begin{bmatrix}\n",
            "    2 \\cdot 1 + 2 \\\\\\\\\n",
            "    2 \\cdot 3 + 1\n",
            "\\end{bmatrix} =\n",
            "\\begin{bmatrix}\n",
            "    4 \\\\\\\\\n",
            "    7\n",
            "\\end{bmatrix}\n",
            "$$\n",
            "\n",
            "The sum of $\\vec{u}$ and $\\vec{v}$ is a vector that will reach the point of corrdinates $(4, 7)$. To show that on a plot, I will use the custom function `plotVectors()` that I defined at the beginning of [the notebook](https://github.com/hadrienj/deepLearningBook-Notes/blob/master/2.4%20Linear%20Dependence%20and%20Span/2.4%20Linear%20Dependence%20and%20Span.ipynb). It takes a set of coordinates and an array of colors as input and plot the corresponding vectors. So let's plot $\\vec{u}$ and $\\vec{v}$:"
         ]
      },
      {
         "cell_type": "code",
         "execution_count": null,
         "metadata": {},
         "outputs": [],
         "source": [
            "orange = '#FF9A13'\n",
            "blue = '#1190FF'\n",
            "plotVectors([[1, 3], [2, 1]], [orange, blue])\n",
            "plt.xlim(0, 5)\n",
            "plt.ylim(0, 5)"
         ]
      },
      {
         "cell_type": "markdown",
         "metadata": {},
         "source": [
            "We will now add these vectors and their weights. This gives:"
         ]
      },
      {
         "cell_type": "code",
         "execution_count": null,
         "metadata": {},
         "outputs": [],
         "source": [
            "# Weigths of the vectors\n",
            "a = 2\n",
            "b = 1\n",
            "# Start and end coordinates of the vectors\n",
            "u = [0,0,1,3]\n",
            "v = [2,6,2,1]\n",
            "\n",
            "plt.quiver([u[0], a*u[0], b*v[0]],\n",
            "           [u[1], a*u[1], b*v[1]],\n",
            "           [u[2], a*u[2], b*v[2]],\n",
            "           [u[3], a*u[3], b*v[3]],\n",
            "           angles='xy', scale_units='xy', scale=1, color=[orange, orange, blue])\n",
            "plt.xlim(-1, 8)\n",
            "plt.ylim(-1, 8)\n",
            "# Draw axes\n",
            "plt.axvline(x=0, color='#A9A9A9')\n",
            "plt.axhline(y=0, color='#A9A9A9')\n",
            "plt.scatter(4,7,marker='x',s=50)\n",
            "# Draw the name of the vectors\n",
            "plt.text(-0.5, 2, r'$\\vec{u}$', color=orange, size=18)\n",
            "plt.text(0.5, 4.5, r'$\\vec{u}$', color=orange, size=18)\n",
            "plt.text(2.5, 7, r'$\\vec{v}$', color=blue, size=18)\n",
            "plt.show()\n",
            "plt.close()"
         ]
      },
      {
         "cell_type": "markdown",
         "metadata": {},
         "source": [
            "We can see that we end up with the coordinates ($4$, $7$)."
         ]
      },
      {
         "cell_type": "markdown",
         "metadata": {},
         "source": [
            "## Span\n",
            "\n",
            "Take the vectors $\\vec{u}$ and $\\vec{v}$ from the previous example and think about all the points you can reach by their combination changing $a$ and $b$. This set of points is the span of the set of vectors $\\{\\vec{u}, \\vec{v}\\}$."
         ]
      },
      {
         "cell_type": "code",
         "execution_count": null,
         "metadata": {},
         "outputs": [],
         "source": [
            "# Defining u and v\n",
            "u = [1, 3]\n",
            "v = [2, 1]\n",
            "\n",
            "# Ploting a sample of the set of points in the span of u and v\n",
            "for a in range(-10, 10):\n",
            "    for b in range(-10, 10):\n",
            "        plt.scatter(u[0] * a + v[0] * b, u[1] * a + v[1] * b, marker='.', color=blue)\n",
            "\n",
            "# Defining x and y sizes\n",
            "plt.xlim(-50, 50)\n",
            "plt.ylim(-50, 50)\n",
            "\n",
            "# Draw axes\n",
            "plt.axvline(x=0, color='#A9A9A9')\n",
            "plt.axhline(y=0, color='#A9A9A9')\n",
            "\n",
            "plt.show()\n",
            "plt.close()"
         ]
      },
      {
         "cell_type": "markdown",
         "metadata": {},
         "source": [
            "## Note on spaces and subspaces\n",
            "\n",
            "(For more details see Strang (2006), p.70)\n",
            "\n",
            "The space of a vector determines all the values that can be taken by this vector. The vector spaces are denoted $\\mathbb{R}$ because the values are real numbers. If there are multiple dimensions the space is denoted $\\mathbb{R}^n$ with $n$ corresponding to the number of dimensions. For instance $\\mathbb{R}^2$ is the space of the usual $x$-$y$ plane where $x$ and $y$ values are real numbers.\n",
            "\n",
            "If you take a 2-dimensional plane in $\\mathbb{R}^3$ (3-dimensional space), this plane is a **subspace** of your original $\\mathbb{R}^3$ space. On the same manner, if you start with a $\\mathbb{R}^2$ space and take a line in this space, this line is a subspace of the original space.\n",
            "\n",
            "The linear combination of vectors gives vectors in the original space. Every linear combination of vectors inside a space will stay in this space. For instance, if you take 2 lines in a $\\mathbb{R}^2$ space, any linear combinations will give you a vector in the same $\\mathbb{R}^2$ space.\n",
            "\n",
            "The linear combination of vectors gives vectors in the original space\n"
         ]
      },
      {
         "cell_type": "markdown",
         "metadata": {},
         "source": [
            "## Graphical view 2: the column figure\n",
            "\n",
            "It is also possible to represent the set of equations by considering that the solution vector $\\boldsymbol{b}$ corresponds to a linear combination of each columns multiplied by their weights.\n",
            "\n",
            "From the set of equations:\n",
            "\n",
            "$$\n",
            "A_{1,1}x_1 + A_{1,2}x_2 + A_{1,n}x_n = b_1 \\\\\\\\\n",
            "A_{2,1}x_1 + A_{2,2}x_2 + A_{2,n}x_n = b_2 \\\\\\\\\n",
            "\\cdots \\\\\\\\\n",
            "A_{m,1}x_1 + A_{m,2}x_2 + A_{m,n}x_n = b_m\n",
            "$$\n",
            "\n",
            "The column form is then:\n",
            "\n",
            "$$\n",
            "x_1\n",
            "\\begin{bmatrix}\n",
            "    A_{1,1}\\\\\\\\\n",
            "    A_{2,1}\\\\\\\\\n",
            "    A_{m,1}\n",
            "\\end{bmatrix}\n",
            "+\n",
            "x_2\n",
            "\\begin{bmatrix}\n",
            "    A_{1,2}\\\\\\\\\n",
            "    A_{2,2}\\\\\\\\\n",
            "    A_{m,2}\n",
            "\\end{bmatrix}\n",
            "+\n",
            "x_n\n",
            "\\begin{bmatrix}\n",
            "    A_{1,n}\\\\\\\\\n",
            "    A_{2,n}\\\\\\\\\n",
            "    A_{m,n}\n",
            "\\end{bmatrix}\n",
            "=\n",
            "\\begin{bmatrix}\n",
            "    b_1\\\\\\\\\n",
            "    b_2\\\\\\\\\n",
            "    b_m\n",
            "\\end{bmatrix}\n",
            "$$\n",
            "\n",
            "On a graphical point of view, we have to travel from the origin (zero on every dimensions) to the point of coordinate $\\boldsymbol{b}$. The columns of $\\boldsymbol{A}$ give us the directions we can travel by and their weights are the length of the way in that direction.\n",
            "\n",
            "The columns of $\\boldsymbol{A}$ give us the directions we can travel by and their weights are the length of the way in each direction."
         ]
      },
      {
         "cell_type": "markdown",
         "metadata": {},
         "source": [
            "### Example 5. \n",
            "\n",
            "$m=2$, $n=2$: 2 equations and 2 variables\n",
            "\n",
            "$$\n",
            "A_{1,1}x_1 + A_{1,2}x_2 = b_1\\\\\\\\\n",
            "A_{2,1}x_1 + A_{2,2}x_2 = b_2\n",
            "$$\n",
            "\n",
            "$$\n",
            "\\begin{cases}\n",
            "y = \\frac{1}{2}x+1\\\\\\\\\n",
            "y = -x + 4\n",
            "\\end{cases}\n",
            "\\Leftrightarrow\n",
            "\\begin{cases}\n",
            "\\frac{1}{2}x-y = -1\\\\\\\\\n",
            "x+y=4\n",
            "\\end{cases}\n",
            "$$\n",
            "\n",
            "So here is the matrix $\\boldsymbol{A}$:\n",
            "\n",
            "$$\n",
            "\\boldsymbol{A}=\n",
            "\\begin{bmatrix}\n",
            "    \\frac{1}{2} & -1 \\\\\\\\\n",
            "    1 & 1\n",
            "\\end{bmatrix}\n",
            "$$\n",
            "\n",
            "The column figure gives us:\n",
            "\n",
            "$$\n",
            "x\n",
            "\\begin{bmatrix}\n",
            "    \\frac{1}{2} \\\\\\\\\n",
            "    1\n",
            "\\end{bmatrix}\n",
            "+\n",
            "y\n",
            "\\begin{bmatrix}\n",
            "    -1 \\\\\\\\\n",
            "    1\n",
            "\\end{bmatrix}\n",
            "=\n",
            "\\begin{bmatrix}\n",
            "    -1 \\\\\\\\\n",
            "    4\n",
            "\\end{bmatrix}\n",
            "$$\n",
            "\n",
            "The goal is to find the value of the weights ($x$ and $y$) for which the linear combination of the vector\n",
            "\n",
            "$$\n",
            "\\begin{bmatrix}\n",
            "    \\frac{1}{2} \\\\\\\\\n",
            "    1\n",
            "\\end{bmatrix}\n",
            "$$\n",
            "\n",
            "and\n",
            "\n",
            "$$\n",
            "\\begin{bmatrix}\n",
            "    -1 \\\\\\\\\n",
            "    1\n",
            "\\end{bmatrix}\n",
            "$$\n",
            "\n",
            "gives the vector \n",
            "\n",
            "$$\n",
            "\\begin{bmatrix}\n",
            "    -1 \\\\\\\\\n",
            "    4\n",
            "\\end{bmatrix}\n",
            "$$\n",
            "\n",
            "We will solve the system graphically by plotting the equations and looking for their intersection:"
         ]
      },
      {
         "cell_type": "code",
         "execution_count": null,
         "metadata": {},
         "outputs": [],
         "source": [
            "x = np.arange(-10, 10)\n",
            "y = 0.5*x + 1\n",
            "\n",
            "y1 = -x + 4\n",
            "\n",
            "plt.figure()\n",
            "plt.plot(x, y)\n",
            "plt.plot(x, y1)\n",
            "plt.xlim(-2, 10)\n",
            "plt.ylim(-2, 10)\n",
            "# draw axes\n",
            "plt.axvline(x=0, color='#A9A9A9')\n",
            "plt.axhline(y=0, color='#A9A9A9')\n",
            "plt.show()\n",
            "plt.close()"
         ]
      },
      {
         "cell_type": "markdown",
         "metadata": {},
         "source": [
            "We can see that the solution (the intersection of the lines representing our two equations) is $x=2$ and $y=2$. This means that the linear combination is the following:\n",
            "\n",
            "$$\n",
            "2\n",
            "\\begin{bmatrix}\n",
            "    \\frac{1}{2} \\\\\\\\\n",
            "    1\n",
            "\\end{bmatrix}\n",
            "+\n",
            "2\n",
            "\\begin{bmatrix}\n",
            "    -1 \\\\\\\\\n",
            "    1\n",
            "\\end{bmatrix}\n",
            "=\n",
            "\\begin{bmatrix}\n",
            "    -1 \\\\\\\\\n",
            "    4\n",
            "\\end{bmatrix}\n",
            "$$\n",
            "\n",
            "Let's say that \n",
            "\n",
            "$$\n",
            "\\vec{u}=\n",
            "\\begin{bmatrix}\n",
            "    \\frac{1}{2} \\\\\\\\\n",
            "    1\n",
            "\\end{bmatrix}\n",
            "$$\n",
            "\n",
            "and\n",
            "\n",
            "$$\n",
            "\\vec{v}=\n",
            "\\begin{bmatrix}\n",
            "    -1 \\\\\\\\\n",
            "    1\n",
            "\\end{bmatrix}\n",
            "$$\n",
            "\n",
            "To talk in term of the column figure we can reach the point of coordinates $(-1, 4)$ if we add two times the vector $\\vec{u}$ and two times the vector $\\vec{v}$. Let's check that:"
         ]
      },
      {
         "cell_type": "code",
         "execution_count": null,
         "metadata": {},
         "outputs": [],
         "source": [
            "u = [0,0,0.5,1]\n",
            "u_bis = [u[2],u[3],u[2],u[3]]\n",
            "v = [2*u[2],2*u[3],-1,1]\n",
            "v_bis = [2*u[2]-1,2*u[3]+1,v[2],v[3]]\n",
            "\n",
            "plt.quiver([u[0], u_bis[0], v[0], v_bis[0]],\n",
            "           [u[1], u_bis[1], v[1], v_bis[1]],\n",
            "           [u[2], u_bis[2], v[2], v_bis[2]],\n",
            "           [u[3], u_bis[3], v[3], v_bis[3]],\n",
            "           angles='xy', scale_units='xy', scale=1, color=[blue, blue, orange, orange])\n",
            "# plt.rc('text', usetex=True)\n",
            "plt.xlim(-1.5, 2)\n",
            "plt.ylim(-0.5, 4.5)\n",
            "# draw axes\n",
            "plt.axvline(x=0, color='#A9A9A9')\n",
            "plt.axhline(y=0, color='#A9A9A9')\n",
            "plt.scatter(-1,4,marker='x',s=50)\n",
            "plt.text(0, 0.5, r'$\\vec{u}$', color=blue, size=18)\n",
            "plt.text(0.5, 1.5, r'$\\vec{u}$', color=blue, size=18)\n",
            "plt.text(0.5, 2.7, r'$\\vec{v}$', color=orange, size=18)\n",
            "plt.text(-0.8, 3, r'$\\vec{v}$', color=orange, size=18)\n",
            "plt.show()\n",
            "plt.close()"
         ]
      },
      {
         "cell_type": "markdown",
         "metadata": {},
         "source": [
            "We can see that it is working! We arrive to the point ($-1$, $4$)."
         ]
      },
      {
         "cell_type": "markdown",
         "metadata": {},
         "source": [
            "## Determine if the system has one and only one solution for every value of $\\boldsymbol{b}$\n",
            "\n",
            "We will now see how to determine if a system of equations has one and only one solution. Note that this is only the general cases. This can be split into two requirements:\n",
            "\n",
            "1. The system must have at least one solution\n",
            "2. Then, the system must have **only** one solution\n",
            "\n",
            "### Requirement 1. Underdetermined system: the system must have at least one solution for each value of $\\boldsymbol{b}$: $n\\geq m$\n",
            "\n",
            "An underdetermined system of equations is a system with less equations than unknowns\n",
            "\n",
            "If we want our system to have one and only one solution a first requirement is that $n$ must not be bigger than $m$.\n",
            "\n",
            "Let's take the example of a ($2\\times 3$) matrix that corresponds to a set of 2 equations with 3 unknowns variables:\n",
            "\n",
            "$$\n",
            "\\begin{cases}\n",
            "8x+y+z=1\\\\\\\\\n",
            "x+y+z=1\n",
            "\\end{cases}\n",
            "$$\n",
            "\n",
            "$$\n",
            "x\n",
            "\\begin{bmatrix}\n",
            "    8 \\\\\\\\\n",
            "    1\n",
            "\\end{bmatrix}\n",
            "+\n",
            "y\n",
            "\\begin{bmatrix}\n",
            "    1 \\\\\\\\\n",
            "    1\n",
            "\\end{bmatrix}\n",
            "+\n",
            "z\n",
            "\\begin{bmatrix}\n",
            "    1 \\\\\\\\\n",
            "    1\n",
            "\\end{bmatrix}\n",
            "=\n",
            "\\begin{bmatrix}\n",
            "    1 \\\\\\\\\n",
            "    1\n",
            "\\end{bmatrix}\n",
            "$$\n",
            "\n",
            "Here is the representation of the planes plotted with the help of this [website](https://technology.cpm.org/general/3dgraph/):\n",
            "\n",
            "<img src=\"images/intersection-2-planes-line.png\" alt=\"Plot showing two planes. The intersection of the two planes is a line\" title=\"The intersection of the two planes is a line\" width=\"500\">\n",
            "<em>The intersection of the two planes is a line</em>\n",
            "\n",
            "We can see that in the best case the two planes are not parallel and there are solutions to the set of equations. It means that it exists some points that rely on both planes. But we can also see that there is inevitably an infinite number of points on the intersection (a line that we can see on the figure). We need a third plane to have a unique solution.\n",
            "\n",
            "### Requirement 2. Overdetermined system: the system must have **only** one solution for each value of $\\boldsymbol{b}$: $m\\geq n$\n",
            "\n",
            "An overdetermined system of equations is a system with more equations than unknowns\n",
            "\n",
            "The column figure is helpful to understand why the linear system has usually no solution if $n$ (the number of unknowns) is smaller than $m$ (the number of equations). Let's add 1 equation to the above system in order to end up with a ($3\\times2$) matrix (3 equations and 2 unknowns):\n",
            "\n",
            "$$\n",
            "\\begin{cases}\n",
            "y = \\frac{1}{2}x+1\\\\\\\\\n",
            "y = -x + 4\\\\\\\\\n",
            "y = 7x + 2\n",
            "\\end{cases}\n",
            "\\Leftrightarrow\n",
            "\\begin{cases}\n",
            "\\frac{1}{2}x-y = -1\\\\\\\\\n",
            "x+y=4\\\\\\\\\n",
            "7x-y=2\n",
            "\\end{cases}\n",
            "$$\n",
            "\n",
            "This corresponds to:\n",
            "\n",
            "$$\n",
            "x\n",
            "\\begin{bmatrix}\n",
            "    \\frac{1}{2} \\\\\\\\\n",
            "    1 \\\\\\\\\n",
            "    7\n",
            "\\end{bmatrix}\n",
            "+\n",
            "y\n",
            "\\begin{bmatrix}\n",
            "    -1 \\\\\\\\\n",
            "    1 \\\\\\\\\n",
            "    -1\n",
            "\\end{bmatrix}\n",
            "=\n",
            "\\begin{bmatrix}\n",
            "    -1 \\\\\\\\\n",
            "    4 \\\\\\\\\n",
            "    2\n",
            "\\end{bmatrix}\n",
            "$$\n",
            "\n",
            "So we are still traveling in our 2-dimensional space (see the plot of the column space above) but the point that we are looking for is defined by 3 dimensions. There are cases where the third coordinate does not rely on our 2-dimensional $x$-$y$ plane. In that case no solution exists.\n",
            "\n",
            "We are traveling in a 2D space but the solution is defined by 3 dimensions. If the third coordinate does not rely on our 2D $x$-$y$ plane then there is no solution."
         ]
      },
      {
         "cell_type": "markdown",
         "metadata": {},
         "source": [
            "### Linear dependence\n",
            "\n",
            "The number of columns can thus provide information on the number of solutions. But the number that we have to take into account is the number of **linearly independent** columns. Columns are linearly dependent if one of them is a linear combination of the others. Thinking in the column picture, the direction of two linearly dependent vectors is the same. This doesn't add a dimension that we can use to travel and reach $\\boldsymbol{b}$."
         ]
      },
      {
         "cell_type": "markdown",
         "metadata": {},
         "source": [
            "Here is an example of linear system containing linear dependency:\n",
            "\n",
            "$$\n",
            "\\begin{cases}\n",
            "y = 2x+6\\\\\\\\\n",
            "y = 2x\n",
            "\\end{cases}\n",
            "\\Leftrightarrow\n",
            "\\begin{cases}\n",
            "2x-y = -6\\\\\\\\\n",
            "2x-y=0\n",
            "\\end{cases}\n",
            "$$\n",
            "\n",
            "The row figure shows that the system has no solution:"
         ]
      },
      {
         "cell_type": "code",
         "execution_count": null,
         "metadata": {},
         "outputs": [],
         "source": [
            "x = np.arange(-10, 10)\n",
            "y = 2*x + 6\n",
            "\n",
            "y1 = 2*x\n",
            "\n",
            "plt.figure()\n",
            "plt.plot(x, y)\n",
            "plt.plot(x, y1)\n",
            "plt.xlim(-2, 10)\n",
            "plt.ylim(-2, 10)\n",
            "# draw axes\n",
            "plt.axvline(x=0, color='#A9A9A9')\n",
            "plt.axhline(y=0, color='#A9A9A9')\n",
            "plt.show()\n",
            "plt.close()"
         ]
      },
      {
         "cell_type": "markdown",
         "metadata": {},
         "source": [
            "Since the lines are parallel, there is no point at their intersection."
         ]
      },
      {
         "cell_type": "markdown",
         "metadata": {},
         "source": [
            "The column figure illustrates the point as well:\n",
            "\n",
            "$$\n",
            "x\n",
            "\\begin{bmatrix}\n",
            "    2 \\\\\\\\\n",
            "    2\n",
            "\\end{bmatrix}\n",
            "+\n",
            "y\n",
            "\\begin{bmatrix}\n",
            "    -1 \\\\\\\\\n",
            "    -1\n",
            "\\end{bmatrix}\n",
            "=\n",
            "\\begin{bmatrix}\n",
            "    -6 \\\\\\\\\n",
            "    0\n",
            "\\end{bmatrix}\n",
            "$$\n"
         ]
      },
      {
         "cell_type": "code",
         "execution_count": null,
         "metadata": {},
         "outputs": [],
         "source": [
            "u = [0,0,2,2]\n",
            "v = [0,0,-1,-1]\n",
            "\n",
            "plt.quiver([u[0], v[0]],\n",
            "           [u[1], v[1]],\n",
            "           [u[2], v[2]],\n",
            "           [u[3], v[3]],\n",
            "           angles='xy', scale_units='xy', scale=1, color=[blue, orange])\n",
            "plt.xlim(-7, 3)\n",
            "plt.ylim(-2, 3)\n",
            "# draw axes\n",
            "plt.axvline(x=0, color='#A9A9A9')\n",
            "plt.axhline(y=0, color='#A9A9A9')\n",
            "plt.scatter(-6,0,marker='x',s=150)\n",
            "plt.text(-6, 0.5, r'$b$', color='b', size=18)\n",
            "plt.show()\n",
            "plt.close()"
         ]
      },
      {
         "cell_type": "markdown",
         "metadata": {},
         "source": [
            "We would like to go to $b$ but the only path we can take is the blue/orange line. The second equation doesn't provide us with a new direction to take since it is just a linear combination of the first one.\n",
            "\n",
            "Thus, an overdetermined system of independant equations has at most 1 solution."
         ]
      },
      {
         "cell_type": "markdown",
         "metadata": {},
         "source": [
            "### Square matrix\n",
            "\n",
            "How could we satisfy both requirements ($m\\geq n$ and $n\\geq m$): we must have $m=n$!\n",
            "\n",
            "The resulting of all of this is that the system needs a **square matrix** $\\boldsymbol{A}$ ($m=n$) with linearly independant columns to have a unique solution for every values of $\\boldsymbol{b}$.\n",
            "\n",
            "The system needs a **square matrix** $\\boldsymbol{A}$ ($m=n$) with linearly independant columns to have a unique solution for every values of $\\boldsymbol{b}$\n",
            "\n",
            "The inverse of a matrix exists only if the set of equations has one and only one solution for each value of $\\boldsymbol{b}$ because:\n",
            "\n",
            "- The matrix $\\boldsymbol{A}$ cannot have more than 1 inverse. Imagine that $\\boldsymbol{A}$ has 2 inverses $\\boldsymbol{B}$ and $\\boldsymbol{C}$ such as $\\boldsymbol{AB}=\\boldsymbol{I}$ and $\\boldsymbol{AC}=\\boldsymbol{I}$. This would mean that $\\boldsymbol{B}=\\boldsymbol{C}$.\n",
            "\n",
            "- The solution of the system $\\boldsymbol{Ax}=\\boldsymbol{b}$ is $\\boldsymbol{x}=\\boldsymbol{A} ^{-1} \\boldsymbol{b}$. So if there are multiple solutions, there are multiple inverses and the first point is not met."
         ]
      }
   ],
   "metadata": {
      "kernelspec": {
         "display_name": "Python 3",
         "language": "python",
         "name": "python3"
      },
      "language_info": {
         "codemirror_mode": {
            "name": "ipython",
            "version": 3
         },
         "file_extension": ".py",
         "mimetype": "text/x-python",
         "name": "python",
         "nbconvert_exporter": "python",
         "pygments_lexer": "ipython3",
         "version": "3.7.1"
      },
      "toc": {
         "base_numbering": 1,
         "nav_menu": {},
         "number_sections": true,
         "sideBar": true,
         "skip_h1_title": false,
         "title_cell": "Table of Contents",
         "title_sidebar": "Contents",
         "toc_cell": false,
         "toc_position": {},
         "toc_section_display": true,
         "toc_window_display": false
      }
   },
   "nbformat": 4,
   "nbformat_minor": 2
}