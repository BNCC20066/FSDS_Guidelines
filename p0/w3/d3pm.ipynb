{
  "nbformat": 4,
  "nbformat_minor": 0,
  "metadata": {
    "colab": {
      "name": "d3pm.ipynb",
      "provenance": []
    },
    "kernelspec": {
      "name": "python3",
      "display_name": "Python 3"
    },
    "language_info": {
      "name": "python"
    }
  },
  "cells": [
    {
      "cell_type": "markdown",
      "metadata": {
        "id": "FP3QbXZESMch"
      },
      "source": [
        "# Day 3 PM - Inferential Statistics Part 2\n",
        "## Implementation to Marketing Campaign Analysis"
      ]
    },
    {
      "cell_type": "markdown",
      "metadata": {
        "id": "PQ6nlvoWU3Ph"
      },
      "source": [
        "In this lesson, we will learn about hypothesis testing and how to implement it to a daily business case such as online retail. We will use the data from ML UCI dataset https://archive.ics.uci.edu/ml/datasets/online+retail."
      ]
    },
    {
      "cell_type": "code",
      "metadata": {
        "id": "XQGzj7iMVmni"
      },
      "source": [
        "import pandas as pd\n",
        "from scipy import stats\n",
        "import numpy as np\n",
        "import matplotlib.pyplot as plt\n",
        "import seaborn as sns"
      ],
      "execution_count": 1,
      "outputs": []
    },
    {
      "cell_type": "code",
      "metadata": {
        "colab": {
          "base_uri": "https://localhost:8080/",
          "height": 424
        },
        "id": "i1bTsOU8VMCi",
        "outputId": "be4ca8df-16f7-4946-fda0-a3bc099295cb"
      },
      "source": [
        "data = pd.read_excel('https://github.com/fahmimnalfrzki/Additional-Materials/blob/main/online_retail_data.xlsx?raw=true').drop(columns='Unnamed: 0').sort_values('InvoiceDate',ascending=True).reset_index(drop=True)\n",
        "data"
      ],
      "execution_count": 2,
      "outputs": [
        {
          "output_type": "execute_result",
          "data": {
            "text/html": [
              "<div>\n",
              "<style scoped>\n",
              "    .dataframe tbody tr th:only-of-type {\n",
              "        vertical-align: middle;\n",
              "    }\n",
              "\n",
              "    .dataframe tbody tr th {\n",
              "        vertical-align: top;\n",
              "    }\n",
              "\n",
              "    .dataframe thead th {\n",
              "        text-align: right;\n",
              "    }\n",
              "</style>\n",
              "<table border=\"1\" class=\"dataframe\">\n",
              "  <thead>\n",
              "    <tr style=\"text-align: right;\">\n",
              "      <th></th>\n",
              "      <th>InvoiceNo</th>\n",
              "      <th>StockCode</th>\n",
              "      <th>Description</th>\n",
              "      <th>Quantity</th>\n",
              "      <th>InvoiceDate</th>\n",
              "      <th>UnitPrice</th>\n",
              "      <th>CustomerID</th>\n",
              "      <th>Country</th>\n",
              "    </tr>\n",
              "  </thead>\n",
              "  <tbody>\n",
              "    <tr>\n",
              "      <th>0</th>\n",
              "      <td>536369</td>\n",
              "      <td>21756</td>\n",
              "      <td>BATH BUILDING BLOCK WORD</td>\n",
              "      <td>3</td>\n",
              "      <td>2010-12-01 08:35:00</td>\n",
              "      <td>5.95</td>\n",
              "      <td>13047.0</td>\n",
              "      <td>United Kingdom</td>\n",
              "    </tr>\n",
              "    <tr>\n",
              "      <th>1</th>\n",
              "      <td>536373</td>\n",
              "      <td>82482</td>\n",
              "      <td>WOODEN PICTURE FRAME WHITE FINISH</td>\n",
              "      <td>6</td>\n",
              "      <td>2010-12-01 09:02:00</td>\n",
              "      <td>2.10</td>\n",
              "      <td>17850.0</td>\n",
              "      <td>United Kingdom</td>\n",
              "    </tr>\n",
              "    <tr>\n",
              "      <th>2</th>\n",
              "      <td>536398</td>\n",
              "      <td>22752</td>\n",
              "      <td>SET 7 BABUSHKA NESTING BOXES</td>\n",
              "      <td>6</td>\n",
              "      <td>2010-12-01 10:52:00</td>\n",
              "      <td>8.50</td>\n",
              "      <td>13448.0</td>\n",
              "      <td>United Kingdom</td>\n",
              "    </tr>\n",
              "    <tr>\n",
              "      <th>3</th>\n",
              "      <td>536401</td>\n",
              "      <td>85150</td>\n",
              "      <td>LADIES &amp; GENTLEMEN METAL SIGN</td>\n",
              "      <td>1</td>\n",
              "      <td>2010-12-01 11:21:00</td>\n",
              "      <td>2.55</td>\n",
              "      <td>15862.0</td>\n",
              "      <td>United Kingdom</td>\n",
              "    </tr>\n",
              "    <tr>\n",
              "      <th>4</th>\n",
              "      <td>536404</td>\n",
              "      <td>20727</td>\n",
              "      <td>LUNCH BAG  BLACK SKULL.</td>\n",
              "      <td>10</td>\n",
              "      <td>2010-12-01 11:29:00</td>\n",
              "      <td>1.65</td>\n",
              "      <td>16218.0</td>\n",
              "      <td>United Kingdom</td>\n",
              "    </tr>\n",
              "    <tr>\n",
              "      <th>...</th>\n",
              "      <td>...</td>\n",
              "      <td>...</td>\n",
              "      <td>...</td>\n",
              "      <td>...</td>\n",
              "      <td>...</td>\n",
              "      <td>...</td>\n",
              "      <td>...</td>\n",
              "      <td>...</td>\n",
              "    </tr>\n",
              "    <tr>\n",
              "      <th>9995</th>\n",
              "      <td>581501</td>\n",
              "      <td>22942</td>\n",
              "      <td>CHRISTMAS LIGHTS 10 SANTAS</td>\n",
              "      <td>12</td>\n",
              "      <td>2011-12-09 10:46:00</td>\n",
              "      <td>2.95</td>\n",
              "      <td>12985.0</td>\n",
              "      <td>United Kingdom</td>\n",
              "    </tr>\n",
              "    <tr>\n",
              "      <th>9996</th>\n",
              "      <td>581572</td>\n",
              "      <td>22627</td>\n",
              "      <td>MINT KITCHEN SCALES</td>\n",
              "      <td>4</td>\n",
              "      <td>2011-12-09 12:08:00</td>\n",
              "      <td>8.50</td>\n",
              "      <td>16705.0</td>\n",
              "      <td>United Kingdom</td>\n",
              "    </tr>\n",
              "    <tr>\n",
              "      <th>9997</th>\n",
              "      <td>581578</td>\n",
              "      <td>21507</td>\n",
              "      <td>ELEPHANT BIRTHDAY CARD</td>\n",
              "      <td>12</td>\n",
              "      <td>2011-12-09 12:16:00</td>\n",
              "      <td>0.42</td>\n",
              "      <td>12713.0</td>\n",
              "      <td>Germany</td>\n",
              "    </tr>\n",
              "    <tr>\n",
              "      <th>9998</th>\n",
              "      <td>581579</td>\n",
              "      <td>23353</td>\n",
              "      <td>6 GIFT TAGS VINTAGE CHRISTMAS</td>\n",
              "      <td>12</td>\n",
              "      <td>2011-12-09 12:19:00</td>\n",
              "      <td>0.83</td>\n",
              "      <td>17581.0</td>\n",
              "      <td>United Kingdom</td>\n",
              "    </tr>\n",
              "    <tr>\n",
              "      <th>9999</th>\n",
              "      <td>581580</td>\n",
              "      <td>85049E</td>\n",
              "      <td>SCANDINAVIAN REDS RIBBONS</td>\n",
              "      <td>2</td>\n",
              "      <td>2011-12-09 12:20:00</td>\n",
              "      <td>1.25</td>\n",
              "      <td>12748.0</td>\n",
              "      <td>United Kingdom</td>\n",
              "    </tr>\n",
              "  </tbody>\n",
              "</table>\n",
              "<p>10000 rows × 8 columns</p>\n",
              "</div>"
            ],
            "text/plain": [
              "     InvoiceNo StockCode  ... CustomerID         Country\n",
              "0       536369     21756  ...    13047.0  United Kingdom\n",
              "1       536373     82482  ...    17850.0  United Kingdom\n",
              "2       536398     22752  ...    13448.0  United Kingdom\n",
              "3       536401     85150  ...    15862.0  United Kingdom\n",
              "4       536404     20727  ...    16218.0  United Kingdom\n",
              "...        ...       ...  ...        ...             ...\n",
              "9995    581501     22942  ...    12985.0  United Kingdom\n",
              "9996    581572     22627  ...    16705.0  United Kingdom\n",
              "9997    581578     21507  ...    12713.0         Germany\n",
              "9998    581579     23353  ...    17581.0  United Kingdom\n",
              "9999    581580    85049E  ...    12748.0  United Kingdom\n",
              "\n",
              "[10000 rows x 8 columns]"
            ]
          },
          "metadata": {},
          "execution_count": 2
        }
      ]
    },
    {
      "cell_type": "markdown",
      "metadata": {
        "id": "K0f8pNHhSYPt"
      },
      "source": [
        "### Single Sample Hypothesis Testing\n",
        "\n",
        "Let we play a role. Suppose that during the last five years, our daily income is \\$500 on average and during the last a year, we reach \\$580 a day on average. Is it means that we're improved significantly?"
      ]
    },
    {
      "cell_type": "code",
      "metadata": {
        "colab": {
          "base_uri": "https://localhost:8080/"
        },
        "id": "RuQM2P3FOV5y",
        "outputId": "5339ea35-7aa1-41df-9d78-b7fbf861c3d5"
      },
      "source": [
        "data['income'] = data['Quantity']*data['UnitPrice']\n",
        "data['date'] = data['InvoiceDate'].dt.date\n",
        "daily_income = data[['date','income']].groupby('date').sum()\n",
        "print('Average Income a Day for the last a year: ${}'.format(np.round(daily_income['income'].mean())))"
      ],
      "execution_count": 3,
      "outputs": [
        {
          "output_type": "stream",
          "name": "stdout",
          "text": [
            "Average Income a Day for the last a year: $580.0\n"
          ]
        }
      ]
    },
    {
      "cell_type": "markdown",
      "metadata": {
        "id": "d2X_YkmmTH-a"
      },
      "source": [
        "To check that whether our sales is significantly increase or not, we will perform the single sample one sided to to that and set the significance level of 0.05. We use this method since we only test a variable and compare the sample (last a year data) and the population (we assume it is the last five years data).\n",
        "\n",
        "Our hypothesis on this case:\n",
        "\n",
        "**H0: μ =\\$500**\n",
        "\n",
        "**H1: μ > \\$500**"
      ]
    },
    {
      "cell_type": "code",
      "metadata": {
        "colab": {
          "base_uri": "https://localhost:8080/"
        },
        "id": "LdRxsCyKSCjc",
        "outputId": "8e1f4848-98fc-4939-f068-3e3321fe67ec"
      },
      "source": [
        "t_stat,p_val = stats.ttest_1samp(daily_income.income, 500)\n",
        "print('P-value:',p_val/2) #The p-value divided by 2 since the output is two-sided p-value\n",
        "print('t-statistics:',t_stat)"
      ],
      "execution_count": 4,
      "outputs": [
        {
          "output_type": "stream",
          "name": "stdout",
          "text": [
            "P-value: 0.002874549060119241\n",
            "t-statistics: 2.7814828523345674\n"
          ]
        }
      ]
    },
    {
      "cell_type": "markdown",
      "metadata": {
        "id": "oQ3jU1B8VOTv"
      },
      "source": [
        "Since our p-value is less than 0.05, so we reject the null hypothesis and we can conclude that, our sales for the last a year is improved than the last five years. \n",
        "\n",
        "Note: T-statistics refers to how far the alternative hypothesis from null hypothesis away."
      ]
    },
    {
      "cell_type": "markdown",
      "metadata": {
        "id": "TDk6rMRZbFQf"
      },
      "source": [
        "### Two Samples Independent Two Tailed Hypothesis Testing\n",
        "\n",
        "Now, we want to check, whether daily average of sales of two countries are significantly different or not using two samples independent two tailed test. We will pick sample of France and Germany."
      ]
    },
    {
      "cell_type": "code",
      "metadata": {
        "colab": {
          "base_uri": "https://localhost:8080/"
        },
        "id": "XdEVSvqubSfk",
        "outputId": "df0b1d2f-47ba-4205-97a0-2771b239551c"
      },
      "source": [
        "daily_france = data[data['Country']=='France'][['date','income']].groupby('date').sum().sample(90)\n",
        "daily_germany = data[data['Country']=='Germany'][['date','income']].groupby('date').sum().sample(90)\n",
        "\n",
        "print('Average sales of France a day: ${}'.format(np.round(daily_france.income.mean())))\n",
        "print('Average sales of Germany a day: ${}'.format(np.round(daily_germany.income.mean())))"
      ],
      "execution_count": 5,
      "outputs": [
        {
          "output_type": "stream",
          "name": "stdout",
          "text": [
            "Average sales of France a day: $32.0\n",
            "Average sales of Germany a day: $37.0\n"
          ]
        }
      ]
    },
    {
      "cell_type": "markdown",
      "metadata": {
        "id": "1Fijn7LgquIr"
      },
      "source": [
        "Our hypothesis on this case:\n",
        "\n",
        "**H0: μ_france = μ_germany**\n",
        "\n",
        "**H1: μ_france != μ_germany**"
      ]
    },
    {
      "cell_type": "code",
      "metadata": {
        "colab": {
          "base_uri": "https://localhost:8080/"
        },
        "id": "9prVBBcZoy4o",
        "outputId": "08f03634-a463-4b29-87b0-aa1e332cd535"
      },
      "source": [
        "t_stat, p_val = stats.ttest_ind(daily_france,daily_germany)\n",
        "print('P-value:',p_val[0]) #the p-value isn't divided by 2 since the output is two-sided p-value\n",
        "print('t-statistics:',t_stat[0])"
      ],
      "execution_count": 6,
      "outputs": [
        {
          "output_type": "stream",
          "name": "stdout",
          "text": [
            "P-value: 0.3988373334287433\n",
            "t-statistics: -0.845732689400892\n"
          ]
        }
      ]
    },
    {
      "cell_type": "code",
      "metadata": {
        "colab": {
          "base_uri": "https://localhost:8080/",
          "height": 427
        },
        "id": "dU4Uhgqv6OV3",
        "outputId": "e8071af8-3f16-42bb-c808-9aadf31c340f"
      },
      "source": [
        "france_pop = np.random.normal(daily_france.income.mean(),daily_france.income.std(),10000)\n",
        "germany_pop = np.random.normal(daily_germany.income.mean(),daily_germany.income.std(),10000)\n",
        "\n",
        "ci = stats.norm.interval(0.90, daily_france.income.mean(), daily_france.income.std())\n",
        "plt.figure(figsize=(16,5))\n",
        "sns.distplot(france_pop, label='France Average Sales a Day *Pop',color='blue')\n",
        "sns.distplot(germany_pop, label='Germany Average Sales a Day *Pop',color='red')\n",
        "\n",
        "plt.axvline(daily_france.income.mean(), color='blue', linewidth=2, label='France mean')\n",
        "plt.axvline(daily_germany.income.mean(), color='red',  linewidth=2, label='Germany mean')\n",
        "\n",
        "plt.axvline(ci[1], color='green', linestyle='dashed', linewidth=2, label='confidence threshold of 95%')\n",
        "plt.axvline(ci[0], color='green', linestyle='dashed', linewidth=2)\n",
        "\n",
        "plt.axvline(france_pop.mean()+t_stat[0]*france_pop.std(), color='black', linestyle='dashed', linewidth=2, label = 'Alternative Hypothesis')\n",
        "plt.axvline(france_pop.mean()-t_stat[0]*france_pop.std(), color='black', linestyle='dashed', linewidth=2)\n",
        "\n",
        "plt.legend()"
      ],
      "execution_count": 7,
      "outputs": [
        {
          "output_type": "stream",
          "name": "stderr",
          "text": [
            "/usr/local/lib/python3.7/dist-packages/seaborn/distributions.py:2619: FutureWarning: `distplot` is a deprecated function and will be removed in a future version. Please adapt your code to use either `displot` (a figure-level function with similar flexibility) or `histplot` (an axes-level function for histograms).\n",
            "  warnings.warn(msg, FutureWarning)\n",
            "/usr/local/lib/python3.7/dist-packages/seaborn/distributions.py:2619: FutureWarning: `distplot` is a deprecated function and will be removed in a future version. Please adapt your code to use either `displot` (a figure-level function with similar flexibility) or `histplot` (an axes-level function for histograms).\n",
            "  warnings.warn(msg, FutureWarning)\n"
          ]
        },
        {
          "output_type": "execute_result",
          "data": {
            "text/plain": [
              "<matplotlib.legend.Legend at 0x7f5ef97ede50>"
            ]
          },
          "metadata": {},
          "execution_count": 7
        },
        {
          "output_type": "display_data",
          "data": {
            "image/png": "[encoded data removed]",
            "text/plain": [
              "<Figure size 1152x360 with 1 Axes>"
            ]
          },
          "metadata": {
            "needs_background": "light"
          }
        }
      ]
    },
    {
      "cell_type": "markdown",
      "metadata": {
        "id": "K5ljS7cK6FYx"
      },
      "source": [
        "Based on the result above, we can conclude that we accept the null hypothesis which between the france and germany are not significantly different in terms of average sales per day."
      ]
    },
    {
      "cell_type": "markdown",
      "metadata": {
        "id": "NKXp2wDu8Vmb"
      },
      "source": [
        "### Paired Test\n",
        "**Implementation on A/B Testing**\n",
        "\n",
        "We're dealing with the marketing division of game developer company to analyze which game version that tend to give more retention rate? Is it correct that we upgrade our game from gate 30 to gate 40 version? (Data from https://www.kaggle.com/yufengsui/mobile-games-ab-testing) We will use retention_1 data which capture the information that did the player come back and play 1 day after installing."
      ]
    },
    {
      "cell_type": "code",
      "metadata": {
        "colab": {
          "base_uri": "https://localhost:8080/",
          "height": 424
        },
        "id": "wAr21OQ18eRT",
        "outputId": "883f5803-158e-4ce5-9f70-c03bf4269c15"
      },
      "source": [
        "cookie_cats = pd.read_csv('https://raw.githubusercontent.com/fahmimnalfrzki/Additional-Materials/main/cookie_cats.csv')\n",
        "cookie_cats"
      ],
      "execution_count": 8,
      "outputs": [
        {
          "output_type": "execute_result",
          "data": {
            "text/html": [
              "<div>\n",
              "<style scoped>\n",
              "    .dataframe tbody tr th:only-of-type {\n",
              "        vertical-align: middle;\n",
              "    }\n",
              "\n",
              "    .dataframe tbody tr th {\n",
              "        vertical-align: top;\n",
              "    }\n",
              "\n",
              "    .dataframe thead th {\n",
              "        text-align: right;\n",
              "    }\n",
              "</style>\n",
              "<table border=\"1\" class=\"dataframe\">\n",
              "  <thead>\n",
              "    <tr style=\"text-align: right;\">\n",
              "      <th></th>\n",
              "      <th>userid</th>\n",
              "      <th>version</th>\n",
              "      <th>sum_gamerounds</th>\n",
              "      <th>retention_1</th>\n",
              "      <th>retention_7</th>\n",
              "    </tr>\n",
              "  </thead>\n",
              "  <tbody>\n",
              "    <tr>\n",
              "      <th>0</th>\n",
              "      <td>116</td>\n",
              "      <td>gate_30</td>\n",
              "      <td>3</td>\n",
              "      <td>False</td>\n",
              "      <td>False</td>\n",
              "    </tr>\n",
              "    <tr>\n",
              "      <th>1</th>\n",
              "      <td>337</td>\n",
              "      <td>gate_30</td>\n",
              "      <td>38</td>\n",
              "      <td>True</td>\n",
              "      <td>False</td>\n",
              "    </tr>\n",
              "    <tr>\n",
              "      <th>2</th>\n",
              "      <td>377</td>\n",
              "      <td>gate_40</td>\n",
              "      <td>165</td>\n",
              "      <td>True</td>\n",
              "      <td>False</td>\n",
              "    </tr>\n",
              "    <tr>\n",
              "      <th>3</th>\n",
              "      <td>483</td>\n",
              "      <td>gate_40</td>\n",
              "      <td>1</td>\n",
              "      <td>False</td>\n",
              "      <td>False</td>\n",
              "    </tr>\n",
              "    <tr>\n",
              "      <th>4</th>\n",
              "      <td>488</td>\n",
              "      <td>gate_40</td>\n",
              "      <td>179</td>\n",
              "      <td>True</td>\n",
              "      <td>True</td>\n",
              "    </tr>\n",
              "    <tr>\n",
              "      <th>...</th>\n",
              "      <td>...</td>\n",
              "      <td>...</td>\n",
              "      <td>...</td>\n",
              "      <td>...</td>\n",
              "      <td>...</td>\n",
              "    </tr>\n",
              "    <tr>\n",
              "      <th>90184</th>\n",
              "      <td>9999441</td>\n",
              "      <td>gate_40</td>\n",
              "      <td>97</td>\n",
              "      <td>True</td>\n",
              "      <td>False</td>\n",
              "    </tr>\n",
              "    <tr>\n",
              "      <th>90185</th>\n",
              "      <td>9999479</td>\n",
              "      <td>gate_40</td>\n",
              "      <td>30</td>\n",
              "      <td>False</td>\n",
              "      <td>False</td>\n",
              "    </tr>\n",
              "    <tr>\n",
              "      <th>90186</th>\n",
              "      <td>9999710</td>\n",
              "      <td>gate_30</td>\n",
              "      <td>28</td>\n",
              "      <td>True</td>\n",
              "      <td>False</td>\n",
              "    </tr>\n",
              "    <tr>\n",
              "      <th>90187</th>\n",
              "      <td>9999768</td>\n",
              "      <td>gate_40</td>\n",
              "      <td>51</td>\n",
              "      <td>True</td>\n",
              "      <td>False</td>\n",
              "    </tr>\n",
              "    <tr>\n",
              "      <th>90188</th>\n",
              "      <td>9999861</td>\n",
              "      <td>gate_40</td>\n",
              "      <td>16</td>\n",
              "      <td>False</td>\n",
              "      <td>False</td>\n",
              "    </tr>\n",
              "  </tbody>\n",
              "</table>\n",
              "<p>90189 rows × 5 columns</p>\n",
              "</div>"
            ],
            "text/plain": [
              "        userid  version  sum_gamerounds  retention_1  retention_7\n",
              "0          116  gate_30               3        False        False\n",
              "1          337  gate_30              38         True        False\n",
              "2          377  gate_40             165         True        False\n",
              "3          483  gate_40               1        False        False\n",
              "4          488  gate_40             179         True         True\n",
              "...        ...      ...             ...          ...          ...\n",
              "90184  9999441  gate_40              97         True        False\n",
              "90185  9999479  gate_40              30        False        False\n",
              "90186  9999710  gate_30              28         True        False\n",
              "90187  9999768  gate_40              51         True        False\n",
              "90188  9999861  gate_40              16        False        False\n",
              "\n",
              "[90189 rows x 5 columns]"
            ]
          },
          "metadata": {},
          "execution_count": 8
        }
      ]
    },
    {
      "cell_type": "code",
      "metadata": {
        "colab": {
          "base_uri": "https://localhost:8080/"
        },
        "id": "9eGqWn9JXlNs",
        "outputId": "ee29f229-4d58-4c9b-d782-771486831d65"
      },
      "source": [
        "gate_30 = cookie_cats[cookie_cats['version']=='gate_30']['retention_1'].replace({True:1,False:0})\n",
        "gate_40 = cookie_cats[cookie_cats['version']=='gate_40']['retention_1'].replace({True:1,False:0})\n",
        "\n",
        "print('Retention rate of gate 30 version:',gate_30.sum()/gate_30.count())\n",
        "print('Retention rate of gate 40 version:',gate_40.sum()/gate_40.count())"
      ],
      "execution_count": 9,
      "outputs": [
        {
          "output_type": "stream",
          "name": "stdout",
          "text": [
            "Retention rate of gate 30 version: 0.4481879194630872\n",
            "Retention rate of gate 40 version: 0.44228274967574577\n"
          ]
        }
      ]
    },
    {
      "cell_type": "markdown",
      "metadata": {
        "id": "QARuvr2IYpQ1"
      },
      "source": [
        "The retention rate between those versions is slightly different. Is the difference truly the same or because of chance?\n",
        "\n",
        "To make sure of our result, we will check using paired test two sided.\n",
        "\n",
        "Our hypothesis on this case:\n",
        "\n",
        "**H0: μ_gate30 = μ_gate40**\n",
        "\n",
        "**H1: μ_gate30 != μ_gate40**"
      ]
    },
    {
      "cell_type": "code",
      "metadata": {
        "colab": {
          "base_uri": "https://localhost:8080/"
        },
        "id": "n0kHhWsbYoWr",
        "outputId": "1f5d013e-151a-4d3a-ca23-36fbc177000a"
      },
      "source": [
        "t_stat,p_val = stats.ttest_rel(gate_30.sample(40000),gate_40.sample(40000)) #we take 40000 sample of each data to make the size the same.\n",
        "print('P-value:',p_val)"
      ],
      "execution_count": 10,
      "outputs": [
        {
          "output_type": "stream",
          "name": "stdout",
          "text": [
            "P-value: 0.1792549006612163\n"
          ]
        }
      ]
    },
    {
      "cell_type": "markdown",
      "metadata": {
        "id": "zOg7PKVPZ391"
      },
      "source": [
        "Since the p-value is more than 0.05, we conclude that we accept the Null hypothesis which means between gate 30 and 40 version is the same. We safely upgrade our game into gate 40 version."
      ]
    }
  ]
}