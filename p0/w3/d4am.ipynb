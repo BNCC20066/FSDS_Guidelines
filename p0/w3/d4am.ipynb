{
  "nbformat": 4,
  "nbformat_minor": 0,
  "metadata": {
    "colab": {
      "name": "d4am.ipynb",
      "provenance": []
    },
    "kernelspec": {
      "name": "python3",
      "display_name": "Python 3"
    },
    "language_info": {
      "name": "python"
    }
  },
  "cells": [
    {
      "cell_type": "markdown",
      "metadata": {
        "id": "IlJT8fsuNy_-"
      },
      "source": [
        "# Day 4 AM - Inferential Statistics Part 1"
      ]
    },
    {
      "cell_type": "code",
      "metadata": {
        "id": "3KhvMMAGNTdr"
      },
      "source": [
        "import pandas as pd\n",
        "import numpy as np\n",
        "from scipy import stats\n",
        "import matplotlib.pyplot as plt\n",
        "import seaborn as sns"
      ],
      "execution_count": 2,
      "outputs": []
    },
    {
      "cell_type": "markdown",
      "metadata": {
        "id": "NjvzGz7VN6s7"
      },
      "source": [
        "## Resampling\n",
        "\n",
        "Resampling in statistics means to repeatedly sample values from observed data, with a general goal of assessing random variability in a statistic. To understand what resampling is, let we look at the housing price in Amsterdam data distribution (histogram) below."
      ]
    },
    {
      "cell_type": "code",
      "metadata": {
        "colab": {
          "base_uri": "https://localhost:8080/",
          "height": 206
        },
        "id": "iLgajrVNN4Tl",
        "outputId": "6e83eb40-4cb7-4a71-c0fe-4a9f9082e6dc"
      },
      "source": [
        "house_price = pd.read_csv('https://raw.githubusercontent.com/fahmimnalfrzki/Additional-Materials/main/HousingPrices-Amsterdam-August-2021.csv')\n",
        "house_price.head()"
      ],
      "execution_count": 3,
      "outputs": [
        {
          "output_type": "execute_result",
          "data": {
            "text/html": [
              "<div>\n",
              "<style scoped>\n",
              "    .dataframe tbody tr th:only-of-type {\n",
              "        vertical-align: middle;\n",
              "    }\n",
              "\n",
              "    .dataframe tbody tr th {\n",
              "        vertical-align: top;\n",
              "    }\n",
              "\n",
              "    .dataframe thead th {\n",
              "        text-align: right;\n",
              "    }\n",
              "</style>\n",
              "<table border=\"1\" class=\"dataframe\">\n",
              "  <thead>\n",
              "    <tr style=\"text-align: right;\">\n",
              "      <th></th>\n",
              "      <th>Unnamed: 0</th>\n",
              "      <th>Address</th>\n",
              "      <th>Zip</th>\n",
              "      <th>Price</th>\n",
              "      <th>Area</th>\n",
              "      <th>Room</th>\n",
              "      <th>Lon</th>\n",
              "      <th>Lat</th>\n",
              "    </tr>\n",
              "  </thead>\n",
              "  <tbody>\n",
              "    <tr>\n",
              "      <th>0</th>\n",
              "      <td>1</td>\n",
              "      <td>Blasiusstraat 8 2, Amsterdam</td>\n",
              "      <td>1091 CR</td>\n",
              "      <td>685000.0</td>\n",
              "      <td>64</td>\n",
              "      <td>3</td>\n",
              "      <td>4.907736</td>\n",
              "      <td>52.356157</td>\n",
              "    </tr>\n",
              "    <tr>\n",
              "      <th>1</th>\n",
              "      <td>2</td>\n",
              "      <td>Kromme Leimuidenstraat 13 H, Amsterdam</td>\n",
              "      <td>1059 EL</td>\n",
              "      <td>475000.0</td>\n",
              "      <td>60</td>\n",
              "      <td>3</td>\n",
              "      <td>4.850476</td>\n",
              "      <td>52.348586</td>\n",
              "    </tr>\n",
              "    <tr>\n",
              "      <th>2</th>\n",
              "      <td>3</td>\n",
              "      <td>Zaaiersweg 11 A, Amsterdam</td>\n",
              "      <td>1097 SM</td>\n",
              "      <td>850000.0</td>\n",
              "      <td>109</td>\n",
              "      <td>4</td>\n",
              "      <td>4.944774</td>\n",
              "      <td>52.343782</td>\n",
              "    </tr>\n",
              "    <tr>\n",
              "      <th>3</th>\n",
              "      <td>4</td>\n",
              "      <td>Tenerifestraat 40, Amsterdam</td>\n",
              "      <td>1060 TH</td>\n",
              "      <td>580000.0</td>\n",
              "      <td>128</td>\n",
              "      <td>6</td>\n",
              "      <td>4.789928</td>\n",
              "      <td>52.343712</td>\n",
              "    </tr>\n",
              "    <tr>\n",
              "      <th>4</th>\n",
              "      <td>5</td>\n",
              "      <td>Winterjanpad 21, Amsterdam</td>\n",
              "      <td>1036 KN</td>\n",
              "      <td>720000.0</td>\n",
              "      <td>138</td>\n",
              "      <td>5</td>\n",
              "      <td>4.902503</td>\n",
              "      <td>52.410538</td>\n",
              "    </tr>\n",
              "  </tbody>\n",
              "</table>\n",
              "</div>"
            ],
            "text/plain": [
              "   Unnamed: 0                                 Address  ...       Lon        Lat\n",
              "0           1            Blasiusstraat 8 2, Amsterdam  ...  4.907736  52.356157\n",
              "1           2  Kromme Leimuidenstraat 13 H, Amsterdam  ...  4.850476  52.348586\n",
              "2           3              Zaaiersweg 11 A, Amsterdam  ...  4.944774  52.343782\n",
              "3           4            Tenerifestraat 40, Amsterdam  ...  4.789928  52.343712\n",
              "4           5              Winterjanpad 21, Amsterdam  ...  4.902503  52.410538\n",
              "\n",
              "[5 rows x 8 columns]"
            ]
          },
          "metadata": {},
          "execution_count": 3
        }
      ]
    },
    {
      "cell_type": "code",
      "metadata": {
        "colab": {
          "base_uri": "https://localhost:8080/",
          "height": 386
        },
        "id": "DyrbZLo_N9I3",
        "outputId": "0415ab7b-43cd-418f-e0b2-529f4788a398"
      },
      "source": [
        "sns.displot(house_price.Price, kde=True, label='Housing Price in Amsterdam')"
      ],
      "execution_count": 4,
      "outputs": [
        {
          "output_type": "execute_result",
          "data": {
            "text/plain": [
              "<seaborn.axisgrid.FacetGrid at 0x7f30a5766ed0>"
            ]
          },
          "metadata": {},
          "execution_count": 4
        },
        {
          "output_type": "display_data",
          "data": {
            "image/png": "[encoded data removed]",
            "text/plain": [
              "<Figure size 360x360 with 1 Axes>"
            ]
          },
          "metadata": {
            "needs_background": "light"
          }
        }
      ]
    },
    {
      "cell_type": "code",
      "metadata": {
        "colab": {
          "base_uri": "https://localhost:8080/",
          "height": 294
        },
        "id": "622soefTPcrO",
        "outputId": "e4a19eba-e2a5-4000-cecf-c4fca9f0adcf"
      },
      "source": [
        "fig,ax = plt.subplots(ncols=4, figsize = (18,4))\n",
        "for i in range(4):\n",
        "  house_price.Price.sample(400).plot(kind='hist',bins=20,ax=ax[i])\n",
        "  ax[i].set_title('Sample #{}'.format(i+1))"
      ],
      "execution_count": 5,
      "outputs": [
        {
          "output_type": "display_data",
          "data": {
            "image/png": "[encoded data removed]",
            "text/plain": [
              "<Figure size 1296x288 with 4 Axes>"
            ]
          },
          "metadata": {
            "needs_background": "light"
          }
        }
      ]
    },
    {
      "cell_type": "markdown",
      "metadata": {
        "id": "H8fEMz5zQzcG"
      },
      "source": [
        "We take 100 samples randomly from the housing price data and we did it 4 times. The visualization show that their distribution look the same. It happend simply because of randomness."
      ]
    },
    {
      "cell_type": "markdown",
      "metadata": {
        "id": "9vkjHyOdSNJM"
      },
      "source": [
        "## Statistical Significance and P-Value"
      ]
    },
    {
      "cell_type": "code",
      "metadata": {
        "colab": {
          "base_uri": "https://localhost:8080/",
          "height": 424
        },
        "id": "r8GqYJuLRiPg",
        "outputId": "be23030e-3ab2-4208-b3b0-10c4034bdd82"
      },
      "source": [
        "scanner_data = pd.read_csv('https://raw.githubusercontent.com/fahmimnalfrzki/Additional-Materials/main/scanner_data.csv')\n",
        "scanner_data"
      ],
      "execution_count": 6,
      "outputs": [
        {
          "output_type": "execute_result",
          "data": {
            "text/html": [
              "<div>\n",
              "<style scoped>\n",
              "    .dataframe tbody tr th:only-of-type {\n",
              "        vertical-align: middle;\n",
              "    }\n",
              "\n",
              "    .dataframe tbody tr th {\n",
              "        vertical-align: top;\n",
              "    }\n",
              "\n",
              "    .dataframe thead th {\n",
              "        text-align: right;\n",
              "    }\n",
              "</style>\n",
              "<table border=\"1\" class=\"dataframe\">\n",
              "  <thead>\n",
              "    <tr style=\"text-align: right;\">\n",
              "      <th></th>\n",
              "      <th>Unnamed: 0</th>\n",
              "      <th>Date</th>\n",
              "      <th>Customer_ID</th>\n",
              "      <th>Transaction_ID</th>\n",
              "      <th>SKU_Category</th>\n",
              "      <th>SKU</th>\n",
              "      <th>Quantity</th>\n",
              "      <th>Sales_Amount</th>\n",
              "    </tr>\n",
              "  </thead>\n",
              "  <tbody>\n",
              "    <tr>\n",
              "      <th>0</th>\n",
              "      <td>1</td>\n",
              "      <td>02/01/2016</td>\n",
              "      <td>2547</td>\n",
              "      <td>1</td>\n",
              "      <td>X52</td>\n",
              "      <td>0EM7L</td>\n",
              "      <td>1.0</td>\n",
              "      <td>3.13</td>\n",
              "    </tr>\n",
              "    <tr>\n",
              "      <th>1</th>\n",
              "      <td>2</td>\n",
              "      <td>02/01/2016</td>\n",
              "      <td>822</td>\n",
              "      <td>2</td>\n",
              "      <td>2ML</td>\n",
              "      <td>68BRQ</td>\n",
              "      <td>1.0</td>\n",
              "      <td>5.46</td>\n",
              "    </tr>\n",
              "    <tr>\n",
              "      <th>2</th>\n",
              "      <td>3</td>\n",
              "      <td>02/01/2016</td>\n",
              "      <td>3686</td>\n",
              "      <td>3</td>\n",
              "      <td>0H2</td>\n",
              "      <td>CZUZX</td>\n",
              "      <td>1.0</td>\n",
              "      <td>6.35</td>\n",
              "    </tr>\n",
              "    <tr>\n",
              "      <th>3</th>\n",
              "      <td>4</td>\n",
              "      <td>02/01/2016</td>\n",
              "      <td>3719</td>\n",
              "      <td>4</td>\n",
              "      <td>0H2</td>\n",
              "      <td>549KK</td>\n",
              "      <td>1.0</td>\n",
              "      <td>5.59</td>\n",
              "    </tr>\n",
              "    <tr>\n",
              "      <th>4</th>\n",
              "      <td>5</td>\n",
              "      <td>02/01/2016</td>\n",
              "      <td>9200</td>\n",
              "      <td>5</td>\n",
              "      <td>0H2</td>\n",
              "      <td>K8EHH</td>\n",
              "      <td>1.0</td>\n",
              "      <td>6.88</td>\n",
              "    </tr>\n",
              "    <tr>\n",
              "      <th>...</th>\n",
              "      <td>...</td>\n",
              "      <td>...</td>\n",
              "      <td>...</td>\n",
              "      <td>...</td>\n",
              "      <td>...</td>\n",
              "      <td>...</td>\n",
              "      <td>...</td>\n",
              "      <td>...</td>\n",
              "    </tr>\n",
              "    <tr>\n",
              "      <th>131701</th>\n",
              "      <td>131702</td>\n",
              "      <td>04/07/2016</td>\n",
              "      <td>20203</td>\n",
              "      <td>32900</td>\n",
              "      <td>IEV</td>\n",
              "      <td>FO112</td>\n",
              "      <td>3.0</td>\n",
              "      <td>6.46</td>\n",
              "    </tr>\n",
              "    <tr>\n",
              "      <th>131702</th>\n",
              "      <td>131703</td>\n",
              "      <td>04/07/2016</td>\n",
              "      <td>20203</td>\n",
              "      <td>32900</td>\n",
              "      <td>N8U</td>\n",
              "      <td>I36F2</td>\n",
              "      <td>1.0</td>\n",
              "      <td>4.50</td>\n",
              "    </tr>\n",
              "    <tr>\n",
              "      <th>131703</th>\n",
              "      <td>131704</td>\n",
              "      <td>04/07/2016</td>\n",
              "      <td>20203</td>\n",
              "      <td>32900</td>\n",
              "      <td>U5F</td>\n",
              "      <td>4X8P4</td>\n",
              "      <td>1.0</td>\n",
              "      <td>5.19</td>\n",
              "    </tr>\n",
              "    <tr>\n",
              "      <th>131704</th>\n",
              "      <td>131705</td>\n",
              "      <td>04/07/2016</td>\n",
              "      <td>20203</td>\n",
              "      <td>32900</td>\n",
              "      <td>0H2</td>\n",
              "      <td>ZVTO4</td>\n",
              "      <td>1.0</td>\n",
              "      <td>4.57</td>\n",
              "    </tr>\n",
              "    <tr>\n",
              "      <th>131705</th>\n",
              "      <td>131706</td>\n",
              "      <td>04/07/2016</td>\n",
              "      <td>20203</td>\n",
              "      <td>32900</td>\n",
              "      <td>Q4N</td>\n",
              "      <td>QM9BP</td>\n",
              "      <td>1.0</td>\n",
              "      <td>13.68</td>\n",
              "    </tr>\n",
              "  </tbody>\n",
              "</table>\n",
              "<p>131706 rows × 8 columns</p>\n",
              "</div>"
            ],
            "text/plain": [
              "        Unnamed: 0        Date  Customer_ID  ...    SKU Quantity Sales_Amount\n",
              "0                1  02/01/2016         2547  ...  0EM7L      1.0         3.13\n",
              "1                2  02/01/2016          822  ...  68BRQ      1.0         5.46\n",
              "2                3  02/01/2016         3686  ...  CZUZX      1.0         6.35\n",
              "3                4  02/01/2016         3719  ...  549KK      1.0         5.59\n",
              "4                5  02/01/2016         9200  ...  K8EHH      1.0         6.88\n",
              "...            ...         ...          ...  ...    ...      ...          ...\n",
              "131701      131702  04/07/2016        20203  ...  FO112      3.0         6.46\n",
              "131702      131703  04/07/2016        20203  ...  I36F2      1.0         4.50\n",
              "131703      131704  04/07/2016        20203  ...  4X8P4      1.0         5.19\n",
              "131704      131705  04/07/2016        20203  ...  ZVTO4      1.0         4.57\n",
              "131705      131706  04/07/2016        20203  ...  QM9BP      1.0        13.68\n",
              "\n",
              "[131706 rows x 8 columns]"
            ]
          },
          "metadata": {},
          "execution_count": 6
        }
      ]
    },
    {
      "cell_type": "code",
      "metadata": {
        "colab": {
          "base_uri": "https://localhost:8080/"
        },
        "id": "-VZc2gfOUBMP",
        "outputId": "32b5b9a8-ced4-4b1c-ae22-f5a5d1857bff"
      },
      "source": [
        "category_X52_quantity = scanner_data[scanner_data.SKU_Category == 'X52'].groupby('Date').sum()['Quantity']\n",
        "category_2ML_quantity = scanner_data[scanner_data.SKU_Category == '2ML'].groupby('Date').sum()['Quantity']\n",
        "\n",
        "print('Total X52 SKU Category Selling: ',category_X52_quantity.sum(),'items.')\n",
        "print('Total 2ML SKU Category Selling: ',category_2ML_quantity.sum(),'items.')\n",
        "\n",
        "print('Daily Average of X52 SKU Category Selling: ',category_X52_quantity.mean(),'items.')\n",
        "print('Daily Average of 2ML SKU Category Selling: ',category_2ML_quantity.mean(),'items.')"
      ],
      "execution_count": 7,
      "outputs": [
        {
          "output_type": "stream",
          "name": "stdout",
          "text": [
            "Total X52 SKU Category Selling:  1919.0 items.\n",
            "Total 2ML SKU Category Selling:  1799.0 items.\n",
            "Daily Average of X52 SKU Category Selling:  5.390449438202247 items.\n",
            "Daily Average of 2ML SKU Category Selling:  5.1253561253561255 items.\n"
          ]
        }
      ]
    },
    {
      "cell_type": "markdown",
      "metadata": {
        "id": "IAMo8rrNWcO1"
      },
      "source": [
        "The daily average of X52 and 2ML SKU category selling are slightly different, around 0.27 difference. In terms of statistics, is the difference significantly different? In other words, whether the difference are real or simply due to chance?\n",
        "\n",
        "To make sure that the difference are real, we need to check the significance of the populations."
      ]
    },
    {
      "cell_type": "code",
      "metadata": {
        "colab": {
          "base_uri": "https://localhost:8080/",
          "height": 427
        },
        "id": "DshRWIqGWa6g",
        "outputId": "b5ec269b-74f0-48be-f2b9-c9f112dddd62"
      },
      "source": [
        "pop_x52 = np.random.normal(category_X52_quantity.mean(),category_X52_quantity.std(),100000)\n",
        "pop_2ml = np.random.normal(category_2ML_quantity.mean(),category_2ML_quantity.std(),100000)\n",
        "\n",
        "ci = stats.norm.interval(0.95, pop_x52.mean(), pop_x52.std())\n",
        "plt.figure(figsize=(16,5))\n",
        "sns.distplot(pop_x52, label='X52 Population',color='blue')\n",
        "sns.distplot(pop_2ml, label='2ML Population',color='red')\n",
        "\n",
        "plt.axvline(pop_x52.mean(), color='blue', linestyle='dashed', linewidth=2, label='X52 mean')\n",
        "plt.axvline(pop_2ml.mean(), color='red', linestyle='dashed', linewidth=2, label='2ML mean')\n",
        "\n",
        "plt.axvline(ci[1], color='green', linestyle='dashed', linewidth=2, label='confidence threshold of 95%')\n",
        "plt.axvline(ci[0], color='green', linestyle='dashed', linewidth=2)\n",
        "plt.legend()"
      ],
      "execution_count": 14,
      "outputs": [
        {
          "output_type": "stream",
          "name": "stderr",
          "text": [
            "/usr/local/lib/python3.7/dist-packages/seaborn/distributions.py:2619: FutureWarning: `distplot` is a deprecated function and will be removed in a future version. Please adapt your code to use either `displot` (a figure-level function with similar flexibility) or `histplot` (an axes-level function for histograms).\n",
            "  warnings.warn(msg, FutureWarning)\n",
            "/usr/local/lib/python3.7/dist-packages/seaborn/distributions.py:2619: FutureWarning: `distplot` is a deprecated function and will be removed in a future version. Please adapt your code to use either `displot` (a figure-level function with similar flexibility) or `histplot` (an axes-level function for histograms).\n",
            "  warnings.warn(msg, FutureWarning)\n"
          ]
        },
        {
          "output_type": "execute_result",
          "data": {
            "text/plain": [
              "<matplotlib.legend.Legend at 0x7f3097d68c90>"
            ]
          },
          "metadata": {},
          "execution_count": 14
        },
        {
          "output_type": "display_data",
          "data": {
            "image/png": "[encoded data removed]",
            "text/plain": [
              "<Figure size 1152x360 with 1 Axes>"
            ]
          },
          "metadata": {
            "needs_background": "light"
          }
        }
      ]
    },
    {
      "cell_type": "markdown",
      "metadata": {
        "id": "lEmBcXCMcxSd"
      },
      "source": [
        "On the graph above, the green line is the confidence threshold of 95% which related to the p-value of 0.05. We want to check whether our variables are truly different or not. We use X52 data for creating the confidence interval and we use it for reference of our analysis.\n",
        "\n",
        "The 2ML mean line (the red line) lies in the confidence interval which means the difference is not statistically significant."
      ]
    },
    {
      "cell_type": "markdown",
      "metadata": {
        "id": "Pa3LeNQUwfxi"
      },
      "source": [
        "## Permutation Test"
      ]
    },
    {
      "cell_type": "markdown",
      "metadata": {
        "id": "wpQtvZ_mxCnM"
      },
      "source": [
        "We have already know based on the visualization above that 2ML and X52 are not significantly different. Furthermore, we can use another tool that is permutation test to measure the p-value so we can take a conclusion that they are not too different."
      ]
    },
    {
      "cell_type": "code",
      "metadata": {
        "colab": {
          "base_uri": "https://localhost:8080/"
        },
        "id": "qP_DMLIZwj16",
        "outputId": "20104e13-073a-4908-915a-280a200b5622"
      },
      "source": [
        "mean_difference = category_X52_quantity.mean() - category_2ML_quantity.mean()\n",
        "\n",
        "both_selling = scanner_data[(scanner_data.SKU_Category == 'X52') | (scanner_data.SKU_Category == '2ML')].groupby(['Date','SKU_Category']).sum()['Quantity']\n",
        "both_selling = both_selling.sample(both_selling.count())\n",
        "\n",
        "N_X52 = category_X52_quantity.count()\n",
        "N_2ML = category_2ML_quantity.count()\n",
        "\n",
        "mean_diffs = []\n",
        "\n",
        "for i in range(1000): #We do 1000 permutation\n",
        "    sample_x52 = both_selling.sample(N_X52)\n",
        "    sample_2ml = both_selling.sample(N_2ML)\n",
        "\n",
        "    mean_diffs.append(np.abs(sample_x52.mean() - sample_2ml.mean()))\n",
        "\n",
        "mean_diffs = np.array(mean_diffs)\n",
        "\n",
        "p_val = 1 - len(np.where(mean_diffs>=mean_difference)[0])/1000\n",
        "\n",
        "print('P-value:',p_val)\n",
        "\n"
      ],
      "execution_count": 9,
      "outputs": [
        {
          "output_type": "stream",
          "name": "stdout",
          "text": [
            "P-value: 0.903\n"
          ]
        }
      ]
    },
    {
      "cell_type": "markdown",
      "metadata": {
        "id": "uczjcdAtgN97"
      },
      "source": [
        "Since the p-value is more than 0.05, so we conclude that both 2ML and X52 are not different significantly."
      ]
    },
    {
      "cell_type": "markdown",
      "metadata": {
        "id": "fNvXHl4Q3GxP"
      },
      "source": [
        "## T-Test\n",
        "\n",
        "Student’s t-test or t-test is a parametric inferential statistical method used for comparing the means between two different groups (two-sample t-test) or with the specific value (one-sample t-test).\n",
        "\n",
        "\n",
        "The t-test can be applied for the extremely small sample size (n = 2 to 5) provided the effect size is large and data follows the t-test assumptions. Remember, a larger sample size is preferred over small sample sizes.\n",
        "T-test is relatively robust to the assumption of normality and homogeneity of variances when the sample size is large (n ≥ 30).\n",
        "\n",
        "To understand why t-test when the sample size is large assumed that the distribution is normal and homogen, let we look at the graph below."
      ]
    },
    {
      "cell_type": "code",
      "metadata": {
        "colab": {
          "base_uri": "https://localhost:8080/",
          "height": 386
        },
        "id": "5ET8-sVHYII9",
        "outputId": "2001f877-b32d-4fe3-d4da-21d09daa58e0"
      },
      "source": [
        "sns.distplot(pop_x52, label='X52 Population (Normal)',color='blue')\n",
        "sns.distplot(category_X52_quantity, label='X52 Sample (N > 30)',color='green')\n",
        "plt.legend()"
      ],
      "execution_count": 10,
      "outputs": [
        {
          "output_type": "stream",
          "name": "stderr",
          "text": [
            "/usr/local/lib/python3.7/dist-packages/seaborn/distributions.py:2619: FutureWarning: `distplot` is a deprecated function and will be removed in a future version. Please adapt your code to use either `displot` (a figure-level function with similar flexibility) or `histplot` (an axes-level function for histograms).\n",
            "  warnings.warn(msg, FutureWarning)\n",
            "/usr/local/lib/python3.7/dist-packages/seaborn/distributions.py:2619: FutureWarning: `distplot` is a deprecated function and will be removed in a future version. Please adapt your code to use either `displot` (a figure-level function with similar flexibility) or `histplot` (an axes-level function for histograms).\n",
            "  warnings.warn(msg, FutureWarning)\n"
          ]
        },
        {
          "output_type": "execute_result",
          "data": {
            "text/plain": [
              "<matplotlib.legend.Legend at 0x7f30983ccc10>"
            ]
          },
          "metadata": {},
          "execution_count": 10
        },
        {
          "output_type": "display_data",
          "data": {
            "image/png": "[encoded data removed]",
            "text/plain": [
              "<Figure size 432x288 with 1 Axes>"
            ]
          },
          "metadata": {
            "needs_background": "light"
          }
        }
      ]
    },
    {
      "cell_type": "markdown",
      "metadata": {
        "id": "mfPrlXRyYigp"
      },
      "source": [
        "For the large sample of X52 daily sales data, it is clear that the distribution tend to follow the normal distribution and almost homogen just like the population that we generate previously. So, we can use the data for our t-test later on."
      ]
    },
    {
      "cell_type": "markdown",
      "metadata": {
        "id": "2MlzfNrfXYhE"
      },
      "source": [
        "There are three kinds of T-test which are:\n",
        "1. One sample t-test\n",
        "2. Two sample t-test\n",
        "3. Paired t-test\n",
        "\n",
        "Will discuss them later on the AM session. \n",
        "\n",
        "Now, we're just focus on that how Python perform the t-test. Let we consider the previous case on permutation test. We calculate the p-value and the result is 0.921 which means that the difference of 2ML dan X52 is not statistically significant. If we test the data using two sample t-test, will the result still shows that their difference is not significant?"
      ]
    },
    {
      "cell_type": "code",
      "metadata": {
        "colab": {
          "base_uri": "https://localhost:8080/"
        },
        "id": "ePLjEJNayWwB",
        "outputId": "15b5e7f5-ce8e-4abe-e171-f14089a29e98"
      },
      "source": [
        "from scipy.stats import ttest_ind\n",
        "\n",
        "t_stat, p_value = ttest_ind(category_X52_quantity,category_2ML_quantity)\n",
        "print('T-statistic:',t_stat)\n",
        "print('P-value:',p_value)"
      ],
      "execution_count": 11,
      "outputs": [
        {
          "output_type": "stream",
          "name": "stdout",
          "text": [
            "T-statistic: 1.2087385306883427\n",
            "P-value: 0.2271685563090583\n"
          ]
        }
      ]
    },
    {
      "cell_type": "markdown",
      "metadata": {
        "id": "UVoaVJW7oq9i"
      },
      "source": [
        "Our result is quite far from the permutation test one but the conclusion is the same that is the difference between 2ML and X52 average not significant."
      ]
    },
    {
      "cell_type": "markdown",
      "metadata": {
        "id": "6cyYFfSv6mB9"
      },
      "source": [
        "## ANOVA\n",
        "\n",
        "ANOVA is similar to the t-test. It used for testing whether more than two variables are significantly different or not. So, we will test whether the mean of daily sales of IEV,N8U, and U5F are significantly different or not."
      ]
    },
    {
      "cell_type": "code",
      "metadata": {
        "colab": {
          "base_uri": "https://localhost:8080/"
        },
        "id": "C_yorBndWO4C",
        "outputId": "f2019467-8558-4d88-b4fc-b6289b68f60f"
      },
      "source": [
        "IEV_quantity = scanner_data[scanner_data.SKU_Category == 'IEV'].groupby('Date').sum()['Quantity']\n",
        "N8U_quantity = scanner_data[scanner_data.SKU_Category == 'N8U'].groupby('Date').sum()['Quantity']\n",
        "U5F_quantity = scanner_data[scanner_data.SKU_Category == 'U5F'].groupby('Date').sum()['Quantity']\n",
        "\n",
        "print(\"Daily Average of IEV\",IEV_quantity.mean())\n",
        "print(\"Daily Average of N8U\",N8U_quantity.mean())\n",
        "print(\"Daily Average of U5F\",U5F_quantity.mean())"
      ],
      "execution_count": 12,
      "outputs": [
        {
          "output_type": "stream",
          "name": "stdout",
          "text": [
            "Daily Average of IEV 22.915254237288135\n",
            "Daily Average of N8U 33.46556473829201\n",
            "Daily Average of U5F 22.610340909090908\n"
          ]
        }
      ]
    },
    {
      "cell_type": "markdown",
      "metadata": {
        "id": "IOZfa8fGDGIm"
      },
      "source": [
        "It seems that they tend to a conclusion that they are significantly different since N8U average is 33s and the rest is 22s."
      ]
    },
    {
      "cell_type": "code",
      "metadata": {
        "colab": {
          "base_uri": "https://localhost:8080/"
        },
        "id": "MPZOpoAnC00A",
        "outputId": "dbe3dbe2-5fbb-4f75-afef-8c48c1ebd105"
      },
      "source": [
        "f_stat,p_value = stats.f_oneway(IEV_quantity,N8U_quantity,U5F_quantity)\n",
        "print('P-value:',p_value)"
      ],
      "execution_count": 15,
      "outputs": [
        {
          "output_type": "stream",
          "name": "stdout",
          "text": [
            "P-value: 6.049412282955515e-36\n"
          ]
        }
      ]
    },
    {
      "cell_type": "markdown",
      "metadata": {
        "id": "qoeghSJkDmg9"
      },
      "source": [
        "since the p-value is below 0.05, then we conclude that the difference of IEV, N8U, and U5F is statistically significant."
      ]
    },
    {
      "cell_type": "markdown",
      "metadata": {
        "id": "k6XMNrSKD1Zg"
      },
      "source": [
        "## Chi-Square Test\n",
        "\n",
        "Chi-square test is used for testing of independence between two categorical data. Since statistics handling the numerical data, we need to calculate the frequency of each variable and presented by a contingency table."
      ]
    },
    {
      "cell_type": "code",
      "metadata": {
        "colab": {
          "base_uri": "https://localhost:8080/",
          "height": 332
        },
        "id": "9AMV5u2_FRNH",
        "outputId": "c1e0fe30-0724-43cd-c1b4-1c5ecf667438"
      },
      "source": [
        "chi_df=pd.read_csv('https://raw.githubusercontent.com/yug95/MachineLearning/master/Hypothesis%20testing/chi-test.csv')\n",
        "chi_df"
      ],
      "execution_count": 16,
      "outputs": [
        {
          "output_type": "execute_result",
          "data": {
            "text/html": [
              "<div>\n",
              "<style scoped>\n",
              "    .dataframe tbody tr th:only-of-type {\n",
              "        vertical-align: middle;\n",
              "    }\n",
              "\n",
              "    .dataframe tbody tr th {\n",
              "        vertical-align: top;\n",
              "    }\n",
              "\n",
              "    .dataframe thead th {\n",
              "        text-align: right;\n",
              "    }\n",
              "</style>\n",
              "<table border=\"1\" class=\"dataframe\">\n",
              "  <thead>\n",
              "    <tr style=\"text-align: right;\">\n",
              "      <th></th>\n",
              "      <th>Gender</th>\n",
              "      <th>Like Shopping?</th>\n",
              "    </tr>\n",
              "  </thead>\n",
              "  <tbody>\n",
              "    <tr>\n",
              "      <th>0</th>\n",
              "      <td>Male</td>\n",
              "      <td>No</td>\n",
              "    </tr>\n",
              "    <tr>\n",
              "      <th>1</th>\n",
              "      <td>Female</td>\n",
              "      <td>Yes</td>\n",
              "    </tr>\n",
              "    <tr>\n",
              "      <th>2</th>\n",
              "      <td>Male</td>\n",
              "      <td>Yes</td>\n",
              "    </tr>\n",
              "    <tr>\n",
              "      <th>3</th>\n",
              "      <td>Female</td>\n",
              "      <td>Yes</td>\n",
              "    </tr>\n",
              "    <tr>\n",
              "      <th>4</th>\n",
              "      <td>Female</td>\n",
              "      <td>Yes</td>\n",
              "    </tr>\n",
              "    <tr>\n",
              "      <th>5</th>\n",
              "      <td>Male</td>\n",
              "      <td>Yes</td>\n",
              "    </tr>\n",
              "    <tr>\n",
              "      <th>6</th>\n",
              "      <td>Male</td>\n",
              "      <td>No</td>\n",
              "    </tr>\n",
              "    <tr>\n",
              "      <th>7</th>\n",
              "      <td>Female</td>\n",
              "      <td>No</td>\n",
              "    </tr>\n",
              "    <tr>\n",
              "      <th>8</th>\n",
              "      <td>Female</td>\n",
              "      <td>No</td>\n",
              "    </tr>\n",
              "  </tbody>\n",
              "</table>\n",
              "</div>"
            ],
            "text/plain": [
              "   Gender Like Shopping?\n",
              "0    Male             No\n",
              "1  Female            Yes\n",
              "2    Male            Yes\n",
              "3  Female            Yes\n",
              "4  Female            Yes\n",
              "5    Male            Yes\n",
              "6    Male             No\n",
              "7  Female             No\n",
              "8  Female             No"
            ]
          },
          "metadata": {},
          "execution_count": 16
        }
      ]
    },
    {
      "cell_type": "code",
      "metadata": {
        "colab": {
          "base_uri": "https://localhost:8080/",
          "height": 143
        },
        "id": "dhCI7Va9FWMi",
        "outputId": "6c86b080-6ad4-4abd-fae5-0de7344188cc"
      },
      "source": [
        "contingency_table=pd.crosstab(chi_df[\"Gender\"],chi_df[\"Like Shopping?\"])\n",
        "contingency_table"
      ],
      "execution_count": 17,
      "outputs": [
        {
          "output_type": "execute_result",
          "data": {
            "text/html": [
              "<div>\n",
              "<style scoped>\n",
              "    .dataframe tbody tr th:only-of-type {\n",
              "        vertical-align: middle;\n",
              "    }\n",
              "\n",
              "    .dataframe tbody tr th {\n",
              "        vertical-align: top;\n",
              "    }\n",
              "\n",
              "    .dataframe thead th {\n",
              "        text-align: right;\n",
              "    }\n",
              "</style>\n",
              "<table border=\"1\" class=\"dataframe\">\n",
              "  <thead>\n",
              "    <tr style=\"text-align: right;\">\n",
              "      <th>Like Shopping?</th>\n",
              "      <th>No</th>\n",
              "      <th>Yes</th>\n",
              "    </tr>\n",
              "    <tr>\n",
              "      <th>Gender</th>\n",
              "      <th></th>\n",
              "      <th></th>\n",
              "    </tr>\n",
              "  </thead>\n",
              "  <tbody>\n",
              "    <tr>\n",
              "      <th>Female</th>\n",
              "      <td>2</td>\n",
              "      <td>3</td>\n",
              "    </tr>\n",
              "    <tr>\n",
              "      <th>Male</th>\n",
              "      <td>2</td>\n",
              "      <td>2</td>\n",
              "    </tr>\n",
              "  </tbody>\n",
              "</table>\n",
              "</div>"
            ],
            "text/plain": [
              "Like Shopping?  No  Yes\n",
              "Gender                 \n",
              "Female           2    3\n",
              "Male             2    2"
            ]
          },
          "metadata": {},
          "execution_count": 17
        }
      ]
    },
    {
      "cell_type": "code",
      "metadata": {
        "colab": {
          "base_uri": "https://localhost:8080/"
        },
        "id": "DDyQICNgFYrg",
        "outputId": "08018d77-49c9-4d90-a383-5e61b1b062b6"
      },
      "source": [
        "stat, p, dof, expected = stats.chi2_contingency(contingency_table)\n",
        "print('p=%.3f' % (p))\n",
        "if p > 0.05:\n",
        "    print('Probably independent')\n",
        "else:\n",
        "    print('Probably dependent')"
      ],
      "execution_count": 18,
      "outputs": [
        {
          "output_type": "stream",
          "name": "stdout",
          "text": [
            "p=0.708\n",
            "Probably independent\n"
          ]
        }
      ]
    }
  ]
}