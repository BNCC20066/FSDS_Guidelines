{
 "metadata": {
  "language_info": {
   "codemirror_mode": {
    "name": "ipython",
    "version": 3
   },
   "file_extension": ".py",
   "mimetype": "text/x-python",
   "name": "python",
   "nbconvert_exporter": "python",
   "pygments_lexer": "ipython3",
   "version": 3
  },
  "orig_nbformat": 2
 },
 "nbformat": 4,
 "nbformat_minor": 2,
 "cells": [
  {
   "source": [
    "# Week 3: Day 3 AM // Practical Statistics: Descriptive"
   ],
   "cell_type": "markdown",
   "metadata": {}
  },
  {
   "source": [
    "## Nonparametric Data Summarization\n",
    "\n",
    "Data summarization techniques provide a way to describe the distribution of data using a few key measurements.\n",
    "\n",
    "The most common example of data summarization is the calculation of the mean and standard deviation for data that has a Gaussian distribution. With these two parameters alone, you can understand and re-create the distribution of the data. The data summary can compress as few as tens or as many as millions individual observations.\n",
    "\n",
    "The problem is, you cannot easily calculate the mean and standard deviation of data that does not have a Gaussian distribution. Technically, you can calculate these quantities, but they do not summarize the data distribution; in fact, they can be very misleading.\n",
    "\n",
    "In the case of data that does not have a Gaussian distribution, you can summarize the data sample using the five-number summary.\n",
    "\n",
    "## Five-Number Summary\n",
    "\n",
    "The five-number summary, or 5-number summary for short, is a non-parametric data summarization technique.\n",
    "\n",
    "It is sometimes called the Tukey 5-number summary because it was recommended by John Tukey. It can be used to describe the distribution of data samples for data with any distribution.\n",
    "\n",
    "As a standard summary for general use, the 5-number summary provides about the right amount of detail.\n",
    "\n",
    "The five-number summary involves the calculation of 5 summary statistical quantities: namely:\n",
    "\n",
    "- Median: The middle value in the sample, also called the 50th percentile or the 2nd quartile.\n",
    "- 1st Quartile: The 25th percentile.\n",
    "- 3rd Quartile: The 75th percentile.\n",
    "- Minimum: The smallest observation in the sample.\n",
    "- Maximum: The largest observation in the sample.\n",
    "\n",
    "A quartile is an observed value at a point that aids in splitting the ordered data sample into four equally sized parts. The median, or 2nd Quartile, splits the ordered data sample into two parts, and the 1st and 3rd quartiles split each of those halves into quarters.\n",
    "\n",
    "A percentile is an observed value at a point that aids in splitting the ordered data sample into 100 equally sized portions. Quartiles are often also expressed as percentiles.\n",
    "\n",
    "Both the quartile and percentile values are examples of rank statistics that can be calculated on a data sample with any distribution. They are used to quickly summarize how much of the data in the distribution is behind or in front of a given observed value. For example, half of the observations are behind and in front of the median of a distribution.\n",
    "\n",
    "Note that quartiles are also calculated in the box and whisker plot, a nonparametric method to graphically summarize the distribution of a data sample.\n",
    "\n",
    "## How to Calculate the Five-Number Summary\n",
    "\n",
    "Calculating the five-number summary involves finding the observations for each quartile as well as the minimum and maximum observed values from the data sample.\n",
    "\n",
    "If there is no specific value in the ordered data sample for the quartile, such as if there are an even number of observations and we are trying to find the median, then we can calculate the mean of the two closest values, such as the two middle values.\n",
    "\n",
    "We can calculate arbitrary percentile values in Python using the percentile() NumPy function. We can use this function to calculate the 1st, 2nd (median), and 3rd quartile values. The function takes both an array of observations and a floating point value to specify the percentile to calculate in the range of 0 to 100. It can also takes a list of percentile values to calculate multiple percentiles; for example:"
   ],
   "cell_type": "markdown",
   "metadata": {}
  },
  {
   "cell_type": "code",
   "execution_count": null,
   "metadata": {},
   "outputs": [],
   "source": [
    "quartiles = percentile(data, [25, 50, 75])"
   ]
  },
  {
   "source": [
    "By default, the function will calculate a linear interpolation (average) between observations if needed, such as in the case of calculating the median on a sample with an even number of values.\n",
    "\n",
    "The NumPy functions min() and max() can be used to return the smallest and largest values in the data sample; for example:"
   ],
   "cell_type": "markdown",
   "metadata": {}
  },
  {
   "cell_type": "code",
   "execution_count": null,
   "metadata": {},
   "outputs": [],
   "source": [
    "data_min, data_max = data.min(), data.max()"
   ]
  },
  {
   "source": [
    "We can put all of this together.\n",
    "\n",
    "The example below generates a data sample drawn from a uniform distribution between 0 and 1 and summarizes it using the five-number summary."
   ],
   "cell_type": "markdown",
   "metadata": {}
  },
  {
   "cell_type": "code",
   "execution_count": null,
   "metadata": {},
   "outputs": [],
   "source": [
    "# calculate a 5-number summary\n",
    "from numpy import percentile\n",
    "from numpy.random import rand\n",
    "# generate data sample\n",
    "data = rand(1000)\n",
    "# calculate quartiles\n",
    "quartiles = percentile(data, [25, 50, 75])\n",
    "# calculate min/max\n",
    "data_min, data_max = data.min(), data.max()\n",
    "# print 5-number summary\n",
    "print('Min: %.3f' % data_min)\n",
    "print('Q1: %.3f' % quartiles[0])\n",
    "print('Median: %.3f' % quartiles[1])\n",
    "print('Q3: %.3f' % quartiles[2])\n",
    "print('Max: %.3f' % data_max)"
   ]
  },
  {
   "source": [
    "Running the example generates the data sample and calculates the five-number summary to describe the sample distribution.\n",
    "\n",
    "We can see that the spread of observations is close to our expectations showing 0.27 for the 25th percentile 0.53 for the 50th percentile, and 0.76 for the 75th percentile, close to the idealized values of 0.25, 0.50, and 0.75 respectively."
   ],
   "cell_type": "markdown",
   "metadata": {}
  }
 ]
}