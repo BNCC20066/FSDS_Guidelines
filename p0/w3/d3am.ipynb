{
  "nbformat": 4,
  "nbformat_minor": 0,
  "metadata": {
    "kernelspec": {
      "name": "python3",
      "display_name": "Python 3"
    },
    "colab": {
      "name": "P0W3D3AM.ipynb",
      "provenance": [],
      "collapsed_sections": [],
      "toc_visible": true
    },
    "language_info": {
      "name": "python"
    }
  },
  "cells": [
    {
      "cell_type": "markdown",
      "metadata": {
        "id": "psCfGy_uztUA"
      },
      "source": [
        "# Week 3: Day 3 AM // Practical Statistics : Descriptive\n",
        "\n",
        "Statistics is primarily about analyzing data samples, and that starts with understanding the distribution of data in a sample."
      ]
    },
    {
      "cell_type": "markdown",
      "metadata": {
        "id": "oPyONncnztUC"
      },
      "source": [
        "# A. Analyzing Data Distribution\n",
        "A great deal of statistical analysis is based on the way that data values are distributed within the dataset. In this section, we'll explore some statistics that you can use to tell you about the values in a dataset.\n",
        "\n",
        "---\n",
        "\n"
      ]
    },
    {
      "cell_type": "markdown",
      "metadata": {
        "id": "ihFxkxcc70C0"
      },
      "source": [
        "## A.1. Measures of Central Tendency\n",
        "The term *measures of central tendency* sounds a bit grand, but really it's just a fancy way of saying that we're interested in knowing **where the middle value in our data** is. For example, suppose decide to conduct a study into the comparative salaries of people who graduated from the same school. You might record the results like this:\n",
        "\n",
        "| Name     | Salary      |\n",
        "|----------|-------------|\n",
        "| Dan      | 50,000      |\n",
        "| Joann    | 54,000      |\n",
        "| Pedro    | 50,000      |\n",
        "| Rosie    | 189,000     |\n",
        "| Ethan    | 55,000      |\n",
        "| Vicky    | 40,000      |\n",
        "| Frederic | 59,000      |\n",
        "\n",
        "Now, some of the former-students may earn a lot, and others may earn less; but what's the salary in the middle of the range of all salaries?\n",
        "\n",
        "---\n",
        "\n"
      ]
    },
    {
      "cell_type": "markdown",
      "metadata": {
        "id": "5J2LfuFP8T3i"
      },
      "source": [
        "### Mean\n",
        "A common way to define the central value is to use the *mean*, often called the *average*. **This is calculated as the sum of the values in the dataset, divided by the number of observations in the dataset.** When the dataset consists of the full population, the mean is represented by the Greek symbol ***&mu;*** (*mu*), and the formula is written like this:\n",
        "\n",
        "$$\n",
        "\\begin{equation}\\mu = \\frac{\\displaystyle\\sum_{i=1}^{N}X_{i}}{N}\\end{equation}\n",
        "$$\n",
        "\n",
        "More commonly, when working with a sample, the mean is represented by ***x&#772;*** (*x-bar*), and the formula is written like this (note the lower case letters used to indicate values from a sample):\n",
        "\n",
        "$$\n",
        "\\begin{equation}\\bar{x} = \\frac{\\displaystyle\\sum_{i=1}^{n}x_{i}}{n}\\end{equation}\n",
        "$$\n",
        "\n",
        "In the case of our list of heights, this can be calculated as:\n",
        "\n",
        "$$\n",
        "\\begin{equation}\\bar{x} = \\frac{50000+54000+50000+189000+55000+40000+59000}{7}\\end{equation}\n",
        "$$\n",
        "\n",
        "Which is **71,000**.\n",
        "\n",
        ">In technical terminology, ***x&#772;*** is a *statistic* (an estimate based on a sample of data) and ***&mu;*** is a *parameter* (a true value based on the entire population). A lot of the time, the parameters for the full population will be impossible (or at the very least, impractical) to measure; so we use statistics obtained from a representative sample to approximate them. In this case, we can use the sample mean of salary for our selection of surveyed students to try to estimate the actual average salary of all students who graduate from our school.\n",
        "\n",
        "In Python, when working with data in a `pandas.dataframe`, you can use the `mean` function, like this:"
      ]
    },
    {
      "cell_type": "code",
      "metadata": {
        "colab": {
          "base_uri": "https://localhost:8080/"
        },
        "id": "EEL4NZaPztUD",
        "outputId": "cb61c111-86aa-463d-b8d3-9156d99ee2f0"
      },
      "source": [
        "# Get the Mean\n",
        "\n",
        "import pandas as pd\n",
        "\n",
        "\n",
        "df = pd.DataFrame({'Name': ['Dan', 'Joann', 'Pedro', 'Rosie', 'Ethan', 'Vicky', 'Frederic'],\n",
        "                   'Salary':[50000, 54000, 50000, 189000, 55000, 40000, 59000]})\n",
        "\n",
        "print (df['Salary'].mean())"
      ],
      "execution_count": null,
      "outputs": [
        {
          "output_type": "stream",
          "name": "stdout",
          "text": [
            "71000.0\n"
          ]
        }
      ]
    },
    {
      "cell_type": "markdown",
      "metadata": {
        "id": "WjfGTYlH9LJL"
      },
      "source": [
        "### Median\n",
        "OK, let's see if we can find another definition for the central value that more closely reflects the expected earning potential of students attending our school. Another measure of central tendancy we can use is the *median*. **To calculate the median, we need to sort the values into ascending order and then find the middle-most value.** When there are an odd number of observations, you can find the position of the median value using this formula (where *n* is the number of observations):\n",
        "\n",
        "$$\n",
        "\\begin{equation}\\frac{n+1}{2}\\end{equation}\n",
        "$$\n",
        "\n",
        "Remember that this formula returns the *position* of the median value in the sorted list; not the value itself.\n",
        "\n",
        "If the number of observations is even, then things are a little (but not much) more complicated. In this case you calculate the median as the average of the two middle-most values, which are found like this:\n",
        "\n",
        "$$\n",
        "\\begin{equation}\\frac{n}{2} \\;\\;\\;\\;and \\;\\;\\;\\; \\frac{n}{2} + 1\\end{equation}\n",
        "$$\n",
        "\n",
        "So, for our graduate salaries; first lets sort the dataset:\n",
        "\n",
        "| Salary      |\n",
        "|-------------|\n",
        "| 40,000      |\n",
        "| 50,000      |\n",
        "| 50,000      |\n",
        "| 54,000      |\n",
        "| 55,000      |\n",
        "| 59,000      |\n",
        "| 189,000     |\n",
        "\n",
        "There's an odd number of observation (7), so the median value is at position (7 + 1) &div; 2; in other words, position 4:\n",
        "\n",
        "| Salary      |\n",
        "|-------------|\n",
        "| 40,000      |\n",
        "| 50,000      |\n",
        "| 50,000      |\n",
        "|***>54,000*** |\n",
        "| 55,000      |\n",
        "| 59,000      |\n",
        "| 189,000     |\n",
        "\n",
        "So the median salary is **54,000**.\n",
        "\n",
        "The `pandas.dataframe` class in Python has a `median` function to find the median :"
      ]
    },
    {
      "cell_type": "code",
      "metadata": {
        "colab": {
          "base_uri": "https://localhost:8080/"
        },
        "id": "ZZzjOcklztUE",
        "outputId": "37b0816b-c26f-4531-c843-8f0ce5b70880"
      },
      "source": [
        "# Get the Median\n",
        "\n",
        "import pandas as pd\n",
        "\n",
        "\n",
        "df = pd.DataFrame({'Name': ['Dan', 'Joann', 'Pedro', 'Rosie', 'Ethan', 'Vicky', 'Frederic'],\n",
        "                   'Salary':[50000, 54000, 50000, 189000, 55000, 40000, 59000]})\n",
        "\n",
        "print (df['Salary'].median())"
      ],
      "execution_count": null,
      "outputs": [
        {
          "output_type": "stream",
          "name": "stdout",
          "text": [
            "54000.0\n"
          ]
        }
      ]
    },
    {
      "cell_type": "markdown",
      "metadata": {
        "id": "8CVdMoUYztUF"
      },
      "source": [
        "### Mode\n",
        "\n",
        "Another related statistic is the *mode*, **which indicates the most frequently occurring value**. If you think about it, this is potentially a good indicator of how much a student **might expect** to earn when they graduate from the school; out of all the salaries that are being earned by former students, the mode is earned by more than any other.\n",
        "\n",
        "Looking at our list of salaries, there are two instances of former students earning **50,000**, but only one instance each for all other salaries:\n",
        "\n",
        "| Salary      |\n",
        "|-------------|\n",
        "| 40,000      |\n",
        "|***>50,000***|\n",
        "|***>50,000***|\n",
        "| 54,000      |\n",
        "| 55,000      |\n",
        "| 59,000      |\n",
        "| 189,000     |\n",
        "\n",
        "The mode is therefore **50,000**.\n",
        "\n",
        "As you might expect, the `pandas.dataframe` class has a `mode` function to return the mode:"
      ]
    },
    {
      "cell_type": "code",
      "metadata": {
        "colab": {
          "base_uri": "https://localhost:8080/"
        },
        "id": "WXOomfVYztUF",
        "outputId": "8056e6d6-767f-44a5-bd2f-b015f14d9576"
      },
      "source": [
        "# Get the Mode\n",
        "import pandas as pd\n",
        "\n",
        "\n",
        "df = pd.DataFrame({'Name': ['Dan', 'Joann', 'Pedro', 'Rosie', 'Ethan', 'Vicky', 'Frederic'],\n",
        "                   'Salary':[50000,54000,50000,189000,55000,40000,59000]})\n",
        "\n",
        "print (df['Salary'].mode())"
      ],
      "execution_count": null,
      "outputs": [
        {
          "output_type": "stream",
          "name": "stdout",
          "text": [
            "0    50000\n",
            "dtype: int64\n"
          ]
        }
      ]
    },
    {
      "cell_type": "markdown",
      "metadata": {
        "id": "GjY_obkwztUG"
      },
      "source": [
        "##### Multimodal Data\n",
        "It's not uncommon for a set of data to have more than one value as the mode. For example, suppose Ethan receives a raise that takes his salary to **59,000**:\n",
        "\n",
        "| Salary      |\n",
        "|-------------|\n",
        "| 40,000      |\n",
        "|***>50,000***|\n",
        "|***>50,000***|\n",
        "| 54,000      |\n",
        "|***>59,000***|\n",
        "|***>59,000***|\n",
        "| 189,000     |\n",
        "\n",
        "Now there are two values with the highest frequency. This dataset is *bimodal*. More generally, when there is more than one mode value, the data is considered *multimodal*.\n",
        "\n",
        "The `pandas.dataframe.mode` function returns all of the modes:"
      ]
    },
    {
      "cell_type": "code",
      "metadata": {
        "colab": {
          "base_uri": "https://localhost:8080/"
        },
        "id": "JSi-bUStztUG",
        "outputId": "c790a5f2-fa48-45c5-843e-270da5bad7ba"
      },
      "source": [
        "import pandas as pd\n",
        "\n",
        "\n",
        "df = pd.DataFrame({'Name': ['Dan', 'Joann', 'Pedro', 'Rosie', 'Ethan', 'Vicky', 'Frederic'],\n",
        "                   'Salary':[50000,54000,50000,189000,59000,40000,59000]})\n",
        "\n",
        "print (df['Salary'].mode())"
      ],
      "execution_count": null,
      "outputs": [
        {
          "output_type": "stream",
          "name": "stdout",
          "text": [
            "0    50000\n",
            "1    59000\n",
            "dtype: int64\n"
          ]
        }
      ]
    },
    {
      "cell_type": "markdown",
      "metadata": {
        "id": "e_fdT1FwztUH"
      },
      "source": [
        "---\n",
        "\n",
        "## A.2. Distribution and Density\n",
        "Now we know something about finding the center, we can start to explore how the data is distributed around it. What we're interested in here is understanding the general \"shape\" of the data distribution so that we can begin to get a feel for what a 'typical' value might be expected to be.\n",
        "\n",
        "We can start by finding the extremes - the minimum and maximum. In the case of our salary data, the lowest paid graduate from our school is Vicky, with a salary of **40,000**; and the highest-paid graduate is Rosie, with **189,000**.\n",
        "\n",
        "The `pandas.dataframe` class has `min` and `max` functions to return these values.\n",
        "\n",
        "Run the following code to compare the minimum and maximum salaries to the central measures we calculated previously :"
      ]
    },
    {
      "cell_type": "code",
      "metadata": {
        "colab": {
          "base_uri": "https://localhost:8080/"
        },
        "id": "tD_lqFB6ztUH",
        "outputId": "a9375359-8114-42a4-f66e-7e7421a1eb64"
      },
      "source": [
        "# Get the Mean, Median, Mode, Min, and Max\n",
        "\n",
        "import pandas as pd\n",
        "\n",
        "df = pd.DataFrame({'Name': ['Dan', 'Joann', 'Pedro', 'Rosie', 'Ethan', 'Vicky', 'Frederic'],\n",
        "                   'Salary':[50000,54000,50000,189000,55000,40000,59000]})\n",
        "\n",
        "print ('Min: ' + str(df['Salary'].min()))\n",
        "print ('Mode: ' + str(df['Salary'].mode()[0]))\n",
        "print ('Median: ' + str(df['Salary'].median()))\n",
        "print ('Mean: ' + str(df['Salary'].mean()))\n",
        "print ('Max: ' + str(df['Salary'].max()))"
      ],
      "execution_count": null,
      "outputs": [
        {
          "output_type": "stream",
          "name": "stdout",
          "text": [
            "Min: 40000\n",
            "Mode: 50000\n",
            "Median: 54000.0\n",
            "Mean: 71000.0\n",
            "Max: 189000\n"
          ]
        }
      ]
    },
    {
      "cell_type": "markdown",
      "metadata": {
        "id": "_Ki_fnnXztUH"
      },
      "source": [
        "We can examine these values, and get a sense for how the data is distributed - for example, we can see that **the *mean* is closer to the max than the *median*, and that both are closer to the *min* than to the *max***.\n",
        "\n",
        "---\n"
      ]
    },
    {
      "cell_type": "markdown",
      "metadata": {
        "id": "Yy7tEGijBpmO"
      },
      "source": [
        "However, it's generally easier to get a sense of the distribution by visualizing the data. Let's start by creating a histogram of the salaries, highlighting the *mean* and *median* salaries (the *min*, *max* are fairly self-evident, and the *mode* is wherever the highest bar is):"
      ]
    },
    {
      "cell_type": "code",
      "metadata": {
        "colab": {
          "base_uri": "https://localhost:8080/",
          "height": 281
        },
        "id": "nloMyga0ztUH",
        "outputId": "846fa978-c50f-4751-8f7b-c594c0c8756c"
      },
      "source": [
        "# Create a Histogram of Salary\n",
        "\n",
        "%matplotlib inline\n",
        "import pandas as pd\n",
        "import matplotlib.pyplot as plt\n",
        "\n",
        "df = pd.DataFrame({'Name': ['Dan', 'Joann', 'Pedro', 'Rosie', 'Ethan', 'Vicky', 'Frederic'],\n",
        "                   'Salary':[50000,54000,50000,189000,55000,40000,59000]})\n",
        "\n",
        "salary = df['Salary']\n",
        "salary.plot.hist(title='Salary Distribution', color='lightblue', bins=25)  \n",
        "plt.axvline(salary.mean(), color='magenta', linestyle='dashed', linewidth=2)\n",
        "plt.axvline(salary.median(), color='green', linestyle='dashed', linewidth=2)\n",
        "plt.show()"
      ],
      "execution_count": null,
      "outputs": [
        {
          "output_type": "display_data",
          "data": {
            "image/png": "[encoded data removed]",
            "text/plain": [
              "<Figure size 432x288 with 1 Axes>"
            ]
          },
          "metadata": {
            "needs_background": "light"
          }
        }
      ]
    },
    {
      "cell_type": "markdown",
      "metadata": {
        "id": "mKt7XkCBBJTI"
      },
      "source": [
        "Notes : \n",
        "* Magenta line : mean of salaries.\n",
        "* Green line : median of salaries.\n"
      ]
    },
    {
      "cell_type": "code",
      "metadata": {
        "colab": {
          "base_uri": "https://localhost:8080/"
        },
        "id": "D6iw9X0UJUKw",
        "outputId": "07776a3f-96ae-4079-ba32-5d76f82695d5"
      },
      "source": [
        "# Display Value of Bins\n",
        "\n",
        "import numpy as np\n",
        "\n",
        "print('Sorted Salary : ', sorted(list(salary)), '\\n')\n",
        "\n",
        "n, bins = np.histogram(salary, bins=25)\n",
        "for ii in range(0, len(n)):\n",
        "  print('Bins Border - ' , ii, ': ', bins[ii], ' - ', bins[ii+1], '\\t', ' Frequency : ', n[ii])"
      ],
      "execution_count": null,
      "outputs": [
        {
          "output_type": "stream",
          "name": "stdout",
          "text": [
            "Sorted Salary :  [40000, 50000, 50000, 54000, 55000, 59000, 189000] \n",
            "\n",
            "Bins Border -  0 :  40000.0  -  45960.0 \t  Frequency :  1\n",
            "Bins Border -  1 :  45960.0  -  51920.0 \t  Frequency :  2\n",
            "Bins Border -  2 :  51920.0  -  57880.0 \t  Frequency :  2\n",
            "Bins Border -  3 :  57880.0  -  63840.0 \t  Frequency :  1\n",
            "Bins Border -  4 :  63840.0  -  69800.0 \t  Frequency :  0\n",
            "Bins Border -  5 :  69800.0  -  75760.0 \t  Frequency :  0\n",
            "Bins Border -  6 :  75760.0  -  81720.0 \t  Frequency :  0\n",
            "Bins Border -  7 :  81720.0  -  87680.0 \t  Frequency :  0\n",
            "Bins Border -  8 :  87680.0  -  93640.0 \t  Frequency :  0\n",
            "Bins Border -  9 :  93640.0  -  99600.0 \t  Frequency :  0\n",
            "Bins Border -  10 :  99600.0  -  105560.0 \t  Frequency :  0\n",
            "Bins Border -  11 :  105560.0  -  111520.0 \t  Frequency :  0\n",
            "Bins Border -  12 :  111520.0  -  117480.0 \t  Frequency :  0\n",
            "Bins Border -  13 :  117480.0  -  123440.0 \t  Frequency :  0\n",
            "Bins Border -  14 :  123440.0  -  129400.0 \t  Frequency :  0\n",
            "Bins Border -  15 :  129400.0  -  135360.0 \t  Frequency :  0\n",
            "Bins Border -  16 :  135360.0  -  141320.0 \t  Frequency :  0\n",
            "Bins Border -  17 :  141320.0  -  147280.0 \t  Frequency :  0\n",
            "Bins Border -  18 :  147280.0  -  153240.0 \t  Frequency :  0\n",
            "Bins Border -  19 :  153240.0  -  159200.0 \t  Frequency :  0\n",
            "Bins Border -  20 :  159200.0  -  165160.0 \t  Frequency :  0\n",
            "Bins Border -  21 :  165160.0  -  171120.0 \t  Frequency :  0\n",
            "Bins Border -  22 :  171120.0  -  177080.0 \t  Frequency :  0\n",
            "Bins Border -  23 :  177080.0  -  183040.0 \t  Frequency :  0\n",
            "Bins Border -  24 :  183040.0  -  189000.0 \t  Frequency :  1\n"
          ]
        }
      ]
    },
    {
      "cell_type": "markdown",
      "metadata": {
        "id": "XabF3sZxztUI"
      },
      "source": [
        "The <span style=\"color:magenta\">***mean***</span> and <span style=\"color:green\">***median***</span> are shown as dashed lines. Note the following:\n",
        "- *Salary* is a continuous data value - **graduates could potentially earn any value along the scale**, even down to a fraction of cent.\n",
        "- The number of bins in the histogram determines the size of each salary band for which we're counting frequencies. **Fewer bins means merging more individual salaries together to be counted as a group**.\n",
        "- **The majority of the data is on the left side of the histogram**, reflecting the fact that most graduates earn between 40,000 and 55,000\n",
        "- **The mean is a higher value than the median and mode**.\n",
        "- **There are gaps in the histogram** for salary bands that nobody earns.\n",
        "\n",
        "The histogram shows the relative frequency of each salary band, based on the number of bins. It also gives us a sense of the *density* of the data for each point on the salary scale. With enough data points, and small enough bins, we could view this density as a line that shows the shape of the data distribution.\n",
        "\n",
        "---"
      ]
    },
    {
      "cell_type": "markdown",
      "metadata": {
        "id": "ablgtUCuDoSl"
      },
      "source": [
        "### Skewness and Kurtosis\n",
        "\n",
        "Run the following cell to show the density of the salary data as a line on top of the histogram :"
      ]
    },
    {
      "cell_type": "code",
      "metadata": {
        "colab": {
          "base_uri": "https://localhost:8080/",
          "height": 265
        },
        "id": "4KSE3uC5ztUI",
        "outputId": "251bdeb4-7d20-4eeb-da0f-d3644f8593ed"
      },
      "source": [
        "%matplotlib inline\n",
        "import pandas as pd\n",
        "import matplotlib.pyplot as plt\n",
        "import numpy as np\n",
        "import scipy.stats as stats\n",
        "\n",
        "df = pd.DataFrame({'Name': ['Dan', 'Joann', 'Pedro', 'Rosie', 'Ethan', 'Vicky', 'Frederic'],\n",
        "                   'Salary':[50000,54000,50000,189000,55000,40000,59000]})\n",
        "\n",
        "salary = df['Salary']\n",
        "density = stats.gaussian_kde(salary)\n",
        "n, x, _ = plt.hist(salary, histtype='step', bins=25)  \n",
        "plt.plot(x, density(x)*10**5)\n",
        "plt.axvline(salary.mean(), color='magenta', linestyle='dashed', linewidth=2)\n",
        "plt.axvline(salary.median(), color='green', linestyle='dashed', linewidth=2)\n",
        "plt.show()\n"
      ],
      "execution_count": null,
      "outputs": [
        {
          "output_type": "display_data",
          "data": {
            "image/png": "[encoded data removed]",
            "text/plain": [
              "<Figure size 432x288 with 1 Axes>"
            ]
          },
          "metadata": {
            "needs_background": "light"
          }
        }
      ]
    },
    {
      "cell_type": "markdown",
      "metadata": {
        "id": "Jdc5PA5fztUI"
      },
      "source": [
        "Note that the density line takes the form of an asymmetric curve that has **a \"peak\" on the left and a long tail on the right**. We describe this sort of data distribution as being **skewed**; that is, the data is not distributed symmetrically but \"bunched together\" on one side. In this case, the data is bunched together on the left, creating a long tail on the right; and is described as being *right-skewed* because some infrequently occurring high values are pulling the *mean* to the right.\n",
        "\n",
        "---"
      ]
    },
    {
      "cell_type": "markdown",
      "metadata": {
        "id": "O3w2vvaXOLvP"
      },
      "source": [
        "Let's take a look at another set of data. We know how much money our graduates make, but how many hours per week do they need to work to earn their salaries? Here's the data:\n",
        "\n",
        "| Name     | Hours |\n",
        "|----------|-------|\n",
        "| Dan      | 41    |\n",
        "| Joann    | 40    |\n",
        "| Pedro    | 36    |\n",
        "| Rosie    | 30    |\n",
        "| Ethan    | 35    |\n",
        "| Vicky    | 39    |\n",
        "| Frederic | 40    |\n",
        "\n",
        "Run the following code to show the distribution of the hours worked:"
      ]
    },
    {
      "cell_type": "code",
      "metadata": {
        "colab": {
          "base_uri": "https://localhost:8080/",
          "height": 265
        },
        "id": "JACCFkGGztUJ",
        "outputId": "e94219f8-a753-4dc0-d2e9-4cfeaa6bc7c2"
      },
      "source": [
        "%matplotlib inline\n",
        "import pandas as pd\n",
        "import matplotlib.pyplot as plt\n",
        "import numpy as np\n",
        "import scipy.stats as stats\n",
        "\n",
        "df = pd.DataFrame({'Name': ['Dan', 'Joann', 'Pedro', 'Rosie', 'Ethan', 'Vicky', 'Frederic'],\n",
        "                   'Hours':[41,40,36,30,35,39,40]})\n",
        "\n",
        "hours = df['Hours']\n",
        "density = stats.gaussian_kde(hours)\n",
        "n, x, _ = plt.hist(hours, histtype='step', bins=25)  \n",
        "plt.plot(x, density(x)*7)\n",
        "plt.axvline(hours.mean(), color='magenta', linestyle='dashed', linewidth=2)\n",
        "plt.axvline(hours.median(), color='green', linestyle='dashed', linewidth=2)\n",
        "plt.show()"
      ],
      "execution_count": null,
      "outputs": [
        {
          "output_type": "display_data",
          "data": {
            "image/png": "[encoded data removed]",
            "text/plain": [
              "<Figure size 432x288 with 1 Axes>"
            ]
          },
          "metadata": {
            "needs_background": "light"
          }
        }
      ]
    },
    {
      "cell_type": "code",
      "metadata": {
        "colab": {
          "base_uri": "https://localhost:8080/"
        },
        "id": "x8Tyk0kwNJj5",
        "outputId": "5656a8aa-217d-4ea2-f14f-91606724fd55"
      },
      "source": [
        "# Display Value of Bins\n",
        "import numpy as np\n",
        "\n",
        "n, bins = np.histogram(hours, bins=25)\n",
        "for ii in range(0, len(n)):\n",
        "  print('Bins Border ', ii, ': ', bins[ii], ' - ', bins[ii+1], '\\t', ' Frequency : ', n[ii])"
      ],
      "execution_count": null,
      "outputs": [
        {
          "output_type": "stream",
          "name": "stdout",
          "text": [
            "Bins Border  0 :  30.0  -  30.44 \t  Frequency :  1\n",
            "Bins Border  1 :  30.44  -  30.88 \t  Frequency :  0\n",
            "Bins Border  2 :  30.88  -  31.32 \t  Frequency :  0\n",
            "Bins Border  3 :  31.32  -  31.76 \t  Frequency :  0\n",
            "Bins Border  4 :  31.76  -  32.2 \t  Frequency :  0\n",
            "Bins Border  5 :  32.2  -  32.64 \t  Frequency :  0\n",
            "Bins Border  6 :  32.64  -  33.08 \t  Frequency :  0\n",
            "Bins Border  7 :  33.08  -  33.52 \t  Frequency :  0\n",
            "Bins Border  8 :  33.52  -  33.96 \t  Frequency :  0\n",
            "Bins Border  9 :  33.96  -  34.4 \t  Frequency :  0\n",
            "Bins Border  10 :  34.4  -  34.84 \t  Frequency :  0\n",
            "Bins Border  11 :  34.84  -  35.28 \t  Frequency :  1\n",
            "Bins Border  12 :  35.28  -  35.72 \t  Frequency :  0\n",
            "Bins Border  13 :  35.72  -  36.16 \t  Frequency :  1\n",
            "Bins Border  14 :  36.16  -  36.6 \t  Frequency :  0\n",
            "Bins Border  15 :  36.6  -  37.04 \t  Frequency :  0\n",
            "Bins Border  16 :  37.04  -  37.480000000000004 \t  Frequency :  0\n",
            "Bins Border  17 :  37.480000000000004  -  37.92 \t  Frequency :  0\n",
            "Bins Border  18 :  37.92  -  38.36 \t  Frequency :  0\n",
            "Bins Border  19 :  38.36  -  38.8 \t  Frequency :  0\n",
            "Bins Border  20 :  38.8  -  39.24 \t  Frequency :  1\n",
            "Bins Border  21 :  39.24  -  39.68 \t  Frequency :  0\n",
            "Bins Border  22 :  39.68  -  40.12 \t  Frequency :  2\n",
            "Bins Border  23 :  40.12  -  40.56 \t  Frequency :  0\n",
            "Bins Border  24 :  40.56  -  41.0 \t  Frequency :  1\n"
          ]
        }
      ]
    },
    {
      "cell_type": "markdown",
      "metadata": {
        "id": "8WZIbfS8ztUJ"
      },
      "source": [
        "Once again, the distribution is skewed, but this time it's **left-skewed**. Note that the curve is asymmetric with the <span style=\"color:magenta\">***mean***</span> to the left of the <span style=\"color:green\">***median***</span> and the *mode*; and the average weekly working hours skewed to the lower end.\n",
        "\n",
        "---"
      ]
    },
    {
      "cell_type": "markdown",
      "metadata": {
        "id": "RtnJT2EbRSVK"
      },
      "source": [
        "Once again, Rosie seems to be getting the better of the deal. She earns more than her former classmates for working fewer hours. Maybe a look at the test scores the students achieved on their final grade at school might help explain her success:\n",
        "\n",
        "| Name     | Grade |\n",
        "|----------|-------|\n",
        "| Dan      | 50    |\n",
        "| Joann    | 50    |\n",
        "| Pedro    | 46    |\n",
        "| Rosie    | 95    |\n",
        "| Ethan    | 50    |\n",
        "| Vicky    | 5     |\n",
        "| Frederic | 57    |\n",
        "\n",
        "Let's take a look at the distribution of these grades:"
      ]
    },
    {
      "cell_type": "code",
      "metadata": {
        "colab": {
          "base_uri": "https://localhost:8080/",
          "height": 265
        },
        "id": "uFHfgvZEztUJ",
        "outputId": "2270c2a5-4f8c-4d59-b85d-dbe6dab66ea2"
      },
      "source": [
        "%matplotlib inline\n",
        "import pandas as pd\n",
        "import matplotlib.pyplot as plt\n",
        "import numpy as np\n",
        "import scipy.stats as stats\n",
        "\n",
        "df = pd.DataFrame({'Name': ['Dan', 'Joann', 'Pedro', 'Rosie', 'Ethan', 'Vicky', 'Frederic'],\n",
        "                   'Grade':[50,50,46,95,50,5,57]})\n",
        "\n",
        "grade = df['Grade']\n",
        "density = stats.gaussian_kde(grade)\n",
        "n, x, _ = plt.hist(grade, histtype='step', bins=25)  \n",
        "plt.plot(x, density(x)*2**7.5)\n",
        "plt.axvline(grade.mean(), color='magenta', linestyle='dashed', linewidth=2)\n",
        "plt.axvline(grade.median(), color='green', linestyle='dashed', linewidth=2)\n",
        "plt.show()"
      ],
      "execution_count": null,
      "outputs": [
        {
          "output_type": "display_data",
          "data": {
            "image/png": "[encoded data removed]",
            "text/plain": [
              "<Figure size 432x288 with 1 Axes>"
            ]
          },
          "metadata": {
            "needs_background": "light"
          }
        }
      ]
    },
    {
      "cell_type": "markdown",
      "metadata": {
        "id": "Prs1DDY4ztUJ"
      },
      "source": [
        "This time, the distribution is symmetric, forming a \"bell-shaped\" curve. The <span style=\"color:magenta\">***mean***</span>, <span style=\"color:green\">***median***</span>, **and mode are at the same location, and the data tails off evenly on both sides from a central peak.** Statisticians call this a *normal* distribution (or sometimes a *Gaussian* distribution).\n",
        "\n",
        "---"
      ]
    },
    {
      "cell_type": "markdown",
      "metadata": {
        "id": "g4gDQILuztUJ"
      },
      "source": [
        "### Measure of Skewness and Kurtosis\n",
        "You can measure *skewness* (in which direction the data is skewed and to what degree) and kurtosis (how \"peaked\" the data is) to get an idea of the shape of the data distribution. In Python, you can use the ***skew*** and ***kurt*** functions to find this:"
      ]
    },
    {
      "cell_type": "code",
      "metadata": {
        "colab": {
          "base_uri": "https://localhost:8080/",
          "height": 965
        },
        "id": "fdG90i2CztUJ",
        "outputId": "b6c86be3-0aa8-4cc4-9d71-0b0156aad5d0"
      },
      "source": [
        "# Get Skewness and Kurtosis Value\n",
        "\n",
        "%matplotlib inline\n",
        "import pandas as pd\n",
        "import numpy as np\n",
        "from matplotlib import pyplot as plt\n",
        "import scipy.stats as stats\n",
        "\n",
        "df = pd.DataFrame({'Name': ['Dan', 'Joann', 'Pedro', 'Rosie', 'Ethan', 'Vicky', 'Frederic'],\n",
        "                   'Salary':[50000,54000,50000,189000,55000,40000,59000],\n",
        "                   'Hours':[41,40,36,30,35,39,40],\n",
        "                   'Grade':[50,50,46,95,50,5,57]})\n",
        "\n",
        "numcols = ['Salary', 'Hours', 'Grade']\n",
        "for col in numcols:\n",
        "    print(df[col].name + ' skewness: ' + str(df[col].skew()))\n",
        "    print(df[col].name + ' kurtosis: ' + str(df[col].kurt()))\n",
        "    density = stats.gaussian_kde(df[col])\n",
        "    n, x, _ = plt.hist(df[col], histtype='step', bins=25)  \n",
        "    plt.plot(x, density(x)*6)\n",
        "    plt.show()\n",
        "    print('\\n')"
      ],
      "execution_count": null,
      "outputs": [
        {
          "output_type": "stream",
          "name": "stdout",
          "text": [
            "Salary skewness: 2.57316410755049\n",
            "Salary kurtosis: 6.719828837773431\n"
          ]
        },
        {
          "output_type": "display_data",
          "data": {
            "image/png": "[encoded data removed]",
            "text/plain": [
              "<Figure size 432x288 with 1 Axes>"
            ]
          },
          "metadata": {
            "needs_background": "light"
          }
        },
        {
          "output_type": "stream",
          "name": "stdout",
          "text": [
            "\n",
            "\n",
            "Hours skewness: -1.194570307262883\n",
            "Hours kurtosis: 0.9412265624999989\n"
          ]
        },
        {
          "output_type": "display_data",
          "data": {
            "image/png": "[encoded data removed]",
            "text/plain": [
              "<Figure size 432x288 with 1 Axes>"
            ]
          },
          "metadata": {
            "needs_background": "light"
          }
        },
        {
          "output_type": "stream",
          "name": "stdout",
          "text": [
            "\n",
            "\n",
            "Grade skewness: -0.06512433009682762\n",
            "Grade kurtosis: 2.7484764913773034\n"
          ]
        },
        {
          "output_type": "display_data",
          "data": {
            "image/png": "[encoded data removed]",
            "text/plain": [
              "<Figure size 432x288 with 1 Axes>"
            ]
          },
          "metadata": {
            "needs_background": "light"
          }
        },
        {
          "output_type": "stream",
          "name": "stdout",
          "text": [
            "\n",
            "\n"
          ]
        }
      ]
    },
    {
      "cell_type": "markdown",
      "metadata": {
        "id": "e8EFF3EYztUK"
      },
      "source": [
        "### Measures of Variance\n",
        "We can see from the distribution plots of our data that the values in our dataset can vary quite widely. We can use various measures to quantify this variance.\n",
        "\n",
        "---"
      ]
    },
    {
      "cell_type": "markdown",
      "metadata": {
        "id": "Za73wQcdS22R"
      },
      "source": [
        "#### Range\n",
        "A simple way to quantify the variance in a dataset is to identify the **difference between the lowest and highest values**. This is called the *range*, and is calculated by **subtracting the minimim value from the maximum value**.\n",
        "\n",
        "The following Python code creates a single Pandas dataframe for our school graduate data, and calculates the *range* for each of the numeric features:"
      ]
    },
    {
      "cell_type": "code",
      "metadata": {
        "colab": {
          "base_uri": "https://localhost:8080/"
        },
        "id": "wS2BdXdJztUK",
        "outputId": "12f24d40-67b5-451e-a80f-ca44c9bea263"
      },
      "source": [
        "import pandas as pd\n",
        "\n",
        "df = pd.DataFrame({'Name': ['Dan', 'Joann', 'Pedro', 'Rosie', 'Ethan', 'Vicky', 'Frederic'],\n",
        "                   'Salary':[50000,54000,50000,189000,55000,40000,59000],\n",
        "                   'Hours':[41,40,36,30,35,39,40],\n",
        "                   'Grade':[50,50,46,95,50,5,57]})\n",
        "\n",
        "numcols = ['Salary', 'Hours', 'Grade']\n",
        "for col in numcols:\n",
        "    print(df[col].name + ' range: ' + str(df[col].max() - df[col].min()))"
      ],
      "execution_count": null,
      "outputs": [
        {
          "output_type": "stream",
          "name": "stdout",
          "text": [
            "Salary range: 149000\n",
            "Hours range: 11\n",
            "Grade range: 90\n"
          ]
        }
      ]
    },
    {
      "cell_type": "markdown",
      "metadata": {
        "id": "wCKhJCf3ztUK"
      },
      "source": [
        "#### Percentiles and Quartiles\n",
        "The range is easy to calculate, but it's not a particularly useful statistic. For example, a range of 149,000 between the lowest and highest salary does not tell us which value within that range a graduate is most likely to earn -  it doesn't tell us nothing about how the salaries are distributed around the mean within that range.  The range tells us very little about the comparative position of an individual value within the distribution - for example, Frederic scored 57 in his final grade at school; which is a pretty good score (it's more than all but one of his classmates); but this isn't immediately apparent from a score of 57 and range of 90.\n",
        "\n",
        "---"
      ]
    },
    {
      "cell_type": "markdown",
      "metadata": {
        "id": "_UuTGhz4TY2h"
      },
      "source": [
        "##### Percentiles\n",
        "A percentile tells us where a given value is ranked in the overall distribution. For example, 25% of the data in a distribution has a value lower than the 25th percentile; 75% of the data has a value lower than the 75th percentile, and so on. Note that half of the data has a value lower than the 50th percentile - so the 50th percentile is also the median!\n",
        "\n",
        "**Let's examine Frederic's grade using this approach. We know he scored 57, but how does he rank compared to his fellow students?**\n",
        "\n",
        "Well, there are seven students in total, and five of them scored less than Frederic; so we can calculate the percentile for Frederic's grade like this:\n",
        "\n",
        "$$\n",
        "\\begin{equation}\\frac{5}{7} \\times 100 \\approx 71.4\\end{equation} \n",
        "$$\n",
        "\n",
        "So Frederic's score puts him at the 71.4th percentile in his class.\n",
        "\n",
        "In Python, you can use the `percentileofscore` function in the `scipy.stats` package to calculate the percentile for a given value in a set of values:"
      ]
    },
    {
      "cell_type": "code",
      "metadata": {
        "colab": {
          "base_uri": "https://localhost:8080/"
        },
        "id": "-znDIxNRztUL",
        "outputId": "9b6dd10d-a99f-4ce0-bc54-622163237243"
      },
      "source": [
        "# Get the Percentile (kind='strict')\n",
        "\n",
        "import pandas as pd\n",
        "from scipy import stats\n",
        "\n",
        "df = pd.DataFrame({'Name': ['Dan', 'Joann', 'Pedro', 'Rosie', 'Ethan', 'Vicky', 'Frederic'],\n",
        "                   'Salary':[50000,54000,50000,189000,55000,40000,59000],\n",
        "                   'Hours':[41,40,36,30,35,39,40],\n",
        "                   'Grade':[50,50,46,95,50,5,57]})\n",
        "\n",
        "print(stats.percentileofscore(df['Grade'], 57, 'strict'))"
      ],
      "execution_count": null,
      "outputs": [
        {
          "output_type": "stream",
          "name": "stdout",
          "text": [
            "71.42857142857143\n"
          ]
        }
      ]
    },
    {
      "cell_type": "code",
      "metadata": {
        "colab": {
          "base_uri": "https://localhost:8080/"
        },
        "id": "fLgEgFuMuYV2",
        "outputId": "f97fe317-f8c8-4379-9c59-da88b9037580"
      },
      "source": [
        "# Display Data\n",
        "print(df)\n",
        "print('')\n",
        "print(df.sort_values(by=['Grade']).reset_index())"
      ],
      "execution_count": null,
      "outputs": [
        {
          "output_type": "stream",
          "name": "stdout",
          "text": [
            "       Name  Salary  Hours  Grade\n",
            "0       Dan   50000     41     50\n",
            "1     Joann   54000     40     50\n",
            "2     Pedro   50000     36     46\n",
            "3     Rosie  189000     30     95\n",
            "4     Ethan   55000     35     50\n",
            "5     Vicky   40000     39      5\n",
            "6  Frederic   59000     40     57\n",
            "\n",
            "   index      Name  Salary  Hours  Grade\n",
            "0      5     Vicky   40000     39      5\n",
            "1      2     Pedro   50000     36     46\n",
            "2      0       Dan   50000     41     50\n",
            "3      1     Joann   54000     40     50\n",
            "4      4     Ethan   55000     35     50\n",
            "5      6  Frederic   59000     40     57\n",
            "6      3     Rosie  189000     30     95\n"
          ]
        }
      ]
    },
    {
      "cell_type": "markdown",
      "metadata": {
        "id": "5UKnySOGztUL"
      },
      "source": [
        "---\n",
        "We've used the strict definition of percentile; but sometimes it's calculated as being the percentage of values that are less than *or equal to* the value you're comparing. In this case, the calculation for Frederic's percentile would include his own score:\n",
        "\n",
        "$$\n",
        "\\begin{equation}\\frac{6}{7} \\times 100 \\approx 85.7\\end{equation} \n",
        "$$\n",
        "\n",
        "You can calculate this way in Python by using the `weak` mode of the `percentileofscore` function:"
      ]
    },
    {
      "cell_type": "code",
      "metadata": {
        "colab": {
          "base_uri": "https://localhost:8080/"
        },
        "id": "df5ns8TLztUL",
        "outputId": "feabf659-b641-453c-a19f-d21098d7ede1"
      },
      "source": [
        "import pandas as pd\n",
        "from scipy import stats\n",
        "\n",
        "df = pd.DataFrame({'Name': ['Dan', 'Joann', 'Pedro', 'Rosie', 'Ethan', 'Vicky', 'Frederic'],\n",
        "                   'Salary':[50000,54000,50000,189000,55000,40000,59000],\n",
        "                   'Hours':[41,40,36,30,35,39,40],\n",
        "                   'Price (Millions Dollar)':[50,50,46,95,50,5,57]})\n",
        "\n",
        "print(stats.percentileofscore(df['Price (Millions Dollar)'], 57, 'weak'))"
      ],
      "execution_count": null,
      "outputs": [
        {
          "output_type": "stream",
          "name": "stdout",
          "text": [
            "85.71428571428571\n"
          ]
        }
      ]
    },
    {
      "cell_type": "markdown",
      "metadata": {
        "id": "EUVtEh_3ztUL"
      },
      "source": [
        "##### Quartiles\n",
        "\n",
        "Rather than using individual percentiles to compare data, we can consider the overall spread of the data by dividing those percentiles into four *quartiles*. The first quartile contains the values from the minimum to the 25th percentile, the second from the 25th percentile to the 50th percentile (which is the median), the third from the 50th percentile to the 75th percentile, and the fourth from the 75th percentile to the maximum.\n",
        "\n",
        "In Python, you can use the `quantile` function of the `pandas.dataframe` class to find the threshold values at the 25th, 50th, and 75th percentiles (*quantile* is a generic term for a ranked position, such as a percentile or quartile).\n",
        "\n",
        "Run the following code to find the quartile thresholds for the weekly hours worked by our former students :"
      ]
    },
    {
      "cell_type": "code",
      "metadata": {
        "colab": {
          "base_uri": "https://localhost:8080/"
        },
        "id": "Hxk6HPgwztUL",
        "outputId": "5bc9e3f7-b465-4c7c-f710-32b9ec22a3ee"
      },
      "source": [
        "# Quartiles\n",
        "import pandas as pd\n",
        "\n",
        "df = pd.DataFrame({'Name': ['Dan', 'Joann', 'Pedro', 'Rosie', 'Ethan', 'Vicky', 'Frederic'],\n",
        "                   'Salary':[50000,54000,50000,189000,55000,40000,59000],\n",
        "                   'Hours':[41,40,36,17,35,39,40],\n",
        "                   'Grade':[50,50,46,95,50,5,57]})\n",
        "print(df['Hours'].quantile([0.25, 0.5, 0.75]))"
      ],
      "execution_count": null,
      "outputs": [
        {
          "output_type": "stream",
          "name": "stdout",
          "text": [
            "0.25    35.5\n",
            "0.50    39.0\n",
            "0.75    40.0\n",
            "Name: Hours, dtype: float64\n"
          ]
        }
      ]
    },
    {
      "cell_type": "markdown",
      "metadata": {
        "id": "9-2KZx_TztUL"
      },
      "source": [
        "---\n",
        "##### Box Plot\n",
        "\n",
        "Its usually easier to understand how data is distributed across the quartiles by visualizing it. You can use a histogram, but many data scientists use a kind of visualization called a *box plot* (or a *box and whiskers* plot).\n",
        "\n",
        "Let's create a box plot for the weekly hours:"
      ]
    },
    {
      "cell_type": "code",
      "metadata": {
        "colab": {
          "base_uri": "https://localhost:8080/",
          "height": 499
        },
        "id": "3xCJgo7gztUL",
        "outputId": "8b0e273a-1f5d-416b-839d-afb71a298808"
      },
      "source": [
        "# Display Box Plot of Weekly Hours\n",
        "\n",
        "%matplotlib inline\n",
        "import pandas as pd\n",
        "from matplotlib import pyplot as plt\n",
        "\n",
        "df = pd.DataFrame({'Name': ['Dan', 'Joann', 'Pedro', 'Rosie', 'Ethan', 'Vicky', 'Frederic'],\n",
        "                   'Salary':[50000,54000,50000,189000,55000,40000,59000],\n",
        "                   'Hours':[41,40,36,30,35,39,40],\n",
        "                   'Grade':[50,50,46,95,50,5,57]})\n",
        "\n",
        "# Plot a box-whisker chart\n",
        "df['Hours'].plot(kind='box', title='Weekly Hours Distribution', figsize=(10,8))\n",
        "plt.show()"
      ],
      "execution_count": null,
      "outputs": [
        {
          "output_type": "display_data",
          "data": {
            "image/png": "[encoded data removed]",
            "text/plain": [
              "<Figure size 720x576 with 1 Axes>"
            ]
          },
          "metadata": {
            "needs_background": "light"
          }
        }
      ]
    },
    {
      "cell_type": "markdown",
      "metadata": {
        "id": "3n3PqK4SztUM"
      },
      "source": [
        "The box plot consists of:\n",
        "- A rectangular *box* that shows where the data between the 25th and 75th percentile (the second and third quartile) lie. This part of the distribution is often referred to as the *interquartile range* - it contains the middle 50 data values.\n",
        "- *Whiskers* that extend from the box to the bottom of the first quartile and the top of the fourth quartile to show the full range of the data.\n",
        "- A line in the box that shows that location of the median (the 50th percentile, which is also the threshold between the second and third quartile)\n",
        "\n",
        "In this case, you can see that the interquartile range is between 35 and 40, with the median nearer the top of that range. The range of the first quartile is from around 30 to 35, and the fourth quartile is from 40 to 41."
      ]
    },
    {
      "cell_type": "markdown",
      "metadata": {
        "id": "DZ9HJkrTztUM"
      },
      "source": [
        "##### Outliers\n",
        "Let's take a look at another box plot - this time showing the distribution of the salaries earned by our former classmates:"
      ]
    },
    {
      "cell_type": "code",
      "metadata": {
        "colab": {
          "base_uri": "https://localhost:8080/",
          "height": 499
        },
        "id": "IrijtMndztUM",
        "outputId": "bd311c00-6062-4e2a-b2c6-6307a34ce83f"
      },
      "source": [
        "# Display Box Plot of Salary\n",
        "\n",
        "%matplotlib inline\n",
        "import pandas as pd\n",
        "from matplotlib import pyplot as plt\n",
        "\n",
        "df = pd.DataFrame({'Name': ['Dan', 'Joann', 'Pedro', 'Rosie', 'Ethan', 'Vicky', 'Frederic'],\n",
        "                   'Salary':[50000,54000,50000,189000,55000,40000,59000],\n",
        "                   'Hours':[41,40,36,30,35,39,40],\n",
        "                   'Grade':[50,50,46,95,50,5,57]})\n",
        "\n",
        "# Plot a box-whisker chart\n",
        "df['Salary'].plot(kind='box', title='Salary Distribution', figsize=(10,8))\n",
        "plt.show()"
      ],
      "execution_count": null,
      "outputs": [
        {
          "output_type": "display_data",
          "data": {
            "image/png": "[encoded data removed]",
            "text/plain": [
              "<Figure size 720x576 with 1 Axes>"
            ]
          },
          "metadata": {
            "needs_background": "light"
          }
        }
      ]
    },
    {
      "cell_type": "markdown",
      "metadata": {
        "id": "7_Uv_Hn0ztUM"
      },
      "source": [
        "So what's going on here?\n",
        "\n",
        "Well, as we've already noticed, Rosie earns significantly more than her former classmates. So much more in fact, that her salary has been identifed as an *outlier*. **An outlier is a value that is so far from the center of the distribution compared to other values that it skews the distribution by affecting the mean.** There are all sorts of reasons that you might have outliers in your data, including data entry errors, failures in sensors or data-generating equipment, or genuinely anomalous values.\n",
        "\n",
        "So what should we do about it?\n",
        "\n",
        "This really depends on the data, and what you're trying to use it for. In this case, let's assume we're trying to figure out what's a reasonable expectation of salary for a graduate of our school to earn. Ignoring for the moment that we have an extremly small dataset on which to base our judgement :\n",
        "  * It looks as if Rosie's salary could be either an error (maybe she mis-typed it in the form used to collect data) or \n",
        "  * A genuine anomaly (maybe she became a professional athelete or some other extremely highly paid job). \n",
        "\n",
        "Either way, it doesn't seem to represent a salary that a typical graduate might earn.\n",
        "\n",
        "Let's see what the distribution of the data looks like without the outlier :"
      ]
    },
    {
      "cell_type": "code",
      "metadata": {
        "colab": {
          "base_uri": "https://localhost:8080/",
          "height": 499
        },
        "id": "U5107BPGztUM",
        "outputId": "5c6fe6c7-61ab-4e17-822d-ef3d2aabdd31"
      },
      "source": [
        "# Display Box Plot of Salary without Outliers\n",
        "\n",
        "%matplotlib inline\n",
        "import pandas as pd\n",
        "from matplotlib import pyplot as plt\n",
        "\n",
        "df = pd.DataFrame({'Name': ['Dan', 'Joann', 'Pedro', 'Rosie', 'Ethan', 'Vicky', 'Frederic'],\n",
        "                   'Salary':[50000,54000,50000,189000,55000,40000,59000],\n",
        "                   'Hours':[41,40,36,17,35,39,40],\n",
        "                   'Grade':[50,50,46,95,50,5,57]})\n",
        "\n",
        "# Plot a box-whisker chart\n",
        "df['Salary'].plot(kind='box', title='Salary Distribution', figsize=(10,8), showfliers=False)\n",
        "plt.show()"
      ],
      "execution_count": null,
      "outputs": [
        {
          "output_type": "display_data",
          "data": {
            "image/png": "[encoded data removed]",
            "text/plain": [
              "<Figure size 720x576 with 1 Axes>"
            ]
          },
          "metadata": {
            "needs_background": "light"
          }
        }
      ]
    },
    {
      "cell_type": "markdown",
      "metadata": {
        "id": "nlDbifwMztUM"
      },
      "source": [
        "Now it looks like there's a more even distribution of salaries. It's still not quite symmetrical, but there's much less overall variance. There's potentially some cause here to disregard Rosie's salary data when we compare the salaries, as it is tending to skew the analysis.\n",
        "\n",
        "So is that OK? Can we really just ignore a data value we don't like? Again, it depends on what you're analyzing. \n",
        "\n",
        "---"
      ]
    },
    {
      "cell_type": "markdown",
      "metadata": {
        "id": "04xD9tr5XotZ"
      },
      "source": [
        "Let's take a look at the distribution of final grades:"
      ]
    },
    {
      "cell_type": "code",
      "metadata": {
        "colab": {
          "base_uri": "https://localhost:8080/",
          "height": 499
        },
        "id": "PYkrg_uLztUM",
        "outputId": "1496d9e3-28d9-4840-fc88-6c5df2b6c2a4"
      },
      "source": [
        "# Visualization of Box Plot of Grade\n",
        "\n",
        "%matplotlib inline\n",
        "import pandas as pd\n",
        "from matplotlib import pyplot as plt\n",
        "\n",
        "df = pd.DataFrame({'Name': ['Dan', 'Joann', 'Pedro', 'Rosie', 'Ethan', 'Vicky', 'Frederic'],\n",
        "                   'Salary':[50000,54000,50000,189000,55000,40000,59000],\n",
        "                   'Hours':[41,40,36,17,35,39,40],\n",
        "                   'Grade':[50,50,46,95,50,5,57]})\n",
        "\n",
        "# Plot a box-whisker chart\n",
        "df['Grade'].plot(kind='box', title='Grade Distribution', figsize=(10,8))\n",
        "plt.show()"
      ],
      "execution_count": null,
      "outputs": [
        {
          "output_type": "display_data",
          "data": {
            "image/png": "[encoded data removed]",
            "text/plain": [
              "<Figure size 720x576 with 1 Axes>"
            ]
          },
          "metadata": {
            "needs_background": "light"
          }
        }
      ]
    },
    {
      "cell_type": "markdown",
      "metadata": {
        "id": "9Eqz-G8aztUM"
      },
      "source": [
        "Once again there are outliers, this time at both ends of the distribution. However, think about what this data represents. If we assume that the grade for the final test is based on a score out of 100, **it seems reasonable to expect that some students will score very low (maybe even 0) and some will score very well (maybe even 100)**; but most will get a score somewhere in the middle.  **The reason that the low and high scores here look like outliers might just be because we have so few data points.** Let's see what happens if we include a few more students in our data:"
      ]
    },
    {
      "cell_type": "code",
      "metadata": {
        "colab": {
          "base_uri": "https://localhost:8080/",
          "height": 499
        },
        "id": "FIZokRsaztUM",
        "outputId": "4df2d93c-35b1-448e-c2c4-3d1da491db97"
      },
      "source": [
        "%matplotlib inline\n",
        "import pandas as pd\n",
        "from matplotlib import pyplot as plt\n",
        "\n",
        "df = pd.DataFrame({'Name': ['Dan', 'Joann', 'Pedro', 'Rosie', 'Ethan', 'Vicky', 'Frederic', 'Jimmie', 'Rhonda', 'Giovanni', 'Francesca', 'Rajab', 'Naiyana', 'Kian', 'Jenny'],\n",
        "                   'Grade':[50,50,46,95,50,5,57,42,26,72,78,60,40,17,85]})\n",
        "\n",
        "# Plot a box-whisker chart\n",
        "df['Grade'].plot(kind='box', title='Grade Distribution', figsize=(10,8))\n",
        "plt.show()"
      ],
      "execution_count": null,
      "outputs": [
        {
          "output_type": "display_data",
          "data": {
            "image/png": "[encoded data removed]",
            "text/plain": [
              "<Figure size 720x576 with 1 Axes>"
            ]
          },
          "metadata": {
            "needs_background": "light"
          }
        }
      ]
    },
    {
      "cell_type": "markdown",
      "metadata": {
        "id": "ZjGl1TDJztUN"
      },
      "source": [
        "With more data, there are some more high and low scores; so we no longer consider the isolated cases to be outliers.\n",
        "\n",
        "**The key point to take away here is that you need to really understand the data and what you're trying to do with it, and you need to ensure that you have a reasonable sample size, before determining what to do with outlier values.**"
      ]
    },
    {
      "cell_type": "markdown",
      "metadata": {
        "id": "h8txbJMhztUN"
      },
      "source": [
        "#### Variance and Standard Deviation\n",
        "We've seen how to understand the *spread* of our data distribution using the range, percentiles, and quartiles; and we've seen the effect of outliers on the distribution. Now it's time to look at how to measure the amount of variance in the data.\n",
        "\n",
        "---"
      ]
    },
    {
      "cell_type": "markdown",
      "metadata": {
        "id": "eX_BvrK_YCLa"
      },
      "source": [
        "##### Variance\n",
        "Variance is measured as the average of the squared difference from the mean. For a full population, it's indicated by a squared Greek letter *sigma* (***&sigma;<sup>2</sup>***) and calculated like this:\n",
        "\n",
        "$$\n",
        "\\begin{equation}\\sigma^{2} = \\frac{\\displaystyle\\sum_{i=1}^{N} (X_{i} -\\mu)^{2}}{N}\\end{equation}\n",
        "$$\n",
        "\n",
        "For a sample, it's indicated as ***s<sup>2</sup>*** calculated like this:\n",
        "\n",
        "$$\n",
        "\\begin{equation}s^{2} = \\frac{\\displaystyle\\sum_{i=1}^{n} (x_{i} -\\bar{x})^{2}}{n-1}\\end{equation}\n",
        "$$\n",
        "\n",
        "In both cases, we sum the difference between the individual data values and the mean and square the result. Then, for a full population we just divide by the number of data items to get the average. When using a sample, we divide by the total number of items **minus 1** to correct for sample bias.\n",
        "\n",
        "Let's work this out for our student grades (assuming our data is a sample from the larger student population).\n",
        "\n",
        "First, we need to calculate the mean grade:\n",
        "\n",
        "$$\n",
        "\\begin{equation}\\bar{x} = \\frac{50+50+46+95+50+5+57}{7}\\approx 50.43\\end{equation}\n",
        "$$\n",
        "\n",
        "Then we can plug that into our formula for the variance:\n",
        "\n",
        "$$\n",
        "\\begin{equation}s^{2} = \\frac{(50-50.43)^{2}+(50-50.43)^{2}+(46-50.43)^{2}+(95-50.43)^{2}+(50-50.43)^{2}+(5-50.43)^{2}+(57-50.43)^{2}}{7-1}\\end{equation}\n",
        "$$\n",
        "\n",
        "So:\n",
        "\n",
        "$$\n",
        "\\begin{equation}s^{2} = \\frac{0.185+0.185+19.625+1986.485+0.185+2063.885+43.165}{6}\\end{equation}\n",
        "$$\n",
        "\n",
        "Which simplifies to:\n",
        "\n",
        "$$\n",
        "\\begin{equation}s^{2} = \\frac{4113.715}{6}\\end{equation}\n",
        "$$\n",
        "\n",
        "Giving the result:\n",
        "\n",
        "$$\n",
        "\\begin{equation}s^{2} \\approx 685.619\\end{equation}\n",
        "$$\n",
        "\n",
        "The higher the variance, the more spread your data is around the mean.\n",
        "\n",
        "In Python, you can use the ***var*** function of the *pandas.dataframe* class to calculate the variance of a column in a dataframe:"
      ]
    },
    {
      "cell_type": "code",
      "metadata": {
        "colab": {
          "base_uri": "https://localhost:8080/"
        },
        "id": "fAb9-QFIztUN",
        "outputId": "d9d38bec-49f4-40ce-8fa4-ad8176ec1ca9"
      },
      "source": [
        "# Get the Variance\n",
        "\n",
        "import pandas as pd\n",
        "\n",
        "df = pd.DataFrame({'Name': ['Dan', 'Joann', 'Pedro', 'Rosie', 'Ethan', 'Vicky', 'Frederic'],\n",
        "                   'Salary':[50000,54000,50000,189000,55000,40000,59000],\n",
        "                   'Hours':[41,40,36,17,35,39,40],\n",
        "                   'Grade':[50,50,46,95,50,5,57]})\n",
        "\n",
        "print(df['Grade'].var())"
      ],
      "execution_count": null,
      "outputs": [
        {
          "output_type": "stream",
          "name": "stdout",
          "text": [
            "685.6190476190476\n"
          ]
        }
      ]
    },
    {
      "cell_type": "markdown",
      "metadata": {
        "id": "dBACF1qLztUN"
      },
      "source": [
        "##### Standard Deviation\n",
        "To calculate the variance, we squared the difference of each value from the mean. If we hadn't done this, the numerator of our fraction would always end up being zero (because the mean is at the center of our values). However, this means that the variance is not in the same unit of measurement as our data - in our case, since we're calculating the variance for grade points, it's in grade points squared; which is not very helpful.\n",
        "\n",
        "To get the measure of variance back into the same unit of measurement, we need to find its square root:\n",
        "\n",
        "$$\n",
        "\\begin{equation}s = \\sqrt{685.619} \\approx 26.184\\end{equation}\n",
        "$$\n",
        "\n",
        "So what does this value represent?\n",
        "\n",
        "It's the *standard deviation* for our grades data. More formally, it's calculated like this for a full population:\n",
        "\n",
        "$$\n",
        "\\begin{equation}\\sigma = \\sqrt{\\frac{\\displaystyle\\sum_{i=1}^{N} (X_{i} -\\mu)^{2}}{N}}\\end{equation}\n",
        "$$\n",
        "\n",
        "Or like this for a sample:\n",
        "\n",
        "$$\n",
        "\\begin{equation}s = \\sqrt{\\frac{\\displaystyle\\sum_{i=1}^{n} (x_{i} -\\bar{x})^{2}}{n-1}}\\end{equation}\n",
        "$$\n",
        "\n",
        "Note that in both cases, it's just the square root of the corresponding variance forumla!\n",
        "\n",
        "In Python, you can calculate it using the ***std*** function:"
      ]
    },
    {
      "cell_type": "code",
      "metadata": {
        "colab": {
          "base_uri": "https://localhost:8080/"
        },
        "id": "aUtj48KmztUN",
        "outputId": "833cadb2-4b88-4704-d3a3-d1fe7968ebb4"
      },
      "source": [
        "# Get the Standard Deviation\n",
        "\n",
        "import pandas as pd\n",
        "\n",
        "df = pd.DataFrame({'Name': ['Dan', 'Joann', 'Pedro', 'Rosie', 'Ethan', 'Vicky', 'Frederic'],\n",
        "                   'Salary':[50000,54000,50000,189000,55000,40000,59000],\n",
        "                   'Hours':[41,40,36,17,35,39,40],\n",
        "                   'Grade':[50,50,46,95,50,5,57]})\n",
        "\n",
        "print(df['Grade'].std())"
      ],
      "execution_count": null,
      "outputs": [
        {
          "output_type": "stream",
          "name": "stdout",
          "text": [
            "26.184328282754315\n"
          ]
        }
      ]
    },
    {
      "cell_type": "markdown",
      "metadata": {
        "id": "rbidqhnrztUN"
      },
      "source": [
        "##### Standard Deviation in a Normal Distribution\n",
        "\n",
        "In statistics and data science, we spend a lot of time considering *normal* distributions; because they occur so frequently. The standard deviation has an important relationship to play in a normal distribution.\n",
        "\n",
        "Run the following cell to show a histogram of a *normal* distribution (which is a distribution with a mean of 0 and a standard deviation of 1):"
      ]
    },
    {
      "cell_type": "code",
      "metadata": {
        "colab": {
          "base_uri": "https://localhost:8080/",
          "height": 265
        },
        "id": "va-nXgCpztUN",
        "outputId": "fd7cf503-81e6-4ab9-afd7-bde0856ccba5"
      },
      "source": [
        "%matplotlib inline\n",
        "import pandas as pd\n",
        "import matplotlib.pyplot as plt\n",
        "import numpy as np\n",
        "import scipy.stats as stats\n",
        "\n",
        "# Create a random standard normal distribution\n",
        "df = pd.DataFrame(np.random.randn(100000, 1), columns=['Grade'])\n",
        "\n",
        "# Plot the distribution as a histogram with a density curve\n",
        "grade = df['Grade']\n",
        "density = stats.gaussian_kde(grade)\n",
        "n, x, _ = plt.hist(grade, color='lightgrey', bins=100)  \n",
        "plt.plot(x, density(x))\n",
        "\n",
        "# Get the mean and standard deviation\n",
        "s = df['Grade'].std()\n",
        "m = df['Grade'].mean()\n",
        "\n",
        "# Annotate 1 stdev\n",
        "x1 = [m-s, m+s]\n",
        "y1 = [0.25, 0.25]\n",
        "plt.plot(x1,y1, color='magenta')\n",
        "plt.annotate('1s (68.26%)', (x1[1],y1[1]))\n",
        "\n",
        "# Annotate 2 stdevs\n",
        "x2 = [m-(s*2), m+(s*2)]\n",
        "y2 = [0.05, 0.05]\n",
        "plt.plot(x2,y2, color='green')\n",
        "plt.annotate('2s (95.45%)', (x2[1],y2[1]))\n",
        "\n",
        "# Annotate 3 stdevs\n",
        "x3 = [m-(s*3), m+(s*3)]\n",
        "y3 = [0.005, 0.005]\n",
        "plt.plot(x3,y3, color='orange')\n",
        "plt.annotate('3s (99.73%)', (x3[1],y3[1]))\n",
        "\n",
        "# Show the location of the mean\n",
        "plt.axvline(grade.mean(), color='grey', linestyle='dashed', linewidth=1)\n",
        "\n",
        "plt.show()"
      ],
      "execution_count": null,
      "outputs": [
        {
          "output_type": "display_data",
          "data": {
            "image/png": "[encoded data removed]",
            "text/plain": [
              "<Figure size 432x288 with 1 Axes>"
            ]
          },
          "metadata": {
            "needs_background": "light"
          }
        }
      ]
    },
    {
      "cell_type": "markdown",
      "metadata": {
        "id": "FK1ccGb0ztUN"
      },
      "source": [
        "<img src='https://sphweb.bumc.bu.edu/otlt/MPH-Modules/PH717-QuantCore/PH717-Module6-RandomError/Normal%20Distribution%20deviations.png'>\n",
        "\n",
        "The horizontal colored lines show the percentage of data within 1, 2, and 3 standard deviations of the mean (plus or minus).\n",
        "\n",
        "In any normal distribution:\n",
        "- Approximately 68.26% of values fall within one standard deviation from the mean.\n",
        "- Approximately 95.45% of values fall within two standard deviations from the mean.\n",
        "- Approximately 99.73% of values fall within three standard deviations from the mean.\n",
        "\n",
        "---"
      ]
    },
    {
      "cell_type": "markdown",
      "metadata": {
        "id": "oHRKggPmztUO"
      },
      "source": [
        "##### Z Score\n",
        "So in a normal (or close to normal) distribution, **standard deviation provides a way to evaluate how far from a mean** a given range of values falls, allowing us to compare where a particular value lies within the distribution. For example, suppose Rosie tells you she was the highest scoring student among her friends - that doesn't really help us assess how well she scored. She may have scored only a fraction of a point above the second-highest scoring student. Even if we know she was in the top quartile; if we don't know how the rest of the grades are distributed it's still not clear how well she performed compared to her friends.\n",
        "\n",
        "However, if she tells you how many standard deviations higher than the mean her score was, this will help you compare her score to that of her classmates.\n",
        "\n",
        "So how do we know how many standard deviations above or below the mean a particular value is? We call this a *Z Score*, and it's calculated like this for a full population:\n",
        "\n",
        "$$\n",
        "\\begin{equation}Z = \\frac{x - \\mu}{\\sigma}\\end{equation}\n",
        "$$\n",
        "\n",
        "or like this for a sample:\n",
        "\n",
        "$$\n",
        "\\begin{equation}Z = \\frac{x - \\bar{x}}{s}\\end{equation}\n",
        "$$\n",
        "\n",
        "So, let's examine Rosie's grade of 95. Now that we know the *mean* grade is 50.43 and the *standard deviation* is 26.184, we can calculate the Z Score for this grade like this:\n",
        "\n",
        "$$\n",
        "\\begin{equation}Z = \\frac{95 - 50.43}{26.184} = 1.702\\end{equation}.\n",
        "$$\n",
        "\n",
        "So Rosie's grade is 1.702 standard deviations above the mean."
      ]
    },
    {
      "cell_type": "code",
      "metadata": {
        "colab": {
          "base_uri": "https://localhost:8080/",
          "height": 747
        },
        "id": "IoYFe7ZWaRtK",
        "outputId": "608910c9-a062-427a-cc38-7c2b42f19393"
      },
      "source": [
        "# Visualization of Box Plot of Grade\n",
        "\n",
        "%matplotlib inline\n",
        "import pandas as pd\n",
        "import matplotlib.pyplot as plt\n",
        "import numpy as np\n",
        "import scipy.stats as stats\n",
        "\n",
        "df = pd.DataFrame({'Name': ['Dan', 'Joann', 'Pedro', 'Rosie', 'Ethan', 'Vicky', 'Frederic'],\n",
        "                   'Salary':[50000,54000,50000,189000,55000,40000,59000],\n",
        "                   'Hours':[41,40,36,17,35,39,40],\n",
        "                   'Grade':[50,50,46,95,50,5,57]})\n",
        "\n",
        "# Plot a box-whisker chart\n",
        "df['Grade'].plot(kind='box', title='Grade Distribution', figsize=(10,8))\n",
        "plt.show()\n",
        "\n",
        "# Visualization of Distribution\n",
        "grade = df['Grade']\n",
        "density = stats.gaussian_kde(grade)\n",
        "n, x, _ = plt.hist(grade, histtype='step', bins=25)  \n",
        "plt.plot(x, density(x)*2**7.5)\n",
        "plt.axvline(grade.mean(), color='magenta', linestyle='dashed', linewidth=2)\n",
        "plt.axvline(grade.median(), color='green', linestyle='dashed', linewidth=2)\n",
        "plt.show()\n",
        "\n"
      ],
      "execution_count": null,
      "outputs": [
        {
          "output_type": "display_data",
          "data": {
            "image/png": "[encoded data removed]",
            "text/plain": [
              "<Figure size 720x576 with 1 Axes>"
            ]
          },
          "metadata": {
            "needs_background": "light"
          }
        },
        {
          "output_type": "display_data",
          "data": {
            "image/png": "[encoded data removed]",
            "text/plain": [
              "<Figure size 432x288 with 1 Axes>"
            ]
          },
          "metadata": {
            "needs_background": "light"
          }
        }
      ]
    },
    {
      "cell_type": "markdown",
      "metadata": {
        "id": "lCiSpJGcztUO"
      },
      "source": [
        "### Summarizing Data Distribution in Python\n",
        "We've seen how to obtain individual statistics in Python, but you can also use the `describe` function to retrieve summary statistics for all numeric columns in a dataframe. These summary statistics include many of the statistics we've examined so far :"
      ]
    },
    {
      "cell_type": "code",
      "metadata": {
        "colab": {
          "base_uri": "https://localhost:8080/"
        },
        "id": "LCGPtcmOztUO",
        "outputId": "bd4e16fc-f2d0-487a-d10c-5ce3caa3fb29"
      },
      "source": [
        "import pandas as pd\n",
        "\n",
        "df = pd.DataFrame({'Name': ['Dan', 'Joann', 'Pedro', 'Rosie', 'Ethan', 'Vicky', 'Frederic'],\n",
        "                   'Salary':[50000,54000,50000,189000,55000,40000,59000],\n",
        "                   'Hours':[41,40,36,17,35,39,40],\n",
        "                   'Grade':[50,50,46,95,50,5,57]})\n",
        "print(df.describe())"
      ],
      "execution_count": null,
      "outputs": [
        {
          "output_type": "stream",
          "name": "stdout",
          "text": [
            "              Salary      Hours      Grade\n",
            "count       7.000000   7.000000   7.000000\n",
            "mean    71000.000000  35.428571  50.428571\n",
            "std     52370.475143   8.423324  26.184328\n",
            "min     40000.000000  17.000000   5.000000\n",
            "25%     50000.000000  35.500000  48.000000\n",
            "50%     54000.000000  39.000000  50.000000\n",
            "75%     57000.000000  40.000000  53.500000\n",
            "max    189000.000000  41.000000  95.000000\n"
          ]
        }
      ]
    }
  ]
}