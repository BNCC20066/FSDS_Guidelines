{
  "nbformat": 4,
  "nbformat_minor": 0,
  "metadata": {
    "colab": {
      "name": "P1W1D2AM.ipynb",
      "provenance": [],
      "collapsed_sections": [
        "oA7u6-1Zovdj",
        "Te4lVO5mZ6JQ",
        "nv_MgxKjwIWQ",
        "FrW6oSa2xKac",
        "b7fTYE__7utE",
        "duJu5xyq-ORv",
        "zeADY5Ohovdz"
      ],
      "toc_visible": true
    },
    "kernelspec": {
      "display_name": "Python 3",
      "language": "python",
      "name": "python3"
    },
    "language_info": {
      "codemirror_mode": {
        "name": "ipython",
        "version": 3
      },
      "file_extension": ".py",
      "mimetype": "text/x-python",
      "name": "python",
      "nbconvert_exporter": "python",
      "pygments_lexer": "ipython3",
      "version": "3.7.9"
    },
    "nav_menu": {},
    "toc": {
      "navigate_menu": true,
      "number_sections": true,
      "sideBar": true,
      "threshold": 6,
      "toc_cell": false,
      "toc_section_display": "block",
      "toc_window_display": false
    }
  },
  "cells": [
    {
      "cell_type": "markdown",
      "metadata": {
        "id": "hYbvxBSUovdh"
      },
      "source": [
        "# Week 1: Day 2 AM // Classification Concepts"
      ]
    },
    {
      "cell_type": "markdown",
      "metadata": {
        "id": "oA7u6-1Zovdj"
      },
      "source": [
        "# A. Setup"
      ]
    },
    {
      "cell_type": "markdown",
      "metadata": {
        "id": "og5nfs_Kovdj"
      },
      "source": [
        "First, let's import a few common modules, ensure MatplotLib plots figures inline and prepare a function to save the figures. We also check that Python 3.5 or later is installed (although Python 2.x may work, it is deprecated so we strongly recommend you use Python 3 instead), as well as Scikit-Learn ≥0.20."
      ]
    },
    {
      "cell_type": "code",
      "metadata": {
        "id": "AjH1ezpjovdk"
      },
      "source": [
        "# Python ≥3.5 is required\n",
        "import sys\n",
        "assert sys.version_info >= (3, 5)\n",
        "\n",
        "# Scikit-Learn ≥0.20 is required\n",
        "import sklearn\n",
        "assert sklearn.__version__ >= \"0.20\"\n",
        "\n",
        "# Common imports\n",
        "import numpy as np\n",
        "import os\n",
        "\n",
        "# to make this notebook's output stable across runs\n",
        "np.random.seed(42)\n",
        "\n",
        "# To plot pretty figures\n",
        "%matplotlib inline\n",
        "import matplotlib as mpl\n",
        "import matplotlib.pyplot as plt\n",
        "\n",
        "mpl.rc('axes', labelsize=14)\n",
        "mpl.rc('xtick', labelsize=12)\n",
        "mpl.rc('ytick', labelsize=12)\n",
        "\n",
        "# Where to save the figures\n",
        "PROJECT_ROOT_DIR = \".\"\n",
        "CHAPTER_ID = \"classification\"\n",
        "IMAGES_PATH = os.path.join(PROJECT_ROOT_DIR, \"images\", CHAPTER_ID)\n",
        "os.makedirs(IMAGES_PATH, exist_ok=True)\n",
        "\n",
        "def save_fig(fig_id, tight_layout=True, fig_extension=\"png\", resolution=300):\n",
        "    path = os.path.join(IMAGES_PATH, fig_id + \".\" + fig_extension)\n",
        "    print(\"Saving figure\", fig_id)\n",
        "    if tight_layout:\n",
        "        plt.tight_layout()\n",
        "    plt.savefig(path, format=fig_extension, dpi=resolution)"
      ],
      "execution_count": null,
      "outputs": []
    },
    {
      "cell_type": "markdown",
      "metadata": {
        "id": "WOrOfLP2ovdl"
      },
      "source": [
        "# B. MNIST"
      ]
    },
    {
      "cell_type": "markdown",
      "metadata": {
        "id": "w06us2f8ISA9"
      },
      "source": [
        "For today task, we will be using a dataset called **MNIST**. \n",
        "\n",
        "* MNIST is a dataset that contains 70,000 images of handwritten digits.\n",
        "* This dataset already splitted to **training set (60,000 images)** and **testing set (10,000 images)** where each of image belongs to a specific number (class). \n",
        "* The classes/labels are numbers between **0 and 9**.\n",
        "* Each of image is contains **28 * 28 pixels**.\n",
        "* Each of image is **black-and-white** image where each pixel contains number between 0-255.\n",
        "* Sample of dataset : [MNIST sample](https://upload.wikimedia.org/wikipedia/commons/2/27/MnistExamples.png).\n",
        "* For more details, please visit : [Wikipedia](https://en.wikipedia.org/wiki/MNIST_database) or [Yann Le Cun's Website](/http://yann.lecun.com/exdb/mnist/)."
      ]
    },
    {
      "cell_type": "markdown",
      "metadata": {
        "id": "Ey0hqM3kzGKz"
      },
      "source": [
        "---\n",
        "## Fetch MNIST\n",
        "\n",
        "To get this dataset, we can use package/modul Scikit-Learn.\n",
        "\n",
        "**Warning:** since Scikit-Learn 0.24, `fetch_openml()` returns a Pandas `DataFrame` by default. To avoid this and keep the same code as in the book, we use `as_frame=False`."
      ]
    },
    {
      "cell_type": "code",
      "metadata": {
        "colab": {
          "base_uri": "https://localhost:8080/"
        },
        "id": "2vfPCVuYovdm",
        "outputId": "0303a397-2936-4825-e853-a83350b74de9"
      },
      "source": [
        "%%time\n",
        "# Fetch MNIST Dataset\n",
        "\n",
        "from sklearn.datasets import fetch_openml\n",
        "mnist = fetch_openml('mnist_784', version=1, as_frame=False)\n",
        "print('Keys: ', mnist.keys())"
      ],
      "execution_count": null,
      "outputs": [
        {
          "output_type": "stream",
          "name": "stdout",
          "text": [
            "Keys:  dict_keys(['data', 'target', 'frame', 'feature_names', 'target_names', 'DESCR', 'details', 'categories', 'url'])\n",
            "CPU times: user 22.6 s, sys: 517 ms, total: 23.1 s\n",
            "Wall time: 23.3 s\n"
          ]
        }
      ]
    },
    {
      "cell_type": "code",
      "metadata": {
        "colab": {
          "base_uri": "https://localhost:8080/"
        },
        "id": "hI3iofEBovdn",
        "outputId": "e097db05-e3ca-4b3f-de28-4e97cb875615"
      },
      "source": [
        "# Get All Data and All Labels\n",
        "\n",
        "X, y = mnist[\"data\"], mnist[\"target\"]\n",
        "\n",
        "print('Total Data   : ', X.shape)\n",
        "print('Total Labels : ', y.shape)"
      ],
      "execution_count": null,
      "outputs": [
        {
          "output_type": "stream",
          "name": "stdout",
          "text": [
            "Total Data   :  (70000, 784)\n",
            "Total Labels :  (70000,)\n"
          ]
        }
      ]
    },
    {
      "cell_type": "code",
      "metadata": {
        "colab": {
          "base_uri": "https://localhost:8080/",
          "height": 314
        },
        "id": "Z18xad5Yovdq",
        "outputId": "27e9b8c5-a059-45ee-d36a-bec7e4790a76"
      },
      "source": [
        "# Visualization of First Data\n",
        "\n",
        "some_digit = X[0]\n",
        "some_digit_image = some_digit.reshape(28, 28)\n",
        "plt.imshow(some_digit_image, cmap=mpl.cm.binary)\n",
        "plt.axis(\"off\")\n",
        "\n",
        "save_fig(\"some_digit_plot\")\n",
        "plt.show()"
      ],
      "execution_count": null,
      "outputs": [
        {
          "output_type": "stream",
          "name": "stdout",
          "text": [
            "Saving figure some_digit_plot\n"
          ]
        },
        {
          "output_type": "display_data",
          "data": {
            "image/png": "[encoded data removed]",
            "text/plain": [
              "<Figure size 432x288 with 1 Axes>"
            ]
          },
          "metadata": {
            "needs_background": "light"
          }
        }
      ]
    },
    {
      "cell_type": "code",
      "metadata": {
        "colab": {
          "base_uri": "https://localhost:8080/"
        },
        "id": "ooj22BhH_N97",
        "outputId": "2438f538-010b-4b10-b669-65a68c0b70fb"
      },
      "source": [
        "# Display Value in First Data\n",
        "\n",
        "print('First Data - Value')\n",
        "print(X[0])\n",
        "print('First Data - Type  : ', type(X[0]))\n",
        "print('First Data - Shape : ', X[0].shape)"
      ],
      "execution_count": null,
      "outputs": [
        {
          "output_type": "stream",
          "name": "stdout",
          "text": [
            "First Data - Value\n",
            "[  0.   0.   0.   0.   0.   0.   0.   0.   0.   0.   0.   0.   0.   0.\n",
            "   0.   0.   0.   0.   0.   0.   0.   0.   0.   0.   0.   0.   0.   0.\n",
            "   0.   0.   0.   0.   0.   0.   0.   0.   0.   0.   0.   0.   0.   0.\n",
            "   0.   0.   0.   0.   0.   0.   0.   0.   0.   0.   0.   0.   0.   0.\n",
            "   0.   0.   0.   0.   0.   0.   0.   0.   0.   0.   0.   0.   0.   0.\n",
            "   0.   0.   0.   0.   0.   0.   0.   0.   0.   0.   0.   0.   0.   0.\n",
            "   0.   0.   0.   0.   0.   0.   0.   0.   0.   0.   0.   0.   0.   0.\n",
            "   0.   0.   0.   0.   0.   0.   0.   0.   0.   0.   0.   0.   0.   0.\n",
            "   0.   0.   0.   0.   0.   0.   0.   0.   0.   0.   0.   0.   0.   0.\n",
            "   0.   0.   0.   0.   0.   0.   0.   0.   0.   0.   0.   0.   0.   0.\n",
            "   0.   0.   0.   0.   0.   0.   0.   0.   0.   0.   0.   0.   3.  18.\n",
            "  18.  18. 126. 136. 175.  26. 166. 255. 247. 127.   0.   0.   0.   0.\n",
            "   0.   0.   0.   0.   0.   0.   0.   0.  30.  36.  94. 154. 170. 253.\n",
            " 253. 253. 253. 253. 225. 172. 253. 242. 195.  64.   0.   0.   0.   0.\n",
            "   0.   0.   0.   0.   0.   0.   0.  49. 238. 253. 253. 253. 253. 253.\n",
            " 253. 253. 253. 251.  93.  82.  82.  56.  39.   0.   0.   0.   0.   0.\n",
            "   0.   0.   0.   0.   0.   0.   0.  18. 219. 253. 253. 253. 253. 253.\n",
            " 198. 182. 247. 241.   0.   0.   0.   0.   0.   0.   0.   0.   0.   0.\n",
            "   0.   0.   0.   0.   0.   0.   0.   0.  80. 156. 107. 253. 253. 205.\n",
            "  11.   0.  43. 154.   0.   0.   0.   0.   0.   0.   0.   0.   0.   0.\n",
            "   0.   0.   0.   0.   0.   0.   0.   0.   0.  14.   1. 154. 253.  90.\n",
            "   0.   0.   0.   0.   0.   0.   0.   0.   0.   0.   0.   0.   0.   0.\n",
            "   0.   0.   0.   0.   0.   0.   0.   0.   0.   0.   0. 139. 253. 190.\n",
            "   2.   0.   0.   0.   0.   0.   0.   0.   0.   0.   0.   0.   0.   0.\n",
            "   0.   0.   0.   0.   0.   0.   0.   0.   0.   0.   0.  11. 190. 253.\n",
            "  70.   0.   0.   0.   0.   0.   0.   0.   0.   0.   0.   0.   0.   0.\n",
            "   0.   0.   0.   0.   0.   0.   0.   0.   0.   0.   0.   0.  35. 241.\n",
            " 225. 160. 108.   1.   0.   0.   0.   0.   0.   0.   0.   0.   0.   0.\n",
            "   0.   0.   0.   0.   0.   0.   0.   0.   0.   0.   0.   0.   0.  81.\n",
            " 240. 253. 253. 119.  25.   0.   0.   0.   0.   0.   0.   0.   0.   0.\n",
            "   0.   0.   0.   0.   0.   0.   0.   0.   0.   0.   0.   0.   0.   0.\n",
            "  45. 186. 253. 253. 150.  27.   0.   0.   0.   0.   0.   0.   0.   0.\n",
            "   0.   0.   0.   0.   0.   0.   0.   0.   0.   0.   0.   0.   0.   0.\n",
            "   0.  16.  93. 252. 253. 187.   0.   0.   0.   0.   0.   0.   0.   0.\n",
            "   0.   0.   0.   0.   0.   0.   0.   0.   0.   0.   0.   0.   0.   0.\n",
            "   0.   0.   0. 249. 253. 249.  64.   0.   0.   0.   0.   0.   0.   0.\n",
            "   0.   0.   0.   0.   0.   0.   0.   0.   0.   0.   0.   0.   0.   0.\n",
            "  46. 130. 183. 253. 253. 207.   2.   0.   0.   0.   0.   0.   0.   0.\n",
            "   0.   0.   0.   0.   0.   0.   0.   0.   0.   0.   0.   0.  39. 148.\n",
            " 229. 253. 253. 253. 250. 182.   0.   0.   0.   0.   0.   0.   0.   0.\n",
            "   0.   0.   0.   0.   0.   0.   0.   0.   0.   0.  24. 114. 221. 253.\n",
            " 253. 253. 253. 201.  78.   0.   0.   0.   0.   0.   0.   0.   0.   0.\n",
            "   0.   0.   0.   0.   0.   0.   0.   0.  23.  66. 213. 253. 253. 253.\n",
            " 253. 198.  81.   2.   0.   0.   0.   0.   0.   0.   0.   0.   0.   0.\n",
            "   0.   0.   0.   0.   0.   0.  18. 171. 219. 253. 253. 253. 253. 195.\n",
            "  80.   9.   0.   0.   0.   0.   0.   0.   0.   0.   0.   0.   0.   0.\n",
            "   0.   0.   0.   0.  55. 172. 226. 253. 253. 253. 253. 244. 133.  11.\n",
            "   0.   0.   0.   0.   0.   0.   0.   0.   0.   0.   0.   0.   0.   0.\n",
            "   0.   0.   0.   0. 136. 253. 253. 253. 212. 135. 132.  16.   0.   0.\n",
            "   0.   0.   0.   0.   0.   0.   0.   0.   0.   0.   0.   0.   0.   0.\n",
            "   0.   0.   0.   0.   0.   0.   0.   0.   0.   0.   0.   0.   0.   0.\n",
            "   0.   0.   0.   0.   0.   0.   0.   0.   0.   0.   0.   0.   0.   0.\n",
            "   0.   0.   0.   0.   0.   0.   0.   0.   0.   0.   0.   0.   0.   0.\n",
            "   0.   0.   0.   0.   0.   0.   0.   0.   0.   0.   0.   0.   0.   0.\n",
            "   0.   0.   0.   0.   0.   0.   0.   0.   0.   0.   0.   0.   0.   0.\n",
            "   0.   0.   0.   0.   0.   0.   0.   0.   0.   0.   0.   0.   0.   0.]\n",
            "First Data - Type  :  <class 'numpy.ndarray'>\n",
            "First Data - Shape :  (784,)\n"
          ]
        }
      ]
    },
    {
      "cell_type": "code",
      "metadata": {
        "colab": {
          "base_uri": "https://localhost:8080/"
        },
        "id": "v6KQ3Fcwovdq",
        "outputId": "ad2152d6-d678-4a99-8aba-dd39e8d9af34"
      },
      "source": [
        "# Display Target Class for First Data\n",
        "\n",
        "print('First Data - Target      : ', y[0])\n",
        "print('First Data - Target Type : ', type(y[0]))"
      ],
      "execution_count": null,
      "outputs": [
        {
          "output_type": "stream",
          "name": "stdout",
          "text": [
            "First Data - Target      :  5\n",
            "First Data - Target Type :  <class 'str'>\n"
          ]
        }
      ]
    },
    {
      "cell_type": "markdown",
      "metadata": {
        "id": "BzyJ2agtp8kV"
      },
      "source": [
        "As you can see, the target class is in `string` type. We will convert it to numeric for better process."
      ]
    },
    {
      "cell_type": "code",
      "metadata": {
        "id": "y6KevqUgovdq"
      },
      "source": [
        "# Convert Str to Int for Target Labels\n",
        "\n",
        "y = y.astype(np.uint8)"
      ],
      "execution_count": null,
      "outputs": []
    },
    {
      "cell_type": "markdown",
      "metadata": {
        "id": "5s8XqrQmyzFs"
      },
      "source": [
        "---\n",
        "## Explore Dataset\n",
        "\n",
        "Let's explore a bit more about our dataset."
      ]
    },
    {
      "cell_type": "code",
      "metadata": {
        "id": "uvWSU5LFovdr"
      },
      "source": [
        "# Function for Visualize A Specific Image (One Image Only)\n",
        "\n",
        "def plot_digit(data):\n",
        "    image = data.reshape(28, 28)\n",
        "    plt.imshow(image, cmap = mpl.cm.binary,\n",
        "               interpolation=\"nearest\")\n",
        "    plt.axis(\"off\")"
      ],
      "execution_count": null,
      "outputs": []
    },
    {
      "cell_type": "code",
      "metadata": {
        "id": "m_Gdw9x4ovdr"
      },
      "source": [
        "# Function for Visualize A Group of Images\n",
        "def plot_digits(instances, images_per_row=10, **options):\n",
        "    size = 28\n",
        "    images_per_row = min(len(instances), images_per_row)\n",
        "    images = [instance.reshape(size,size) for instance in instances]\n",
        "    n_rows = (len(instances) - 1) // images_per_row + 1\n",
        "    row_images = []\n",
        "    n_empty = n_rows * images_per_row - len(instances)\n",
        "    images.append(np.zeros((size, size * n_empty)))\n",
        "    for row in range(n_rows):\n",
        "        rimages = images[row * images_per_row : (row + 1) * images_per_row]\n",
        "        row_images.append(np.concatenate(rimages, axis=1))\n",
        "    image = np.concatenate(row_images, axis=0)\n",
        "    plt.imshow(image, cmap = mpl.cm.binary, **options)\n",
        "    plt.axis(\"off\")"
      ],
      "execution_count": null,
      "outputs": []
    },
    {
      "cell_type": "code",
      "metadata": {
        "colab": {
          "base_uri": "https://localhost:8080/",
          "height": 361
        },
        "id": "cDTiqWTNovdr",
        "outputId": "b3e5ddfb-8d1d-45b2-8c1d-37d4406e1121"
      },
      "source": [
        "# Visualization of the First 50 Images\n",
        "\n",
        "plt.figure(figsize=(9,9))\n",
        "example_images = X[:50]\n",
        "plot_digits(example_images, images_per_row=10)\n",
        "save_fig(\"more_digits_plot\")\n",
        "plt.show()"
      ],
      "execution_count": null,
      "outputs": [
        {
          "output_type": "stream",
          "name": "stdout",
          "text": [
            "Saving figure more_digits_plot\n"
          ]
        },
        {
          "output_type": "display_data",
          "data": {
            "image/png": "[encoded data removed]",
            "text/plain": [
              "<Figure size 648x648 with 1 Axes>"
            ]
          },
          "metadata": {
            "needs_background": "light"
          }
        }
      ]
    },
    {
      "cell_type": "code",
      "metadata": {
        "colab": {
          "base_uri": "https://localhost:8080/"
        },
        "id": "krHVxNtr99N3",
        "outputId": "67d1e451-e2d1-4889-a210-f782d627c44c"
      },
      "source": [
        "# Display the First 10 Target Labels\n",
        "\n",
        "y[0:10]"
      ],
      "execution_count": null,
      "outputs": [
        {
          "output_type": "execute_result",
          "data": {
            "text/plain": [
              "array([5, 0, 4, 1, 9, 2, 1, 3, 1, 4], dtype=uint8)"
            ]
          },
          "metadata": {},
          "execution_count": 11
        }
      ]
    },
    {
      "cell_type": "markdown",
      "metadata": {
        "id": "i2K-ljDVYA9S"
      },
      "source": [
        "---\n",
        "## Splitting Data\n",
        "\n",
        "Before we create a model, make sure that at least two types of data are available, namely train data and test data.\n",
        "\n",
        "* Data train is any kind of data that aims to create a model. This data should be as clean as possible. Therefore, a process called data cleaning will only occur in this data, such as handling missing values, outliers, handling cardinality, features scaling, etc.\n",
        "* Test data is any kind of data that are not included in the training process. The purpose of this data is to check the performance of the newly created model. The better the model, the more resistant it is to all kinds of data that it has never seen.\n",
        "\n",
        "Notes of MNIST Dataset : \n",
        "\n",
        "* There are many ways to get the MNIST dataset. \n",
        "* You can download directly from Kaggle, [Yan Le Cun's website](https://http://yann.lecun.com/exdb/mnist/), Scikit-Learn module, etc. \n",
        "* As previously mentioned, this dataset should have been divided into two, training data and testing data. \n",
        "* *However, if you get it using Scikit-Learn module, you will have to divide this dataset into train data and test data manually.*"
      ]
    },
    {
      "cell_type": "code",
      "metadata": {
        "id": "ZQITw4yQovds"
      },
      "source": [
        "# Split MNIST into Train Data and Test Data Manually\n",
        " \n",
        "X_train, X_test, y_train, y_test = X[:60000], X[60000:], y[:60000], y[60000:]"
      ],
      "execution_count": null,
      "outputs": []
    },
    {
      "cell_type": "markdown",
      "metadata": {
        "id": "vK_rdeGlovds"
      },
      "source": [
        "# C. Binary Classification"
      ]
    },
    {
      "cell_type": "markdown",
      "metadata": {
        "id": "Te4lVO5mZ6JQ"
      },
      "source": [
        "## Problem Definition\n",
        "\n",
        "Binary Classification is a Multiclass Classification where all possible target classes is just 2 categories. \n",
        "\n",
        "* Because, MNIST dataset has 10 different target classes (0, 1, 2, 3, 4, 5, 6, 7, 8, 9), we will be converting some targets to other targets. \n",
        "* Let's say we will predict **which image is number 5 and which isn't**.\n",
        "* The new target labels will contains \n",
        "  * `True` : If the old target labels is 5.\n",
        "  * `False` : If the old target labels isn't 5."
      ]
    },
    {
      "cell_type": "code",
      "metadata": {
        "id": "in6A5tDrovds"
      },
      "source": [
        "# Converting Target Labels into New Target Labels\n",
        "\n",
        "y_train_5 = (y_train == 5)\n",
        "y_test_5 = (y_test == 5)"
      ],
      "execution_count": null,
      "outputs": []
    },
    {
      "cell_type": "code",
      "metadata": {
        "colab": {
          "base_uri": "https://localhost:8080/"
        },
        "id": "yBR6Bi9jAoaW",
        "outputId": "8d685107-b987-48a7-edab-c0050c89195d"
      },
      "source": [
        "# Display the First 10 Target Labels, both from Old Target Labels and from New Target Labels\n",
        "\n",
        "print('Old Target Labels : ', y_train[:10])\n",
        "print('New Target Labels : ', y_train_5[:10])"
      ],
      "execution_count": null,
      "outputs": [
        {
          "output_type": "stream",
          "name": "stdout",
          "text": [
            "Old Target Labels :  [5 0 4 1 9 2 1 3 1 4]\n",
            "New Target Labels :  [ True False False False False False False False False False]\n"
          ]
        }
      ]
    },
    {
      "cell_type": "markdown",
      "metadata": {
        "id": "OE-jDSrRwpJQ"
      },
      "source": [
        "---\n",
        "## Train with Stochastic Gradient Descent"
      ]
    },
    {
      "cell_type": "markdown",
      "metadata": {
        "id": "5LY5biiecqFF"
      },
      "source": [
        "Let's predict this train set using an algorithm called **Stochastic Gradient Descent**. We will learn about Stochastic Gradient Descent in P1W1D2PM."
      ]
    },
    {
      "cell_type": "code",
      "metadata": {
        "colab": {
          "base_uri": "https://localhost:8080/"
        },
        "id": "2ug36netovdt",
        "outputId": "3d2c4c9d-084f-4581-e975-a6533a78f15e"
      },
      "source": [
        "# Train a Model with Stochastic Gradient Descent\n",
        "\n",
        "%%time \n",
        "from sklearn.linear_model import SGDClassifier\n",
        "\n",
        "sgd_clf = SGDClassifier(random_state=42)\n",
        "sgd_clf.fit(X_train, y_train_5)"
      ],
      "execution_count": null,
      "outputs": [
        {
          "output_type": "stream",
          "name": "stdout",
          "text": [
            "CPU times: user 23.8 s, sys: 32.3 ms, total: 23.9 s\n",
            "Wall time: 23.9 s\n"
          ]
        }
      ]
    },
    {
      "cell_type": "code",
      "metadata": {
        "colab": {
          "base_uri": "https://localhost:8080/",
          "height": 299
        },
        "id": "u9iftss7ovdt",
        "outputId": "a350120c-8235-48b5-dc26-f3aa7bc1ddd8"
      },
      "source": [
        "# Predict a Data\n",
        "\n",
        "prediction = sgd_clf.predict([some_digit])\n",
        "\n",
        "print('Prediction : ', prediction)\n",
        "print('\\nVisualization of a Test Data')\n",
        "plot_digit(some_digit)"
      ],
      "execution_count": null,
      "outputs": [
        {
          "output_type": "stream",
          "name": "stdout",
          "text": [
            "Prediction :  [ True]\n",
            "\n",
            "Visualization of a Test Data\n"
          ]
        },
        {
          "output_type": "display_data",
          "data": {
            "image/png": "[encoded data removed]",
            "text/plain": [
              "<Figure size 432x288 with 1 Axes>"
            ]
          },
          "metadata": {
            "needs_background": "light"
          }
        }
      ]
    },
    {
      "cell_type": "code",
      "metadata": {
        "colab": {
          "base_uri": "https://localhost:8080/"
        },
        "id": "v29CFGwReu2Q",
        "outputId": "775edc19-54a3-447b-9ca4-23307fa64db9"
      },
      "source": [
        "# Predict All Train Data\n",
        "\n",
        "from sklearn.metrics import accuracy_score\n",
        "\n",
        "predictions_train = sgd_clf.predict(X_train)\n",
        "acc_train = accuracy_score(y_train_5, predictions_train)\n",
        "\n",
        "print('Prediction        : ', predictions_train)\n",
        "print('Accuracy - Train  : ', acc_train)"
      ],
      "execution_count": null,
      "outputs": [
        {
          "output_type": "stream",
          "name": "stdout",
          "text": [
            "Prediction        :  [ True False False ...  True False False]\n",
            "Accuracy - Train  :  0.9522666666666667\n"
          ]
        }
      ]
    },
    {
      "cell_type": "markdown",
      "metadata": {
        "id": "il9Ie4Gx3wjn"
      },
      "source": [
        "As you can see above, with SGD classifier, we can achieve accuracy 95.23 % in just few steps."
      ]
    },
    {
      "cell_type": "markdown",
      "metadata": {
        "id": "nv_MgxKjwIWQ"
      },
      "source": [
        "---\n",
        "## Cross Validation"
      ]
    },
    {
      "cell_type": "markdown",
      "metadata": {
        "id": "Vl6UBjDasThH"
      },
      "source": [
        "In the previous section, we have seen the accuracy we get more than 95%. Wow! Then, how can we be sure that this accuracy is valid? One way to ensure this is to use Cross Validation.\n",
        "\n",
        "Cross-validation systematically creates and evaluates multiple models on multiple subsets of the dataset. Cross-validation provides performance measurements such as mean and standard deviation.\n",
        "* Mean : **how well** the procedure performs on average.\n",
        "* Standard deviation : **how much** the procedure is expected to vary in practice.\n",
        "\n",
        "Mean and standard deviation can be used to give a confidence interval on the expected performance on a machine learning procedure in practice.\n",
        "\n"
      ]
    },
    {
      "cell_type": "code",
      "metadata": {
        "colab": {
          "base_uri": "https://localhost:8080/"
        },
        "id": "KhwUraFqovdt",
        "outputId": "1eab062c-e94d-4579-a498-576752aef92b"
      },
      "source": [
        "# Predict All Train Data using Cross Validation Method\n",
        "\n",
        "%%time \n",
        "from sklearn.model_selection import cross_val_score\n",
        "\n",
        "acc_train_cross_val = cross_val_score(sgd_clf, X_train, y_train_5, cv=3, scoring=\"accuracy\")\n",
        "\n",
        "print('Accuracy - All - Cross Validation  : ', acc_train_cross_val)\n",
        "print('Accuracy - Mean - Cross Validation : ', acc_train_cross_val.mean())\n",
        "print('Accuracy - Std - Cross Validation  : ', acc_train_cross_val.std())"
      ],
      "execution_count": null,
      "outputs": [
        {
          "output_type": "stream",
          "name": "stdout",
          "text": [
            "Accuracy - All - Cross Validation  :  [0.95035 0.96035 0.9604 ]\n",
            "Accuracy - Mean - Cross Validation :  0.9570333333333334\n",
            "Accuracy - Std - Cross Validation  :  0.004725874404688398\n",
            "CPU times: user 32.3 s, sys: 308 ms, total: 32.6 s\n",
            "Wall time: 32.3 s\n"
          ]
        }
      ]
    },
    {
      "cell_type": "markdown",
      "metadata": {
        "id": "mAPnBlgQwMDx"
      },
      "source": [
        "---\n",
        "## Stratified K-Fold Cross Validation\n",
        "\n",
        "Stratified K-Fold Cross-validation used same method as cross-validation above. The difference is each fold contains approximately the same percentage of samples of each target class as the complete set. "
      ]
    },
    {
      "cell_type": "code",
      "metadata": {
        "colab": {
          "base_uri": "https://localhost:8080/"
        },
        "id": "6SjlEgHdovdt",
        "outputId": "ccbe7a13-bc7d-424d-e12b-611be7899315"
      },
      "source": [
        "# Predict All Train Data using Stratified K-Fold Method\n",
        "\n",
        "%%time\n",
        "\n",
        "from sklearn.model_selection import StratifiedKFold\n",
        "from sklearn.base import clone\n",
        "\n",
        "total_folds = 3\n",
        "skfolds = StratifiedKFold(n_splits=total_folds, shuffle=True, random_state=42)\n",
        "acc_train_stratkfold = []\n",
        "loop = 0\n",
        "\n",
        "for train_index, test_index in skfolds.split(X_train, y_train_5):\n",
        "  loop += 1\n",
        "  clone_clf = clone(sgd_clf)\n",
        "  \n",
        "  X_train_folds = X_train[train_index]\n",
        "  y_train_folds = np.array(y_train_5)[train_index]\n",
        "  \n",
        "  X_test_fold = X_train[test_index]\n",
        "  y_test_fold = np.array(y_train_5)[test_index]\n",
        "  \n",
        "  print('Loop : ', loop)\n",
        "  print('Total train - `five`          : ', sum([1 if x else 0 for x in y_train_folds]))\n",
        "  print('Total train - `not_five`      : ', sum([0 if x else 1 for x in y_train_folds]))\n",
        "  print('Total validation - `five`     : ', sum([1 if not x else 0 for x in y_test_fold]))\n",
        "  print('Total validation - `not_five` : ', sum([0 if not x else 1 for x in y_test_fold]))\n",
        "  print('')\n",
        "  \n",
        "  clone_clf.fit(X_train_folds, y_train_folds)\n",
        "  y_pred = clone_clf.predict(X_test_fold)\n",
        "  n_correct = sum(y_pred == y_test_fold)\n",
        "  acc_train_stratkfold.append(n_correct / len(y_pred))\n",
        "\n",
        "acc_train_stratkfold = np.array(acc_train_stratkfold)\n",
        "\n",
        "print('Accuracy - Train : ', acc_train)\n",
        "print('Accuracy - Train - Mean - Cross Validation  : ', acc_train_cross_val.mean())\n",
        "print('Accuracy - Train - Mean - Stratified K-Fold : ', np.mean(acc_train_stratkfold))\n",
        "print('\\nAccuracy - Train - Std - Cross Validation   : ', acc_train_cross_val.std())\n",
        "print('Accuracy - Train - Std - Stratified K-Fold  : ', np.std(acc_train_stratkfold))\n",
        "print('\\nAccuracy - Train - All - Cross Validation   : ', acc_train_cross_val)\n",
        "print('Accuracy - Train - All - Stratified K-Fold  : ', acc_train_stratkfold)"
      ],
      "execution_count": null,
      "outputs": [
        {
          "output_type": "stream",
          "name": "stdout",
          "text": [
            "Loop :  1\n",
            "Total train - `five`          :  3614\n",
            "Total train - `not_five`      :  36386\n",
            "Total validation - `five`     :  18193\n",
            "Total validation - `not_five` :  1807\n",
            "\n",
            "Loop :  2\n",
            "Total train - `five`          :  3614\n",
            "Total train - `not_five`      :  36386\n",
            "Total validation - `five`     :  18193\n",
            "Total validation - `not_five` :  1807\n",
            "\n",
            "Loop :  3\n",
            "Total train - `five`          :  3614\n",
            "Total train - `not_five`      :  36386\n",
            "Total validation - `five`     :  18193\n",
            "Total validation - `not_five` :  1807\n",
            "\n",
            "Accuracy - Train :  0.9522666666666667\n",
            "Accuracy - Train - Mean - Cross Validation  :  0.9570333333333334\n",
            "Accuracy - Train - Mean - Stratified K-Fold :  0.9503333333333334\n",
            "\n",
            "Accuracy - Train - Std - Cross Validation   :  0.004725874404688398\n",
            "Accuracy - Train - Std - Stratified K-Fold  :  0.024103676529156744\n",
            "\n",
            "Accuracy - Train - All - Cross Validation   :  [0.95035 0.96035 0.9604 ]\n",
            "Accuracy - Train - All - Stratified K-Fold  :  [0.9669  0.91625 0.96785]\n",
            "CPU times: user 38.7 s, sys: 414 ms, total: 39.1 s\n",
            "Wall time: 38.7 s\n"
          ]
        }
      ]
    },
    {
      "cell_type": "code",
      "metadata": {
        "colab": {
          "base_uri": "https://localhost:8080/"
        },
        "id": "D3l0qESJqgCn",
        "outputId": "cc032dad-89a6-4bc5-b434-a211745a1e8e"
      },
      "source": [
        "# Let's Testing Our Model\n",
        "\n",
        "from sklearn.metrics import accuracy_score\n",
        "\n",
        "predictions_test = sgd_clf.predict(X_test)\n",
        "acc_test = accuracy_score(y_test_5, predictions_test)\n",
        "\n",
        "print('Accuracy - Test : ', acc_test)"
      ],
      "execution_count": null,
      "outputs": [
        {
          "output_type": "stream",
          "name": "stdout",
          "text": [
            "Accuracy - Test :  0.9492\n"
          ]
        }
      ]
    },
    {
      "cell_type": "markdown",
      "metadata": {
        "id": "x_2F51-ixfG5"
      },
      "source": [
        "So, as we can see, the accuracy test above is **still in range of standard deviation** from cross-validation, regardless using traditional cross-validation or using stratified k-fold cross-validation."
      ]
    },
    {
      "cell_type": "markdown",
      "metadata": {
        "id": "drHMXATgwUo-"
      },
      "source": [
        "---\n",
        "## Performance Evaluation (Accuracy)"
      ]
    },
    {
      "cell_type": "code",
      "metadata": {
        "id": "lLqcgEISovdv",
        "colab": {
          "base_uri": "https://localhost:8080/"
        },
        "outputId": "355a82f4-685b-4988-cd89-cdf44dad8d42"
      },
      "source": [
        "# Check Predictions using Confusion Matrix\n",
        "\n",
        "from sklearn.metrics import confusion_matrix\n",
        "\n",
        "print(confusion_matrix(y_train_5, predictions_train))\n",
        "print('')\n",
        "\n",
        "tn, fp, fn, tp = confusion_matrix(y_train_5, predictions_train).ravel()\n",
        "print('True Negative  : ', tn)\n",
        "print('False Positive : ', fp)\n",
        "print('False Negative : ', fn)\n",
        "print('True Positive  : ', tp)"
      ],
      "execution_count": null,
      "outputs": [
        {
          "output_type": "stream",
          "name": "stdout",
          "text": [
            "[[52316  2263]\n",
            " [  601  4820]]\n",
            "\n",
            "True Negative  :  52316\n",
            "False Positive :  2263\n",
            "False Negative :  601\n",
            "True Positive  :  4820\n"
          ]
        }
      ]
    },
    {
      "cell_type": "markdown",
      "metadata": {
        "id": "pyWg0PSj1n4V"
      },
      "source": [
        "From above results, can be seen as :\n",
        "\n",
        "|  | Predicted - False (Not Five) | Predicted - True (Five) |\n",
        "| --- | ----------- | ----------- |\n",
        "| Actual - False (Not Five) | True Negative = 52316 | False Positive = 2263 |\n",
        "| Actual - True (Five) | False Negative = 601 | True Positive = 4820 |"
      ]
    },
    {
      "cell_type": "markdown",
      "metadata": {
        "id": "dzRwXcTd6mFQ"
      },
      "source": [
        "The above table is confusion matrix where accuracy for train is **95.23%**. But, what if confusion matrix looks like if accuracy is 100%? Let's explore !"
      ]
    },
    {
      "cell_type": "code",
      "metadata": {
        "id": "nnPRPFahovdv",
        "colab": {
          "base_uri": "https://localhost:8080/"
        },
        "outputId": "5c8c0315-bb42-4729-f880-b934a2d9525a"
      },
      "source": [
        "# Let's Pretend We Reached Perfection. It means the prediction results is equal to all target labels in data train\n",
        "y_train_perfect_predictions = y_train_5\n",
        "\n",
        "# Let's Check the Content of Confution Matrix\n",
        "confusion_matrix(y_train_5, y_train_perfect_predictions)"
      ],
      "execution_count": null,
      "outputs": [
        {
          "output_type": "execute_result",
          "data": {
            "text/plain": [
              "array([[54579,     0],\n",
              "       [    0,  5421]])"
            ]
          },
          "metadata": {},
          "execution_count": 22
        }
      ]
    },
    {
      "cell_type": "markdown",
      "metadata": {
        "id": "Z7NcNPXz7dA0"
      },
      "source": [
        "Confusion matrix where accuracy is 100% can seen as :\n",
        "\n",
        "|  | Predicted - False (Not Five) | Predicted - True (Five) |\n",
        "| --- | ----------- | ----------- |\n",
        "| Actual - False (Not Five) | True Negative = 54579 | False Positive = 0 |\n",
        "| Actual - True (Five) | False Negative = 0 | True Positive = 5421 |"
      ]
    },
    {
      "cell_type": "markdown",
      "metadata": {
        "id": "qxFh7UZioDvm"
      },
      "source": [
        "---\n",
        "## Precision and Recall\n",
        "\n",
        "Accuracy metrics are **not suitable for imbalanced datasets**. Imbalanced datasets are datasets in which one or many categories are too small compared to other categories. \n",
        "\n",
        "In our case prediction (`5` or `not 5`), you can see 5421 images labelled `True` (`5`) and 54579 images labelled `False` (`not 5`). It means label `True` (`5`) only 9.93% from label `False` (`not 5`)."
      ]
    },
    {
      "cell_type": "code",
      "metadata": {
        "id": "-Iwa2Nc-ovdv",
        "colab": {
          "base_uri": "https://localhost:8080/"
        },
        "outputId": "41180fac-1442-4434-dcfe-f0ed08878fa6"
      },
      "source": [
        "# Calculate Precision and Recall\n",
        "\n",
        "\n",
        "# Using Confusion Matrix\n",
        "cm = confusion_matrix(y_train_5, predictions_train)\n",
        "print('Calculate Precision and Recall using Confusion Matrix')\n",
        "print('Precision : ', cm[1, 1] / (cm[0, 1] + cm[1, 1]))\n",
        "print('Recall    : ', cm[1, 1] / (cm[1, 0] + cm[1, 1]))\n",
        "print('')\n",
        "\n",
        "# Using a Module from Scikit-Learn\n",
        "from sklearn.metrics import precision_score, recall_score\n",
        "print('Calculate Precision and Recall using a Module from Scikit-Learn')\n",
        "print('Precition : ', precision_score(y_train_5, predictions_train))\n",
        "print('Recall    : ', recall_score(y_train_5, predictions_train))"
      ],
      "execution_count": null,
      "outputs": [
        {
          "output_type": "stream",
          "name": "stdout",
          "text": [
            "Calculate Precision and Recall using Confusion Matrix\n",
            "Precision :  0.6805026118876183\n",
            "Recall    :  0.8891348459693783\n",
            "\n",
            "Calculate Precision and Recall using a Module from Scikit-Learn\n",
            "Precition :  0.6805026118876183\n",
            "Recall    :  0.8891348459693783\n"
          ]
        }
      ]
    },
    {
      "cell_type": "markdown",
      "metadata": {
        "id": "MykF2c3lu-_3"
      },
      "source": [
        "Precision and Recall can be combined into a single value called the **F1-Score**. This is our score/accuracy that explains how good the model is."
      ]
    },
    {
      "cell_type": "code",
      "metadata": {
        "id": "SCl0KWTKovdw",
        "colab": {
          "base_uri": "https://localhost:8080/"
        },
        "outputId": "91231c92-06e1-4c4f-ed15-f38bebf83035"
      },
      "source": [
        "# Calculate F1-Score\n",
        "\n",
        "# Using Confusion Matrix\n",
        "cm = confusion_matrix(y_train_5, predictions_train)\n",
        "print('Calculate F1-Score using Confusion Matrix')\n",
        "print('Precision : ', cm[1, 1] / (cm[1, 1] + (cm[1, 0] + cm[0, 1]) / 2))\n",
        "print('')\n",
        "\n",
        "# Using a Module from Scikit-Learn\n",
        "from sklearn.metrics import f1_score\n",
        "print('Calculate F1-Score using Confusion Matrix')\n",
        "print('F1-Score : ', f1_score(y_train_5, predictions_train))"
      ],
      "execution_count": null,
      "outputs": [
        {
          "output_type": "stream",
          "name": "stdout",
          "text": [
            "Calculate F1-Score using Confusion Matrix\n",
            "Precision :  0.7709532949456174\n",
            "\n",
            "Calculate F1-Score using Confusion Matrix\n",
            "F1-Score :  0.7709532949456175\n"
          ]
        }
      ]
    },
    {
      "cell_type": "markdown",
      "metadata": {
        "id": "FrW6oSa2xKac"
      },
      "source": [
        "---\n",
        "## SGD Decision Function"
      ]
    },
    {
      "cell_type": "markdown",
      "metadata": {
        "id": "UL8kmfyrzw8j"
      },
      "source": [
        "Each algorithm in Machine Learning or Deep Learning, has a value that represents how confident the model classifies data into a class. This value is known as threshold.\n",
        "\n",
        "* This value has a different names for each algorithm such as Probability Score, Confidence Score, Confidence Level, etc. For SGD algorithm, this value is called the **Decision Function**.\n",
        "* This value can be a scalar value (-∞ to ∞) or it can be a probability. For SGD, it uses **scalar values** while other algorithms like Decision Tree, Random Forest, ANN, etc., use probability.\n",
        "* Threshold is used as the lower limit that will determine whether a predicted data belongs to a particular class or not. In our case,\n",
        "  * If the score (Decision Function) is **higher than threshold**, that data will classified as `True` or `5`.\n",
        "  * If the score (Decision Function) is **lower than threshold**, that data will classified as `False` or `not 5`."
      ]
    },
    {
      "cell_type": "code",
      "metadata": {
        "id": "m1zRnNjs2mTB",
        "colab": {
          "base_uri": "https://localhost:8080/"
        },
        "outputId": "d0d0f57c-3655-4e8d-f83f-5a4e819a8dcc"
      },
      "source": [
        "# Visualize a Test Data\n",
        "\n",
        "print('Visualization of a Test Data')\n",
        "plot_digit(some_digit)"
      ],
      "execution_count": null,
      "outputs": [
        {
          "output_type": "stream",
          "name": "stdout",
          "text": [
            "Visualization of a Test Data\n"
          ]
        },
        {
          "output_type": "display_data",
          "data": {
            "image/png": "[encoded data removed]",
            "text/plain": [
              "<Figure size 432x288 with 1 Axes>"
            ]
          },
          "metadata": {
            "needs_background": "light"
          }
        }
      ]
    },
    {
      "cell_type": "code",
      "metadata": {
        "id": "Opte9DVhovdw",
        "colab": {
          "base_uri": "https://localhost:8080/"
        },
        "outputId": "142e423b-1f91-4e61-c249-d87a077d25f6"
      },
      "source": [
        "# Display Decision Function\n",
        "\n",
        "y_scores = sgd_clf.decision_function([some_digit])\n",
        "print('Decision Function : ', y_scores)"
      ],
      "execution_count": null,
      "outputs": [
        {
          "output_type": "stream",
          "name": "stdout",
          "text": [
            "Decision Function :  [2164.22030239]\n"
          ]
        }
      ]
    },
    {
      "cell_type": "code",
      "metadata": {
        "id": "jVi3IrkYovdw",
        "colab": {
          "base_uri": "https://localhost:8080/"
        },
        "outputId": "044ce0b1-a043-4adf-8a65-82e335c6b8a1"
      },
      "source": [
        "# Display Threshold Effect\n",
        "\n",
        "# Effect if Threshold is 0\n",
        "threshold = 0\n",
        "y_some_digit_pred = (y_scores > threshold)\n",
        "print('Threshold = 0')\n",
        "print('y_some_digit_pred : ', y_some_digit_pred)\n",
        "print('')\n",
        "\n",
        "# Effect if Threshold is 8000\n",
        "threshold = 8000\n",
        "y_some_digit_pred = (y_scores > threshold)\n",
        "print('Threshold = 8000')\n",
        "print('y_some_digit_pred : ', y_some_digit_pred)"
      ],
      "execution_count": null,
      "outputs": [
        {
          "output_type": "stream",
          "name": "stdout",
          "text": [
            "Threshold = 0\n",
            "y_some_digit_pred :  [ True]\n",
            "\n",
            "Threshold = 8000\n",
            "y_some_digit_pred :  [False]\n"
          ]
        }
      ]
    },
    {
      "cell_type": "markdown",
      "metadata": {
        "id": "b7fTYE__7utE"
      },
      "source": [
        "---\n",
        "## Precision Recall Curve"
      ]
    },
    {
      "cell_type": "markdown",
      "metadata": {
        "id": "xcpZynVX75pg"
      },
      "source": [
        "Precision Recall Curve will show effect of different threshold against precision score and recall score."
      ]
    },
    {
      "cell_type": "code",
      "metadata": {
        "id": "Gs11mkLaovdx",
        "colab": {
          "base_uri": "https://localhost:8080/"
        },
        "outputId": "bad071b8-dcf4-42cc-bbad-6c79ce5237ce"
      },
      "source": [
        "# Get Precision Score and Recall Score from Different Threshold\n",
        "\n",
        "%%time\n",
        "\n",
        "from sklearn.model_selection import cross_val_predict\n",
        "from sklearn.metrics import precision_recall_curve\n",
        "\n",
        "# y_scores = cross_val_predict(sgd_clf, X_train, y_train_5, cv=3, method=\"decision_function\")\n",
        "y_scores = sgd_clf.decision_function(X_train)\n",
        "precisions, recalls, thresholds = precision_recall_curve(y_train_5, y_scores)"
      ],
      "execution_count": null,
      "outputs": [
        {
          "output_type": "stream",
          "name": "stdout",
          "text": [
            "CPU times: user 125 ms, sys: 17 ms, total: 142 ms\n",
            "Wall time: 95.1 ms\n"
          ]
        }
      ]
    },
    {
      "cell_type": "code",
      "metadata": {
        "id": "r_FgN-ioovdx",
        "colab": {
          "base_uri": "https://localhost:8080/"
        },
        "outputId": "56dfad9f-d313-4e65-c512-94b80b39c767"
      },
      "source": [
        "# What is the Value of the Recall Score and Threshold if Precision Score is 0.9\n",
        "\n",
        "recall_90_precision = recalls[np.argmax(precisions >= 0.90)]\n",
        "threshold_90_precision = thresholds[np.argmax(precisions >= 0.90)]\n",
        "\n",
        "print('Recall when Precision == 0.9    : ', recall_90_precision)\n",
        "print('Threshold when Precision == 0.9 : ', threshold_90_precision)\n",
        "print('')\n",
        "\n",
        "# Display Precision and Recall Curve\n",
        "def plot_precision_recall_vs_threshold(precisions, recalls, thresholds):\n",
        "    plt.plot(thresholds, precisions[:-1], \"b--\", label=\"Precision\", linewidth=2)\n",
        "    plt.plot(thresholds, recalls[:-1], \"g-\", label=\"Recall\", linewidth=2)\n",
        "    plt.legend(loc=\"center right\", fontsize=16)\n",
        "    plt.xlabel(\"Threshold\", fontsize=16)       \n",
        "    plt.grid(True)                             \n",
        "    plt.axis([-50000, 50000, 0, 1])            \n",
        "\n",
        "plt.figure(figsize=(8, 4))\n",
        "plot_precision_recall_vs_threshold(precisions, recalls, thresholds)\n",
        "plt.plot([threshold_90_precision, threshold_90_precision], [0., 0.9], \"r:\")\n",
        "plt.plot([-50000, threshold_90_precision], [0.9, 0.9], \"r:\")\n",
        "plt.plot([-50000, threshold_90_precision], [recall_90_precision, recall_90_precision], \"r:\")\n",
        "plt.plot([threshold_90_precision], [0.9], \"ro\")\n",
        "plt.plot([threshold_90_precision], [recall_90_precision], \"ro\")\n",
        "save_fig(\"precision_recall_vs_threshold_plot\")\n",
        "plt.show()"
      ],
      "execution_count": null,
      "outputs": [
        {
          "output_type": "stream",
          "name": "stdout",
          "text": [
            "Recall when Precision == 0.9    :  0.7061427780852241\n",
            "Threshold when Precision == 0.9 :  2123.562046995017\n",
            "\n",
            "Saving figure precision_recall_vs_threshold_plot\n"
          ]
        },
        {
          "output_type": "display_data",
          "data": {
            "image/png": "[encoded data removed]",
            "text/plain": [
              "<Figure size 576x288 with 1 Axes>"
            ]
          },
          "metadata": {
            "needs_background": "light"
          }
        }
      ]
    },
    {
      "cell_type": "markdown",
      "metadata": {
        "id": "HPexZ-BZ8aKc"
      },
      "source": [
        "In the above plot, the vertical red-dot-line shows threshold that has 0.9 precision. As we expected, when the precision score is high, recall score is low. "
      ]
    },
    {
      "cell_type": "code",
      "metadata": {
        "id": "5VHdS1ARovdy",
        "colab": {
          "base_uri": "https://localhost:8080/"
        },
        "outputId": "9c7f015b-e3da-42fc-9d71-c98c597ca8c7"
      },
      "source": [
        "# Merge Precision Score and Recall Score into One Graphic\n",
        "\n",
        "def plot_precision_vs_recall(precisions, recalls):\n",
        "    plt.plot(recalls, precisions, \"b-\", linewidth=2)\n",
        "    plt.xlabel(\"Recall\", fontsize=16)\n",
        "    plt.ylabel(\"Precision\", fontsize=16)\n",
        "    plt.axis([0, 1, 0, 1])\n",
        "    plt.grid(True)\n",
        "\n",
        "plt.figure(figsize=(8, 6))\n",
        "plot_precision_vs_recall(precisions, recalls)\n",
        "plt.plot([recall_90_precision, recall_90_precision], [0., 0.9], \"r:\")\n",
        "plt.plot([0.0, recall_90_precision], [0.9, 0.9], \"r:\")\n",
        "plt.plot([recall_90_precision], [0.9], \"ro\")\n",
        "save_fig(\"precision_vs_recall_plot\")\n",
        "plt.show()"
      ],
      "execution_count": null,
      "outputs": [
        {
          "output_type": "stream",
          "name": "stdout",
          "text": [
            "Saving figure precision_vs_recall_plot\n"
          ]
        },
        {
          "output_type": "display_data",
          "data": {
            "image/png": "[encoded data removed]",
            "text/plain": [
              "<Figure size 576x432 with 1 Axes>"
            ]
          },
          "metadata": {
            "needs_background": "light"
          }
        }
      ]
    },
    {
      "cell_type": "markdown",
      "metadata": {
        "id": "duJu5xyq-ORv"
      },
      "source": [
        "---\n",
        "## Get Specific Threshold"
      ]
    },
    {
      "cell_type": "markdown",
      "metadata": {
        "id": "WEJtv__--eo3"
      },
      "source": [
        "What if we want to know the value of Decision Function that has 80% (0.80) precision score? "
      ]
    },
    {
      "cell_type": "code",
      "metadata": {
        "id": "xaIW_BCFovdy",
        "colab": {
          "base_uri": "https://localhost:8080/"
        },
        "outputId": "798ecabf-f7e7-4cd1-c455-bb55d19e5d45"
      },
      "source": [
        "# Get the Threshold\n",
        "\n",
        "threshold_80_precision = thresholds[np.argmax(precisions >= 0.80)]\n",
        "print('Threshold when Precision = 0.90 : ', threshold_80_precision)"
      ],
      "execution_count": null,
      "outputs": [
        {
          "output_type": "stream",
          "name": "stdout",
          "text": [
            "Threshold when Precision = 0.90 :  941.8340516168151\n"
          ]
        }
      ]
    },
    {
      "cell_type": "code",
      "metadata": {
        "id": "QybVtQmTovdz",
        "colab": {
          "base_uri": "https://localhost:8080/"
        },
        "outputId": "dd93b5c1-9dce-48eb-8b8a-1301b1d0c59c"
      },
      "source": [
        "# Let's Check Our New Threshold\n",
        "\n",
        "y_train_pred_80 = (y_scores >= threshold_80_precision)\n",
        "precision_score_sgd = precision_score(y_train_5, y_train_pred_80)\n",
        "recall_score_sgd = recall_score(y_train_5, y_train_pred_80)\n",
        "print('Precision Score : ', precision_score_sgd)\n",
        "print('Recall Score    : ', recall_score_sgd)"
      ],
      "execution_count": null,
      "outputs": [
        {
          "output_type": "stream",
          "name": "stdout",
          "text": [
            "Precision Score :  0.8000717875089735\n",
            "Recall Score    :  0.8223574986164914\n"
          ]
        }
      ]
    },
    {
      "cell_type": "markdown",
      "metadata": {
        "id": "zeADY5Ohovdz"
      },
      "source": [
        "---\n",
        "## ROC curves"
      ]
    },
    {
      "cell_type": "markdown",
      "metadata": {
        "id": "ANrYU1VcAz9n"
      },
      "source": [
        "ROC curve is used for visual comparison of classification models which shows the trade-off between the **True Positive Rate (TPR)** and the **False Positive Rate (FPR)**. \n",
        "\n",
        "**The area under the ROC curve is a measure of the accuracy of the model.** When a model is closer to the diagonal, it is less accurate and the model with perfect accuracy will have an area of 1.0"
      ]
    },
    {
      "cell_type": "code",
      "metadata": {
        "id": "5FfF00uLovdz"
      },
      "source": [
        "# Get FPR, TPR, and Threshold\n",
        "\n",
        "from sklearn.metrics import roc_curve\n",
        "\n",
        "fpr, tpr, thresholds = roc_curve(y_train_5, y_scores)"
      ],
      "execution_count": null,
      "outputs": []
    },
    {
      "cell_type": "code",
      "metadata": {
        "id": "GKZ4qmKbovdz",
        "colab": {
          "base_uri": "https://localhost:8080/"
        },
        "outputId": "24a6759a-4118-45e2-984c-6127e0b84ce5"
      },
      "source": [
        "# Display ROC Curve\n",
        "def plot_roc_curve(fpr, tpr, label=None):\n",
        "    plt.plot(fpr, tpr, linewidth=2, label=label)\n",
        "    plt.plot([0, 1], [0, 1], 'k--') # dashed diagonal\n",
        "    plt.axis([0, 1, 0, 1])                                    \n",
        "    plt.xlabel('False Positive Rate (Fall-Out)', fontsize=16) \n",
        "    plt.ylabel('True Positive Rate (Recall)', fontsize=16)    \n",
        "    plt.grid(True)                                            \n",
        "\n",
        "plt.figure(figsize=(8, 6))                                    \n",
        "plot_roc_curve(fpr, tpr)\n",
        "fpr_90 = fpr[np.argmax(tpr >= recall_90_precision)]           \n",
        "plt.plot([fpr_90, fpr_90], [0., recall_90_precision], \"r:\")   \n",
        "plt.plot([0.0, fpr_90], [recall_90_precision, recall_90_precision], \"r:\")\n",
        "plt.plot([fpr_90], [recall_90_precision], \"ro\")               \n",
        "save_fig(\"roc_curve_plot\")                                    \n",
        "plt.show()"
      ],
      "execution_count": null,
      "outputs": [
        {
          "output_type": "stream",
          "name": "stdout",
          "text": [
            "Saving figure roc_curve_plot\n"
          ]
        },
        {
          "output_type": "display_data",
          "data": {
            "image/png": "[encoded data removed]",
            "text/plain": [
              "<Figure size 576x432 with 1 Axes>"
            ]
          },
          "metadata": {
            "needs_background": "light"
          }
        }
      ]
    },
    {
      "cell_type": "markdown",
      "metadata": {
        "id": "mmOk47s5iprD"
      },
      "source": [
        "Notes : In the previous section, we get that if precision = 90%, then recall = 70.61%. The red-dot in above graph is value of recall when precision is 90%."
      ]
    },
    {
      "cell_type": "code",
      "metadata": {
        "id": "rSdyZtGkovdz",
        "colab": {
          "base_uri": "https://localhost:8080/"
        },
        "outputId": "08cc0dc2-44e5-4d85-faaf-9065f322a957"
      },
      "source": [
        "# Get ROC-AUC Score\n",
        "\n",
        "from sklearn.metrics import roc_auc_score\n",
        "\n",
        "roc_auc_score_sgd = roc_auc_score(y_train_5, y_scores)\n",
        "print(roc_auc_score_sgd)"
      ],
      "execution_count": null,
      "outputs": [
        {
          "output_type": "stream",
          "name": "stdout",
          "text": [
            "0.9709618248430906\n"
          ]
        }
      ]
    },
    {
      "cell_type": "markdown",
      "metadata": {
        "id": "OnGpon5gjMtA"
      },
      "source": [
        "With SGD, we get that ROC-AUC Score is 0.971 or 97.1%."
      ]
    },
    {
      "cell_type": "markdown",
      "metadata": {
        "id": "z3XCxwqPFM2X"
      },
      "source": [
        "---\n",
        "Let's check ROC curve and ROC-AUC score using different algorithm. Let's using Random Forest.\n",
        "\n",
        "**Note**: we set `n_estimators=100` to be future-proof since this will be the default value in Scikit-Learn 0.22."
      ]
    },
    {
      "cell_type": "code",
      "metadata": {
        "id": "l8KTssTzovd0",
        "colab": {
          "base_uri": "https://localhost:8080/"
        },
        "outputId": "1080e8b2-baa5-4504-f5f3-42bd22c7b0ad"
      },
      "source": [
        "%%time\n",
        "# Train Model using Random Forest\n",
        "from sklearn.ensemble import RandomForestClassifier\n",
        "\n",
        "forest_clf = RandomForestClassifier(n_estimators=100, random_state=42)\n",
        "forest_clf.fit(X_train, y_train_5)\n",
        "y_probas_forest = forest_clf.predict_proba(X_train)\n",
        "\n",
        "# Get FPR, TPR, and Threshold\n",
        "y_scores_forest = y_probas_forest[:, 1] # score = proba of positive class\n",
        "fpr_forest, tpr_forest, thresholds_forest = roc_curve(y_train_5, y_scores_forest)\n",
        "\n",
        "# Display ROC Curve\n",
        "recall_for_forest = tpr_forest[np.argmax(fpr_forest >= fpr_90)]\n",
        "\n",
        "plt.figure(figsize=(8, 6))\n",
        "plt.plot(fpr, tpr, \"b:\", linewidth=2, label=\"SGD\")\n",
        "plot_roc_curve(fpr_forest, tpr_forest, \"Random Forest\")\n",
        "plt.plot([fpr_90, fpr_90], [0., recall_90_precision], \"r:\")\n",
        "plt.plot([0.0, fpr_90], [recall_90_precision, recall_90_precision], \"r:\")\n",
        "plt.plot([fpr_90], [recall_90_precision], \"ro\")\n",
        "plt.plot([fpr_90, fpr_90], [0., recall_for_forest], \"r:\")\n",
        "plt.plot([fpr_90], [recall_for_forest], \"ro\")\n",
        "plt.grid(True)\n",
        "plt.legend(loc=\"lower right\", fontsize=16)\n",
        "save_fig(\"roc_curve_comparison_plot\")\n",
        "plt.show()"
      ],
      "execution_count": null,
      "outputs": [
        {
          "output_type": "stream",
          "name": "stdout",
          "text": [
            "Saving figure roc_curve_comparison_plot\n"
          ]
        },
        {
          "output_type": "display_data",
          "data": {
            "image/png": "[encoded data removed]",
            "text/plain": [
              "<Figure size 576x432 with 1 Axes>"
            ]
          },
          "metadata": {
            "needs_background": "light"
          }
        },
        {
          "output_type": "stream",
          "name": "stdout",
          "text": [
            "CPU times: user 38.3 s, sys: 190 ms, total: 38.5 s\n",
            "Wall time: 38.3 s\n"
          ]
        }
      ]
    },
    {
      "cell_type": "code",
      "metadata": {
        "id": "AlbTnqlTovd0",
        "colab": {
          "base_uri": "https://localhost:8080/"
        },
        "outputId": "88bb1a5f-48cf-4b51-ee65-6d1c0c0b1c2d"
      },
      "source": [
        "%%time\n",
        "# Get ROC-AUC Score, Precision Score, and Recall Score\n",
        "\n",
        "roc_auc_score_forest = roc_auc_score(y_train_5, y_scores_forest)\n",
        "\n",
        "y_train_pred_forest = forest_clf.predict(X_train)\n",
        "precision_score_forest = precision_score(y_train_5, y_train_pred_forest)\n",
        "recall_score_forest = recall_score(y_train_5, y_train_pred_forest)"
      ],
      "execution_count": null,
      "outputs": [
        {
          "output_type": "stream",
          "name": "stdout",
          "text": [
            "CPU times: user 1.68 s, sys: 9.97 ms, total: 1.69 s\n",
            "Wall time: 1.69 s\n"
          ]
        }
      ]
    },
    {
      "cell_type": "code",
      "metadata": {
        "id": "Ep21ASSKGEK6",
        "colab": {
          "base_uri": "https://localhost:8080/"
        },
        "outputId": "60f45321-4cbe-4963-d4a5-f24165944b2a"
      },
      "source": [
        "print('SGD')\n",
        "print('Precision Score : ', precision_score_sgd)\n",
        "print('Recall Score    : ', recall_score_sgd)\n",
        "print('ROC-AUC Score   : ', roc_auc_score_sgd) \n",
        "print('')\n",
        "\n",
        "print('Random Forest')\n",
        "print('Precision Score : ', precision_score_forest)\n",
        "print('Recall Score    : ', recall_score_forest)\n",
        "print('ROC-AUC Score   : ', roc_auc_score_forest) "
      ],
      "execution_count": null,
      "outputs": [
        {
          "output_type": "stream",
          "name": "stdout",
          "text": [
            "SGD\n",
            "Precision Score :  0.8000717875089735\n",
            "Recall Score    :  0.8223574986164914\n",
            "ROC-AUC Score   :  0.9709618248430906\n",
            "\n",
            "Random Forest\n",
            "Precision Score :  1.0\n",
            "Recall Score    :  1.0\n",
            "ROC-AUC Score   :  1.0\n"
          ]
        }
      ]
    },
    {
      "cell_type": "markdown",
      "metadata": {
        "id": "rOVwQk90ovd1"
      },
      "source": [
        "# D. Multiclass Classification\n",
        "\n",
        "In the previous section, we have created a model that can classify whether an image is a number 5 or not. In this section, we will see how to create a model that can classify all classes of numbers."
      ]
    },
    {
      "cell_type": "markdown",
      "metadata": {
        "id": "LD6LNWImicoN"
      },
      "source": [
        "## SVM (Support Vector Machine)"
      ]
    },
    {
      "cell_type": "code",
      "metadata": {
        "id": "rXhXUavMovd1",
        "colab": {
          "base_uri": "https://localhost:8080/",
          "height": 299
        },
        "outputId": "fa7141e3-dce2-4a80-8508-af1becd2043b"
      },
      "source": [
        "# Create A Model with Support Vector Machine (SVM)\n",
        "%%time\n",
        "from sklearn.svm import SVC\n",
        "\n",
        "# Model Initialization\n",
        "svm_clf = SVC(gamma=\"auto\", random_state=42)\n",
        "svm_clf.fit(X_train[:1000], y_train[:1000]) # y_train, not y_train_5\n",
        "\n",
        "# Predict A Data\n",
        "result_svm = svm_clf.predict([some_digit])\n",
        "\n",
        "# Display Result of Prediction\n",
        "plot_digit(some_digit)\n",
        "print('Result SVM : ', result_svm)"
      ],
      "execution_count": null,
      "outputs": [
        {
          "output_type": "stream",
          "name": "stdout",
          "text": [
            "Result SVM :  [5]\n",
            "CPU times: user 2.32 s, sys: 9.74 ms, total: 2.33 s\n",
            "Wall time: 2.34 s\n"
          ]
        },
        {
          "output_type": "display_data",
          "data": {
            "image/png": "[encoded data removed]",
            "text/plain": [
              "<Figure size 432x288 with 1 Axes>"
            ]
          },
          "metadata": {
            "needs_background": "light"
          }
        }
      ]
    },
    {
      "cell_type": "code",
      "metadata": {
        "id": "A2hVF_xuovd1",
        "colab": {
          "base_uri": "https://localhost:8080/"
        },
        "outputId": "ed834864-22d9-4242-adc9-3dd39843de62"
      },
      "source": [
        "# Let's See The Decision Function\n",
        "\n",
        "some_digit_scores = svm_clf.decision_function([some_digit])\n",
        "some_digit_scores"
      ],
      "execution_count": null,
      "outputs": [
        {
          "output_type": "execute_result",
          "data": {
            "text/plain": [
              "array([[ 2.81585438,  7.09167958,  3.82972099,  0.79365551,  5.8885703 ,\n",
              "         9.29718395,  1.79862509,  8.10392157, -0.228207  ,  4.83753243]])"
            ]
          },
          "metadata": {},
          "execution_count": 40
        }
      ]
    },
    {
      "cell_type": "code",
      "metadata": {
        "id": "8vnPgvRjovd1",
        "colab": {
          "base_uri": "https://localhost:8080/"
        },
        "outputId": "c19a8347-c843-4f52-febd-af72000e536c"
      },
      "source": [
        "# Get All Classes\n",
        "\n",
        "svm_clf.classes_"
      ],
      "execution_count": null,
      "outputs": [
        {
          "output_type": "execute_result",
          "data": {
            "text/plain": [
              "array([0, 1, 2, 3, 4, 5, 6, 7, 8, 9], dtype=uint8)"
            ]
          },
          "metadata": {},
          "execution_count": 41
        }
      ]
    },
    {
      "cell_type": "code",
      "metadata": {
        "id": "t9Hn5WIeovd1",
        "colab": {
          "base_uri": "https://localhost:8080/"
        },
        "outputId": "2811f74a-d45e-442b-8036-622af4dce516"
      },
      "source": [
        "# Find Predicted Class by using Maximum Value of Decision Function\n",
        "\n",
        "np.argmax(some_digit_scores)"
      ],
      "execution_count": null,
      "outputs": [
        {
          "output_type": "execute_result",
          "data": {
            "text/plain": [
              "5"
            ]
          },
          "metadata": {},
          "execution_count": 42
        }
      ]
    },
    {
      "cell_type": "markdown",
      "metadata": {
        "id": "BSO8YGd-KQwd"
      },
      "source": [
        "---\n",
        "## SGD Classifier in Multiclass Classification\n",
        "\n",
        "Let's try this multiclass problem with our previous algorithm, Stochastic Gradient Descent. "
      ]
    },
    {
      "cell_type": "code",
      "metadata": {
        "id": "IrJsNCzbovd2",
        "colab": {
          "base_uri": "https://localhost:8080/",
          "height": 299
        },
        "outputId": "71323a9e-ed6f-42a6-986a-f83bba2c5675"
      },
      "source": [
        "# Create A Model with SGD\n",
        "%%time \n",
        "from sklearn.linear_model import SGDClassifier\n",
        "\n",
        "# Model Initialization\n",
        "sgd_clf_multiclass = SGDClassifier(random_state=42)\n",
        "sgd_clf_multiclass.fit(X_train, y_train)\n",
        "\n",
        "# Predict A Data\n",
        "result_sgd = sgd_clf_multiclass.predict([some_digit])\n",
        "\n",
        "# Display Result of Prediction\n",
        "plot_digit(some_digit)\n",
        "print('Result SGD : ', result_sgd)"
      ],
      "execution_count": null,
      "outputs": [
        {
          "output_type": "stream",
          "name": "stdout",
          "text": [
            "Result SGD :  [3]\n",
            "CPU times: user 3min 13s, sys: 207 ms, total: 3min 14s\n",
            "Wall time: 3min 13s\n"
          ]
        },
        {
          "output_type": "display_data",
          "data": {
            "image/png": "[encoded data removed]",
            "text/plain": [
              "<Figure size 432x288 with 1 Axes>"
            ]
          },
          "metadata": {
            "needs_background": "light"
          }
        }
      ]
    },
    {
      "cell_type": "code",
      "metadata": {
        "id": "9VoQK7Ijovd2",
        "colab": {
          "base_uri": "https://localhost:8080/"
        },
        "outputId": "1a3286ff-47d4-49ca-c860-e736245be9a3"
      },
      "source": [
        "# Let's See The Decision Function\n",
        "\n",
        "some_digit_score_sgd = sgd_clf_multiclass.decision_function([some_digit])\n",
        "print('Score     : ', some_digit_score_sgd.T)\n",
        "print('Max Score : ', np.max(some_digit_score_sgd))\n",
        "print('Class     : ', sgd_clf_multiclass.predict([some_digit]))"
      ],
      "execution_count": null,
      "outputs": [
        {
          "output_type": "stream",
          "name": "stdout",
          "text": [
            "Score     :  [[-31893.03095419]\n",
            " [-34419.69069632]\n",
            " [ -9530.63950739]\n",
            " [  1823.73154031]\n",
            " [-22320.14822878]\n",
            " [ -1385.80478895]\n",
            " [-26188.91070951]\n",
            " [-16147.51323997]\n",
            " [ -4604.35491274]\n",
            " [-12050.767298  ]]\n",
            "Max Score :  1823.7315403079076\n",
            "Class     :  [3]\n"
          ]
        }
      ]
    },
    {
      "cell_type": "code",
      "metadata": {
        "colab": {
          "base_uri": "https://localhost:8080/"
        },
        "id": "safDxQ1nn0Or",
        "outputId": "32d282aa-f591-407a-e473-9f353c78d3fc"
      },
      "source": [
        "# Calculate Precision, Recall, and F1 Score\n",
        "from sklearn.metrics import classification_report\n",
        "\n",
        "predictions_sgd_multiclass = sgd_clf_multiclass.predict(X_train)\n",
        "report = classification_report(y_train, \n",
        "                               predictions_sgd_multiclass)\n",
        "\n",
        "print(report)"
      ],
      "execution_count": null,
      "outputs": [
        {
          "output_type": "stream",
          "name": "stdout",
          "text": [
            "              precision    recall  f1-score   support\n",
            "\n",
            "           0       0.99      0.91      0.94      5923\n",
            "           1       0.98      0.96      0.97      6742\n",
            "           2       0.93      0.82      0.88      5958\n",
            "           3       0.78      0.92      0.85      6131\n",
            "           4       0.96      0.80      0.87      5842\n",
            "           5       0.86      0.80      0.83      5421\n",
            "           6       0.97      0.91      0.94      5918\n",
            "           7       0.95      0.91      0.92      6265\n",
            "           8       0.67      0.90      0.77      5851\n",
            "           9       0.83      0.87      0.85      5949\n",
            "\n",
            "    accuracy                           0.88     60000\n",
            "   macro avg       0.89      0.88      0.88     60000\n",
            "weighted avg       0.89      0.88      0.88     60000\n",
            "\n"
          ]
        }
      ]
    },
    {
      "cell_type": "markdown",
      "metadata": {
        "id": "CVg-B8Deovd3"
      },
      "source": [
        "# E. Multilabel classification"
      ]
    },
    {
      "cell_type": "markdown",
      "metadata": {
        "id": "GaTbrcIukGxw"
      },
      "source": [
        "Let's create model to handle multilabel. Suppose we will do a classification where we will predict whether :\n",
        "* An image is an image with **more than 7**, and \n",
        "* An image is an **odd number** or not"
      ]
    },
    {
      "cell_type": "code",
      "metadata": {
        "id": "uJy9cO1dkt6b",
        "colab": {
          "base_uri": "https://localhost:8080/",
          "height": 281
        },
        "outputId": "f8a39a5d-b8b9-4e8f-88ee-f9a68531cd2d"
      },
      "source": [
        "# Create Dataset of Multilabel\n",
        "\n",
        "y_train_large = (y_train >= 7)\n",
        "y_train_odd = (y_train % 2 == 1)\n",
        "y_multilabel = np.c_[y_train_large, y_train_odd]\n",
        "\n",
        "# Visualization of the First 10 Images\n",
        "plt.figure(figsize=(9,9))\n",
        "example_images = X[:10]\n",
        "plot_digits(example_images, images_per_row=10)\n",
        "save_fig(\"more_digits_plot\")\n",
        "plt.show()\n",
        "\n",
        "# Display Target Labels for 10 First Images\n",
        "print(y_multilabel[:10])"
      ],
      "execution_count": null,
      "outputs": [
        {
          "output_type": "stream",
          "name": "stdout",
          "text": [
            "Saving figure more_digits_plot\n"
          ]
        },
        {
          "output_type": "display_data",
          "data": {
            "image/png": "[encoded data removed]",
            "text/plain": [
              "<Figure size 648x648 with 1 Axes>"
            ]
          },
          "metadata": {
            "needs_background": "light"
          }
        },
        {
          "output_type": "stream",
          "name": "stdout",
          "text": [
            "[[False  True]\n",
            " [False False]\n",
            " [False False]\n",
            " [False  True]\n",
            " [ True  True]\n",
            " [False False]\n",
            " [False  True]\n",
            " [False  True]\n",
            " [False  True]\n",
            " [False False]]\n"
          ]
        }
      ]
    },
    {
      "cell_type": "code",
      "metadata": {
        "id": "4yD4kfIXovd3",
        "colab": {
          "base_uri": "https://localhost:8080/"
        },
        "outputId": "70044dfe-6893-4247-8f01-2b2dc98c3a5b"
      },
      "source": [
        "# Create A Model with Multilabel\n",
        "%%time\n",
        "from sklearn.neighbors import KNeighborsClassifier\n",
        "\n",
        "knn_clf = KNeighborsClassifier()\n",
        "knn_clf.fit(X_train, y_multilabel)"
      ],
      "execution_count": null,
      "outputs": [
        {
          "output_type": "stream",
          "name": "stdout",
          "text": [
            "CPU times: user 20.5 s, sys: 94.2 ms, total: 20.6 s\n",
            "Wall time: 20.5 s\n"
          ]
        }
      ]
    },
    {
      "cell_type": "code",
      "metadata": {
        "id": "mOtXrgK0ovd3",
        "colab": {
          "base_uri": "https://localhost:8080/",
          "height": 265
        },
        "outputId": "456ca324-6594-49d5-cee3-53701a9518af"
      },
      "source": [
        "# Predict A Data\n",
        "result_knn = knn_clf.predict([some_digit])\n",
        "\n",
        "# Display Result of Prediction\n",
        "plot_digit(some_digit)\n",
        "print('Result SGD : ', result_knn)"
      ],
      "execution_count": null,
      "outputs": [
        {
          "output_type": "stream",
          "name": "stdout",
          "text": [
            "Result SGD :  [[False  True]]\n"
          ]
        },
        {
          "output_type": "display_data",
          "data": {
            "image/png": "[encoded data removed]",
            "text/plain": [
              "<Figure size 432x288 with 1 Axes>"
            ]
          },
          "metadata": {
            "needs_background": "light"
          }
        }
      ]
    }
  ]
}