{
  "nbformat": 4,
  "nbformat_minor": 0,
  "metadata": {
    "kernelspec": {
      "display_name": "Python 3",
      "language": "python",
      "name": "python3"
    },
    "language_info": {
      "codemirror_mode": {
        "name": "ipython",
        "version": 3
      },
      "file_extension": ".py",
      "mimetype": "text/x-python",
      "name": "python",
      "nbconvert_exporter": "python",
      "pygments_lexer": "ipython3",
      "version": "3.7.9"
    },
    "nav_menu": {},
    "toc": {
      "navigate_menu": true,
      "number_sections": true,
      "sideBar": true,
      "threshold": 6,
      "toc_cell": false,
      "toc_section_display": "block",
      "toc_window_display": false
    },
    "colab": {
      "name": "P1W1D2PM.ipynb",
      "provenance": [],
      "collapsed_sections": []
    }
  },
  "cells": [
    {
      "cell_type": "markdown",
      "metadata": {
        "id": "_891n-yUXPwv"
      },
      "source": [
        "# Week 1: Day 2 PM // Training Concepts"
      ]
    },
    {
      "cell_type": "markdown",
      "metadata": {
        "id": "-dO0sTfwXPww"
      },
      "source": [
        "## Setup"
      ]
    },
    {
      "cell_type": "markdown",
      "metadata": {
        "id": "xKWV2QniXPwx"
      },
      "source": [
        "First, let's import a few common modules, ensure MatplotLib plots figures inline and prepare a function to save the figures. We also check that Python 3.5 or later is installed (although Python 2.x may work, it is deprecated so we strongly recommend you use Python 3 instead), as well as Scikit-Learn ≥0.20."
      ]
    },
    {
      "cell_type": "code",
      "metadata": {
        "id": "JUuHH0osXPwx"
      },
      "source": [
        "# Python ≥3.5 is required\n",
        "import sys\n",
        "assert sys.version_info >= (3, 5)\n",
        "\n",
        "# Scikit-Learn ≥0.20 is required\n",
        "import sklearn\n",
        "assert sklearn.__version__ >= \"0.20\"\n",
        "\n",
        "# Common imports\n",
        "import numpy as np\n",
        "import os\n",
        "\n",
        "# to make this notebook's output stable across runs\n",
        "np.random.seed(42)\n",
        "\n",
        "# To plot pretty figures\n",
        "%matplotlib inline\n",
        "import matplotlib as mpl\n",
        "import matplotlib.pyplot as plt\n",
        "mpl.rc('axes', labelsize=14)\n",
        "mpl.rc('xtick', labelsize=12)\n",
        "mpl.rc('ytick', labelsize=12)\n",
        "\n",
        "# Where to save the figures\n",
        "PROJECT_ROOT_DIR = \".\"\n",
        "CHAPTER_ID = \"training_linear_models\"\n",
        "IMAGES_PATH = os.path.join(PROJECT_ROOT_DIR, \"images\", CHAPTER_ID)\n",
        "os.makedirs(IMAGES_PATH, exist_ok=True)\n",
        "\n",
        "def save_fig(fig_id, tight_layout=True, fig_extension=\"png\", resolution=300):\n",
        "    path = os.path.join(IMAGES_PATH, fig_id + \".\" + fig_extension)\n",
        "    print(\"Saving figure\", fig_id)\n",
        "    if tight_layout:\n",
        "        plt.tight_layout()\n",
        "    plt.savefig(path, format=fig_extension, dpi=resolution)"
      ],
      "execution_count": null,
      "outputs": []
    },
    {
      "cell_type": "markdown",
      "metadata": {
        "id": "Txngo6zBXPwy"
      },
      "source": [
        "## Linear regression using the Normal Equation"
      ]
    },
    {
      "cell_type": "code",
      "metadata": {
        "id": "Ypmll7HgXPwz",
        "colab": {
          "base_uri": "https://localhost:8080/"
        },
        "outputId": "2d792017-5dfa-4eff-e69d-a3372d4b79c1"
      },
      "source": [
        "# Let's Create Linear Data \n",
        "\n",
        "import numpy as np\n",
        "\n",
        "X = 2 * np.random.rand(100, 1)\n",
        "y = 4 + 3 * X + np.random.randn(100, 1)\n",
        "\n",
        "print('X :', X.T)\n",
        "print('y : ', y.T)"
      ],
      "execution_count": null,
      "outputs": [
        {
          "output_type": "stream",
          "name": "stdout",
          "text": [
            "X : [[0.74908024 1.90142861 1.46398788 1.19731697 0.31203728 0.31198904\n",
            "  0.11616722 1.73235229 1.20223002 1.41614516 0.04116899 1.9398197\n",
            "  1.66488528 0.42467822 0.36364993 0.36680902 0.60848449 1.04951286\n",
            "  0.86389004 0.58245828 1.22370579 0.27898772 0.5842893  0.73272369\n",
            "  0.91213997 1.57035192 0.39934756 1.02846888 1.18482914 0.09290083\n",
            "  1.2150897  0.34104825 0.13010319 1.89777107 1.93126407 1.6167947\n",
            "  0.60922754 0.19534423 1.36846605 0.88030499 0.24407647 0.99035382\n",
            "  0.06877704 1.8186408  0.51755996 1.32504457 0.62342215 1.04013604\n",
            "  1.09342056 0.36970891 1.93916926 1.55026565 1.87899788 1.7896547\n",
            "  1.19579996 1.84374847 0.176985   0.39196572 0.09045458 0.65066066\n",
            "  0.77735458 0.54269806 1.65747502 0.71350665 0.56186902 1.08539217\n",
            "  0.28184845 1.60439396 0.14910129 1.97377387 1.54448954 0.39743136\n",
            "  0.01104423 1.63092286 1.41371469 1.45801434 1.54254069 0.1480893\n",
            "  0.71693146 0.23173812 1.72620685 1.24659625 0.66179605 0.1271167\n",
            "  0.62196464 0.65036664 1.45921236 1.27511494 1.77442549 0.94442985\n",
            "  0.23918849 1.42648957 1.5215701  1.1225544  1.54193436 0.98759119\n",
            "  1.04546566 0.85508204 0.05083825 0.21578285]]\n",
            "y :  [[ 6.33428778  9.40527849  8.48372443  5.60438199  4.71643995  5.29307969\n",
            "   5.82639572  8.67878666  6.79819647  7.74667842  5.03890908 10.14821022\n",
            "   8.46489564  5.7873021   5.18802735  6.06907205  5.12340036  6.82087644\n",
            "   6.19956196  4.28385989  7.96723765  5.09801844  5.75798135  5.96358393\n",
            "   5.32104916  8.29041045  4.85532818  6.28312936  7.3932017   4.68275333\n",
            "   9.53145501  5.19772255  4.64785995  9.61886731  7.87502098  8.82387021\n",
            "   5.88791282  7.0492748   7.91303719  6.9424623   4.69751764  5.80238342\n",
            "   5.34915394 10.20785545  6.34371184  7.06574625  7.27306077  5.71855706\n",
            "   7.86711877  7.29958236  8.82697144  8.08449921  9.73664501  8.86548845\n",
            "   6.03673644  9.59980838  3.4686513   5.64948961  3.3519395   7.50191639\n",
            "   5.54881045  5.30603267  9.78594227  4.90965564  5.91306699  8.56331925\n",
            "   3.23806212  8.99781574  4.70718666 10.70314449  7.3965179   3.87183748\n",
            "   4.55507427  9.18975324  8.49163691  8.72049122  7.94759736  4.67652161\n",
            "   6.44386684  3.98086294 11.04439507  8.21362168  4.79408465  5.03790371\n",
            "   4.89121226  6.73818454  9.53623265  7.00466251 10.28665258  7.24607048\n",
            "   5.53962564 10.17626171  8.31932218  6.61392702  7.73628865  6.14696329\n",
            "   7.05929527  6.90639808  4.42920556  5.47453181]]\n"
          ]
        }
      ]
    },
    {
      "cell_type": "code",
      "metadata": {
        "id": "CeGnXs-uXPwz",
        "colab": {
          "base_uri": "https://localhost:8080/",
          "height": 314
        },
        "outputId": "21b009ba-34ec-45ea-943c-489956cd0c8b"
      },
      "source": [
        "# Visualization of Linear Data\n",
        "\n",
        "plt.plot(X, y, \"b.\")\n",
        "plt.xlabel(\"$x_1$\", fontsize=18)\n",
        "plt.ylabel(\"$y$\", rotation=0, fontsize=18)\n",
        "plt.axis([0, 2, 0, 15])\n",
        "save_fig(\"generated_data_plot\")\n",
        "plt.show()"
      ],
      "execution_count": null,
      "outputs": [
        {
          "output_type": "stream",
          "name": "stdout",
          "text": [
            "Saving figure generated_data_plot\n"
          ]
        },
        {
          "output_type": "display_data",
          "data": {
            "image/png": "[encoded data removed]",
            "text/plain": [
              "<Figure size 432x288 with 1 Axes>"
            ]
          },
          "metadata": {
            "needs_background": "light"
          }
        }
      ]
    },
    {
      "cell_type": "markdown",
      "metadata": {
        "id": "XwL0r75Q4lGO"
      },
      "source": [
        "We will going to solve the linear data above using Linear Regression. Remember, that Linear Regression has formula : \n",
        "\n",
        "```\n",
        "y = a + bx  \n",
        "or  \n",
        "y = a*1 + bx\n",
        "or\n",
        "y = ax0 + bx\n",
        "```\n",
        "where x0 in the above formula is equal to `1`."
      ]
    },
    {
      "cell_type": "code",
      "metadata": {
        "id": "AXyEGzaFXPw1",
        "colab": {
          "base_uri": "https://localhost:8080/"
        },
        "outputId": "8e755a2b-ed8b-47f2-954b-c363ccf100c9"
      },
      "source": [
        "# Let's Add x0=1 into X\n",
        "\n",
        "X_b = np.c_[np.ones((100, 1)), X]  # add x0 = 1 to each instance\n",
        "print('X_b : ', X_b.T)"
      ],
      "execution_count": null,
      "outputs": [
        {
          "output_type": "stream",
          "name": "stdout",
          "text": [
            "X_b :  [[1.         1.         1.         1.         1.         1.\n",
            "  1.         1.         1.         1.         1.         1.\n",
            "  1.         1.         1.         1.         1.         1.\n",
            "  1.         1.         1.         1.         1.         1.\n",
            "  1.         1.         1.         1.         1.         1.\n",
            "  1.         1.         1.         1.         1.         1.\n",
            "  1.         1.         1.         1.         1.         1.\n",
            "  1.         1.         1.         1.         1.         1.\n",
            "  1.         1.         1.         1.         1.         1.\n",
            "  1.         1.         1.         1.         1.         1.\n",
            "  1.         1.         1.         1.         1.         1.\n",
            "  1.         1.         1.         1.         1.         1.\n",
            "  1.         1.         1.         1.         1.         1.\n",
            "  1.         1.         1.         1.         1.         1.\n",
            "  1.         1.         1.         1.         1.         1.\n",
            "  1.         1.         1.         1.         1.         1.\n",
            "  1.         1.         1.         1.        ]\n",
            " [0.74908024 1.90142861 1.46398788 1.19731697 0.31203728 0.31198904\n",
            "  0.11616722 1.73235229 1.20223002 1.41614516 0.04116899 1.9398197\n",
            "  1.66488528 0.42467822 0.36364993 0.36680902 0.60848449 1.04951286\n",
            "  0.86389004 0.58245828 1.22370579 0.27898772 0.5842893  0.73272369\n",
            "  0.91213997 1.57035192 0.39934756 1.02846888 1.18482914 0.09290083\n",
            "  1.2150897  0.34104825 0.13010319 1.89777107 1.93126407 1.6167947\n",
            "  0.60922754 0.19534423 1.36846605 0.88030499 0.24407647 0.99035382\n",
            "  0.06877704 1.8186408  0.51755996 1.32504457 0.62342215 1.04013604\n",
            "  1.09342056 0.36970891 1.93916926 1.55026565 1.87899788 1.7896547\n",
            "  1.19579996 1.84374847 0.176985   0.39196572 0.09045458 0.65066066\n",
            "  0.77735458 0.54269806 1.65747502 0.71350665 0.56186902 1.08539217\n",
            "  0.28184845 1.60439396 0.14910129 1.97377387 1.54448954 0.39743136\n",
            "  0.01104423 1.63092286 1.41371469 1.45801434 1.54254069 0.1480893\n",
            "  0.71693146 0.23173812 1.72620685 1.24659625 0.66179605 0.1271167\n",
            "  0.62196464 0.65036664 1.45921236 1.27511494 1.77442549 0.94442985\n",
            "  0.23918849 1.42648957 1.5215701  1.1225544  1.54193436 0.98759119\n",
            "  1.04546566 0.85508204 0.05083825 0.21578285]]\n"
          ]
        }
      ]
    },
    {
      "cell_type": "code",
      "metadata": {
        "id": "x6wk2erzgqeA",
        "colab": {
          "base_uri": "https://localhost:8080/"
        },
        "outputId": "bf5a72ea-f060-44e1-e0d3-bd46a371eb79"
      },
      "source": [
        "# Let's Find Intercept and Coeeficient\n",
        "\n",
        "theta_best = np.linalg.inv(X_b.T.dot(X_b)).dot(X_b.T).dot(y)\n",
        "print(theta_best)\n",
        "print('Intercept   : ', theta_best[0])\n",
        "print('Coefficient : ', theta_best[1])"
      ],
      "execution_count": null,
      "outputs": [
        {
          "output_type": "stream",
          "name": "stdout",
          "text": [
            "[[4.21509616]\n",
            " [2.77011339]]\n",
            "Intercept   :  [4.21509616]\n",
            "Coefficient :  [2.77011339]\n"
          ]
        }
      ]
    },
    {
      "cell_type": "markdown",
      "metadata": {
        "id": "uQhOxnbg6rjQ"
      },
      "source": [
        "Conclusion : The linear data above can be solved using Linear Regression using formula\n",
        "```\n",
        "y = 4.21509616 + 2.77011339 * x\n",
        "```"
      ]
    },
    {
      "cell_type": "markdown",
      "metadata": {
        "id": "Kp91BnxthPSZ"
      },
      "source": [
        "## Predict A New Instance"
      ]
    },
    {
      "cell_type": "markdown",
      "metadata": {
        "id": "JCO-tTBK7e_a"
      },
      "source": [
        "Let's predict two new data.\n",
        "```\n",
        "X_new_1 = 0\n",
        "X_new_2 = 2\n",
        "```\n"
      ]
    },
    {
      "cell_type": "code",
      "metadata": {
        "id": "q7xKRH9YXPw2",
        "colab": {
          "base_uri": "https://localhost:8080/"
        },
        "outputId": "bacabcff-4c40-4246-dd73-dd5924e0f758"
      },
      "source": [
        "# Predict y For Two New Instances\n",
        "\n",
        "X_new = np.array([[0], [2]])\n",
        "X_new_b = np.c_[np.ones((2, 1)), X_new]  # add x0 = 1 to each instance\n",
        "y_predict = X_new_b.dot(theta_best)\n",
        "y_predict\n",
        "\n",
        "print('x_new_1 : ', X_new[0])\n",
        "print('x_new_2 : ', X_new[1])\n",
        "print('')\n",
        "\n",
        "print('y_new_1 : ', y_predict[0])\n",
        "print('y_new_2 : ', y_predict[1])"
      ],
      "execution_count": null,
      "outputs": [
        {
          "output_type": "stream",
          "name": "stdout",
          "text": [
            "x_new_1 :  [0]\n",
            "x_new_2 :  [2]\n",
            "\n",
            "y_new_1 :  [4.21509616]\n",
            "y_new_2 :  [9.75532293]\n"
          ]
        }
      ]
    },
    {
      "cell_type": "markdown",
      "metadata": {
        "id": "ZXMDbujBXPw3"
      },
      "source": [
        "The graph below shows any input from the data will be plotted in the red line."
      ]
    },
    {
      "cell_type": "code",
      "metadata": {
        "id": "OkHkSsekXPw3",
        "colab": {
          "base_uri": "https://localhost:8080/",
          "height": 314
        },
        "outputId": "4f264348-2ca3-4c3a-9293-180670795c5a"
      },
      "source": [
        "# Line Visualization in the Data\n",
        "\n",
        "plt.plot(X_new, y_predict, \"r-\", linewidth=2, label=\"Predictions\")\n",
        "plt.plot(X, y, \"b.\")\n",
        "plt.xlabel(\"$x_1$\", fontsize=18)\n",
        "plt.ylabel(\"$y$\", rotation=0, fontsize=18)\n",
        "plt.legend(loc=\"upper left\", fontsize=14)\n",
        "plt.axis([0, 2, 0, 15])\n",
        "save_fig(\"linear_model_predictions_plot\")\n",
        "plt.show()"
      ],
      "execution_count": null,
      "outputs": [
        {
          "output_type": "stream",
          "name": "stdout",
          "text": [
            "Saving figure linear_model_predictions_plot\n"
          ]
        },
        {
          "output_type": "display_data",
          "data": {
            "image/png": "[encoded data removed]",
            "text/plain": [
              "<Figure size 432x288 with 1 Axes>"
            ]
          },
          "metadata": {
            "needs_background": "light"
          }
        }
      ]
    },
    {
      "cell_type": "markdown",
      "metadata": {
        "id": "ybQWNnTMiMLC"
      },
      "source": [
        "# Linear Regression using Scikit-Learn"
      ]
    },
    {
      "cell_type": "code",
      "metadata": {
        "id": "6rtu3i2jXPw3",
        "colab": {
          "base_uri": "https://localhost:8080/"
        },
        "outputId": "dfe7ef37-db21-4404-ff03-42a2906846e2"
      },
      "source": [
        "from sklearn.linear_model import LinearRegression\n",
        "\n",
        "lin_reg = LinearRegression()\n",
        "lin_reg.fit(X, y)\n",
        "theta_linreg = [lin_reg.intercept_, lin_reg.coef_]\n",
        "\n",
        "print(lin_reg.intercept_, lin_reg.coef_)"
      ],
      "execution_count": null,
      "outputs": [
        {
          "output_type": "stream",
          "name": "stdout",
          "text": [
            "[4.21509616] [[2.77011339]]\n"
          ]
        }
      ]
    },
    {
      "cell_type": "code",
      "metadata": {
        "id": "SYkBPE2CXPw4",
        "colab": {
          "base_uri": "https://localhost:8080/"
        },
        "outputId": "a40816e0-ddde-4d31-d48b-905db0c052ae"
      },
      "source": [
        "lin_reg.predict(X_new)"
      ],
      "execution_count": null,
      "outputs": [
        {
          "output_type": "execute_result",
          "data": {
            "text/plain": [
              "array([[4.21509616],\n",
              "       [9.75532293]])"
            ]
          },
          "metadata": {},
          "execution_count": 9
        }
      ]
    },
    {
      "cell_type": "markdown",
      "metadata": {
        "id": "uRGSbCnHXPw5"
      },
      "source": [
        "## Batch Gradient Descent"
      ]
    },
    {
      "cell_type": "code",
      "metadata": {
        "id": "AR_kUyZ8XPw5"
      },
      "source": [
        "eta = 0.1  # learning rate\n",
        "n_iterations = 1000\n",
        "m = 100 # total data\n",
        "\n",
        "theta = np.random.randn(2,1)  # random initialization\n",
        "\n",
        "for iteration in range(n_iterations):\n",
        "    gradients = 2/m * X_b.T.dot(X_b.dot(theta) - y)\n",
        "    theta = theta - eta * gradients"
      ],
      "execution_count": null,
      "outputs": []
    },
    {
      "cell_type": "code",
      "metadata": {
        "id": "Zn8IGUPhlk3w",
        "colab": {
          "base_uri": "https://localhost:8080/"
        },
        "outputId": "c4928b2b-8518-4788-d6ee-c63140fea6d2"
      },
      "source": [
        "## Addition\n",
        "print('X_b.T : ', X_b.T)"
      ],
      "execution_count": null,
      "outputs": [
        {
          "output_type": "stream",
          "name": "stdout",
          "text": [
            "X_b.T :  [[1.         1.         1.         1.         1.         1.\n",
            "  1.         1.         1.         1.         1.         1.\n",
            "  1.         1.         1.         1.         1.         1.\n",
            "  1.         1.         1.         1.         1.         1.\n",
            "  1.         1.         1.         1.         1.         1.\n",
            "  1.         1.         1.         1.         1.         1.\n",
            "  1.         1.         1.         1.         1.         1.\n",
            "  1.         1.         1.         1.         1.         1.\n",
            "  1.         1.         1.         1.         1.         1.\n",
            "  1.         1.         1.         1.         1.         1.\n",
            "  1.         1.         1.         1.         1.         1.\n",
            "  1.         1.         1.         1.         1.         1.\n",
            "  1.         1.         1.         1.         1.         1.\n",
            "  1.         1.         1.         1.         1.         1.\n",
            "  1.         1.         1.         1.         1.         1.\n",
            "  1.         1.         1.         1.         1.         1.\n",
            "  1.         1.         1.         1.        ]\n",
            " [0.74908024 1.90142861 1.46398788 1.19731697 0.31203728 0.31198904\n",
            "  0.11616722 1.73235229 1.20223002 1.41614516 0.04116899 1.9398197\n",
            "  1.66488528 0.42467822 0.36364993 0.36680902 0.60848449 1.04951286\n",
            "  0.86389004 0.58245828 1.22370579 0.27898772 0.5842893  0.73272369\n",
            "  0.91213997 1.57035192 0.39934756 1.02846888 1.18482914 0.09290083\n",
            "  1.2150897  0.34104825 0.13010319 1.89777107 1.93126407 1.6167947\n",
            "  0.60922754 0.19534423 1.36846605 0.88030499 0.24407647 0.99035382\n",
            "  0.06877704 1.8186408  0.51755996 1.32504457 0.62342215 1.04013604\n",
            "  1.09342056 0.36970891 1.93916926 1.55026565 1.87899788 1.7896547\n",
            "  1.19579996 1.84374847 0.176985   0.39196572 0.09045458 0.65066066\n",
            "  0.77735458 0.54269806 1.65747502 0.71350665 0.56186902 1.08539217\n",
            "  0.28184845 1.60439396 0.14910129 1.97377387 1.54448954 0.39743136\n",
            "  0.01104423 1.63092286 1.41371469 1.45801434 1.54254069 0.1480893\n",
            "  0.71693146 0.23173812 1.72620685 1.24659625 0.66179605 0.1271167\n",
            "  0.62196464 0.65036664 1.45921236 1.27511494 1.77442549 0.94442985\n",
            "  0.23918849 1.42648957 1.5215701  1.1225544  1.54193436 0.98759119\n",
            "  1.04546566 0.85508204 0.05083825 0.21578285]]\n"
          ]
        }
      ]
    },
    {
      "cell_type": "code",
      "metadata": {
        "id": "1TLgf-yGXPw6",
        "colab": {
          "base_uri": "https://localhost:8080/"
        },
        "outputId": "a399934c-c161-46d9-a1d0-91361dbc93ac"
      },
      "source": [
        "theta_batch = theta\n",
        "print(theta_batch)"
      ],
      "execution_count": null,
      "outputs": [
        {
          "output_type": "stream",
          "name": "stdout",
          "text": [
            "[[4.21509616]\n",
            " [2.77011339]]\n"
          ]
        }
      ]
    },
    {
      "cell_type": "code",
      "metadata": {
        "id": "_xmGVMn4XPw6",
        "colab": {
          "base_uri": "https://localhost:8080/"
        },
        "outputId": "f02d658a-014b-4cb7-9c6e-bf1376eb78ba"
      },
      "source": [
        "X_new_b.dot(theta)"
      ],
      "execution_count": null,
      "outputs": [
        {
          "output_type": "execute_result",
          "data": {
            "text/plain": [
              "array([[4.21509616],\n",
              "       [9.75532293]])"
            ]
          },
          "metadata": {},
          "execution_count": 13
        }
      ]
    },
    {
      "cell_type": "code",
      "metadata": {
        "id": "5u40UqMgXPw6"
      },
      "source": [
        "theta_path_bgd = []\n",
        "\n",
        "def plot_gradient_descent(theta, eta, theta_path=None):\n",
        "    m = len(X_b)\n",
        "    plt.plot(X, y, \"b.\")\n",
        "    n_iterations = 1000\n",
        "    for iteration in range(n_iterations):\n",
        "        if iteration < 10:\n",
        "            y_predict = X_new_b.dot(theta)\n",
        "            style = \"b-\" if iteration > 0 else \"r--\"\n",
        "            plt.plot(X_new, y_predict, style)\n",
        "        gradients = 2/m * X_b.T.dot(X_b.dot(theta) - y)\n",
        "        theta = theta - eta * gradients\n",
        "        if theta_path is not None:\n",
        "            theta_path.append(theta)\n",
        "    plt.xlabel(\"$x_1$\", fontsize=18)\n",
        "    plt.axis([0, 2, 0, 15])\n",
        "    plt.title(r\"$\\eta = {}$\".format(eta), fontsize=16)"
      ],
      "execution_count": null,
      "outputs": []
    },
    {
      "cell_type": "code",
      "metadata": {
        "id": "M_q1JcQTXPw6",
        "colab": {
          "base_uri": "https://localhost:8080/",
          "height": 314
        },
        "outputId": "02b00008-c1d3-4b84-aad2-31b458adf015"
      },
      "source": [
        "np.random.seed(42)\n",
        "theta = np.random.randn(2,1)  # random initialization\n",
        "\n",
        "plt.figure(figsize=(10,4))\n",
        "plt.subplot(131); plot_gradient_descent(theta, eta=0.02)\n",
        "plt.ylabel(\"$y$\", rotation=0, fontsize=18)\n",
        "plt.subplot(132); plot_gradient_descent(theta, eta=0.1, theta_path=theta_path_bgd)\n",
        "plt.subplot(133); plot_gradient_descent(theta, eta=0.5)\n",
        "\n",
        "save_fig(\"gradient_descent_plot\")\n",
        "plt.show()"
      ],
      "execution_count": null,
      "outputs": [
        {
          "output_type": "stream",
          "name": "stdout",
          "text": [
            "Saving figure gradient_descent_plot\n"
          ]
        },
        {
          "output_type": "display_data",
          "data": {
            "image/png": "[encoded data removed]",
            "text/plain": [
              "<Figure size 720x288 with 3 Axes>"
            ]
          },
          "metadata": {
            "needs_background": "light"
          }
        }
      ]
    },
    {
      "cell_type": "markdown",
      "metadata": {
        "id": "Er-wODtpXPw7"
      },
      "source": [
        "## Stochastic Gradient Descent"
      ]
    },
    {
      "cell_type": "code",
      "metadata": {
        "id": "XL-YnCDRXPw7"
      },
      "source": [
        "theta_path_sgd = []\n",
        "m = len(X_b)\n",
        "np.random.seed(42)"
      ],
      "execution_count": null,
      "outputs": []
    },
    {
      "cell_type": "code",
      "metadata": {
        "id": "efZdxCaKXPw8",
        "colab": {
          "base_uri": "https://localhost:8080/",
          "height": 314
        },
        "outputId": "30309a35-a483-42fe-a1bf-4b683376dfc6"
      },
      "source": [
        "n_epochs = 50\n",
        "t0, t1 = 5, 50  # learning schedule hyperparameters\n",
        "\n",
        "def learning_schedule(t):\n",
        "    return t0 / (t + t1)\n",
        "\n",
        "theta = np.random.randn(2,1)  # random initialization\n",
        "\n",
        "for epoch in range(n_epochs):\n",
        "    for i in range(m):\n",
        "        if epoch == 0 and i < 20:                    # not shown in the book\n",
        "            y_predict = X_new_b.dot(theta)           # not shown\n",
        "            style = \"b-\" if i > 0 else \"r--\"         # not shown\n",
        "            plt.plot(X_new, y_predict, style)        # not shown\n",
        "        random_index = np.random.randint(m)\n",
        "        xi = X_b[random_index:random_index+1]\n",
        "        yi = y[random_index:random_index+1]\n",
        "        gradients = 2 * xi.T.dot(xi.dot(theta) - yi)\n",
        "        eta = learning_schedule(epoch * m + i)\n",
        "        theta = theta - eta * gradients\n",
        "        theta_path_sgd.append(theta)                 # not shown\n",
        "\n",
        "plt.plot(X, y, \"b.\")                                 # not shown\n",
        "plt.xlabel(\"$x_1$\", fontsize=18)                     # not shown\n",
        "plt.ylabel(\"$y$\", rotation=0, fontsize=18)           # not shown\n",
        "plt.axis([0, 2, 0, 15])                              # not shown\n",
        "save_fig(\"sgd_plot\")                                 # not shown\n",
        "plt.show()                                           # not shown"
      ],
      "execution_count": null,
      "outputs": [
        {
          "output_type": "stream",
          "name": "stdout",
          "text": [
            "Saving figure sgd_plot\n"
          ]
        },
        {
          "output_type": "display_data",
          "data": {
            "image/png": "[encoded data removed]",
            "text/plain": [
              "<Figure size 432x288 with 1 Axes>"
            ]
          },
          "metadata": {
            "needs_background": "light"
          }
        }
      ]
    },
    {
      "cell_type": "code",
      "metadata": {
        "scrolled": true,
        "id": "SHubj19wXPw8",
        "colab": {
          "base_uri": "https://localhost:8080/"
        },
        "outputId": "d3a2cfe3-69d4-4bcc-fe3f-bbe278c44d9c"
      },
      "source": [
        "theta_sgd = theta\n",
        "print(theta_sgd)"
      ],
      "execution_count": null,
      "outputs": [
        {
          "output_type": "stream",
          "name": "stdout",
          "text": [
            "[[4.21076011]\n",
            " [2.74856079]]\n"
          ]
        }
      ]
    },
    {
      "cell_type": "markdown",
      "metadata": {
        "id": "LuOIC1WxmiBG"
      },
      "source": [
        "## Stochastic Gradient Descent using Scikit-Learn"
      ]
    },
    {
      "cell_type": "code",
      "metadata": {
        "id": "oaL1zDTnXPw8",
        "colab": {
          "base_uri": "https://localhost:8080/"
        },
        "outputId": "bf25a2f0-74a4-43f6-84df-e2d1e5072239"
      },
      "source": [
        "from sklearn.linear_model import SGDRegressor\n",
        "\n",
        "sgd_reg = SGDRegressor(max_iter=1000, tol=1e-3, penalty=None, eta0=0.1, random_state=42)\n",
        "sgd_reg.fit(X, y.ravel())"
      ],
      "execution_count": null,
      "outputs": [
        {
          "output_type": "execute_result",
          "data": {
            "text/plain": [
              "SGDRegressor(alpha=0.0001, average=False, early_stopping=False, epsilon=0.1,\n",
              "             eta0=0.1, fit_intercept=True, l1_ratio=0.15,\n",
              "             learning_rate='invscaling', loss='squared_loss', max_iter=1000,\n",
              "             n_iter_no_change=5, penalty=None, power_t=0.25, random_state=42,\n",
              "             shuffle=True, tol=0.001, validation_fraction=0.1, verbose=0,\n",
              "             warm_start=False)"
            ]
          },
          "metadata": {},
          "execution_count": 19
        }
      ]
    },
    {
      "cell_type": "code",
      "metadata": {
        "id": "NWzILXWsXPw8",
        "colab": {
          "base_uri": "https://localhost:8080/"
        },
        "outputId": "2302ae18-aa7d-4051-f292-4784d02ae495"
      },
      "source": [
        "sgd_reg.intercept_, sgd_reg.coef_"
      ],
      "execution_count": null,
      "outputs": [
        {
          "output_type": "execute_result",
          "data": {
            "text/plain": [
              "(array([4.24365286]), array([2.8250878]))"
            ]
          },
          "metadata": {},
          "execution_count": 20
        }
      ]
    },
    {
      "cell_type": "markdown",
      "metadata": {
        "id": "W7m0SYeWXPw9"
      },
      "source": [
        "## Mini-batch gradient descent"
      ]
    },
    {
      "cell_type": "code",
      "metadata": {
        "id": "Wi2Vdh8oXPw9"
      },
      "source": [
        "theta_path_mgd = []\n",
        "\n",
        "n_iterations = 50\n",
        "minibatch_size = 20\n",
        "\n",
        "np.random.seed(42)\n",
        "theta = np.random.randn(2,1)  # random initialization\n",
        "\n",
        "t0, t1 = 200, 1000\n",
        "def learning_schedule(t):\n",
        "    return t0 / (t + t1)\n",
        "\n",
        "t = 0\n",
        "for epoch in range(n_iterations):\n",
        "    shuffled_indices = np.random.permutation(m)\n",
        "    X_b_shuffled = X_b[shuffled_indices]\n",
        "    y_shuffled = y[shuffled_indices]\n",
        "    for i in range(0, m, minibatch_size):\n",
        "        t += 1\n",
        "        xi = X_b_shuffled[i:i+minibatch_size]\n",
        "        yi = y_shuffled[i:i+minibatch_size]\n",
        "        gradients = 2/minibatch_size * xi.T.dot(xi.dot(theta) - yi)\n",
        "        eta = learning_schedule(t)\n",
        "        theta = theta - eta * gradients\n",
        "        theta_path_mgd.append(theta)"
      ],
      "execution_count": null,
      "outputs": []
    },
    {
      "cell_type": "code",
      "metadata": {
        "id": "PE8rAIUAXPw9"
      },
      "source": [
        "theta_mini_batch = theta"
      ],
      "execution_count": null,
      "outputs": []
    },
    {
      "cell_type": "code",
      "metadata": {
        "id": "6ZC1vWK7XPw9"
      },
      "source": [
        "theta_path_bgd = np.array(theta_path_bgd)\n",
        "theta_path_sgd = np.array(theta_path_sgd)\n",
        "theta_path_mgd = np.array(theta_path_mgd)"
      ],
      "execution_count": null,
      "outputs": []
    },
    {
      "cell_type": "code",
      "metadata": {
        "id": "kedpbwDuXPw9",
        "colab": {
          "base_uri": "https://localhost:8080/",
          "height": 314
        },
        "outputId": "8ae08a27-dfef-4474-ab7c-6b896b0728f4"
      },
      "source": [
        "plt.figure(figsize=(7,4))\n",
        "plt.plot(theta_path_sgd[:, 0], theta_path_sgd[:, 1], \"r-s\", linewidth=1, label=\"Stochastic\")\n",
        "plt.plot(theta_path_mgd[:, 0], theta_path_mgd[:, 1], \"g-+\", linewidth=2, label=\"Mini-batch\")\n",
        "plt.plot(theta_path_bgd[:, 0], theta_path_bgd[:, 1], \"b-o\", linewidth=3, label=\"Batch\")\n",
        "plt.legend(loc=\"upper left\", fontsize=16)\n",
        "plt.xlabel(r\"$\\theta_0$\", fontsize=20)\n",
        "plt.ylabel(r\"$\\theta_1$   \", fontsize=20, rotation=0)\n",
        "plt.axis([2.5, 4.5, 2.3, 3.9])\n",
        "save_fig(\"gradient_descent_paths_plot\")\n",
        "plt.show()"
      ],
      "execution_count": null,
      "outputs": [
        {
          "output_type": "stream",
          "name": "stdout",
          "text": [
            "Saving figure gradient_descent_paths_plot\n"
          ]
        },
        {
          "output_type": "display_data",
          "data": {
            "image/png": "[encoded data removed]",
            "text/plain": [
              "<Figure size 504x288 with 1 Axes>"
            ]
          },
          "metadata": {
            "needs_background": "light"
          }
        }
      ]
    },
    {
      "cell_type": "code",
      "metadata": {
        "colab": {
          "base_uri": "https://localhost:8080/"
        },
        "id": "WKMWSfXDBiAc",
        "outputId": "93d0726d-b5d3-4fe6-c122-12ff374c9eb3"
      },
      "source": [
        "print('Theta - Linear Regression : ', theta_linreg)\n",
        "print('Theta - SGD        : ', theta_sgd)\n",
        "print('Theta - Mini Batch : ', theta_mini_batch)\n",
        "print('Theta - Batch      : ', theta_batch)"
      ],
      "execution_count": null,
      "outputs": [
        {
          "output_type": "stream",
          "name": "stdout",
          "text": [
            "Theta - Linear Regression :  [array([4.21509616]), array([[2.77011339]])]\n",
            "Theta - SGD        :  [[4.21076011]\n",
            " [2.74856079]]\n",
            "Theta - Mini Batch :  [[4.25214635]\n",
            " [2.7896408 ]]\n",
            "Theta - Batch      :  [[4.21509616]\n",
            " [2.77011339]]\n"
          ]
        }
      ]
    },
    {
      "cell_type": "markdown",
      "metadata": {
        "id": "pEOkrjgaXPw9"
      },
      "source": [
        "## Polynomial regression"
      ]
    },
    {
      "cell_type": "code",
      "metadata": {
        "id": "m5LEMwGGXPw-"
      },
      "source": [
        "import numpy as np\n",
        "import numpy.random as rnd\n",
        "\n",
        "np.random.seed(42)"
      ],
      "execution_count": null,
      "outputs": []
    },
    {
      "cell_type": "code",
      "metadata": {
        "id": "Qvv-0XnlXPw-"
      },
      "source": [
        "m = 100\n",
        "X = 6 * np.random.rand(m, 1) - 3\n",
        "y = 0.5 * X**2 + X + 2 + np.random.randn(m, 1)"
      ],
      "execution_count": null,
      "outputs": []
    },
    {
      "cell_type": "code",
      "metadata": {
        "id": "5S4aDPu1rMaf",
        "colab": {
          "base_uri": "https://localhost:8080/"
        },
        "outputId": "d37563b9-edc4-49d8-cc9c-01ba71285da0"
      },
      "source": [
        "## Addition \n",
        "print('X : ', X.T)\n",
        "print('y : ', y.T)"
      ],
      "execution_count": null,
      "outputs": [
        {
          "output_type": "stream",
          "name": "stdout",
          "text": [
            "X :  [[-0.75275929  2.70428584  1.39196365  0.59195091 -2.06388816 -2.06403288\n",
            "  -2.65149833  2.19705687  0.60669007  1.24843547 -2.87649303  2.81945911\n",
            "   1.99465584 -1.72596534 -1.9090502  -1.89957294 -1.17454654  0.14853859\n",
            "  -0.40832989 -1.25262516  0.67111737 -2.16303684 -1.24713211 -0.80182894\n",
            "  -0.26358009  1.71105577 -1.80195731  0.08540663  0.55448741 -2.72129752\n",
            "   0.64526911 -1.97685526 -2.60969044  2.69331322  2.7937922   1.85038409\n",
            "  -1.17231738 -2.41396732  1.10539816 -0.35908504 -2.26777059 -0.02893854\n",
            "  -2.79366887  2.45592241 -1.44732011  0.97513371 -1.12973354  0.12040813\n",
            "   0.28026168 -1.89087327  2.81750777  1.65079694  2.63699365  2.3689641\n",
            "   0.58739987  2.53124541 -2.46904499 -1.82410283 -2.72863627 -1.04801802\n",
            "  -0.66793626 -1.37190581  1.97242505 -0.85948004 -1.31439294  0.2561765\n",
            "  -2.15445465  1.81318188 -2.55269614  2.92132162  1.63346862 -1.80770591\n",
            "  -2.9668673   1.89276857  1.24114406  1.37404301  1.62762208 -2.55573209\n",
            "  -0.84920563 -2.30478564  2.17862056  0.73978876 -1.01461185 -2.6186499\n",
            "  -1.13410607 -1.04890007  1.37763707  0.82534483  2.32327646 -0.16671045\n",
            "  -2.28243452  1.27946872  1.56471029  0.36766319  1.62580308 -0.03722642\n",
            "   0.13639698 -0.43475389 -2.84748524 -2.35265144]]\n",
            "y :  [[1.61761105 8.06185944 4.45250583 0.77958493 1.84625712 2.42319555\n",
            "  4.34161741 6.09231611 1.98223289 3.52597398 4.17601517 9.12288507\n",
            "  5.45422161 2.27678027 2.01026368 2.87326073 0.81318015 1.8319083\n",
            "  1.28292861 0.06839479 3.19243691 2.43738261 1.5356506  1.28504875\n",
            "  0.3557864  4.75426637 1.47885324 1.28677651 2.54692985 3.38548344\n",
            "  4.73964113 2.15170091 3.05310205 8.24583537 6.77765841 5.53583085\n",
            "  1.57507685 4.9628939  3.52398974 2.00693334 2.26890937 0.80280214\n",
            "  4.25144683 8.22363289 2.39107959 2.54118912 2.91120971 0.72580612\n",
            "  2.90639207 4.08728321 7.79614645 4.44706448 8.21351277 6.67148391\n",
            "  1.20925575 7.80341005 1.51674287 2.31316516 2.07466744 3.05108727\n",
            "  0.77187987 1.24709545 6.73117257 0.27900861 1.7768814  3.59613245\n",
            "  0.55889954 5.64163002 2.96531544 9.97020449 3.73062776 0.50573781\n",
            "  3.95622505 5.98103968 4.26185621 4.66448831 4.27217418 2.94240486\n",
            "  1.80444194 1.63688137 8.41758883 3.48726539 0.30880326 3.46656736\n",
            "  0.53431055 2.28828021 5.4851746  2.34525955 7.98545933 2.25996666\n",
            "  3.14437931 5.99478181 4.54348132 1.68151513 4.05790648 1.1476562\n",
            "  2.06859733 2.00090356 3.48329165 3.24201621]]\n"
          ]
        }
      ]
    },
    {
      "cell_type": "code",
      "metadata": {
        "id": "tnX2L-OfXPw-",
        "colab": {
          "base_uri": "https://localhost:8080/",
          "height": 314
        },
        "outputId": "093341fc-8719-49eb-ca8a-3e7dbe310476"
      },
      "source": [
        "plt.plot(X, y, \"b.\")\n",
        "plt.xlabel(\"$x_1$\", fontsize=18)\n",
        "plt.ylabel(\"$y$\", rotation=0, fontsize=18)\n",
        "plt.axis([-3, 3, 0, 10])\n",
        "save_fig(\"quadratic_data_plot\")\n",
        "plt.show()"
      ],
      "execution_count": null,
      "outputs": [
        {
          "output_type": "stream",
          "name": "stdout",
          "text": [
            "Saving figure quadratic_data_plot\n"
          ]
        },
        {
          "output_type": "display_data",
          "data": {
            "image/png": "[encoded data removed]",
            "text/plain": [
              "<Figure size 432x288 with 1 Axes>"
            ]
          },
          "metadata": {
            "needs_background": "light"
          }
        }
      ]
    },
    {
      "cell_type": "markdown",
      "metadata": {
        "id": "Ll8ng-13rCGU"
      },
      "source": [
        "## Polynomial Regression using Scikit-Learn"
      ]
    },
    {
      "cell_type": "code",
      "metadata": {
        "id": "vZPqjL-IXPw-",
        "colab": {
          "base_uri": "https://localhost:8080/"
        },
        "outputId": "e21f7267-d466-4ab9-93ef-f2822bb87734"
      },
      "source": [
        "from sklearn.preprocessing import PolynomialFeatures\n",
        "poly_features = PolynomialFeatures(degree=2, include_bias=False)\n",
        "X_poly = poly_features.fit_transform(X)\n",
        "X[0]"
      ],
      "execution_count": null,
      "outputs": [
        {
          "output_type": "execute_result",
          "data": {
            "text/plain": [
              "array([-0.75275929])"
            ]
          },
          "metadata": {},
          "execution_count": 30
        }
      ]
    },
    {
      "cell_type": "code",
      "metadata": {
        "id": "SYh7irhRXPw-",
        "colab": {
          "base_uri": "https://localhost:8080/"
        },
        "outputId": "bd102845-a64a-4647-c665-59c2157a8716"
      },
      "source": [
        "X_poly[0]"
      ],
      "execution_count": null,
      "outputs": [
        {
          "output_type": "execute_result",
          "data": {
            "text/plain": [
              "array([-0.75275929,  0.56664654])"
            ]
          },
          "metadata": {},
          "execution_count": 31
        }
      ]
    },
    {
      "cell_type": "code",
      "metadata": {
        "id": "pUpP_NuMXPw_",
        "colab": {
          "base_uri": "https://localhost:8080/"
        },
        "outputId": "79fed36e-b88f-4f30-eef2-b19771985f81"
      },
      "source": [
        "lin_reg = LinearRegression()\n",
        "lin_reg.fit(X_poly, y)\n",
        "lin_reg.intercept_, lin_reg.coef_"
      ],
      "execution_count": null,
      "outputs": [
        {
          "output_type": "execute_result",
          "data": {
            "text/plain": [
              "(array([1.78134581]), array([[0.93366893, 0.56456263]]))"
            ]
          },
          "metadata": {},
          "execution_count": 32
        }
      ]
    },
    {
      "cell_type": "code",
      "metadata": {
        "id": "9dj56_pSXPxA",
        "colab": {
          "base_uri": "https://localhost:8080/",
          "height": 314
        },
        "outputId": "f23a90d6-d538-4c37-d077-e56b35f43225"
      },
      "source": [
        "X_new=np.linspace(-3, 3, 100).reshape(100, 1)\n",
        "X_new_poly = poly_features.transform(X_new)\n",
        "y_new = lin_reg.predict(X_new_poly)\n",
        "plt.plot(X, y, \"b.\")\n",
        "plt.plot(X_new, y_new, \"r-\", linewidth=2, label=\"Predictions\")\n",
        "plt.xlabel(\"$x_1$\", fontsize=18)\n",
        "plt.ylabel(\"$y$\", rotation=0, fontsize=18)\n",
        "plt.legend(loc=\"upper left\", fontsize=14)\n",
        "plt.axis([-3, 3, 0, 10])\n",
        "save_fig(\"quadratic_predictions_plot\")\n",
        "plt.show()"
      ],
      "execution_count": null,
      "outputs": [
        {
          "output_type": "stream",
          "name": "stdout",
          "text": [
            "Saving figure quadratic_predictions_plot\n"
          ]
        },
        {
          "output_type": "display_data",
          "data": {
            "image/png": "[encoded data removed]",
            "text/plain": [
              "<Figure size 432x288 with 1 Axes>"
            ]
          },
          "metadata": {
            "needs_background": "light"
          }
        }
      ]
    },
    {
      "cell_type": "code",
      "metadata": {
        "id": "AVTi_JjtXPxA",
        "colab": {
          "base_uri": "https://localhost:8080/",
          "height": 314
        },
        "outputId": "4c514eee-ec82-45e3-b9e8-6b4e6fee359d"
      },
      "source": [
        "from sklearn.preprocessing import StandardScaler\n",
        "from sklearn.pipeline import Pipeline\n",
        "\n",
        "for style, width, degree in ((\"g-\", 1, 300), (\"b--\", 2, 2), (\"r-+\", 2, 1)):\n",
        "    polybig_features = PolynomialFeatures(degree=degree, include_bias=False)\n",
        "    std_scaler = StandardScaler()\n",
        "    lin_reg = LinearRegression()\n",
        "    polynomial_regression = Pipeline([\n",
        "            (\"poly_features\", polybig_features),\n",
        "            (\"std_scaler\", std_scaler),\n",
        "            (\"lin_reg\", lin_reg),\n",
        "        ])\n",
        "    polynomial_regression.fit(X, y)\n",
        "    y_newbig = polynomial_regression.predict(X_new)\n",
        "    plt.plot(X_new, y_newbig, style, label=str(degree), linewidth=width)\n",
        "\n",
        "plt.plot(X, y, \"b.\", linewidth=3)\n",
        "plt.legend(loc=\"upper left\")\n",
        "plt.xlabel(\"$x_1$\", fontsize=18)\n",
        "plt.ylabel(\"$y$\", rotation=0, fontsize=18)\n",
        "plt.axis([-3, 3, 0, 10])\n",
        "save_fig(\"high_degree_polynomials_plot\")\n",
        "plt.show()"
      ],
      "execution_count": null,
      "outputs": [
        {
          "output_type": "stream",
          "name": "stdout",
          "text": [
            "Saving figure high_degree_polynomials_plot\n"
          ]
        },
        {
          "output_type": "display_data",
          "data": {
            "image/png": "[encoded data removed]",
            "text/plain": [
              "<Figure size 432x288 with 1 Axes>"
            ]
          },
          "metadata": {
            "needs_background": "light"
          }
        }
      ]
    },
    {
      "cell_type": "code",
      "metadata": {
        "id": "iCuBxebDXPxA"
      },
      "source": [
        "from sklearn.metrics import mean_squared_error\n",
        "from sklearn.model_selection import train_test_split\n",
        "\n",
        "def plot_learning_curves(model, X, y):\n",
        "    X_train, X_val, y_train, y_val = train_test_split(X, y, test_size=0.2, random_state=10)\n",
        "    train_errors, val_errors = [], []\n",
        "    for m in range(1, len(X_train)):\n",
        "        model.fit(X_train[:m], y_train[:m])\n",
        "        y_train_predict = model.predict(X_train[:m])\n",
        "        y_val_predict = model.predict(X_val)\n",
        "        train_errors.append(mean_squared_error(y_train[:m], y_train_predict))\n",
        "        val_errors.append(mean_squared_error(y_val, y_val_predict))\n",
        "\n",
        "    plt.plot(np.sqrt(train_errors), \"r-+\", linewidth=2, label=\"train\")\n",
        "    plt.plot(np.sqrt(val_errors), \"b-\", linewidth=3, label=\"val\")\n",
        "    plt.legend(loc=\"upper right\", fontsize=14)   # not shown in the book\n",
        "    plt.xlabel(\"Training set size\", fontsize=14) # not shown\n",
        "    plt.ylabel(\"RMSE\", fontsize=14)              # not shown"
      ],
      "execution_count": null,
      "outputs": []
    },
    {
      "cell_type": "code",
      "metadata": {
        "id": "aOnjJVJyXPxA",
        "colab": {
          "base_uri": "https://localhost:8080/",
          "height": 314
        },
        "outputId": "730f41b3-90d1-4605-f5e9-e9067b6b5dbc"
      },
      "source": [
        "lin_reg = LinearRegression()\n",
        "plot_learning_curves(lin_reg, X, y)\n",
        "plt.axis([0, 80, 0, 3])                         # not shown in the book\n",
        "save_fig(\"underfitting_learning_curves_plot\")   # not shown\n",
        "plt.show()                                      # not shown"
      ],
      "execution_count": null,
      "outputs": [
        {
          "output_type": "stream",
          "name": "stdout",
          "text": [
            "Saving figure underfitting_learning_curves_plot\n"
          ]
        },
        {
          "output_type": "display_data",
          "data": {
            "image/png": "[encoded data removed]",
            "text/plain": [
              "<Figure size 432x288 with 1 Axes>"
            ]
          },
          "metadata": {
            "needs_background": "light"
          }
        }
      ]
    },
    {
      "cell_type": "code",
      "metadata": {
        "id": "aR7kcmDmXPxA",
        "colab": {
          "base_uri": "https://localhost:8080/",
          "height": 314
        },
        "outputId": "6cdf5b01-e79b-4e60-8ef0-74e3c9fe899f"
      },
      "source": [
        "from sklearn.pipeline import Pipeline\n",
        "\n",
        "polynomial_regression = Pipeline([\n",
        "        (\"poly_features\", PolynomialFeatures(degree=10, include_bias=False)),\n",
        "        (\"lin_reg\", LinearRegression()),\n",
        "    ])\n",
        "\n",
        "plot_learning_curves(polynomial_regression, X, y)\n",
        "plt.axis([0, 80, 0, 3])           # not shown\n",
        "save_fig(\"learning_curves_plot\")  # not shown\n",
        "plt.show()                        # not shown"
      ],
      "execution_count": null,
      "outputs": [
        {
          "output_type": "stream",
          "name": "stdout",
          "text": [
            "Saving figure learning_curves_plot\n"
          ]
        },
        {
          "output_type": "display_data",
          "data": {
            "image/png": "[encoded data removed]",
            "text/plain": [
              "<Figure size 432x288 with 1 Axes>"
            ]
          },
          "metadata": {
            "needs_background": "light"
          }
        }
      ]
    }
  ]
}